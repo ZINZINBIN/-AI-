{
 "metadata": {
  "orig_nbformat": 2,
  "kernelspec": {
   "name": "python380jvsc74a57bd0bf5e39365d4d4ec7fe97cfbad94871faa6924a17cde3c0e43b157666c51c6d7d",
   "display_name": "Python 3.8.0 64-bit ('pycaret-env': conda)"
  }
 },
 "nbformat": 4,
 "nbformat_minor": 2,
 "cells": [
  {
   "cell_type": "code",
   "execution_count": 1,
   "metadata": {},
   "outputs": [],
   "source": [
    "from sklearn.ensemble import RandomForestRegressor\n",
    "from sklearn.model_selection import train_test_split\n",
    "import pandas as pd\n",
    "import matplotlib.pyplot as plt\n",
    "import pickle"
   ]
  },
  {
   "source": [
    "## Load and preprocess train data"
   ],
   "cell_type": "markdown",
   "metadata": {}
  },
  {
   "cell_type": "code",
   "execution_count": 19,
   "metadata": {},
   "outputs": [
    {
     "output_type": "display_data",
     "data": {
      "text/plain": "                     Temperature_obs  Humidity_obs  Cloud_obs  Wind_X_obs  \\\ntime                                                                        \n2018-03-02 00:00:00        -2.000000     50.000000   2.763537    5.298564   \n2018-03-02 01:00:00        -2.333333     51.666667   2.763537    5.088343   \n2018-03-02 02:00:00        -2.666667     53.333333   2.763537    4.878123   \n2018-03-02 03:00:00        -3.000000     55.000000   2.763537    4.667902   \n2018-03-02 04:00:00        -3.333333     56.666667   2.763537    4.468414   \n...                              ...           ...        ...         ...   \n2021-01-31 18:00:00         6.000000     75.000000   7.961345   -3.374657   \n2021-01-31 19:00:00         6.000000     76.666667   7.961345   -3.521363   \n2021-01-31 20:00:00         6.000000     78.333333   7.961345   -3.668069   \n2021-01-31 21:00:00         6.000000     80.000000   7.961345   -3.814776   \n2021-01-31 22:00:00         6.333333     80.000000   7.961345   -4.538312   \n\n                     Wind_Y_obs       Day_cos   Day_sin  Year_cos  Year_sin  \\\ntime                                                                          \n2018-03-02 00:00:00 -136.663512  1.000000e+00  0.000000  0.999407  0.034422   \n2018-03-02 01:00:00 -131.604586  9.659258e-01  0.258819  0.999407  0.034422   \n2018-03-02 02:00:00 -126.545661  8.660254e-01  0.500000  0.999407  0.034422   \n2018-03-02 03:00:00 -121.486735  7.071068e-01  0.707107  0.999407  0.034422   \n2018-03-02 04:00:00  -95.331116  5.000000e-01  0.866025  0.999407  0.034422   \n...                         ...           ...       ...       ...       ...   \n2021-01-31 18:00:00  -22.789567 -1.836970e-16 -1.000000  0.860961  0.508671   \n2021-01-31 19:00:00   -3.549990  2.588190e-01 -0.965926  0.860961  0.508671   \n2021-01-31 20:00:00   15.689587  5.000000e-01 -0.866025  0.860961  0.508671   \n2021-01-31 21:00:00   34.929164  7.071068e-01 -0.707107  0.860961  0.508671   \n2021-01-31 22:00:00   27.378489  8.660254e-01 -0.500000  0.860961  0.508671   \n\n                     dangjin_sum  \ntime                              \n2018-03-02 00:00:00          0.0  \n2018-03-02 01:00:00          0.0  \n2018-03-02 02:00:00          0.0  \n2018-03-02 03:00:00          0.0  \n2018-03-02 04:00:00          0.0  \n...                          ...  \n2021-01-31 18:00:00         16.0  \n2021-01-31 19:00:00          0.0  \n2021-01-31 20:00:00          0.0  \n2021-01-31 21:00:00          0.0  \n2021-01-31 22:00:00          0.0  \n\n[25535 rows x 10 columns]",
      "text/html": "<div>\n<style scoped>\n    .dataframe tbody tr th:only-of-type {\n        vertical-align: middle;\n    }\n\n    .dataframe tbody tr th {\n        vertical-align: top;\n    }\n\n    .dataframe thead th {\n        text-align: right;\n    }\n</style>\n<table border=\"1\" class=\"dataframe\">\n  <thead>\n    <tr style=\"text-align: right;\">\n      <th></th>\n      <th>Temperature_obs</th>\n      <th>Humidity_obs</th>\n      <th>Cloud_obs</th>\n      <th>Wind_X_obs</th>\n      <th>Wind_Y_obs</th>\n      <th>Day_cos</th>\n      <th>Day_sin</th>\n      <th>Year_cos</th>\n      <th>Year_sin</th>\n      <th>dangjin_sum</th>\n    </tr>\n    <tr>\n      <th>time</th>\n      <th></th>\n      <th></th>\n      <th></th>\n      <th></th>\n      <th></th>\n      <th></th>\n      <th></th>\n      <th></th>\n      <th></th>\n      <th></th>\n    </tr>\n  </thead>\n  <tbody>\n    <tr>\n      <th>2018-03-02 00:00:00</th>\n      <td>-2.000000</td>\n      <td>50.000000</td>\n      <td>2.763537</td>\n      <td>5.298564</td>\n      <td>-136.663512</td>\n      <td>1.000000e+00</td>\n      <td>0.000000</td>\n      <td>0.999407</td>\n      <td>0.034422</td>\n      <td>0.0</td>\n    </tr>\n    <tr>\n      <th>2018-03-02 01:00:00</th>\n      <td>-2.333333</td>\n      <td>51.666667</td>\n      <td>2.763537</td>\n      <td>5.088343</td>\n      <td>-131.604586</td>\n      <td>9.659258e-01</td>\n      <td>0.258819</td>\n      <td>0.999407</td>\n      <td>0.034422</td>\n      <td>0.0</td>\n    </tr>\n    <tr>\n      <th>2018-03-02 02:00:00</th>\n      <td>-2.666667</td>\n      <td>53.333333</td>\n      <td>2.763537</td>\n      <td>4.878123</td>\n      <td>-126.545661</td>\n      <td>8.660254e-01</td>\n      <td>0.500000</td>\n      <td>0.999407</td>\n      <td>0.034422</td>\n      <td>0.0</td>\n    </tr>\n    <tr>\n      <th>2018-03-02 03:00:00</th>\n      <td>-3.000000</td>\n      <td>55.000000</td>\n      <td>2.763537</td>\n      <td>4.667902</td>\n      <td>-121.486735</td>\n      <td>7.071068e-01</td>\n      <td>0.707107</td>\n      <td>0.999407</td>\n      <td>0.034422</td>\n      <td>0.0</td>\n    </tr>\n    <tr>\n      <th>2018-03-02 04:00:00</th>\n      <td>-3.333333</td>\n      <td>56.666667</td>\n      <td>2.763537</td>\n      <td>4.468414</td>\n      <td>-95.331116</td>\n      <td>5.000000e-01</td>\n      <td>0.866025</td>\n      <td>0.999407</td>\n      <td>0.034422</td>\n      <td>0.0</td>\n    </tr>\n    <tr>\n      <th>...</th>\n      <td>...</td>\n      <td>...</td>\n      <td>...</td>\n      <td>...</td>\n      <td>...</td>\n      <td>...</td>\n      <td>...</td>\n      <td>...</td>\n      <td>...</td>\n      <td>...</td>\n    </tr>\n    <tr>\n      <th>2021-01-31 18:00:00</th>\n      <td>6.000000</td>\n      <td>75.000000</td>\n      <td>7.961345</td>\n      <td>-3.374657</td>\n      <td>-22.789567</td>\n      <td>-1.836970e-16</td>\n      <td>-1.000000</td>\n      <td>0.860961</td>\n      <td>0.508671</td>\n      <td>16.0</td>\n    </tr>\n    <tr>\n      <th>2021-01-31 19:00:00</th>\n      <td>6.000000</td>\n      <td>76.666667</td>\n      <td>7.961345</td>\n      <td>-3.521363</td>\n      <td>-3.549990</td>\n      <td>2.588190e-01</td>\n      <td>-0.965926</td>\n      <td>0.860961</td>\n      <td>0.508671</td>\n      <td>0.0</td>\n    </tr>\n    <tr>\n      <th>2021-01-31 20:00:00</th>\n      <td>6.000000</td>\n      <td>78.333333</td>\n      <td>7.961345</td>\n      <td>-3.668069</td>\n      <td>15.689587</td>\n      <td>5.000000e-01</td>\n      <td>-0.866025</td>\n      <td>0.860961</td>\n      <td>0.508671</td>\n      <td>0.0</td>\n    </tr>\n    <tr>\n      <th>2021-01-31 21:00:00</th>\n      <td>6.000000</td>\n      <td>80.000000</td>\n      <td>7.961345</td>\n      <td>-3.814776</td>\n      <td>34.929164</td>\n      <td>7.071068e-01</td>\n      <td>-0.707107</td>\n      <td>0.860961</td>\n      <td>0.508671</td>\n      <td>0.0</td>\n    </tr>\n    <tr>\n      <th>2021-01-31 22:00:00</th>\n      <td>6.333333</td>\n      <td>80.000000</td>\n      <td>7.961345</td>\n      <td>-4.538312</td>\n      <td>27.378489</td>\n      <td>8.660254e-01</td>\n      <td>-0.500000</td>\n      <td>0.860961</td>\n      <td>0.508671</td>\n      <td>0.0</td>\n    </tr>\n  </tbody>\n</table>\n<p>25535 rows × 10 columns</p>\n</div>"
     },
     "metadata": {}
    },
    {
     "output_type": "display_data",
     "data": {
      "text/plain": "                     Temperature_obs  Humidity_obs  Cloud_obs  Wind_X_obs  \\\ntime                                                                        \n2018-03-02 00:00:00         0.000000     40.000000   3.591006    1.010290   \n2018-03-02 01:00:00        -0.333333     41.666667   3.591006    0.964412   \n2018-03-02 02:00:00        -0.666667     43.333333   3.591006    0.918535   \n2018-03-02 03:00:00        -1.000000     45.000000   3.591006    0.872657   \n2018-03-02 04:00:00        -1.000000     45.000000   2.967691    0.917287   \n...                              ...           ...        ...         ...   \n2021-01-31 18:00:00         9.000000     55.000000   8.638197   -2.472747   \n2021-01-31 19:00:00         8.666667     60.000000   8.638197   -2.629993   \n2021-01-31 20:00:00         8.333333     65.000000   8.638197   -2.787240   \n2021-01-31 21:00:00         8.000000     70.000000   8.638197   -2.944486   \n2021-01-31 22:00:00         9.000000     68.333333   8.638197   -3.476275   \n\n                     Wind_Y_obs  ulsan       Day_cos   Day_sin  Year_cos  \\\ntime                                                                       \n2018-03-02 00:00:00 -202.011846      0  1.000000e+00  0.000000  0.999407   \n2018-03-02 01:00:00 -221.844994      0  9.659258e-01  0.258819  0.999407   \n2018-03-02 02:00:00 -241.678143      0  8.660254e-01  0.500000  0.999407   \n2018-03-02 03:00:00 -261.511292      0  7.071068e-01  0.707107  0.999407   \n2018-03-02 04:00:00 -258.350002      0  5.000000e-01  0.866025  0.999407   \n...                         ...    ...           ...       ...       ...   \n2021-01-31 18:00:00  -61.185365      8 -1.836970e-16 -1.000000  0.860961   \n2021-01-31 19:00:00  -75.790243      0  2.588190e-01 -0.965926  0.860961   \n2021-01-31 20:00:00  -90.395122      0  5.000000e-01 -0.866025  0.860961   \n2021-01-31 21:00:00 -105.000000      0  7.071068e-01 -0.707107  0.860961   \n2021-01-31 22:00:00  -86.823238      0  8.660254e-01 -0.500000  0.860961   \n\n                     Year_sin  \ntime                           \n2018-03-02 00:00:00  0.034422  \n2018-03-02 01:00:00  0.034422  \n2018-03-02 02:00:00  0.034422  \n2018-03-02 03:00:00  0.034422  \n2018-03-02 04:00:00  0.034422  \n...                       ...  \n2021-01-31 18:00:00  0.508671  \n2021-01-31 19:00:00  0.508671  \n2021-01-31 20:00:00  0.508671  \n2021-01-31 21:00:00  0.508671  \n2021-01-31 22:00:00  0.508671  \n\n[25607 rows x 10 columns]",
      "text/html": "<div>\n<style scoped>\n    .dataframe tbody tr th:only-of-type {\n        vertical-align: middle;\n    }\n\n    .dataframe tbody tr th {\n        vertical-align: top;\n    }\n\n    .dataframe thead th {\n        text-align: right;\n    }\n</style>\n<table border=\"1\" class=\"dataframe\">\n  <thead>\n    <tr style=\"text-align: right;\">\n      <th></th>\n      <th>Temperature_obs</th>\n      <th>Humidity_obs</th>\n      <th>Cloud_obs</th>\n      <th>Wind_X_obs</th>\n      <th>Wind_Y_obs</th>\n      <th>ulsan</th>\n      <th>Day_cos</th>\n      <th>Day_sin</th>\n      <th>Year_cos</th>\n      <th>Year_sin</th>\n    </tr>\n    <tr>\n      <th>time</th>\n      <th></th>\n      <th></th>\n      <th></th>\n      <th></th>\n      <th></th>\n      <th></th>\n      <th></th>\n      <th></th>\n      <th></th>\n      <th></th>\n    </tr>\n  </thead>\n  <tbody>\n    <tr>\n      <th>2018-03-02 00:00:00</th>\n      <td>0.000000</td>\n      <td>40.000000</td>\n      <td>3.591006</td>\n      <td>1.010290</td>\n      <td>-202.011846</td>\n      <td>0</td>\n      <td>1.000000e+00</td>\n      <td>0.000000</td>\n      <td>0.999407</td>\n      <td>0.034422</td>\n    </tr>\n    <tr>\n      <th>2018-03-02 01:00:00</th>\n      <td>-0.333333</td>\n      <td>41.666667</td>\n      <td>3.591006</td>\n      <td>0.964412</td>\n      <td>-221.844994</td>\n      <td>0</td>\n      <td>9.659258e-01</td>\n      <td>0.258819</td>\n      <td>0.999407</td>\n      <td>0.034422</td>\n    </tr>\n    <tr>\n      <th>2018-03-02 02:00:00</th>\n      <td>-0.666667</td>\n      <td>43.333333</td>\n      <td>3.591006</td>\n      <td>0.918535</td>\n      <td>-241.678143</td>\n      <td>0</td>\n      <td>8.660254e-01</td>\n      <td>0.500000</td>\n      <td>0.999407</td>\n      <td>0.034422</td>\n    </tr>\n    <tr>\n      <th>2018-03-02 03:00:00</th>\n      <td>-1.000000</td>\n      <td>45.000000</td>\n      <td>3.591006</td>\n      <td>0.872657</td>\n      <td>-261.511292</td>\n      <td>0</td>\n      <td>7.071068e-01</td>\n      <td>0.707107</td>\n      <td>0.999407</td>\n      <td>0.034422</td>\n    </tr>\n    <tr>\n      <th>2018-03-02 04:00:00</th>\n      <td>-1.000000</td>\n      <td>45.000000</td>\n      <td>2.967691</td>\n      <td>0.917287</td>\n      <td>-258.350002</td>\n      <td>0</td>\n      <td>5.000000e-01</td>\n      <td>0.866025</td>\n      <td>0.999407</td>\n      <td>0.034422</td>\n    </tr>\n    <tr>\n      <th>...</th>\n      <td>...</td>\n      <td>...</td>\n      <td>...</td>\n      <td>...</td>\n      <td>...</td>\n      <td>...</td>\n      <td>...</td>\n      <td>...</td>\n      <td>...</td>\n      <td>...</td>\n    </tr>\n    <tr>\n      <th>2021-01-31 18:00:00</th>\n      <td>9.000000</td>\n      <td>55.000000</td>\n      <td>8.638197</td>\n      <td>-2.472747</td>\n      <td>-61.185365</td>\n      <td>8</td>\n      <td>-1.836970e-16</td>\n      <td>-1.000000</td>\n      <td>0.860961</td>\n      <td>0.508671</td>\n    </tr>\n    <tr>\n      <th>2021-01-31 19:00:00</th>\n      <td>8.666667</td>\n      <td>60.000000</td>\n      <td>8.638197</td>\n      <td>-2.629993</td>\n      <td>-75.790243</td>\n      <td>0</td>\n      <td>2.588190e-01</td>\n      <td>-0.965926</td>\n      <td>0.860961</td>\n      <td>0.508671</td>\n    </tr>\n    <tr>\n      <th>2021-01-31 20:00:00</th>\n      <td>8.333333</td>\n      <td>65.000000</td>\n      <td>8.638197</td>\n      <td>-2.787240</td>\n      <td>-90.395122</td>\n      <td>0</td>\n      <td>5.000000e-01</td>\n      <td>-0.866025</td>\n      <td>0.860961</td>\n      <td>0.508671</td>\n    </tr>\n    <tr>\n      <th>2021-01-31 21:00:00</th>\n      <td>8.000000</td>\n      <td>70.000000</td>\n      <td>8.638197</td>\n      <td>-2.944486</td>\n      <td>-105.000000</td>\n      <td>0</td>\n      <td>7.071068e-01</td>\n      <td>-0.707107</td>\n      <td>0.860961</td>\n      <td>0.508671</td>\n    </tr>\n    <tr>\n      <th>2021-01-31 22:00:00</th>\n      <td>9.000000</td>\n      <td>68.333333</td>\n      <td>8.638197</td>\n      <td>-3.476275</td>\n      <td>-86.823238</td>\n      <td>0</td>\n      <td>8.660254e-01</td>\n      <td>-0.500000</td>\n      <td>0.860961</td>\n      <td>0.508671</td>\n    </tr>\n  </tbody>\n</table>\n<p>25607 rows × 10 columns</p>\n</div>"
     },
     "metadata": {}
    }
   ],
   "source": [
    "# load data\n",
    "with open('../witt_preprocessing/pickles/dangjin_merged.pkl','rb') as f:\n",
    "    dangjin_data = pickle.load(f)\n",
    "with open('../witt_preprocessing/pickles/ulsan_merged.pkl','rb') as f:\n",
    "    ulsan_data = pickle.load(f)\n",
    "\n",
    "\n",
    "# preprocess data for modeling\n",
    "\n",
    "# time as index\n",
    "dangjin_data.set_index('time', inplace=True)\n",
    "ulsan_data.set_index('time', inplace=True)\n",
    "\n",
    "# drop fcst features (one-weather structure)\n",
    "dangjin_data.drop(columns=['Temperature_fcst', 'Humidity_fcst','Cloud_fcst','Wind_X_fcst','Wind_Y_fcst'], inplace=True)\n",
    "ulsan_data.drop(columns=['Temperature_fcst', 'Humidity_fcst','Cloud_fcst','Wind_X_fcst','Wind_Y_fcst'], inplace=True)\n",
    "\n",
    "# dangjin - sum target values\n",
    "dangjin_data['dangjin_sum'] = dangjin_data['dangjin'] + dangjin_data['dangjin_floating'] + dangjin_data['dangjin_warehouse']\n",
    "dangjin_data.drop(columns=['dangjin','dangjin_floating','dangjin_warehouse'], inplace=True)\n",
    "\n",
    "# dropna\n",
    "dangjin_data.dropna(inplace=True)\n",
    "\n",
    "\n",
    "display(dangjin_data)\n",
    "display(ulsan_data)"
   ]
  },
  {
   "source": [
    "## Load and preprocess test data (public LB)"
   ],
   "cell_type": "markdown",
   "metadata": {}
  },
  {
   "cell_type": "code",
   "execution_count": 3,
   "metadata": {},
   "outputs": [
    {
     "output_type": "execute_result",
     "data": {
      "text/plain": [
       "                    time  dangjin_floating  dangjin_warehouse  dangjin  ulsan\n",
       "0    2021-02-01 01:00:00                 0                  0        0      0\n",
       "1    2021-02-01 02:00:00                 0                  0        0      0\n",
       "2    2021-02-01 03:00:00                 0                  0        0      0\n",
       "3    2021-02-01 04:00:00                 0                  0        0      0\n",
       "4    2021-02-01 05:00:00                 0                  0        0      0\n",
       "..                   ...               ...                ...      ...    ...\n",
       "667  2021-02-28 20:00:00                 0                  0        0      0\n",
       "668  2021-02-28 21:00:00                 0                  0        0      0\n",
       "669  2021-02-28 22:00:00                 0                  0        0      0\n",
       "670  2021-02-28 23:00:00                 0                  0        0      0\n",
       "671  2021-02-28 24:00:00                 0                  0        0      0\n",
       "\n",
       "[672 rows x 5 columns]"
      ],
      "text/html": "<div>\n<style scoped>\n    .dataframe tbody tr th:only-of-type {\n        vertical-align: middle;\n    }\n\n    .dataframe tbody tr th {\n        vertical-align: top;\n    }\n\n    .dataframe thead th {\n        text-align: right;\n    }\n</style>\n<table border=\"1\" class=\"dataframe\">\n  <thead>\n    <tr style=\"text-align: right;\">\n      <th></th>\n      <th>time</th>\n      <th>dangjin_floating</th>\n      <th>dangjin_warehouse</th>\n      <th>dangjin</th>\n      <th>ulsan</th>\n    </tr>\n  </thead>\n  <tbody>\n    <tr>\n      <th>0</th>\n      <td>2021-02-01 01:00:00</td>\n      <td>0</td>\n      <td>0</td>\n      <td>0</td>\n      <td>0</td>\n    </tr>\n    <tr>\n      <th>1</th>\n      <td>2021-02-01 02:00:00</td>\n      <td>0</td>\n      <td>0</td>\n      <td>0</td>\n      <td>0</td>\n    </tr>\n    <tr>\n      <th>2</th>\n      <td>2021-02-01 03:00:00</td>\n      <td>0</td>\n      <td>0</td>\n      <td>0</td>\n      <td>0</td>\n    </tr>\n    <tr>\n      <th>3</th>\n      <td>2021-02-01 04:00:00</td>\n      <td>0</td>\n      <td>0</td>\n      <td>0</td>\n      <td>0</td>\n    </tr>\n    <tr>\n      <th>4</th>\n      <td>2021-02-01 05:00:00</td>\n      <td>0</td>\n      <td>0</td>\n      <td>0</td>\n      <td>0</td>\n    </tr>\n    <tr>\n      <th>...</th>\n      <td>...</td>\n      <td>...</td>\n      <td>...</td>\n      <td>...</td>\n      <td>...</td>\n    </tr>\n    <tr>\n      <th>667</th>\n      <td>2021-02-28 20:00:00</td>\n      <td>0</td>\n      <td>0</td>\n      <td>0</td>\n      <td>0</td>\n    </tr>\n    <tr>\n      <th>668</th>\n      <td>2021-02-28 21:00:00</td>\n      <td>0</td>\n      <td>0</td>\n      <td>0</td>\n      <td>0</td>\n    </tr>\n    <tr>\n      <th>669</th>\n      <td>2021-02-28 22:00:00</td>\n      <td>0</td>\n      <td>0</td>\n      <td>0</td>\n      <td>0</td>\n    </tr>\n    <tr>\n      <th>670</th>\n      <td>2021-02-28 23:00:00</td>\n      <td>0</td>\n      <td>0</td>\n      <td>0</td>\n      <td>0</td>\n    </tr>\n    <tr>\n      <th>671</th>\n      <td>2021-02-28 24:00:00</td>\n      <td>0</td>\n      <td>0</td>\n      <td>0</td>\n      <td>0</td>\n    </tr>\n  </tbody>\n</table>\n<p>672 rows × 5 columns</p>\n</div>"
     },
     "metadata": {},
     "execution_count": 3
    }
   ],
   "source": [
    "sample_submission = pd.read_csv('../original_dataset/sample_submission.csv')\n",
    "\n",
    "# 2월 일자만\n",
    "sample_submission_feb = sample_submission.loc[sample_submission['time'].str.contains('2021-02')]\n",
    "sample_submission_feb"
   ]
  },
  {
   "cell_type": "code",
   "execution_count": 4,
   "metadata": {},
   "outputs": [
    {
     "output_type": "stream",
     "name": "stdout",
     "text": [
      "(672, 9)\n(672, 9)\n"
     ]
    }
   ],
   "source": [
    "# load\n",
    "with open('../witt_preprocessing/pickles/dangjin_fcst.pkl','rb') as f:\n",
    "    dangjin = pickle.load(f)\n",
    "with open('../witt_preprocessing/pickles/ulsan_fcst.pkl','rb') as f:\n",
    "    ulsan = pickle.load(f)\n",
    "\n",
    "# index according to sample submission\n",
    "start, end  = pd.Timestamp('2021-02-01 01:00:00'), pd.Timestamp('2021-03-01-00:00:00') # end == 2021-02-28 24:00:00\n",
    "\n",
    "# slice test data\n",
    "dangjin.set_index('time', inplace=True)\n",
    "dangjin_feb = dangjin.loc[start:end,:]\n",
    "print(dangjin_feb.shape)\n",
    "\n",
    "ulsan.set_index('time', inplace=True)\n",
    "ulsan_feb = ulsan.loc[start:end,:]\n",
    "print(ulsan_feb.shape)"
   ]
  },
  {
   "source": [
    "## train and predict - dangjin"
   ],
   "cell_type": "markdown",
   "metadata": {}
  },
  {
   "source": [
    "# input-target split\n",
    "x_cols = ['Temperature_obs', 'Humidity_obs','Cloud_obs','Wind_X_obs','Wind_Y_obs','Day_cos','Day_sin','Year_cos','Year_sin']\n",
    "y_cols = ['dangjin_sum']\n",
    "\n",
    "x = dangjin_data.loc[:,x_cols]\n",
    "y = dangjin_data.loc[:,y_cols]\n",
    "\n",
    "# train\n",
    "model = RandomForestRegressor(criterion='mae', verbose=2, n_jobs=-1)\n",
    "model.fit(x,y)\n",
    "\n",
    "# predict\n",
    "dangjin_predict = model.predict(dangjin_feb)"
   ],
   "cell_type": "code",
   "metadata": {},
   "execution_count": 20,
   "outputs": [
    {
     "output_type": "stream",
     "name": "stderr",
     "text": [
      "<ipython-input-20-472c10d7c97c>:10: DataConversionWarning: A column-vector y was passed when a 1d array was expected. Please change the shape of y to (n_samples,), for example using ravel().\n",
      "  model.fit(x,y)\n",
      "[Parallel(n_jobs=-1)]: Using backend ThreadingBackend with 8 concurrent workers.\n",
      "building tree 1 of 100building tree 2 of 100building tree 3 of 100\n",
      "building tree 4 of 100\n",
      "building tree 5 of 100\n",
      "building tree 6 of 100\n",
      "\n",
      "\n",
      "building tree 7 of 100\n",
      "building tree 8 of 100\n",
      "building tree 9 of 100\n",
      "building tree 10 of 100\n",
      "building tree 11 of 100\n",
      "building tree 12 of 100\n",
      "building tree 13 of 100\n",
      "building tree 14 of 100\n",
      "building tree 15 of 100\n",
      "building tree 16 of 100\n",
      "building tree 17 of 100\n",
      "building tree 18 of 100\n",
      "building tree 19 of 100\n",
      "building tree 20 of 100\n",
      "building tree 21 of 100\n",
      "building tree 22 of 100\n",
      "building tree 23 of 100\n",
      "building tree 24 of 100\n",
      "building tree 25 of 100\n",
      "building tree 26 of 100\n",
      "building tree 27 of 100\n",
      "building tree 28 of 100\n",
      "building tree 29 of 100\n",
      "building tree 30 of 100\n",
      "building tree 31 of 100\n",
      "building tree 32 of 100\n",
      "[Parallel(n_jobs=-1)]: Done  25 tasks      | elapsed:  1.9min\n",
      "building tree 33 of 100\n",
      "building tree 34 of 100\n",
      "building tree 35 of 100\n",
      "building tree 36 of 100\n",
      "building tree 37 of 100\n",
      "building tree 38 of 100\n",
      "building tree 39 of 100\n",
      "building tree 40 of 100\n",
      "building tree 41 of 100\n",
      "building tree 42 of 100\n",
      "building tree 43 of 100\n",
      "building tree 44 of 100\n",
      "building tree 45 of 100\n",
      "building tree 46 of 100\n",
      "building tree 47 of 100\n",
      "building tree 48 of 100\n",
      "building tree 49 of 100\n",
      "building tree 50 of 100\n",
      "building tree 51 of 100\n",
      "building tree 52 of 100\n",
      "building tree 53 of 100\n",
      "building tree 54 of 100\n",
      "building tree 55 of 100\n",
      "building tree 56 of 100\n",
      "building tree 57 of 100\n",
      "building tree 58 of 100\n",
      "building tree 59 of 100\n",
      "building tree 60 of 100\n",
      "building tree 61 of 100\n",
      "building tree 62 of 100\n",
      "building tree 63 of 100\n",
      "building tree 64 of 100\n",
      "building tree 65 of 100\n",
      "building tree 66 of 100\n",
      "building tree 67 of 100\n",
      "building tree 68 of 100\n",
      "building tree 69 of 100\n",
      "building tree 70 of 100\n",
      "building tree 71 of 100\n",
      "building tree 72 of 100\n",
      "building tree 73 of 100\n",
      "building tree 74 of 100\n",
      "building tree 75 of 100\n",
      "building tree 76 of 100\n",
      "building tree 77 of 100\n",
      "building tree 78 of 100\n",
      "building tree 79 of 100\n",
      "building tree 80 of 100\n",
      "building tree 81 of 100\n",
      "building tree 82 of 100\n",
      "building tree 83 of 100\n",
      "building tree 84 of 100\n",
      "building tree 85 of 100\n",
      "building tree 86 of 100\n",
      "building tree 87 of 100\n",
      "building tree 88 of 100\n",
      "building tree 89 of 100\n",
      "building tree 90 of 100\n",
      "building tree 91 of 100\n",
      "building tree 92 of 100\n",
      "building tree 93 of 100\n",
      "building tree 94 of 100\n",
      "building tree 95 of 100\n",
      "building tree 96 of 100\n",
      "building tree 97 of 100\n",
      "building tree 98 of 100\n",
      "building tree 99 of 100\n",
      "building tree 100 of 100\n",
      "[Parallel(n_jobs=-1)]: Done 100 out of 100 | elapsed:  7.2min finished\n",
      "[Parallel(n_jobs=8)]: Using backend ThreadingBackend with 8 concurrent workers.\n",
      "[Parallel(n_jobs=8)]: Done  25 tasks      | elapsed:    0.1s\n",
      "[Parallel(n_jobs=8)]: Done 100 out of 100 | elapsed:    0.2s finished\n"
     ]
    }
   ]
  },
  {
   "cell_type": "code",
   "execution_count": 168,
   "metadata": {},
   "outputs": [
    {
     "output_type": "stream",
     "name": "stderr",
     "text": [
      "<ipython-input-168-5256ae025397>:10: DataConversionWarning: A column-vector y was passed when a 1d array was expected. Please change the shape of y to (n_samples,), for example using ravel().\n",
      "  model.fit(x,y)\n",
      "[Parallel(n_jobs=-1)]: Using backend ThreadingBackend with 8 concurrent workers.\n",
      "building tree 1 of 100\n",
      "building tree 2 of 100\n",
      "building tree 3 of 100\n",
      "building tree 4 of 100\n",
      "building tree 5 of 100\n",
      "building tree 6 of 100\n",
      "building tree 7 of 100\n",
      "building tree 8 of 100\n",
      "building tree 9 of 100\n",
      "building tree 10 of 100\n",
      "building tree 11 of 100\n",
      "building tree 12 of 100\n",
      "building tree 13 of 100\n",
      "building tree 14 of 100\n",
      "building tree 15 of 100\n",
      "building tree 16 of 100\n",
      "building tree 17 of 100\n",
      "building tree 18 of 100\n",
      "building tree 19 of 100\n",
      "building tree 20 of 100\n",
      "building tree 21 of 100\n",
      "building tree 22 of 100\n",
      "building tree 23 of 100\n",
      "building tree 24 of 100\n",
      "building tree 25 of 100\n",
      "building tree 26 of 100\n",
      "building tree 27 of 100\n",
      "building tree 28 of 100\n",
      "building tree 29 of 100\n",
      "building tree 30 of 100\n",
      "building tree 31 of 100\n",
      "building tree 32 of 100\n",
      "[Parallel(n_jobs=-1)]: Done  25 tasks      | elapsed:  1.8min\n",
      "building tree 33 of 100\n",
      "building tree 34 of 100\n",
      "building tree 35 of 100\n",
      "building tree 36 of 100\n",
      "building tree 37 of 100\n",
      "building tree 38 of 100\n",
      "building tree 39 of 100\n",
      "building tree 40 of 100\n",
      "building tree 41 of 100\n",
      "building tree 42 of 100\n",
      "building tree 43 of 100\n",
      "building tree 44 of 100\n",
      "building tree 45 of 100\n",
      "building tree 46 of 100\n",
      "building tree 47 of 100\n",
      "building tree 48 of 100\n",
      "building tree 49 of 100\n",
      "building tree 50 of 100\n",
      "building tree 51 of 100\n",
      "building tree 52 of 100\n",
      "building tree 53 of 100\n",
      "building tree 54 of 100\n",
      "building tree 55 of 100\n",
      "building tree 56 of 100\n",
      "building tree 57 of 100\n",
      "building tree 58 of 100\n",
      "building tree 59 of 100\n",
      "building tree 60 of 100\n",
      "building tree 61 of 100\n",
      "building tree 62 of 100\n",
      "building tree 63 of 100\n",
      "building tree 64 of 100\n",
      "building tree 65 of 100\n",
      "building tree 66 of 100\n",
      "building tree 67 of 100\n",
      "building tree 68 of 100\n",
      "building tree 69 of 100\n",
      "building tree 70 of 100\n",
      "building tree 71 of 100\n",
      "building tree 72 of 100\n",
      "building tree 73 of 100\n",
      "building tree 74 of 100\n",
      "building tree 75 of 100\n",
      "building tree 76 of 100\n",
      "building tree 77 of 100\n",
      "building tree 78 of 100\n",
      "building tree 79 of 100\n",
      "building tree 80 of 100\n",
      "building tree 81 of 100\n",
      "building tree 82 of 100\n",
      "building tree 83 of 100\n",
      "building tree 84 of 100\n",
      "building tree 85 of 100\n",
      "building tree 86 of 100\n",
      "building tree 87 of 100\n",
      "building tree 88 of 100\n",
      "building tree 89 of 100\n",
      "building tree 90 of 100\n",
      "building tree 91 of 100\n",
      "building tree 92 of 100\n",
      "building tree 93 of 100\n",
      "building tree 94 of 100\n",
      "building tree 95 of 100\n",
      "building tree 96 of 100\n",
      "building tree 97 of 100\n",
      "building tree 98 of 100\n",
      "building tree 99 of 100\n",
      "building tree 100 of 100\n",
      "[Parallel(n_jobs=-1)]: Done 100 out of 100 | elapsed:  6.8min finished\n",
      "[Parallel(n_jobs=8)]: Using backend ThreadingBackend with 8 concurrent workers.\n",
      "[Parallel(n_jobs=8)]: Done  25 tasks      | elapsed:    0.0s\n",
      "[Parallel(n_jobs=8)]: Done 100 out of 100 | elapsed:    0.1s finished\n"
     ]
    }
   ],
   "source": [
    "# input-target split\n",
    "x_cols = ['Temperature_obs', 'Humidity_obs','Cloud_obs','Wind_X_obs','Wind_Y_obs','Day_cos','Day_sin','Year_cos','Year_sin']\n",
    "y_cols = ['ulsan']\n",
    "\n",
    "x = ulsan_data.loc[:,x_cols]\n",
    "y = ulsan_data.loc[:,y_cols]\n",
    "\n",
    "# train\n",
    "model = RandomForestRegressor(criterion='mae', verbose=2, n_jobs=-1)\n",
    "model.fit(x,y)\n",
    "\n",
    "# predict\n",
    "ulsan_predict = model.predict(ulsan_feb)"
   ]
  },
  {
   "source": [
    "## sample_submission.csv"
   ],
   "cell_type": "markdown",
   "metadata": {}
  },
  {
   "cell_type": "code",
   "execution_count": 43,
   "metadata": {},
   "outputs": [
    {
     "output_type": "execute_result",
     "data": {
      "text/plain": [
       "                     time  dangjin_floating  dangjin_warehouse  dangjin  ulsan\n",
       "0     2021-02-01 01:00:00              0.14                  0        0      0\n",
       "1     2021-02-01 02:00:00              0.07                  0        0      0\n",
       "2     2021-02-01 03:00:00              0.00                  0        0      0\n",
       "3     2021-02-01 04:00:00              0.17                  0        0      0\n",
       "4     2021-02-01 05:00:00              0.22                  0        0      0\n",
       "...                   ...               ...                ...      ...    ...\n",
       "1387  2021-07-08 20:00:00              0.00                  0        0      0\n",
       "1388  2021-07-08 21:00:00              0.00                  0        0      0\n",
       "1389  2021-07-08 22:00:00              0.00                  0        0      0\n",
       "1390  2021-07-08 23:00:00              0.00                  0        0      0\n",
       "1391  2021-07-08 24:00:00              0.00                  0        0      0\n",
       "\n",
       "[1392 rows x 5 columns]"
      ],
      "text/html": "<div>\n<style scoped>\n    .dataframe tbody tr th:only-of-type {\n        vertical-align: middle;\n    }\n\n    .dataframe tbody tr th {\n        vertical-align: top;\n    }\n\n    .dataframe thead th {\n        text-align: right;\n    }\n</style>\n<table border=\"1\" class=\"dataframe\">\n  <thead>\n    <tr style=\"text-align: right;\">\n      <th></th>\n      <th>time</th>\n      <th>dangjin_floating</th>\n      <th>dangjin_warehouse</th>\n      <th>dangjin</th>\n      <th>ulsan</th>\n    </tr>\n  </thead>\n  <tbody>\n    <tr>\n      <th>0</th>\n      <td>2021-02-01 01:00:00</td>\n      <td>0.14</td>\n      <td>0</td>\n      <td>0</td>\n      <td>0</td>\n    </tr>\n    <tr>\n      <th>1</th>\n      <td>2021-02-01 02:00:00</td>\n      <td>0.07</td>\n      <td>0</td>\n      <td>0</td>\n      <td>0</td>\n    </tr>\n    <tr>\n      <th>2</th>\n      <td>2021-02-01 03:00:00</td>\n      <td>0.00</td>\n      <td>0</td>\n      <td>0</td>\n      <td>0</td>\n    </tr>\n    <tr>\n      <th>3</th>\n      <td>2021-02-01 04:00:00</td>\n      <td>0.17</td>\n      <td>0</td>\n      <td>0</td>\n      <td>0</td>\n    </tr>\n    <tr>\n      <th>4</th>\n      <td>2021-02-01 05:00:00</td>\n      <td>0.22</td>\n      <td>0</td>\n      <td>0</td>\n      <td>0</td>\n    </tr>\n    <tr>\n      <th>...</th>\n      <td>...</td>\n      <td>...</td>\n      <td>...</td>\n      <td>...</td>\n      <td>...</td>\n    </tr>\n    <tr>\n      <th>1387</th>\n      <td>2021-07-08 20:00:00</td>\n      <td>0.00</td>\n      <td>0</td>\n      <td>0</td>\n      <td>0</td>\n    </tr>\n    <tr>\n      <th>1388</th>\n      <td>2021-07-08 21:00:00</td>\n      <td>0.00</td>\n      <td>0</td>\n      <td>0</td>\n      <td>0</td>\n    </tr>\n    <tr>\n      <th>1389</th>\n      <td>2021-07-08 22:00:00</td>\n      <td>0.00</td>\n      <td>0</td>\n      <td>0</td>\n      <td>0</td>\n    </tr>\n    <tr>\n      <th>1390</th>\n      <td>2021-07-08 23:00:00</td>\n      <td>0.00</td>\n      <td>0</td>\n      <td>0</td>\n      <td>0</td>\n    </tr>\n    <tr>\n      <th>1391</th>\n      <td>2021-07-08 24:00:00</td>\n      <td>0.00</td>\n      <td>0</td>\n      <td>0</td>\n      <td>0</td>\n    </tr>\n  </tbody>\n</table>\n<p>1392 rows × 5 columns</p>\n</div>"
     },
     "metadata": {},
     "execution_count": 43
    }
   ],
   "source": [
    "# sum predict (상관없음; 평가식 참고)\n",
    "predict = dangjin_predict + ulsan_predict\n",
    "sample_submission.iloc[:predict.shape[0],1] = predict\n",
    "sample_submission"
   ]
  },
  {
   "cell_type": "code",
   "execution_count": 44,
   "metadata": {},
   "outputs": [
    {
     "output_type": "execute_result",
     "data": {
      "text/plain": [
       "                     time  dangjin_floating  dangjin_warehouse  dangjin  ulsan\n",
       "0     2021-02-01 01:00:00              0.14                  0        0      0\n",
       "1     2021-02-01 02:00:00              0.07                  0        0      0\n",
       "2     2021-02-01 03:00:00              0.00                  0        0      0\n",
       "3     2021-02-01 04:00:00              0.17                  0        0      0\n",
       "4     2021-02-01 05:00:00              0.22                  0        0      0\n",
       "...                   ...               ...                ...      ...    ...\n",
       "1387  2021-07-08 20:00:00              0.00                  0        0      0\n",
       "1388  2021-07-08 21:00:00              0.00                  0        0      0\n",
       "1389  2021-07-08 22:00:00              0.00                  0        0      0\n",
       "1390  2021-07-08 23:00:00              0.00                  0        0      0\n",
       "1391  2021-07-08 24:00:00              0.00                  0        0      0\n",
       "\n",
       "[1392 rows x 5 columns]"
      ],
      "text/html": "<div>\n<style scoped>\n    .dataframe tbody tr th:only-of-type {\n        vertical-align: middle;\n    }\n\n    .dataframe tbody tr th {\n        vertical-align: top;\n    }\n\n    .dataframe thead th {\n        text-align: right;\n    }\n</style>\n<table border=\"1\" class=\"dataframe\">\n  <thead>\n    <tr style=\"text-align: right;\">\n      <th></th>\n      <th>time</th>\n      <th>dangjin_floating</th>\n      <th>dangjin_warehouse</th>\n      <th>dangjin</th>\n      <th>ulsan</th>\n    </tr>\n  </thead>\n  <tbody>\n    <tr>\n      <th>0</th>\n      <td>2021-02-01 01:00:00</td>\n      <td>0.14</td>\n      <td>0</td>\n      <td>0</td>\n      <td>0</td>\n    </tr>\n    <tr>\n      <th>1</th>\n      <td>2021-02-01 02:00:00</td>\n      <td>0.07</td>\n      <td>0</td>\n      <td>0</td>\n      <td>0</td>\n    </tr>\n    <tr>\n      <th>2</th>\n      <td>2021-02-01 03:00:00</td>\n      <td>0.00</td>\n      <td>0</td>\n      <td>0</td>\n      <td>0</td>\n    </tr>\n    <tr>\n      <th>3</th>\n      <td>2021-02-01 04:00:00</td>\n      <td>0.17</td>\n      <td>0</td>\n      <td>0</td>\n      <td>0</td>\n    </tr>\n    <tr>\n      <th>4</th>\n      <td>2021-02-01 05:00:00</td>\n      <td>0.22</td>\n      <td>0</td>\n      <td>0</td>\n      <td>0</td>\n    </tr>\n    <tr>\n      <th>...</th>\n      <td>...</td>\n      <td>...</td>\n      <td>...</td>\n      <td>...</td>\n      <td>...</td>\n    </tr>\n    <tr>\n      <th>1387</th>\n      <td>2021-07-08 20:00:00</td>\n      <td>0.00</td>\n      <td>0</td>\n      <td>0</td>\n      <td>0</td>\n    </tr>\n    <tr>\n      <th>1388</th>\n      <td>2021-07-08 21:00:00</td>\n      <td>0.00</td>\n      <td>0</td>\n      <td>0</td>\n      <td>0</td>\n    </tr>\n    <tr>\n      <th>1389</th>\n      <td>2021-07-08 22:00:00</td>\n      <td>0.00</td>\n      <td>0</td>\n      <td>0</td>\n      <td>0</td>\n    </tr>\n    <tr>\n      <th>1390</th>\n      <td>2021-07-08 23:00:00</td>\n      <td>0.00</td>\n      <td>0</td>\n      <td>0</td>\n      <td>0</td>\n    </tr>\n    <tr>\n      <th>1391</th>\n      <td>2021-07-08 24:00:00</td>\n      <td>0.00</td>\n      <td>0</td>\n      <td>0</td>\n      <td>0</td>\n    </tr>\n  </tbody>\n</table>\n<p>1392 rows × 5 columns</p>\n</div>"
     },
     "metadata": {},
     "execution_count": 44
    }
   ],
   "source": [
    "sample_submission.to_csv('rf_single-timestep.csv', index=False)\n",
    "pd.read_csv('rf_single-timestep.csv')"
   ]
  }
 ]
}