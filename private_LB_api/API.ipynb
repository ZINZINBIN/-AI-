{
 "metadata": {
  "language_info": {
   "codemirror_mode": {
    "name": "ipython",
    "version": 3
   },
   "file_extension": ".py",
   "mimetype": "text/x-python",
   "name": "python",
   "nbconvert_exporter": "python",
   "pygments_lexer": "ipython3",
   "version": "3.8.5"
  },
  "orig_nbformat": 2,
  "kernelspec": {
   "name": "python385jvsc74a57bd00a11f21c0450bb1ec4a8d90e5cdddc03f9c3302b58333d2d566c7a90a775328a",
   "display_name": "Python 3.8.5 64-bit ('base': conda)"
  }
 },
 "nbformat": 4,
 "nbformat_minor": 2,
 "cells": [
  {
   "source": [
    "## Private LB API sample code"
   ],
   "cell_type": "markdown",
   "metadata": {}
  },
  {
   "cell_type": "code",
   "execution_count": 26,
   "metadata": {},
   "outputs": [],
   "source": [
    "from privateLB import API\r\n",
    "\r\n",
    "key = 'sNfoTDclWrvFGpIEFDEXvj+EaCjLrOILF7IYehdRCcYBxnMP0zna40R1UmY6qfWBG0gJ16c3T8ManHwvhACk7w=='\r\n",
    "dj = API('20210525','2000','dangjin',key).get_data()\r\n",
    "uls = API('20210525','2000','ulsan',key).get_data()"
   ]
  },
  {
   "cell_type": "code",
   "execution_count": 29,
   "metadata": {},
   "outputs": [
    {
     "output_type": "stream",
     "name": "stdout",
     "text": [
      "Help on function __init__ in module privateLB:\n\n__init__(self, base_date, base_time, location, key)\n    base_date: str, format:'YYYYMMDD'(e.g. '20210522'). 예보 발표일자. API로는 최근 1일간의 자료만을 불러올 수 있다는 점 유의.\n    base_time: str, format: 'HHMM'(e.g. '2000' for 20시). 예보 발표시각. 0200, 0500, 0800, 1100, 1400, 1700, 2000, 2300 중 하나여야 함.\n    location: str, 'dangjin' or 'ulsan'.\n\n"
     ]
    }
   ],
   "source": [
    "help(API.__init__)"
   ]
  },
  {
   "cell_type": "code",
   "execution_count": 27,
   "metadata": {},
   "outputs": [
    {
     "output_type": "display_data",
     "data": {
      "text/plain": "                   time  Humidity  Cloud  Temperature  WindDirection  \\\n0    2021-05-26 0:00:00      75.0    1.0         12.0          253.0   \n1    2021-05-26 1:00:00       NaN    NaN          NaN            NaN   \n2    2021-05-26 2:00:00       NaN    NaN          NaN            NaN   \n3    2021-05-26 3:00:00      80.0    1.0         11.0          175.0   \n4    2021-05-26 4:00:00       NaN    NaN          NaN            NaN   \n5    2021-05-26 5:00:00       NaN    NaN          NaN            NaN   \n6    2021-05-26 6:00:00      85.0    1.0         12.0          161.0   \n7    2021-05-26 7:00:00       NaN    NaN          NaN            NaN   \n8    2021-05-26 8:00:00       NaN    NaN          NaN            NaN   \n9    2021-05-26 9:00:00      60.0    1.0         18.0          165.0   \n10  2021-05-26 10:00:00       NaN    NaN          NaN            NaN   \n11  2021-05-26 11:00:00       NaN    NaN          NaN            NaN   \n12  2021-05-26 12:00:00      30.0    3.0         23.0          192.0   \n13  2021-05-26 13:00:00       NaN    NaN          NaN            NaN   \n14  2021-05-26 14:00:00       NaN    NaN          NaN            NaN   \n15  2021-05-26 15:00:00      35.0    4.0         24.0          198.0   \n16  2021-05-26 16:00:00       NaN    NaN          NaN            NaN   \n17  2021-05-26 17:00:00       NaN    NaN          NaN            NaN   \n18  2021-05-26 18:00:00      60.0    1.0         21.0          198.0   \n19  2021-05-26 19:00:00       NaN    NaN          NaN            NaN   \n20  2021-05-26 20:00:00       NaN    NaN          NaN            NaN   \n21  2021-05-26 21:00:00      75.0    3.0         18.0          173.0   \n22  2021-05-26 22:00:00       NaN    NaN          NaN            NaN   \n23  2021-05-26 23:00:00       NaN    NaN          NaN            NaN   \n24  2021-05-26 24:00:00      80.0    4.0         17.0          162.0   \n\n    WindSpeed  \n0         2.1  \n1         NaN  \n2         NaN  \n3         2.5  \n4         NaN  \n5         NaN  \n6         2.8  \n7         NaN  \n8         NaN  \n9         4.9  \n10        NaN  \n11        NaN  \n12        5.3  \n13        NaN  \n14        NaN  \n15        8.8  \n16        NaN  \n17        NaN  \n18        6.0  \n19        NaN  \n20        NaN  \n21        2.6  \n22        NaN  \n23        NaN  \n24        1.6  ",
      "text/html": "<div>\n<style scoped>\n    .dataframe tbody tr th:only-of-type {\n        vertical-align: middle;\n    }\n\n    .dataframe tbody tr th {\n        vertical-align: top;\n    }\n\n    .dataframe thead th {\n        text-align: right;\n    }\n</style>\n<table border=\"1\" class=\"dataframe\">\n  <thead>\n    <tr style=\"text-align: right;\">\n      <th></th>\n      <th>time</th>\n      <th>Humidity</th>\n      <th>Cloud</th>\n      <th>Temperature</th>\n      <th>WindDirection</th>\n      <th>WindSpeed</th>\n    </tr>\n  </thead>\n  <tbody>\n    <tr>\n      <th>0</th>\n      <td>2021-05-26 0:00:00</td>\n      <td>75.0</td>\n      <td>1.0</td>\n      <td>12.0</td>\n      <td>253.0</td>\n      <td>2.1</td>\n    </tr>\n    <tr>\n      <th>1</th>\n      <td>2021-05-26 1:00:00</td>\n      <td>NaN</td>\n      <td>NaN</td>\n      <td>NaN</td>\n      <td>NaN</td>\n      <td>NaN</td>\n    </tr>\n    <tr>\n      <th>2</th>\n      <td>2021-05-26 2:00:00</td>\n      <td>NaN</td>\n      <td>NaN</td>\n      <td>NaN</td>\n      <td>NaN</td>\n      <td>NaN</td>\n    </tr>\n    <tr>\n      <th>3</th>\n      <td>2021-05-26 3:00:00</td>\n      <td>80.0</td>\n      <td>1.0</td>\n      <td>11.0</td>\n      <td>175.0</td>\n      <td>2.5</td>\n    </tr>\n    <tr>\n      <th>4</th>\n      <td>2021-05-26 4:00:00</td>\n      <td>NaN</td>\n      <td>NaN</td>\n      <td>NaN</td>\n      <td>NaN</td>\n      <td>NaN</td>\n    </tr>\n    <tr>\n      <th>5</th>\n      <td>2021-05-26 5:00:00</td>\n      <td>NaN</td>\n      <td>NaN</td>\n      <td>NaN</td>\n      <td>NaN</td>\n      <td>NaN</td>\n    </tr>\n    <tr>\n      <th>6</th>\n      <td>2021-05-26 6:00:00</td>\n      <td>85.0</td>\n      <td>1.0</td>\n      <td>12.0</td>\n      <td>161.0</td>\n      <td>2.8</td>\n    </tr>\n    <tr>\n      <th>7</th>\n      <td>2021-05-26 7:00:00</td>\n      <td>NaN</td>\n      <td>NaN</td>\n      <td>NaN</td>\n      <td>NaN</td>\n      <td>NaN</td>\n    </tr>\n    <tr>\n      <th>8</th>\n      <td>2021-05-26 8:00:00</td>\n      <td>NaN</td>\n      <td>NaN</td>\n      <td>NaN</td>\n      <td>NaN</td>\n      <td>NaN</td>\n    </tr>\n    <tr>\n      <th>9</th>\n      <td>2021-05-26 9:00:00</td>\n      <td>60.0</td>\n      <td>1.0</td>\n      <td>18.0</td>\n      <td>165.0</td>\n      <td>4.9</td>\n    </tr>\n    <tr>\n      <th>10</th>\n      <td>2021-05-26 10:00:00</td>\n      <td>NaN</td>\n      <td>NaN</td>\n      <td>NaN</td>\n      <td>NaN</td>\n      <td>NaN</td>\n    </tr>\n    <tr>\n      <th>11</th>\n      <td>2021-05-26 11:00:00</td>\n      <td>NaN</td>\n      <td>NaN</td>\n      <td>NaN</td>\n      <td>NaN</td>\n      <td>NaN</td>\n    </tr>\n    <tr>\n      <th>12</th>\n      <td>2021-05-26 12:00:00</td>\n      <td>30.0</td>\n      <td>3.0</td>\n      <td>23.0</td>\n      <td>192.0</td>\n      <td>5.3</td>\n    </tr>\n    <tr>\n      <th>13</th>\n      <td>2021-05-26 13:00:00</td>\n      <td>NaN</td>\n      <td>NaN</td>\n      <td>NaN</td>\n      <td>NaN</td>\n      <td>NaN</td>\n    </tr>\n    <tr>\n      <th>14</th>\n      <td>2021-05-26 14:00:00</td>\n      <td>NaN</td>\n      <td>NaN</td>\n      <td>NaN</td>\n      <td>NaN</td>\n      <td>NaN</td>\n    </tr>\n    <tr>\n      <th>15</th>\n      <td>2021-05-26 15:00:00</td>\n      <td>35.0</td>\n      <td>4.0</td>\n      <td>24.0</td>\n      <td>198.0</td>\n      <td>8.8</td>\n    </tr>\n    <tr>\n      <th>16</th>\n      <td>2021-05-26 16:00:00</td>\n      <td>NaN</td>\n      <td>NaN</td>\n      <td>NaN</td>\n      <td>NaN</td>\n      <td>NaN</td>\n    </tr>\n    <tr>\n      <th>17</th>\n      <td>2021-05-26 17:00:00</td>\n      <td>NaN</td>\n      <td>NaN</td>\n      <td>NaN</td>\n      <td>NaN</td>\n      <td>NaN</td>\n    </tr>\n    <tr>\n      <th>18</th>\n      <td>2021-05-26 18:00:00</td>\n      <td>60.0</td>\n      <td>1.0</td>\n      <td>21.0</td>\n      <td>198.0</td>\n      <td>6.0</td>\n    </tr>\n    <tr>\n      <th>19</th>\n      <td>2021-05-26 19:00:00</td>\n      <td>NaN</td>\n      <td>NaN</td>\n      <td>NaN</td>\n      <td>NaN</td>\n      <td>NaN</td>\n    </tr>\n    <tr>\n      <th>20</th>\n      <td>2021-05-26 20:00:00</td>\n      <td>NaN</td>\n      <td>NaN</td>\n      <td>NaN</td>\n      <td>NaN</td>\n      <td>NaN</td>\n    </tr>\n    <tr>\n      <th>21</th>\n      <td>2021-05-26 21:00:00</td>\n      <td>75.0</td>\n      <td>3.0</td>\n      <td>18.0</td>\n      <td>173.0</td>\n      <td>2.6</td>\n    </tr>\n    <tr>\n      <th>22</th>\n      <td>2021-05-26 22:00:00</td>\n      <td>NaN</td>\n      <td>NaN</td>\n      <td>NaN</td>\n      <td>NaN</td>\n      <td>NaN</td>\n    </tr>\n    <tr>\n      <th>23</th>\n      <td>2021-05-26 23:00:00</td>\n      <td>NaN</td>\n      <td>NaN</td>\n      <td>NaN</td>\n      <td>NaN</td>\n      <td>NaN</td>\n    </tr>\n    <tr>\n      <th>24</th>\n      <td>2021-05-26 24:00:00</td>\n      <td>80.0</td>\n      <td>4.0</td>\n      <td>17.0</td>\n      <td>162.0</td>\n      <td>1.6</td>\n    </tr>\n  </tbody>\n</table>\n</div>"
     },
     "metadata": {}
    },
    {
     "output_type": "display_data",
     "data": {
      "text/plain": "                   time  Humidity  Cloud  Temperature  WindDirection  \\\n0    2021-05-26 0:00:00      55.0    1.0         15.0          288.0   \n1    2021-05-26 1:00:00       NaN    NaN          NaN            NaN   \n2    2021-05-26 2:00:00       NaN    NaN          NaN            NaN   \n3    2021-05-26 3:00:00      55.0    1.0         14.0          286.0   \n4    2021-05-26 4:00:00       NaN    NaN          NaN            NaN   \n5    2021-05-26 5:00:00       NaN    NaN          NaN            NaN   \n6    2021-05-26 6:00:00      55.0    1.0         14.0          280.0   \n7    2021-05-26 7:00:00       NaN    NaN          NaN            NaN   \n8    2021-05-26 8:00:00       NaN    NaN          NaN            NaN   \n9    2021-05-26 9:00:00      45.0    3.0         19.0          216.0   \n10  2021-05-26 10:00:00       NaN    NaN          NaN            NaN   \n11  2021-05-26 11:00:00       NaN    NaN          NaN            NaN   \n12  2021-05-26 12:00:00      35.0    3.0         23.0          183.0   \n13  2021-05-26 13:00:00       NaN    NaN          NaN            NaN   \n14  2021-05-26 14:00:00       NaN    NaN          NaN            NaN   \n15  2021-05-26 15:00:00      35.0    3.0         23.0          197.0   \n16  2021-05-26 16:00:00       NaN    NaN          NaN            NaN   \n17  2021-05-26 17:00:00       NaN    NaN          NaN            NaN   \n18  2021-05-26 18:00:00      45.0    4.0         21.0          209.0   \n19  2021-05-26 19:00:00       NaN    NaN          NaN            NaN   \n20  2021-05-26 20:00:00       NaN    NaN          NaN            NaN   \n21  2021-05-26 21:00:00      60.0    3.0         20.0          189.0   \n22  2021-05-26 22:00:00       NaN    NaN          NaN            NaN   \n23  2021-05-26 23:00:00       NaN    NaN          NaN            NaN   \n24  2021-05-26 24:00:00      80.0    4.0         18.0          174.0   \n\n    WindSpeed  \n0         2.3  \n1         NaN  \n2         NaN  \n3         2.5  \n4         NaN  \n5         NaN  \n6         1.7  \n7         NaN  \n8         NaN  \n9         2.2  \n10        NaN  \n11        NaN  \n12        3.9  \n13        NaN  \n14        NaN  \n15        5.3  \n16        NaN  \n17        NaN  \n18        3.1  \n19        NaN  \n20        NaN  \n21        3.7  \n22        NaN  \n23        NaN  \n24        2.9  ",
      "text/html": "<div>\n<style scoped>\n    .dataframe tbody tr th:only-of-type {\n        vertical-align: middle;\n    }\n\n    .dataframe tbody tr th {\n        vertical-align: top;\n    }\n\n    .dataframe thead th {\n        text-align: right;\n    }\n</style>\n<table border=\"1\" class=\"dataframe\">\n  <thead>\n    <tr style=\"text-align: right;\">\n      <th></th>\n      <th>time</th>\n      <th>Humidity</th>\n      <th>Cloud</th>\n      <th>Temperature</th>\n      <th>WindDirection</th>\n      <th>WindSpeed</th>\n    </tr>\n  </thead>\n  <tbody>\n    <tr>\n      <th>0</th>\n      <td>2021-05-26 0:00:00</td>\n      <td>55.0</td>\n      <td>1.0</td>\n      <td>15.0</td>\n      <td>288.0</td>\n      <td>2.3</td>\n    </tr>\n    <tr>\n      <th>1</th>\n      <td>2021-05-26 1:00:00</td>\n      <td>NaN</td>\n      <td>NaN</td>\n      <td>NaN</td>\n      <td>NaN</td>\n      <td>NaN</td>\n    </tr>\n    <tr>\n      <th>2</th>\n      <td>2021-05-26 2:00:00</td>\n      <td>NaN</td>\n      <td>NaN</td>\n      <td>NaN</td>\n      <td>NaN</td>\n      <td>NaN</td>\n    </tr>\n    <tr>\n      <th>3</th>\n      <td>2021-05-26 3:00:00</td>\n      <td>55.0</td>\n      <td>1.0</td>\n      <td>14.0</td>\n      <td>286.0</td>\n      <td>2.5</td>\n    </tr>\n    <tr>\n      <th>4</th>\n      <td>2021-05-26 4:00:00</td>\n      <td>NaN</td>\n      <td>NaN</td>\n      <td>NaN</td>\n      <td>NaN</td>\n      <td>NaN</td>\n    </tr>\n    <tr>\n      <th>5</th>\n      <td>2021-05-26 5:00:00</td>\n      <td>NaN</td>\n      <td>NaN</td>\n      <td>NaN</td>\n      <td>NaN</td>\n      <td>NaN</td>\n    </tr>\n    <tr>\n      <th>6</th>\n      <td>2021-05-26 6:00:00</td>\n      <td>55.0</td>\n      <td>1.0</td>\n      <td>14.0</td>\n      <td>280.0</td>\n      <td>1.7</td>\n    </tr>\n    <tr>\n      <th>7</th>\n      <td>2021-05-26 7:00:00</td>\n      <td>NaN</td>\n      <td>NaN</td>\n      <td>NaN</td>\n      <td>NaN</td>\n      <td>NaN</td>\n    </tr>\n    <tr>\n      <th>8</th>\n      <td>2021-05-26 8:00:00</td>\n      <td>NaN</td>\n      <td>NaN</td>\n      <td>NaN</td>\n      <td>NaN</td>\n      <td>NaN</td>\n    </tr>\n    <tr>\n      <th>9</th>\n      <td>2021-05-26 9:00:00</td>\n      <td>45.0</td>\n      <td>3.0</td>\n      <td>19.0</td>\n      <td>216.0</td>\n      <td>2.2</td>\n    </tr>\n    <tr>\n      <th>10</th>\n      <td>2021-05-26 10:00:00</td>\n      <td>NaN</td>\n      <td>NaN</td>\n      <td>NaN</td>\n      <td>NaN</td>\n      <td>NaN</td>\n    </tr>\n    <tr>\n      <th>11</th>\n      <td>2021-05-26 11:00:00</td>\n      <td>NaN</td>\n      <td>NaN</td>\n      <td>NaN</td>\n      <td>NaN</td>\n      <td>NaN</td>\n    </tr>\n    <tr>\n      <th>12</th>\n      <td>2021-05-26 12:00:00</td>\n      <td>35.0</td>\n      <td>3.0</td>\n      <td>23.0</td>\n      <td>183.0</td>\n      <td>3.9</td>\n    </tr>\n    <tr>\n      <th>13</th>\n      <td>2021-05-26 13:00:00</td>\n      <td>NaN</td>\n      <td>NaN</td>\n      <td>NaN</td>\n      <td>NaN</td>\n      <td>NaN</td>\n    </tr>\n    <tr>\n      <th>14</th>\n      <td>2021-05-26 14:00:00</td>\n      <td>NaN</td>\n      <td>NaN</td>\n      <td>NaN</td>\n      <td>NaN</td>\n      <td>NaN</td>\n    </tr>\n    <tr>\n      <th>15</th>\n      <td>2021-05-26 15:00:00</td>\n      <td>35.0</td>\n      <td>3.0</td>\n      <td>23.0</td>\n      <td>197.0</td>\n      <td>5.3</td>\n    </tr>\n    <tr>\n      <th>16</th>\n      <td>2021-05-26 16:00:00</td>\n      <td>NaN</td>\n      <td>NaN</td>\n      <td>NaN</td>\n      <td>NaN</td>\n      <td>NaN</td>\n    </tr>\n    <tr>\n      <th>17</th>\n      <td>2021-05-26 17:00:00</td>\n      <td>NaN</td>\n      <td>NaN</td>\n      <td>NaN</td>\n      <td>NaN</td>\n      <td>NaN</td>\n    </tr>\n    <tr>\n      <th>18</th>\n      <td>2021-05-26 18:00:00</td>\n      <td>45.0</td>\n      <td>4.0</td>\n      <td>21.0</td>\n      <td>209.0</td>\n      <td>3.1</td>\n    </tr>\n    <tr>\n      <th>19</th>\n      <td>2021-05-26 19:00:00</td>\n      <td>NaN</td>\n      <td>NaN</td>\n      <td>NaN</td>\n      <td>NaN</td>\n      <td>NaN</td>\n    </tr>\n    <tr>\n      <th>20</th>\n      <td>2021-05-26 20:00:00</td>\n      <td>NaN</td>\n      <td>NaN</td>\n      <td>NaN</td>\n      <td>NaN</td>\n      <td>NaN</td>\n    </tr>\n    <tr>\n      <th>21</th>\n      <td>2021-05-26 21:00:00</td>\n      <td>60.0</td>\n      <td>3.0</td>\n      <td>20.0</td>\n      <td>189.0</td>\n      <td>3.7</td>\n    </tr>\n    <tr>\n      <th>22</th>\n      <td>2021-05-26 22:00:00</td>\n      <td>NaN</td>\n      <td>NaN</td>\n      <td>NaN</td>\n      <td>NaN</td>\n      <td>NaN</td>\n    </tr>\n    <tr>\n      <th>23</th>\n      <td>2021-05-26 23:00:00</td>\n      <td>NaN</td>\n      <td>NaN</td>\n      <td>NaN</td>\n      <td>NaN</td>\n      <td>NaN</td>\n    </tr>\n    <tr>\n      <th>24</th>\n      <td>2021-05-26 24:00:00</td>\n      <td>80.0</td>\n      <td>4.0</td>\n      <td>18.0</td>\n      <td>174.0</td>\n      <td>2.9</td>\n    </tr>\n  </tbody>\n</table>\n</div>"
     },
     "metadata": {}
    }
   ],
   "source": [
    "display(dj)\n",
    "display(uls)"
   ]
  }
 ]
}