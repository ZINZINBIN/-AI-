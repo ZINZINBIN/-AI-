{
 "metadata": {
  "language_info": {
   "codemirror_mode": {
    "name": "ipython",
    "version": 3
   },
   "file_extension": ".py",
   "mimetype": "text/x-python",
   "name": "python",
   "nbconvert_exporter": "python",
   "pygments_lexer": "ipython3",
   "version": "3.8.5"
  },
  "orig_nbformat": 2,
  "kernelspec": {
   "name": "python385jvsc74a57bd00a11f21c0450bb1ec4a8d90e5cdddc03f9c3302b58333d2d566c7a90a775328a",
   "display_name": "Python 3.8.5 64-bit ('base': conda)"
  }
 },
 "nbformat": 4,
 "nbformat_minor": 2,
 "cells": [
  {
   "cell_type": "code",
   "execution_count": 14,
   "metadata": {},
   "outputs": [],
   "source": [
    "import pickle\n",
    "import pandas as pd\n",
    "import numpy as np"
   ]
  },
  {
   "cell_type": "code",
   "execution_count": 15,
   "metadata": {},
   "outputs": [],
   "source": [
    "with open('dangjin_raw.pkl', 'rb') as f:\n",
    "    dangjin = pickle.load(f)\n",
    "with open('ulsan_raw.pkl', 'rb') as f:\n",
    "    ulsan = pickle.load(f)"
   ]
  },
  {
   "cell_type": "code",
   "execution_count": 16,
   "metadata": {},
   "outputs": [],
   "source": [
    "# cloud\n",
    "dangjin_convert_cloud, ulsan_convert_cloud = ({1.0: 2.7635372029606544,\n",
    "  2.0: 3.8820678513731823,\n",
    "  3.0: 6.18494516450648,\n",
    "  4.0: 7.961345381526105},\n",
    " {2.0: 3.5910064239828694,\n",
    "  1.0: 1.721059516023545,\n",
    "  3.0: 6.145117540687161,\n",
    "  4.0: 8.638197424892704}) # from advanced_preprocessing.ipynb\n",
    "\n",
    "dangjin['Cloud'].replace(dangjin_convert_cloud, inplace=True)\n",
    "ulsan['Cloud'].replace(ulsan_convert_cloud, inplace=True)"
   ]
  },
  {
   "cell_type": "code",
   "execution_count": 17,
   "metadata": {},
   "outputs": [],
   "source": [
    "# wind\n",
    "def preprocess_wind(data):\n",
    "    '''\n",
    "    data: pd.DataFrmae which contains the columns 'WindSpeed' and 'WindDirection'\n",
    "    '''\n",
    "\n",
    "    # degree to radian\n",
    "    wind_direction_radian = data['WindDirection'] * np.pi / 180\n",
    "\n",
    "    # polar coordinate to cartesian coordinate\n",
    "    wind_x = data['WindSpeed'] * np.cos(wind_direction_radian)\n",
    "    wind_y = data['WindDirection'] * np.sin(wind_direction_radian)\n",
    "\n",
    "    # name pd.series\n",
    "    wind_x.name = 'Wind_X'\n",
    "    wind_y.name = 'Wind_Y'\n",
    "\n",
    "    return wind_x, wind_y\n",
    "\n",
    "dangjin = dangjin.join(preprocess_wind(dangjin))\n",
    "dangjin.drop(columns=['WindDirection','WindSpeed'], inplace=True)\n",
    "\n",
    "ulsan = ulsan.join(preprocess_wind(ulsan))\n",
    "ulsan.drop(columns=['WindDirection','WindSpeed'], inplace=True)"
   ]
  },
  {
   "cell_type": "code",
   "execution_count": 18,
   "metadata": {},
   "outputs": [],
   "source": [
    "# interpolate\n",
    "dangjin.interpolate(method='quadratic', inplace=True)\n",
    "ulsan.interpolate(method='quadratic', inplace=True)"
   ]
  },
  {
   "cell_type": "code",
   "execution_count": 19,
   "metadata": {},
   "outputs": [],
   "source": [
    "# save\n",
    "with open('dangjin_final.pkl', 'wb') as f:\n",
    "    pickle.dump(dangjin.iloc[1:], f)\n",
    "with open('ulsan_final.pkl', 'wb') as f:\n",
    "    pickle.dump(ulsan.iloc[1:],f)"
   ]
  }
 ]
}