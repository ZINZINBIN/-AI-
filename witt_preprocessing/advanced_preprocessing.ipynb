{
 "metadata": {
  "language_info": {
   "codemirror_mode": {
    "name": "ipython",
    "version": 3
   },
   "file_extension": ".py",
   "mimetype": "text/x-python",
   "name": "python",
   "nbconvert_exporter": "python",
   "pygments_lexer": "ipython3",
   "version": "3.8.5"
  },
  "orig_nbformat": 2,
  "kernelspec": {
   "name": "python385jvsc74a57bd00a11f21c0450bb1ec4a8d90e5cdddc03f9c3302b58333d2d566c7a90a775328a",
   "display_name": "Python 3.8.5 64-bit ('base': conda)"
  }
 },
 "nbformat": 4,
 "nbformat_minor": 2,
 "cells": [
  {
   "source": [
    "# Advanced preprocessing"
   ],
   "cell_type": "markdown",
   "metadata": {}
  },
  {
   "source": [
    "# Table of Contents\n",
    "- Load data\n",
    "- Merge duplicated rows in `fcst` using mean / most recent fcst\n",
    "- Convert the measure of `Cloud` in `fcst` to `obs`\n",
    "- Interpolate fcst\n",
    "- Convert dtype of 'time' in `energy`\n",
    "- Merge fcst, obs, and energy\n",
    "- Fill missing values in using ffill\n",
    "- Add seasonality (day and year)"
   ],
   "cell_type": "markdown",
   "metadata": {}
  },
  {
   "source": [
    "## Load data\n",
    "- from basic_processing.ipynb"
   ],
   "cell_type": "markdown",
   "metadata": {}
  },
  {
   "cell_type": "code",
   "execution_count": 193,
   "metadata": {},
   "outputs": [],
   "source": [
    "import pickle\n",
    "from glob import glob\n",
    "import pandas as pd\n",
    "import matplotlib.pyplot as plt\n",
    "import numpy as np\n",
    "\n",
    "import warnings\n",
    "warnings.filterwarnings('ignore')"
   ]
  },
  {
   "cell_type": "code",
   "execution_count": 194,
   "metadata": {},
   "outputs": [],
   "source": [
    "with open('pickles/basic/dangjin_fcst_data.pkl','rb') as f:\n",
    "    dangjin_fcst = pickle.load(f)\n",
    "with open('pickles/basic/dangjin_obs_data.pkl','rb') as f:\n",
    "    dangjin_obs = pickle.load(f)\n",
    "with open('pickles/basic/ulsan_fcst_data.pkl','rb') as f:\n",
    "    ulsan_fcst = pickle.load(f)\n",
    "with open('pickles/basic/ulsan_obs_data.pkl', 'rb') as f:\n",
    "    ulsan_obs = pickle.load(f)\n",
    "\n",
    "energy = pd.read_csv(glob('../original_dataset/energy.csv')[0])"
   ]
  },
  {
   "source": [
    "## Merge duplicated rows in `fcst`\n",
    "## Option 1(current Plan B): Merge duplicated rows in `fcst` using mean"
   ],
   "cell_type": "markdown",
   "metadata": {}
  },
  {
   "cell_type": "code",
   "execution_count": 195,
   "metadata": {},
   "outputs": [
    {
     "output_type": "stream",
     "name": "stdout",
     "text": [
      "total rows: 162208\nunique rows: 8788\ntotal rows: 162208\nunique rows: 8788\n"
     ]
    }
   ],
   "source": [
    "print('total rows:',dangjin_fcst['time'].shape[0])\n",
    "print('unique rows:', dangjin_fcst['time'].unique().shape[0])\n",
    "print('total rows:',ulsan_fcst['time'].shape[0])\n",
    "print('unique rows:',ulsan_fcst['time'].unique().shape[0])"
   ]
  },
  {
   "cell_type": "code",
   "execution_count": 196,
   "metadata": {},
   "outputs": [],
   "source": [
    "dangjin_fcst_unique_mean = dangjin_fcst.groupby('time').mean()\n",
    "ulsan_fcst_unique_mean = ulsan_fcst.groupby('time').mean()\n",
    "\n",
    "dangjin_fcst_unique_mean = dangjin_fcst_unique_mean.reset_index() # because time was set to index\n",
    "ulsan_fcst_unique_mean = ulsan_fcst_unique_mean.reset_index()"
   ]
  },
  {
   "cell_type": "code",
   "execution_count": 197,
   "metadata": {},
   "outputs": [
    {
     "output_type": "execute_result",
     "data": {
      "text/plain": [
       "                    time  Temperature  Humidity  Cloud    Wind_X      Wind_Y\n",
       "0    2018-03-01 15:00:00          0.0      60.0    2.0  4.594039 -240.138102\n",
       "1    2018-03-01 18:00:00         -2.0      60.0    1.0  4.932074 -225.872697\n",
       "2    2018-03-01 21:00:00         -2.0      60.0    1.0  5.639833 -190.356464\n",
       "3    2018-03-02 00:00:00         -2.0      52.5    1.0  5.709659 -136.663512\n",
       "4    2018-03-02 03:00:00         -3.4      55.0    1.0  4.854618 -121.486735\n",
       "...                  ...          ...       ...    ...       ...         ...\n",
       "8783 2021-03-03 12:00:00          7.0      40.0    1.0 -3.176148  -22.789567\n",
       "8784 2021-03-03 15:00:00          8.0      40.0    1.0 -3.593860 -130.593860\n",
       "8785 2021-03-03 18:00:00          5.0      55.0    1.0 -1.905256 -105.000000\n",
       "8786 2021-03-03 21:00:00          1.0      80.0    1.0 -1.826397   45.204526\n",
       "8787 2021-03-04 00:00:00          1.0      80.0    1.0 -1.854190   71.359678\n",
       "\n",
       "[8788 rows x 6 columns]"
      ],
      "text/html": "<div>\n<style scoped>\n    .dataframe tbody tr th:only-of-type {\n        vertical-align: middle;\n    }\n\n    .dataframe tbody tr th {\n        vertical-align: top;\n    }\n\n    .dataframe thead th {\n        text-align: right;\n    }\n</style>\n<table border=\"1\" class=\"dataframe\">\n  <thead>\n    <tr style=\"text-align: right;\">\n      <th></th>\n      <th>time</th>\n      <th>Temperature</th>\n      <th>Humidity</th>\n      <th>Cloud</th>\n      <th>Wind_X</th>\n      <th>Wind_Y</th>\n    </tr>\n  </thead>\n  <tbody>\n    <tr>\n      <th>0</th>\n      <td>2018-03-01 15:00:00</td>\n      <td>0.0</td>\n      <td>60.0</td>\n      <td>2.0</td>\n      <td>4.594039</td>\n      <td>-240.138102</td>\n    </tr>\n    <tr>\n      <th>1</th>\n      <td>2018-03-01 18:00:00</td>\n      <td>-2.0</td>\n      <td>60.0</td>\n      <td>1.0</td>\n      <td>4.932074</td>\n      <td>-225.872697</td>\n    </tr>\n    <tr>\n      <th>2</th>\n      <td>2018-03-01 21:00:00</td>\n      <td>-2.0</td>\n      <td>60.0</td>\n      <td>1.0</td>\n      <td>5.639833</td>\n      <td>-190.356464</td>\n    </tr>\n    <tr>\n      <th>3</th>\n      <td>2018-03-02 00:00:00</td>\n      <td>-2.0</td>\n      <td>52.5</td>\n      <td>1.0</td>\n      <td>5.709659</td>\n      <td>-136.663512</td>\n    </tr>\n    <tr>\n      <th>4</th>\n      <td>2018-03-02 03:00:00</td>\n      <td>-3.4</td>\n      <td>55.0</td>\n      <td>1.0</td>\n      <td>4.854618</td>\n      <td>-121.486735</td>\n    </tr>\n    <tr>\n      <th>...</th>\n      <td>...</td>\n      <td>...</td>\n      <td>...</td>\n      <td>...</td>\n      <td>...</td>\n      <td>...</td>\n    </tr>\n    <tr>\n      <th>8783</th>\n      <td>2021-03-03 12:00:00</td>\n      <td>7.0</td>\n      <td>40.0</td>\n      <td>1.0</td>\n      <td>-3.176148</td>\n      <td>-22.789567</td>\n    </tr>\n    <tr>\n      <th>8784</th>\n      <td>2021-03-03 15:00:00</td>\n      <td>8.0</td>\n      <td>40.0</td>\n      <td>1.0</td>\n      <td>-3.593860</td>\n      <td>-130.593860</td>\n    </tr>\n    <tr>\n      <th>8785</th>\n      <td>2021-03-03 18:00:00</td>\n      <td>5.0</td>\n      <td>55.0</td>\n      <td>1.0</td>\n      <td>-1.905256</td>\n      <td>-105.000000</td>\n    </tr>\n    <tr>\n      <th>8786</th>\n      <td>2021-03-03 21:00:00</td>\n      <td>1.0</td>\n      <td>80.0</td>\n      <td>1.0</td>\n      <td>-1.826397</td>\n      <td>45.204526</td>\n    </tr>\n    <tr>\n      <th>8787</th>\n      <td>2021-03-04 00:00:00</td>\n      <td>1.0</td>\n      <td>80.0</td>\n      <td>1.0</td>\n      <td>-1.854190</td>\n      <td>71.359678</td>\n    </tr>\n  </tbody>\n</table>\n<p>8788 rows × 6 columns</p>\n</div>"
     },
     "metadata": {},
     "execution_count": 197
    }
   ],
   "source": [
    "dangjin_fcst_unique_mean"
   ]
  },
  {
   "source": [
    "## Option 2(current Plan A): Merge duplicated rows in `fcst` using the most recent forecast"
   ],
   "cell_type": "markdown",
   "metadata": {}
  },
  {
   "cell_type": "code",
   "execution_count": 198,
   "metadata": {},
   "outputs": [
    {
     "output_type": "execute_result",
     "data": {
      "text/plain": [
       "                   time       Forecast time  Temperature  Humidity  Cloud  \\\n",
       "209 2018-03-03 12:00:00 2018-03-02 20:00:00          9.0      55.0    2.0   \n",
       "\n",
       "       Wind_X      Wind_Y  \n",
       "209 -0.412067  103.844592  "
      ],
      "text/html": "<div>\n<style scoped>\n    .dataframe tbody tr th:only-of-type {\n        vertical-align: middle;\n    }\n\n    .dataframe tbody tr th {\n        vertical-align: top;\n    }\n\n    .dataframe thead th {\n        text-align: right;\n    }\n</style>\n<table border=\"1\" class=\"dataframe\">\n  <thead>\n    <tr style=\"text-align: right;\">\n      <th></th>\n      <th>time</th>\n      <th>Forecast time</th>\n      <th>Temperature</th>\n      <th>Humidity</th>\n      <th>Cloud</th>\n      <th>Wind_X</th>\n      <th>Wind_Y</th>\n    </tr>\n  </thead>\n  <tbody>\n    <tr>\n      <th>209</th>\n      <td>2018-03-03 12:00:00</td>\n      <td>2018-03-02 20:00:00</td>\n      <td>9.0</td>\n      <td>55.0</td>\n      <td>2.0</td>\n      <td>-0.412067</td>\n      <td>103.844592</td>\n    </tr>\n  </tbody>\n</table>\n</div>"
     },
     "metadata": {},
     "execution_count": 198
    }
   ],
   "source": [
    "def merge_to_recent(data, time, due_hour = 21):\n",
    "    '''\n",
    "    @warning\n",
    "    data에 'Forecast time'(기상 예측이 이루어진 시점) column이 존재해야 함.\n",
    "\n",
    "    @description\n",
    "    fcst에서 'time'이 중복되는 row들을 하나로 통합한다.\n",
    "    이때, 가장 최근의 fcst data로 통합한다. (즉, 가장 최근의 fcst data 이외의 row는 모두 삭제한다.)\n",
    "    '가장 최근'이라는 것은, 해당 'time'의 전날의 due_hour까지다. \n",
    "    예를 들어 2021-05-02 14:00:00(=time)를 예측하고, due_hour = 21이라면,\n",
    "    2021-05-01 21:00:00 전까지의 row 중 가장 최근의 fcst로 통합한다.\n",
    "\n",
    "    @parameters\n",
    "    data: pd.DataFrame ; 통합이 이루어질 dataframe\n",
    "    time: pd.Timestamp ; 통합하려는 time\n",
    "    due_hour: int ; description 참고\n",
    "\n",
    "    @return\n",
    "    pd.Series ; 통합된 하나의 row\n",
    "\n",
    "    '''\n",
    "    # data only with the given time\n",
    "    data_only_with_time = data.loc[data['time'] == time]\n",
    "    \n",
    "    # shift time\n",
    "    time = time - pd.Timedelta(1, unit='days') # shifting 1 day to the past (yesterday)\n",
    "    time = time.replace(hour=due_hour) # change 'hour' to DUE_HOUR\n",
    "\n",
    "    # most recent forecast\n",
    "    return data_only_with_time[data_only_with_time['Forecast time'] <= time].iloc[-1:,]\n",
    "\n",
    "\n",
    "# example\n",
    "TIME = pd.Timestamp('2018-03-03-12:00:00')\n",
    "merge_to_recent(dangjin_fcst, TIME, due_hour=21)"
   ]
  },
  {
   "cell_type": "code",
   "execution_count": 199,
   "metadata": {},
   "outputs": [
    {
     "output_type": "execute_result",
     "data": {
      "text/plain": [
       "                    time  Temperature  Humidity  Cloud    Wind_X        Wind_Y\n",
       "0    2018-03-02 00:00:00         -2.0      50.0    1.0  5.298564 -1.366635e+02\n",
       "1    2018-03-02 03:00:00         -3.0      55.0    1.0  4.667902 -1.214867e+02\n",
       "2    2018-03-02 06:00:00         -4.0      60.0    1.0  4.069439 -4.301988e+01\n",
       "3    2018-03-02 09:00:00         -2.0      55.0    1.0  1.100000 -8.817457e-14\n",
       "4    2018-03-02 12:00:00          2.0      45.0    1.0 -0.190809 -2.542414e+02\n",
       "...                  ...          ...       ...    ...       ...           ...\n",
       "8780 2021-03-03 12:00:00          7.0      40.0    1.0 -3.176148 -2.278957e+01\n",
       "8781 2021-03-03 15:00:00          8.0      40.0    1.0 -3.593860 -1.305939e+02\n",
       "8782 2021-03-03 18:00:00          5.0      55.0    1.0 -1.905256 -1.050000e+02\n",
       "8783 2021-03-03 21:00:00          1.0      80.0    1.0 -1.826397  4.520453e+01\n",
       "8784 2021-03-04 00:00:00          1.0      80.0    1.0 -1.854190  7.135968e+01\n",
       "\n",
       "[8785 rows x 6 columns]"
      ],
      "text/html": "<div>\n<style scoped>\n    .dataframe tbody tr th:only-of-type {\n        vertical-align: middle;\n    }\n\n    .dataframe tbody tr th {\n        vertical-align: top;\n    }\n\n    .dataframe thead th {\n        text-align: right;\n    }\n</style>\n<table border=\"1\" class=\"dataframe\">\n  <thead>\n    <tr style=\"text-align: right;\">\n      <th></th>\n      <th>time</th>\n      <th>Temperature</th>\n      <th>Humidity</th>\n      <th>Cloud</th>\n      <th>Wind_X</th>\n      <th>Wind_Y</th>\n    </tr>\n  </thead>\n  <tbody>\n    <tr>\n      <th>0</th>\n      <td>2018-03-02 00:00:00</td>\n      <td>-2.0</td>\n      <td>50.0</td>\n      <td>1.0</td>\n      <td>5.298564</td>\n      <td>-1.366635e+02</td>\n    </tr>\n    <tr>\n      <th>1</th>\n      <td>2018-03-02 03:00:00</td>\n      <td>-3.0</td>\n      <td>55.0</td>\n      <td>1.0</td>\n      <td>4.667902</td>\n      <td>-1.214867e+02</td>\n    </tr>\n    <tr>\n      <th>2</th>\n      <td>2018-03-02 06:00:00</td>\n      <td>-4.0</td>\n      <td>60.0</td>\n      <td>1.0</td>\n      <td>4.069439</td>\n      <td>-4.301988e+01</td>\n    </tr>\n    <tr>\n      <th>3</th>\n      <td>2018-03-02 09:00:00</td>\n      <td>-2.0</td>\n      <td>55.0</td>\n      <td>1.0</td>\n      <td>1.100000</td>\n      <td>-8.817457e-14</td>\n    </tr>\n    <tr>\n      <th>4</th>\n      <td>2018-03-02 12:00:00</td>\n      <td>2.0</td>\n      <td>45.0</td>\n      <td>1.0</td>\n      <td>-0.190809</td>\n      <td>-2.542414e+02</td>\n    </tr>\n    <tr>\n      <th>...</th>\n      <td>...</td>\n      <td>...</td>\n      <td>...</td>\n      <td>...</td>\n      <td>...</td>\n      <td>...</td>\n    </tr>\n    <tr>\n      <th>8780</th>\n      <td>2021-03-03 12:00:00</td>\n      <td>7.0</td>\n      <td>40.0</td>\n      <td>1.0</td>\n      <td>-3.176148</td>\n      <td>-2.278957e+01</td>\n    </tr>\n    <tr>\n      <th>8781</th>\n      <td>2021-03-03 15:00:00</td>\n      <td>8.0</td>\n      <td>40.0</td>\n      <td>1.0</td>\n      <td>-3.593860</td>\n      <td>-1.305939e+02</td>\n    </tr>\n    <tr>\n      <th>8782</th>\n      <td>2021-03-03 18:00:00</td>\n      <td>5.0</td>\n      <td>55.0</td>\n      <td>1.0</td>\n      <td>-1.905256</td>\n      <td>-1.050000e+02</td>\n    </tr>\n    <tr>\n      <th>8783</th>\n      <td>2021-03-03 21:00:00</td>\n      <td>1.0</td>\n      <td>80.0</td>\n      <td>1.0</td>\n      <td>-1.826397</td>\n      <td>4.520453e+01</td>\n    </tr>\n    <tr>\n      <th>8784</th>\n      <td>2021-03-04 00:00:00</td>\n      <td>1.0</td>\n      <td>80.0</td>\n      <td>1.0</td>\n      <td>-1.854190</td>\n      <td>7.135968e+01</td>\n    </tr>\n  </tbody>\n</table>\n<p>8785 rows × 6 columns</p>\n</div>"
     },
     "metadata": {},
     "execution_count": 199
    }
   ],
   "source": [
    "# apply merge_to_recent (dangjin_fcst)\n",
    "\n",
    "# create a new merged df\n",
    "dangjin_fcst_unique_recent = pd.DataFrame()\n",
    "\n",
    "for time in dangjin_fcst['time'].unique():\n",
    "    to_append = merge_to_recent(dangjin_fcst, time)\n",
    "    dangjin_fcst_unique_recent = dangjin_fcst_unique_recent.append(to_append)\n",
    "\n",
    "# reset index and drop 'Forecast time'\n",
    "dangjin_fcst_unique_recent =  dangjin_fcst_unique_recent.reset_index(drop=True)\n",
    "dangjin_fcst_unique_recent =  dangjin_fcst_unique_recent.drop('Forecast time', axis=1)\n",
    "dangjin_fcst_unique_recent"
   ]
  },
  {
   "cell_type": "code",
   "execution_count": 200,
   "metadata": {},
   "outputs": [
    {
     "output_type": "execute_result",
     "data": {
      "text/plain": [
       "                    time  Temperature  Humidity  Cloud    Wind_X      Wind_Y\n",
       "0    2018-03-02 00:00:00          0.0      40.0    2.0  1.010290 -202.011846\n",
       "1    2018-03-02 03:00:00         -1.0      45.0    2.0  0.872657 -261.511292\n",
       "2    2018-03-02 06:00:00         -1.0      45.0    1.0  1.006547 -252.027422\n",
       "3    2018-03-02 09:00:00          0.0      35.0    1.0  1.225671 -205.692035\n",
       "4    2018-03-02 12:00:00          6.0      25.0    1.0  1.160653 -182.296887\n",
       "...                  ...          ...       ...    ...       ...         ...\n",
       "8780 2021-03-03 12:00:00          9.0      45.0    3.0  0.377795   82.381331\n",
       "8781 2021-03-03 15:00:00          9.0      45.0    3.0 -1.075104  103.627427\n",
       "8782 2021-03-03 18:00:00          8.0      55.0    3.0 -1.165822  103.461868\n",
       "8783 2021-03-03 21:00:00          6.0      65.0    3.0 -0.590453   98.866955\n",
       "8784 2021-03-04 00:00:00          4.0      80.0    3.0 -0.693188  -26.164543\n",
       "\n",
       "[8785 rows x 6 columns]"
      ],
      "text/html": "<div>\n<style scoped>\n    .dataframe tbody tr th:only-of-type {\n        vertical-align: middle;\n    }\n\n    .dataframe tbody tr th {\n        vertical-align: top;\n    }\n\n    .dataframe thead th {\n        text-align: right;\n    }\n</style>\n<table border=\"1\" class=\"dataframe\">\n  <thead>\n    <tr style=\"text-align: right;\">\n      <th></th>\n      <th>time</th>\n      <th>Temperature</th>\n      <th>Humidity</th>\n      <th>Cloud</th>\n      <th>Wind_X</th>\n      <th>Wind_Y</th>\n    </tr>\n  </thead>\n  <tbody>\n    <tr>\n      <th>0</th>\n      <td>2018-03-02 00:00:00</td>\n      <td>0.0</td>\n      <td>40.0</td>\n      <td>2.0</td>\n      <td>1.010290</td>\n      <td>-202.011846</td>\n    </tr>\n    <tr>\n      <th>1</th>\n      <td>2018-03-02 03:00:00</td>\n      <td>-1.0</td>\n      <td>45.0</td>\n      <td>2.0</td>\n      <td>0.872657</td>\n      <td>-261.511292</td>\n    </tr>\n    <tr>\n      <th>2</th>\n      <td>2018-03-02 06:00:00</td>\n      <td>-1.0</td>\n      <td>45.0</td>\n      <td>1.0</td>\n      <td>1.006547</td>\n      <td>-252.027422</td>\n    </tr>\n    <tr>\n      <th>3</th>\n      <td>2018-03-02 09:00:00</td>\n      <td>0.0</td>\n      <td>35.0</td>\n      <td>1.0</td>\n      <td>1.225671</td>\n      <td>-205.692035</td>\n    </tr>\n    <tr>\n      <th>4</th>\n      <td>2018-03-02 12:00:00</td>\n      <td>6.0</td>\n      <td>25.0</td>\n      <td>1.0</td>\n      <td>1.160653</td>\n      <td>-182.296887</td>\n    </tr>\n    <tr>\n      <th>...</th>\n      <td>...</td>\n      <td>...</td>\n      <td>...</td>\n      <td>...</td>\n      <td>...</td>\n      <td>...</td>\n    </tr>\n    <tr>\n      <th>8780</th>\n      <td>2021-03-03 12:00:00</td>\n      <td>9.0</td>\n      <td>45.0</td>\n      <td>3.0</td>\n      <td>0.377795</td>\n      <td>82.381331</td>\n    </tr>\n    <tr>\n      <th>8781</th>\n      <td>2021-03-03 15:00:00</td>\n      <td>9.0</td>\n      <td>45.0</td>\n      <td>3.0</td>\n      <td>-1.075104</td>\n      <td>103.627427</td>\n    </tr>\n    <tr>\n      <th>8782</th>\n      <td>2021-03-03 18:00:00</td>\n      <td>8.0</td>\n      <td>55.0</td>\n      <td>3.0</td>\n      <td>-1.165822</td>\n      <td>103.461868</td>\n    </tr>\n    <tr>\n      <th>8783</th>\n      <td>2021-03-03 21:00:00</td>\n      <td>6.0</td>\n      <td>65.0</td>\n      <td>3.0</td>\n      <td>-0.590453</td>\n      <td>98.866955</td>\n    </tr>\n    <tr>\n      <th>8784</th>\n      <td>2021-03-04 00:00:00</td>\n      <td>4.0</td>\n      <td>80.0</td>\n      <td>3.0</td>\n      <td>-0.693188</td>\n      <td>-26.164543</td>\n    </tr>\n  </tbody>\n</table>\n<p>8785 rows × 6 columns</p>\n</div>"
     },
     "metadata": {},
     "execution_count": 200
    }
   ],
   "source": [
    "# apply merge_to_recent (ulsan_fcst)\n",
    "\n",
    "# create a new merged df\n",
    "ulsan_fcst_unique_recent = pd.DataFrame()\n",
    "\n",
    "for time in dangjin_fcst['time'].unique():\n",
    "    to_append = merge_to_recent(ulsan_fcst, time)\n",
    "    ulsan_fcst_unique_recent = ulsan_fcst_unique_recent.append(to_append)\n",
    "\n",
    "# reset index and drop 'Forecast time'\n",
    "ulsan_fcst_unique_recent =  ulsan_fcst_unique_recent.reset_index(drop=True)\n",
    "ulsan_fcst_unique_recent =  ulsan_fcst_unique_recent.drop('Forecast time', axis=1)\n",
    "ulsan_fcst_unique_recent"
   ]
  },
  {
   "source": [
    "## Convert the measure of `Cloud` in `fcst` to `obs`\n",
    "- `fcst`와 `obs`에서 `Cloud`의 단위는 다르다.\n",
    "- `fcst`와 `obs`를 따로 input으로 넣는 경우 크게 상관 없으나, 이 둘을 합쳐서 쓰는 경우에는 단위가 통일되는 것이 좋아 보인다.  \n",
    "- fcst: 1-맑음, 2-구름보통, 3-구름많음, 4-흐림  \n",
    "- obs: 10분위(0~10); 낮을 수록 구름 적음\n",
    "\n",
    "### method\n",
    "- Cloud_fcst -> Cloud_obs\n",
    "- Cloud_fcst = x (x=1,2,3,4)일 때 Cloud_obs의 mean으로 변환"
   ],
   "cell_type": "markdown",
   "metadata": {}
  },
  {
   "cell_type": "code",
   "execution_count": 201,
   "metadata": {},
   "outputs": [
    {
     "output_type": "execute_result",
     "data": {
      "text/plain": [
       "({1.0: 2.7635372029606544,\n",
       "  2.0: 3.8820678513731823,\n",
       "  3.0: 6.18494516450648,\n",
       "  4.0: 7.961345381526105},\n",
       " {2.0: 3.5910064239828694,\n",
       "  1.0: 1.721059516023545,\n",
       "  3.0: 6.145117540687161,\n",
       "  4.0: 8.638197424892704})"
      ]
     },
     "metadata": {},
     "execution_count": 201
    }
   ],
   "source": [
    "# get dictionary to convert from cloud_fcst to cloud_obs\n",
    "\n",
    "# merge (note that this is not the 'real' merged data)\n",
    "dangjin_merged_for_cloud = pd.merge(dangjin_fcst_unique_recent, dangjin_obs, on='time', suffixes=('_fcst','_obs'))\n",
    "ulsan_merged_for_cloud = pd.merge(ulsan_fcst_unique_recent, ulsan_obs, on='time', suffixes=('_fcst','_obs'))\n",
    "\n",
    "# mean\n",
    "def cloud_from_fcst_to_obs(data):\n",
    "    '''\n",
    "    @parameter\n",
    "    data: pd.DataFrame; data should contain both 'Cloud_fcst' and 'Cloud_obs'\n",
    "\n",
    "    @return\n",
    "    dictionary ; its key is the value of 'Cloud_fcst', its value is the value of 'Cloud_obs'\n",
    "    '''\n",
    "\n",
    "    # dropna\n",
    "    data.dropna(inplace=True)\n",
    "    # unique cloud_fcsts\n",
    "    cloud_fcsts = data['Cloud_fcst'].unique()\n",
    "    # dict to convert from fcst to obs\n",
    "    convert = {cloud_fcst:0 for cloud_fcst in cloud_fcsts}\n",
    "\n",
    "    # mean\n",
    "    for cloud_fcst in cloud_fcsts:\n",
    "        sliced_df = data[data['Cloud_fcst'] == cloud_fcst]\n",
    "        convert[cloud_fcst] = sliced_df['Cloud_obs'].mean()\n",
    "\n",
    "    return convert\n",
    "\n",
    "dangjin_convert_cloud = cloud_from_fcst_to_obs(dangjin_merged_for_cloud)\n",
    "ulsan_convert_cloud = cloud_from_fcst_to_obs(ulsan_merged_for_cloud)\n",
    "dangjin_convert_cloud, ulsan_convert_cloud"
   ]
  },
  {
   "cell_type": "code",
   "execution_count": 202,
   "metadata": {},
   "outputs": [
    {
     "output_type": "display_data",
     "data": {
      "text/plain": "0       2.763537\n1       2.763537\n2       2.763537\n3       2.763537\n4       2.763537\n          ...   \n8780    2.763537\n8781    2.763537\n8782    2.763537\n8783    2.763537\n8784    2.763537\nName: Cloud, Length: 8785, dtype: float64"
     },
     "metadata": {}
    },
    {
     "output_type": "display_data",
     "data": {
      "text/plain": "0       3.591006\n1       3.591006\n2       1.721060\n3       1.721060\n4       1.721060\n          ...   \n8780    6.145118\n8781    6.145118\n8782    6.145118\n8783    6.145118\n8784    6.145118\nName: Cloud, Length: 8785, dtype: float64"
     },
     "metadata": {}
    }
   ],
   "source": [
    "# apply the convert-dictionary\n",
    "dangjin_fcst_unique_recent['Cloud'].replace(dangjin_convert_cloud, inplace=True)\n",
    "ulsan_fcst_unique_recent['Cloud'].replace(ulsan_convert_cloud, inplace=True)\n",
    "display(dangjin_fcst_unique_recent['Cloud'])\n",
    "display(ulsan_fcst_unique_recent['Cloud'])"
   ]
  },
  {
   "source": [
    "## Interpolate fcst"
   ],
   "cell_type": "markdown",
   "metadata": {}
  },
  {
   "cell_type": "code",
   "execution_count": 203,
   "metadata": {},
   "outputs": [],
   "source": [
    "# index of interpolated df\n",
    "strt_time = dangjin_fcst_unique_recent['time'].iloc[0]\n",
    "end_time = dangjin_fcst_unique_recent['time'].iloc[-1]\n",
    "date_range = pd.date_range(strt_time, end_time, freq='H')"
   ]
  },
  {
   "cell_type": "code",
   "execution_count": 204,
   "metadata": {},
   "outputs": [],
   "source": [
    "# interpolate\n",
    "\n",
    "## empty df\n",
    "dangjin_fcst_interpolated = pd.DataFrame(index=date_range)\n",
    "ulsan_fcst_interpolated = pd.DataFrame(index=date_range)\n",
    "\n",
    "## join empty df with original df\n",
    "dangjin_fcst_unique_recent_ = dangjin_fcst_unique_recent.set_index('time')\n",
    "dangjin_fcst_interpolated = dangjin_fcst_interpolated.join(dangjin_fcst_unique_recent_)\n",
    "\n",
    "ulsan_fcst_unique_recent_ = ulsan_fcst_unique_recent.set_index('time')\n",
    "ulsan_fcst_interpolated = ulsan_fcst_interpolated.join(ulsan_fcst_unique_recent_)\n",
    "\n",
    "## interpolate\n",
    "dangjin_fcst_interpolated.interpolate(method='krogh', inplace=True)\n",
    "ulsan_fcst_interpolated.interpolate(method='krogh', inplace=True)"
   ]
  },
  {
   "cell_type": "code",
   "execution_count": 205,
   "metadata": {},
   "outputs": [],
   "source": [
    "# reset index and add index as 'time' column\n",
    "dangjin_fcst_interpolated.reset_index(inplace=True)\n",
    "ulsan_fcst_interpolated.reset_index(inplace=True)\n",
    "\n",
    "dangjin_fcst_interpolated['time'] = dangjin_fcst_interpolated['index']\n",
    "dangjin_fcst_interpolated.drop(columns='index', inplace=True)\n",
    "\n",
    "ulsan_fcst_interpolated['time'] = ulsan_fcst_interpolated['index']\n",
    "ulsan_fcst_interpolated.drop(columns='index', inplace=True)"
   ]
  },
  {
   "cell_type": "code",
   "execution_count": 230,
   "metadata": {},
   "outputs": [
    {
     "output_type": "execute_result",
     "data": {
      "text/plain": [
       "<AxesSubplot:>"
      ]
     },
     "metadata": {},
     "execution_count": 230
    },
    {
     "output_type": "display_data",
     "data": {
      "text/plain": "<Figure size 432x288 with 1 Axes>",
      "image/svg+xml": "<?xml version=\"1.0\" encoding=\"utf-8\" standalone=\"no\"?>\n<!DOCTYPE svg PUBLIC \"-//W3C//DTD SVG 1.1//EN\"\n  \"http://www.w3.org/Graphics/SVG/1.1/DTD/svg11.dtd\">\n<!-- Created with matplotlib (https://matplotlib.org/) -->\n<svg height=\"248.518125pt\" version=\"1.1\" viewBox=\"0 0 370.942187 248.518125\" width=\"370.942187pt\" xmlns=\"http://www.w3.org/2000/svg\" xmlns:xlink=\"http://www.w3.org/1999/xlink\">\n <metadata>\n  <rdf:RDF xmlns:cc=\"http://creativecommons.org/ns#\" xmlns:dc=\"http://purl.org/dc/elements/1.1/\" xmlns:rdf=\"http://www.w3.org/1999/02/22-rdf-syntax-ns#\">\n   <cc:Work>\n    <dc:type rdf:resource=\"http://purl.org/dc/dcmitype/StillImage\"/>\n    <dc:date>2021-05-23T00:15:42.393825</dc:date>\n    <dc:format>image/svg+xml</dc:format>\n    <dc:creator>\n     <cc:Agent>\n      <dc:title>Matplotlib v3.3.4, https://matplotlib.org/</dc:title>\n     </cc:Agent>\n    </dc:creator>\n   </cc:Work>\n  </rdf:RDF>\n </metadata>\n <defs>\n  <style type=\"text/css\">*{stroke-linecap:butt;stroke-linejoin:round;}</style>\n </defs>\n <g id=\"figure_1\">\n  <g id=\"patch_1\">\n   <path d=\"M 0 248.518125 \nL 370.942187 248.518125 \nL 370.942187 0 \nL 0 0 \nz\n\" style=\"fill:none;\"/>\n  </g>\n  <g id=\"axes_1\">\n   <g id=\"patch_2\">\n    <path d=\"M 28.942188 224.64 \nL 363.742188 224.64 \nL 363.742188 7.2 \nL 28.942188 7.2 \nz\n\" style=\"fill:#ffffff;\"/>\n   </g>\n   <g id=\"matplotlib.axis_1\">\n    <g id=\"xtick_1\">\n     <g id=\"line2d_1\">\n      <defs>\n       <path d=\"M 0 0 \nL 0 3.5 \n\" id=\"m5a7ccfb1b7\" style=\"stroke:#000000;stroke-width:0.8;\"/>\n      </defs>\n      <g>\n       <use style=\"stroke:#000000;stroke-width:0.8;\" x=\"44.160369\" xlink:href=\"#m5a7ccfb1b7\" y=\"224.64\"/>\n      </g>\n     </g>\n     <g id=\"text_1\">\n      <!-- 0 -->\n      <g transform=\"translate(40.979119 239.238437)scale(0.1 -0.1)\">\n       <defs>\n        <path d=\"M 31.78125 66.40625 \nQ 24.171875 66.40625 20.328125 58.90625 \nQ 16.5 51.421875 16.5 36.375 \nQ 16.5 21.390625 20.328125 13.890625 \nQ 24.171875 6.390625 31.78125 6.390625 \nQ 39.453125 6.390625 43.28125 13.890625 \nQ 47.125 21.390625 47.125 36.375 \nQ 47.125 51.421875 43.28125 58.90625 \nQ 39.453125 66.40625 31.78125 66.40625 \nz\nM 31.78125 74.21875 \nQ 44.046875 74.21875 50.515625 64.515625 \nQ 56.984375 54.828125 56.984375 36.375 \nQ 56.984375 17.96875 50.515625 8.265625 \nQ 44.046875 -1.421875 31.78125 -1.421875 \nQ 19.53125 -1.421875 13.0625 8.265625 \nQ 6.59375 17.96875 6.59375 36.375 \nQ 6.59375 54.828125 13.0625 64.515625 \nQ 19.53125 74.21875 31.78125 74.21875 \nz\n\" id=\"DejaVuSans-48\"/>\n       </defs>\n       <use xlink:href=\"#DejaVuSans-48\"/>\n      </g>\n     </g>\n    </g>\n    <g id=\"xtick_2\">\n     <g id=\"line2d_2\">\n      <g>\n       <use style=\"stroke:#000000;stroke-width:0.8;\" x=\"110.326377\" xlink:href=\"#m5a7ccfb1b7\" y=\"224.64\"/>\n      </g>\n     </g>\n     <g id=\"text_2\">\n      <!-- 5 -->\n      <g transform=\"translate(107.145127 239.238437)scale(0.1 -0.1)\">\n       <defs>\n        <path d=\"M 10.796875 72.90625 \nL 49.515625 72.90625 \nL 49.515625 64.59375 \nL 19.828125 64.59375 \nL 19.828125 46.734375 \nQ 21.96875 47.46875 24.109375 47.828125 \nQ 26.265625 48.1875 28.421875 48.1875 \nQ 40.625 48.1875 47.75 41.5 \nQ 54.890625 34.8125 54.890625 23.390625 \nQ 54.890625 11.625 47.5625 5.09375 \nQ 40.234375 -1.421875 26.90625 -1.421875 \nQ 22.3125 -1.421875 17.546875 -0.640625 \nQ 12.796875 0.140625 7.71875 1.703125 \nL 7.71875 11.625 \nQ 12.109375 9.234375 16.796875 8.0625 \nQ 21.484375 6.890625 26.703125 6.890625 \nQ 35.15625 6.890625 40.078125 11.328125 \nQ 45.015625 15.765625 45.015625 23.390625 \nQ 45.015625 31 40.078125 35.4375 \nQ 35.15625 39.890625 26.703125 39.890625 \nQ 22.75 39.890625 18.8125 39.015625 \nQ 14.890625 38.140625 10.796875 36.28125 \nz\n\" id=\"DejaVuSans-53\"/>\n       </defs>\n       <use xlink:href=\"#DejaVuSans-53\"/>\n      </g>\n     </g>\n    </g>\n    <g id=\"xtick_3\">\n     <g id=\"line2d_3\">\n      <g>\n       <use style=\"stroke:#000000;stroke-width:0.8;\" x=\"176.492385\" xlink:href=\"#m5a7ccfb1b7\" y=\"224.64\"/>\n      </g>\n     </g>\n     <g id=\"text_3\">\n      <!-- 10 -->\n      <g transform=\"translate(170.129885 239.238437)scale(0.1 -0.1)\">\n       <defs>\n        <path d=\"M 12.40625 8.296875 \nL 28.515625 8.296875 \nL 28.515625 63.921875 \nL 10.984375 60.40625 \nL 10.984375 69.390625 \nL 28.421875 72.90625 \nL 38.28125 72.90625 \nL 38.28125 8.296875 \nL 54.390625 8.296875 \nL 54.390625 0 \nL 12.40625 0 \nz\n\" id=\"DejaVuSans-49\"/>\n       </defs>\n       <use xlink:href=\"#DejaVuSans-49\"/>\n       <use x=\"63.623047\" xlink:href=\"#DejaVuSans-48\"/>\n      </g>\n     </g>\n    </g>\n    <g id=\"xtick_4\">\n     <g id=\"line2d_4\">\n      <g>\n       <use style=\"stroke:#000000;stroke-width:0.8;\" x=\"242.658393\" xlink:href=\"#m5a7ccfb1b7\" y=\"224.64\"/>\n      </g>\n     </g>\n     <g id=\"text_4\">\n      <!-- 15 -->\n      <g transform=\"translate(236.295893 239.238437)scale(0.1 -0.1)\">\n       <use xlink:href=\"#DejaVuSans-49\"/>\n       <use x=\"63.623047\" xlink:href=\"#DejaVuSans-53\"/>\n      </g>\n     </g>\n    </g>\n    <g id=\"xtick_5\">\n     <g id=\"line2d_5\">\n      <g>\n       <use style=\"stroke:#000000;stroke-width:0.8;\" x=\"308.824401\" xlink:href=\"#m5a7ccfb1b7\" y=\"224.64\"/>\n      </g>\n     </g>\n     <g id=\"text_5\">\n      <!-- 20 -->\n      <g transform=\"translate(302.461901 239.238437)scale(0.1 -0.1)\">\n       <defs>\n        <path d=\"M 19.1875 8.296875 \nL 53.609375 8.296875 \nL 53.609375 0 \nL 7.328125 0 \nL 7.328125 8.296875 \nQ 12.9375 14.109375 22.625 23.890625 \nQ 32.328125 33.6875 34.8125 36.53125 \nQ 39.546875 41.84375 41.421875 45.53125 \nQ 43.3125 49.21875 43.3125 52.78125 \nQ 43.3125 58.59375 39.234375 62.25 \nQ 35.15625 65.921875 28.609375 65.921875 \nQ 23.96875 65.921875 18.8125 64.3125 \nQ 13.671875 62.703125 7.8125 59.421875 \nL 7.8125 69.390625 \nQ 13.765625 71.78125 18.9375 73 \nQ 24.125 74.21875 28.421875 74.21875 \nQ 39.75 74.21875 46.484375 68.546875 \nQ 53.21875 62.890625 53.21875 53.421875 \nQ 53.21875 48.921875 51.53125 44.890625 \nQ 49.859375 40.875 45.40625 35.40625 \nQ 44.1875 33.984375 37.640625 27.21875 \nQ 31.109375 20.453125 19.1875 8.296875 \nz\n\" id=\"DejaVuSans-50\"/>\n       </defs>\n       <use xlink:href=\"#DejaVuSans-50\"/>\n       <use x=\"63.623047\" xlink:href=\"#DejaVuSans-48\"/>\n      </g>\n     </g>\n    </g>\n   </g>\n   <g id=\"matplotlib.axis_2\">\n    <g id=\"ytick_1\">\n     <g id=\"line2d_6\">\n      <defs>\n       <path d=\"M 0 0 \nL -3.5 0 \n\" id=\"m8f21d5d1cd\" style=\"stroke:#000000;stroke-width:0.8;\"/>\n      </defs>\n      <g>\n       <use style=\"stroke:#000000;stroke-width:0.8;\" x=\"28.942188\" xlink:href=\"#m8f21d5d1cd\" y=\"214.756364\"/>\n      </g>\n     </g>\n     <g id=\"text_6\">\n      <!-- −4 -->\n      <g transform=\"translate(7.2 218.555582)scale(0.1 -0.1)\">\n       <defs>\n        <path d=\"M 10.59375 35.5 \nL 73.1875 35.5 \nL 73.1875 27.203125 \nL 10.59375 27.203125 \nz\n\" id=\"DejaVuSans-8722\"/>\n        <path d=\"M 37.796875 64.3125 \nL 12.890625 25.390625 \nL 37.796875 25.390625 \nz\nM 35.203125 72.90625 \nL 47.609375 72.90625 \nL 47.609375 25.390625 \nL 58.015625 25.390625 \nL 58.015625 17.1875 \nL 47.609375 17.1875 \nL 47.609375 0 \nL 37.796875 0 \nL 37.796875 17.1875 \nL 4.890625 17.1875 \nL 4.890625 26.703125 \nz\n\" id=\"DejaVuSans-52\"/>\n       </defs>\n       <use xlink:href=\"#DejaVuSans-8722\"/>\n       <use x=\"83.789062\" xlink:href=\"#DejaVuSans-52\"/>\n      </g>\n     </g>\n    </g>\n    <g id=\"ytick_2\">\n     <g id=\"line2d_7\">\n      <g>\n       <use style=\"stroke:#000000;stroke-width:0.8;\" x=\"28.942188\" xlink:href=\"#m8f21d5d1cd\" y=\"186.780477\"/>\n      </g>\n     </g>\n     <g id=\"text_7\">\n      <!-- −3 -->\n      <g transform=\"translate(7.2 190.579696)scale(0.1 -0.1)\">\n       <defs>\n        <path d=\"M 40.578125 39.3125 \nQ 47.65625 37.796875 51.625 33 \nQ 55.609375 28.21875 55.609375 21.1875 \nQ 55.609375 10.40625 48.1875 4.484375 \nQ 40.765625 -1.421875 27.09375 -1.421875 \nQ 22.515625 -1.421875 17.65625 -0.515625 \nQ 12.796875 0.390625 7.625 2.203125 \nL 7.625 11.71875 \nQ 11.71875 9.328125 16.59375 8.109375 \nQ 21.484375 6.890625 26.8125 6.890625 \nQ 36.078125 6.890625 40.9375 10.546875 \nQ 45.796875 14.203125 45.796875 21.1875 \nQ 45.796875 27.640625 41.28125 31.265625 \nQ 36.765625 34.90625 28.71875 34.90625 \nL 20.21875 34.90625 \nL 20.21875 43.015625 \nL 29.109375 43.015625 \nQ 36.375 43.015625 40.234375 45.921875 \nQ 44.09375 48.828125 44.09375 54.296875 \nQ 44.09375 59.90625 40.109375 62.90625 \nQ 36.140625 65.921875 28.71875 65.921875 \nQ 24.65625 65.921875 20.015625 65.03125 \nQ 15.375 64.15625 9.8125 62.3125 \nL 9.8125 71.09375 \nQ 15.4375 72.65625 20.34375 73.4375 \nQ 25.25 74.21875 29.59375 74.21875 \nQ 40.828125 74.21875 47.359375 69.109375 \nQ 53.90625 64.015625 53.90625 55.328125 \nQ 53.90625 49.265625 50.4375 45.09375 \nQ 46.96875 40.921875 40.578125 39.3125 \nz\n\" id=\"DejaVuSans-51\"/>\n       </defs>\n       <use xlink:href=\"#DejaVuSans-8722\"/>\n       <use x=\"83.789062\" xlink:href=\"#DejaVuSans-51\"/>\n      </g>\n     </g>\n    </g>\n    <g id=\"ytick_3\">\n     <g id=\"line2d_8\">\n      <g>\n       <use style=\"stroke:#000000;stroke-width:0.8;\" x=\"28.942188\" xlink:href=\"#m8f21d5d1cd\" y=\"158.804591\"/>\n      </g>\n     </g>\n     <g id=\"text_8\">\n      <!-- −2 -->\n      <g transform=\"translate(7.2 162.603809)scale(0.1 -0.1)\">\n       <use xlink:href=\"#DejaVuSans-8722\"/>\n       <use x=\"83.789062\" xlink:href=\"#DejaVuSans-50\"/>\n      </g>\n     </g>\n    </g>\n    <g id=\"ytick_4\">\n     <g id=\"line2d_9\">\n      <g>\n       <use style=\"stroke:#000000;stroke-width:0.8;\" x=\"28.942188\" xlink:href=\"#m8f21d5d1cd\" y=\"130.828704\"/>\n      </g>\n     </g>\n     <g id=\"text_9\">\n      <!-- −1 -->\n      <g transform=\"translate(7.2 134.627923)scale(0.1 -0.1)\">\n       <use xlink:href=\"#DejaVuSans-8722\"/>\n       <use x=\"83.789062\" xlink:href=\"#DejaVuSans-49\"/>\n      </g>\n     </g>\n    </g>\n    <g id=\"ytick_5\">\n     <g id=\"line2d_10\">\n      <g>\n       <use style=\"stroke:#000000;stroke-width:0.8;\" x=\"28.942188\" xlink:href=\"#m8f21d5d1cd\" y=\"102.852817\"/>\n      </g>\n     </g>\n     <g id=\"text_10\">\n      <!-- 0 -->\n      <g transform=\"translate(15.579688 106.652036)scale(0.1 -0.1)\">\n       <use xlink:href=\"#DejaVuSans-48\"/>\n      </g>\n     </g>\n    </g>\n    <g id=\"ytick_6\">\n     <g id=\"line2d_11\">\n      <g>\n       <use style=\"stroke:#000000;stroke-width:0.8;\" x=\"28.942188\" xlink:href=\"#m8f21d5d1cd\" y=\"74.876931\"/>\n      </g>\n     </g>\n     <g id=\"text_11\">\n      <!-- 1 -->\n      <g transform=\"translate(15.579688 78.67615)scale(0.1 -0.1)\">\n       <use xlink:href=\"#DejaVuSans-49\"/>\n      </g>\n     </g>\n    </g>\n    <g id=\"ytick_7\">\n     <g id=\"line2d_12\">\n      <g>\n       <use style=\"stroke:#000000;stroke-width:0.8;\" x=\"28.942188\" xlink:href=\"#m8f21d5d1cd\" y=\"46.901044\"/>\n      </g>\n     </g>\n     <g id=\"text_12\">\n      <!-- 2 -->\n      <g transform=\"translate(15.579688 50.700263)scale(0.1 -0.1)\">\n       <use xlink:href=\"#DejaVuSans-50\"/>\n      </g>\n     </g>\n    </g>\n    <g id=\"ytick_8\">\n     <g id=\"line2d_13\">\n      <g>\n       <use style=\"stroke:#000000;stroke-width:0.8;\" x=\"28.942188\" xlink:href=\"#m8f21d5d1cd\" y=\"18.925158\"/>\n      </g>\n     </g>\n     <g id=\"text_13\">\n      <!-- 3 -->\n      <g transform=\"translate(15.579688 22.724377)scale(0.1 -0.1)\">\n       <use xlink:href=\"#DejaVuSans-51\"/>\n      </g>\n     </g>\n    </g>\n   </g>\n   <g id=\"line2d_14\">\n    <path clip-path=\"url(#p0df893d3bc)\" d=\"M 44.160369 158.804591 \nL 57.393571 166.515601 \nL 70.626772 175.840897 \nL 83.859974 186.780477 \nL 97.093176 199.334342 \nL 110.326377 211.888207 \nL 123.559579 214.756364 \nL 136.79278 206.324527 \nL 150.025982 186.953109 \nL 163.259184 158.804591 \nL 176.492385 122.239384 \nL 189.725587 79.817727 \nL 202.958788 46.901044 \nL 216.19199 26.049574 \nL 229.425191 17.083636 \nL 242.658393 18.925158 \nL 255.891595 31.394459 \nL 269.124796 53.009377 \nL 282.357998 74.876931 \nL 295.591199 95.514958 \nL 308.824401 114.670821 \nL 322.057603 130.828704 \nL 335.290804 143.73597 \nL 348.524006 153.282168 \n\" style=\"fill:none;stroke:#1f77b4;stroke-linecap:square;stroke-width:1.5;\"/>\n   </g>\n   <g id=\"patch_3\">\n    <path d=\"M 28.942188 224.64 \nL 28.942188 7.2 \n\" style=\"fill:none;stroke:#000000;stroke-linecap:square;stroke-linejoin:miter;stroke-width:0.8;\"/>\n   </g>\n   <g id=\"patch_4\">\n    <path d=\"M 363.742188 224.64 \nL 363.742188 7.2 \n\" style=\"fill:none;stroke:#000000;stroke-linecap:square;stroke-linejoin:miter;stroke-width:0.8;\"/>\n   </g>\n   <g id=\"patch_5\">\n    <path d=\"M 28.942188 224.64 \nL 363.742188 224.64 \n\" style=\"fill:none;stroke:#000000;stroke-linecap:square;stroke-linejoin:miter;stroke-width:0.8;\"/>\n   </g>\n   <g id=\"patch_6\">\n    <path d=\"M 28.942188 7.2 \nL 363.742188 7.2 \n\" style=\"fill:none;stroke:#000000;stroke-linecap:square;stroke-linejoin:miter;stroke-width:0.8;\"/>\n   </g>\n  </g>\n </g>\n <defs>\n  <clipPath id=\"p0df893d3bc\">\n   <rect height=\"217.44\" width=\"334.8\" x=\"28.942188\" y=\"7.2\"/>\n  </clipPath>\n </defs>\n</svg>\n",
      "image/png": "[encoded data removed]"
     },
     "metadata": {
      "needs_background": "light"
     }
    }
   ],
   "source": [
    "dangjin_fcst_interpolated['Temperature'][:24].plot()"
   ]
  },
  {
   "source": [
    "## Convert dtype of 'time' in `energy`\n",
    "- 'time' of `energy` is 'object'. \n",
    "- However, `pd.to_datetime` doesn't accepts '24:00:00' as an hour. Instead accepts '00:00:00'.\n",
    "- Therefore, custom function is needed."
   ],
   "cell_type": "markdown",
   "metadata": {}
  },
  {
   "cell_type": "code",
   "execution_count": 206,
   "metadata": {},
   "outputs": [
    {
     "output_type": "stream",
     "name": "stdout",
     "text": [
      "2018-03-02 00:00:00\n"
     ]
    }
   ],
   "source": [
    "def to_datetime_for_energy(date_str):\n",
    "    if date_str[11:13] == '24':\n",
    "        date_str = date_str[0:11] + '00' + date_str[13:]\n",
    "        return pd.to_datetime(date_str) + pd.Timedelta(1, unit='days')\n",
    "\n",
    "    else:\n",
    "        return pd.to_datetime(date_str)\n",
    "\n",
    "print(to_datetime_for_energy('2018-03-01 24:00:00'))"
   ]
  },
  {
   "cell_type": "code",
   "execution_count": 207,
   "metadata": {},
   "outputs": [],
   "source": [
    "energy['time'] = energy['time'].apply(to_datetime_for_energy)"
   ]
  },
  {
   "source": [
    "## Fill missing values - obs\n",
    "\n",
    "obs:  \n",
    "- median을 활용.\n",
    "\n",
    " 참고: fcst에서는 na 없음"
   ],
   "cell_type": "markdown",
   "metadata": {}
  },
  {
   "cell_type": "code",
   "execution_count": 208,
   "metadata": {},
   "outputs": [
    {
     "output_type": "stream",
     "name": "stdout",
     "text": [
      "Temperature    0\nHumidity       0\nCloud          0\nWind_X         0\nWind_Y         0\ntime           0\ndtype: int64\nTemperature    0\nHumidity       0\nCloud          0\nWind_X         0\nWind_Y         0\ntime           0\ndtype: int64\ntime              0\nTemperature      47\nHumidity         43\nCloud          4101\nWind_X           44\nWind_Y           44\ndtype: int64\ntime              0\nTemperature       7\nHumidity          2\nCloud          1259\nWind_X            2\nWind_Y            2\ndtype: int64\n"
     ]
    }
   ],
   "source": [
    "# count na\n",
    "print(dangjin_fcst_interpolated.isna().sum())\n",
    "print(ulsan_fcst_interpolated.isna().sum())\n",
    "print(dangjin_obs_interpolated.isna().sum())\n",
    "print(ulsan_obs_interpolated.isna().sum())"
   ]
  },
  {
   "cell_type": "code",
   "execution_count": 209,
   "metadata": {},
   "outputs": [
    {
     "output_type": "execute_result",
     "data": {
      "text/plain": [
       "(array([2450., 1245.,   13.,   39.,   94.,   24.,   66.,    9.,  141.,\n",
       "          20.]),\n",
       " array([17591.        , 17693.05416667, 17795.10833333, 17897.1625    ,\n",
       "        17999.21666667, 18101.27083333, 18203.325     , 18305.37916667,\n",
       "        18407.43333333, 18509.4875    , 18611.54166667]),\n",
       " <BarContainer object of 10 artists>)"
      ]
     },
     "metadata": {},
     "execution_count": 209
    },
    {
     "output_type": "display_data",
     "data": {
      "text/plain": "<Figure size 1728x360 with 1 Axes>",
      "image/svg+xml": "<?xml version=\"1.0\" encoding=\"utf-8\" standalone=\"no\"?>\n<!DOCTYPE svg PUBLIC \"-//W3C//DTD SVG 1.1//EN\"\n  \"http://www.w3.org/Graphics/SVG/1.1/DTD/svg11.dtd\">\n<!-- Created with matplotlib (https://matplotlib.org/) -->\n<svg height=\"302.878125pt\" version=\"1.1\" viewBox=\"0 0 1386.05 302.878125\" width=\"1386.05pt\" xmlns=\"http://www.w3.org/2000/svg\" xmlns:xlink=\"http://www.w3.org/1999/xlink\">\n <metadata>\n  <rdf:RDF xmlns:cc=\"http://creativecommons.org/ns#\" xmlns:dc=\"http://purl.org/dc/elements/1.1/\" xmlns:rdf=\"http://www.w3.org/1999/02/22-rdf-syntax-ns#\">\n   <cc:Work>\n    <dc:type rdf:resource=\"http://purl.org/dc/dcmitype/StillImage\"/>\n    <dc:date>2021-05-22T23:25:48.315302</dc:date>\n    <dc:format>image/svg+xml</dc:format>\n    <dc:creator>\n     <cc:Agent>\n      <dc:title>Matplotlib v3.3.4, https://matplotlib.org/</dc:title>\n     </cc:Agent>\n    </dc:creator>\n   </cc:Work>\n  </rdf:RDF>\n </metadata>\n <defs>\n  <style type=\"text/css\">*{stroke-linecap:butt;stroke-linejoin:round;}</style>\n </defs>\n <g id=\"figure_1\">\n  <g id=\"patch_1\">\n   <path d=\"M 0 302.878125 \nL 1386.05 302.878125 \nL 1386.05 0 \nL 0 0 \nz\n\" style=\"fill:none;\"/>\n  </g>\n  <g id=\"axes_1\">\n   <g id=\"patch_2\">\n    <path d=\"M 39.65 279 \nL 1378.85 279 \nL 1378.85 7.2 \nL 39.65 7.2 \nz\n\" style=\"fill:#ffffff;\"/>\n   </g>\n   <g id=\"patch_3\">\n    <path clip-path=\"url(#padc3d31724)\" d=\"M 100.522727 279 \nL 222.268182 279 \nL 222.268182 20.142857 \nL 100.522727 20.142857 \nz\n\" style=\"fill:#1f77b4;\"/>\n   </g>\n   <g id=\"patch_4\">\n    <path clip-path=\"url(#padc3d31724)\" d=\"M 222.268182 279 \nL 344.013636 279 \nL 344.013636 147.458309 \nL 222.268182 147.458309 \nz\n\" style=\"fill:#1f77b4;\"/>\n   </g>\n   <g id=\"patch_5\">\n    <path clip-path=\"url(#padc3d31724)\" d=\"M 344.013636 279 \nL 465.759091 279 \nL 465.759091 277.626472 \nL 344.013636 277.626472 \nz\n\" style=\"fill:#1f77b4;\"/>\n   </g>\n   <g id=\"patch_6\">\n    <path clip-path=\"url(#padc3d31724)\" d=\"M 465.759091 279 \nL 587.504545 279 \nL 587.504545 274.879417 \nL 465.759091 274.879417 \nz\n\" style=\"fill:#1f77b4;\"/>\n   </g>\n   <g id=\"patch_7\">\n    <path clip-path=\"url(#padc3d31724)\" d=\"M 587.504545 279 \nL 709.25 279 \nL 709.25 269.068338 \nL 587.504545 269.068338 \nz\n\" style=\"fill:#1f77b4;\"/>\n   </g>\n   <g id=\"patch_8\">\n    <path clip-path=\"url(#padc3d31724)\" d=\"M 709.25 279 \nL 830.995455 279 \nL 830.995455 276.464257 \nL 709.25 276.464257 \nz\n\" style=\"fill:#1f77b4;\"/>\n   </g>\n   <g id=\"patch_9\">\n    <path clip-path=\"url(#padc3d31724)\" d=\"M 830.995455 279 \nL 952.740909 279 \nL 952.740909 272.026706 \nL 830.995455 272.026706 \nz\n\" style=\"fill:#1f77b4;\"/>\n   </g>\n   <g id=\"patch_10\">\n    <path clip-path=\"url(#padc3d31724)\" d=\"M 952.740909 279 \nL 1074.486364 279 \nL 1074.486364 278.049096 \nL 952.740909 278.049096 \nz\n\" style=\"fill:#1f77b4;\"/>\n   </g>\n   <g id=\"patch_11\">\n    <path clip-path=\"url(#padc3d31724)\" d=\"M 1074.486364 279 \nL 1196.231818 279 \nL 1196.231818 264.102507 \nL 1074.486364 264.102507 \nz\n\" style=\"fill:#1f77b4;\"/>\n   </g>\n   <g id=\"patch_12\">\n    <path clip-path=\"url(#padc3d31724)\" d=\"M 1196.231818 279 \nL 1317.977273 279 \nL 1317.977273 276.88688 \nL 1196.231818 276.88688 \nz\n\" style=\"fill:#1f77b4;\"/>\n   </g>\n   <g id=\"matplotlib.axis_1\">\n    <g id=\"xtick_1\">\n     <g id=\"line2d_1\">\n      <defs>\n       <path d=\"M 0 0 \nL 0 3.5 \n\" id=\"m8e677e53c9\" style=\"stroke:#000000;stroke-width:0.8;\"/>\n      </defs>\n      <g>\n       <use style=\"stroke:#000000;stroke-width:0.8;\" x=\"173.292639\" xlink:href=\"#m8e677e53c9\" y=\"279\"/>\n      </g>\n     </g>\n     <g id=\"text_1\">\n      <!-- 2018-05 -->\n      <g transform=\"translate(152.401233 293.598437)scale(0.1 -0.1)\">\n       <defs>\n        <path d=\"M 19.1875 8.296875 \nL 53.609375 8.296875 \nL 53.609375 0 \nL 7.328125 0 \nL 7.328125 8.296875 \nQ 12.9375 14.109375 22.625 23.890625 \nQ 32.328125 33.6875 34.8125 36.53125 \nQ 39.546875 41.84375 41.421875 45.53125 \nQ 43.3125 49.21875 43.3125 52.78125 \nQ 43.3125 58.59375 39.234375 62.25 \nQ 35.15625 65.921875 28.609375 65.921875 \nQ 23.96875 65.921875 18.8125 64.3125 \nQ 13.671875 62.703125 7.8125 59.421875 \nL 7.8125 69.390625 \nQ 13.765625 71.78125 18.9375 73 \nQ 24.125 74.21875 28.421875 74.21875 \nQ 39.75 74.21875 46.484375 68.546875 \nQ 53.21875 62.890625 53.21875 53.421875 \nQ 53.21875 48.921875 51.53125 44.890625 \nQ 49.859375 40.875 45.40625 35.40625 \nQ 44.1875 33.984375 37.640625 27.21875 \nQ 31.109375 20.453125 19.1875 8.296875 \nz\n\" id=\"DejaVuSans-50\"/>\n        <path d=\"M 31.78125 66.40625 \nQ 24.171875 66.40625 20.328125 58.90625 \nQ 16.5 51.421875 16.5 36.375 \nQ 16.5 21.390625 20.328125 13.890625 \nQ 24.171875 6.390625 31.78125 6.390625 \nQ 39.453125 6.390625 43.28125 13.890625 \nQ 47.125 21.390625 47.125 36.375 \nQ 47.125 51.421875 43.28125 58.90625 \nQ 39.453125 66.40625 31.78125 66.40625 \nz\nM 31.78125 74.21875 \nQ 44.046875 74.21875 50.515625 64.515625 \nQ 56.984375 54.828125 56.984375 36.375 \nQ 56.984375 17.96875 50.515625 8.265625 \nQ 44.046875 -1.421875 31.78125 -1.421875 \nQ 19.53125 -1.421875 13.0625 8.265625 \nQ 6.59375 17.96875 6.59375 36.375 \nQ 6.59375 54.828125 13.0625 64.515625 \nQ 19.53125 74.21875 31.78125 74.21875 \nz\n\" id=\"DejaVuSans-48\"/>\n        <path d=\"M 12.40625 8.296875 \nL 28.515625 8.296875 \nL 28.515625 63.921875 \nL 10.984375 60.40625 \nL 10.984375 69.390625 \nL 28.421875 72.90625 \nL 38.28125 72.90625 \nL 38.28125 8.296875 \nL 54.390625 8.296875 \nL 54.390625 0 \nL 12.40625 0 \nz\n\" id=\"DejaVuSans-49\"/>\n        <path d=\"M 31.78125 34.625 \nQ 24.75 34.625 20.71875 30.859375 \nQ 16.703125 27.09375 16.703125 20.515625 \nQ 16.703125 13.921875 20.71875 10.15625 \nQ 24.75 6.390625 31.78125 6.390625 \nQ 38.8125 6.390625 42.859375 10.171875 \nQ 46.921875 13.96875 46.921875 20.515625 \nQ 46.921875 27.09375 42.890625 30.859375 \nQ 38.875 34.625 31.78125 34.625 \nz\nM 21.921875 38.8125 \nQ 15.578125 40.375 12.03125 44.71875 \nQ 8.5 49.078125 8.5 55.328125 \nQ 8.5 64.0625 14.71875 69.140625 \nQ 20.953125 74.21875 31.78125 74.21875 \nQ 42.671875 74.21875 48.875 69.140625 \nQ 55.078125 64.0625 55.078125 55.328125 \nQ 55.078125 49.078125 51.53125 44.71875 \nQ 48 40.375 41.703125 38.8125 \nQ 48.828125 37.15625 52.796875 32.3125 \nQ 56.78125 27.484375 56.78125 20.515625 \nQ 56.78125 9.90625 50.3125 4.234375 \nQ 43.84375 -1.421875 31.78125 -1.421875 \nQ 19.734375 -1.421875 13.25 4.234375 \nQ 6.78125 9.90625 6.78125 20.515625 \nQ 6.78125 27.484375 10.78125 32.3125 \nQ 14.796875 37.15625 21.921875 38.8125 \nz\nM 18.3125 54.390625 \nQ 18.3125 48.734375 21.84375 45.5625 \nQ 25.390625 42.390625 31.78125 42.390625 \nQ 38.140625 42.390625 41.71875 45.5625 \nQ 45.3125 48.734375 45.3125 54.390625 \nQ 45.3125 60.0625 41.71875 63.234375 \nQ 38.140625 66.40625 31.78125 66.40625 \nQ 25.390625 66.40625 21.84375 63.234375 \nQ 18.3125 60.0625 18.3125 54.390625 \nz\n\" id=\"DejaVuSans-56\"/>\n        <path d=\"M 4.890625 31.390625 \nL 31.203125 31.390625 \nL 31.203125 23.390625 \nL 4.890625 23.390625 \nz\n\" id=\"DejaVuSans-45\"/>\n        <path d=\"M 10.796875 72.90625 \nL 49.515625 72.90625 \nL 49.515625 64.59375 \nL 19.828125 64.59375 \nL 19.828125 46.734375 \nQ 21.96875 47.46875 24.109375 47.828125 \nQ 26.265625 48.1875 28.421875 48.1875 \nQ 40.625 48.1875 47.75 41.5 \nQ 54.890625 34.8125 54.890625 23.390625 \nQ 54.890625 11.625 47.5625 5.09375 \nQ 40.234375 -1.421875 26.90625 -1.421875 \nQ 22.3125 -1.421875 17.546875 -0.640625 \nQ 12.796875 0.140625 7.71875 1.703125 \nL 7.71875 11.625 \nQ 12.109375 9.234375 16.796875 8.0625 \nQ 21.484375 6.890625 26.703125 6.890625 \nQ 35.15625 6.890625 40.078125 11.328125 \nQ 45.015625 15.765625 45.015625 23.390625 \nQ 45.015625 31 40.078125 35.4375 \nQ 35.15625 39.890625 26.703125 39.890625 \nQ 22.75 39.890625 18.8125 39.015625 \nQ 14.890625 38.140625 10.796875 36.28125 \nz\n\" id=\"DejaVuSans-53\"/>\n       </defs>\n       <use xlink:href=\"#DejaVuSans-50\"/>\n       <use x=\"63.623047\" xlink:href=\"#DejaVuSans-48\"/>\n       <use x=\"127.246094\" xlink:href=\"#DejaVuSans-49\"/>\n       <use x=\"190.869141\" xlink:href=\"#DejaVuSans-56\"/>\n       <use x=\"254.492188\" xlink:href=\"#DejaVuSans-45\"/>\n       <use x=\"290.576172\" xlink:href=\"#DejaVuSans-48\"/>\n       <use x=\"354.199219\" xlink:href=\"#DejaVuSans-53\"/>\n      </g>\n     </g>\n    </g>\n    <g id=\"xtick_2\">\n     <g id=\"line2d_2\">\n      <g>\n       <use style=\"stroke:#000000;stroke-width:0.8;\" x=\"320.025413\" xlink:href=\"#m8e677e53c9\" y=\"279\"/>\n      </g>\n     </g>\n     <g id=\"text_2\">\n      <!-- 2018-09 -->\n      <g transform=\"translate(299.134006 293.598437)scale(0.1 -0.1)\">\n       <defs>\n        <path d=\"M 10.984375 1.515625 \nL 10.984375 10.5 \nQ 14.703125 8.734375 18.5 7.8125 \nQ 22.3125 6.890625 25.984375 6.890625 \nQ 35.75 6.890625 40.890625 13.453125 \nQ 46.046875 20.015625 46.78125 33.40625 \nQ 43.953125 29.203125 39.59375 26.953125 \nQ 35.25 24.703125 29.984375 24.703125 \nQ 19.046875 24.703125 12.671875 31.3125 \nQ 6.296875 37.9375 6.296875 49.421875 \nQ 6.296875 60.640625 12.9375 67.421875 \nQ 19.578125 74.21875 30.609375 74.21875 \nQ 43.265625 74.21875 49.921875 64.515625 \nQ 56.59375 54.828125 56.59375 36.375 \nQ 56.59375 19.140625 48.40625 8.859375 \nQ 40.234375 -1.421875 26.421875 -1.421875 \nQ 22.703125 -1.421875 18.890625 -0.6875 \nQ 15.09375 0.046875 10.984375 1.515625 \nz\nM 30.609375 32.421875 \nQ 37.25 32.421875 41.125 36.953125 \nQ 45.015625 41.5 45.015625 49.421875 \nQ 45.015625 57.28125 41.125 61.84375 \nQ 37.25 66.40625 30.609375 66.40625 \nQ 23.96875 66.40625 20.09375 61.84375 \nQ 16.21875 57.28125 16.21875 49.421875 \nQ 16.21875 41.5 20.09375 36.953125 \nQ 23.96875 32.421875 30.609375 32.421875 \nz\n\" id=\"DejaVuSans-57\"/>\n       </defs>\n       <use xlink:href=\"#DejaVuSans-50\"/>\n       <use x=\"63.623047\" xlink:href=\"#DejaVuSans-48\"/>\n       <use x=\"127.246094\" xlink:href=\"#DejaVuSans-49\"/>\n       <use x=\"190.869141\" xlink:href=\"#DejaVuSans-56\"/>\n       <use x=\"254.492188\" xlink:href=\"#DejaVuSans-45\"/>\n       <use x=\"290.576172\" xlink:href=\"#DejaVuSans-48\"/>\n       <use x=\"354.199219\" xlink:href=\"#DejaVuSans-57\"/>\n      </g>\n     </g>\n    </g>\n    <g id=\"xtick_3\">\n     <g id=\"line2d_3\">\n      <g>\n       <use style=\"stroke:#000000;stroke-width:0.8;\" x=\"465.565237\" xlink:href=\"#m8e677e53c9\" y=\"279\"/>\n      </g>\n     </g>\n     <g id=\"text_3\">\n      <!-- 2019-01 -->\n      <g transform=\"translate(444.67383 293.598437)scale(0.1 -0.1)\">\n       <use xlink:href=\"#DejaVuSans-50\"/>\n       <use x=\"63.623047\" xlink:href=\"#DejaVuSans-48\"/>\n       <use x=\"127.246094\" xlink:href=\"#DejaVuSans-49\"/>\n       <use x=\"190.869141\" xlink:href=\"#DejaVuSans-57\"/>\n       <use x=\"254.492188\" xlink:href=\"#DejaVuSans-45\"/>\n       <use x=\"290.576172\" xlink:href=\"#DejaVuSans-48\"/>\n       <use x=\"354.199219\" xlink:href=\"#DejaVuSans-49\"/>\n      </g>\n     </g>\n    </g>\n    <g id=\"xtick_4\">\n     <g id=\"line2d_4\">\n      <g>\n       <use style=\"stroke:#000000;stroke-width:0.8;\" x=\"608.719162\" xlink:href=\"#m8e677e53c9\" y=\"279\"/>\n      </g>\n     </g>\n     <g id=\"text_4\">\n      <!-- 2019-05 -->\n      <g transform=\"translate(587.827756 293.598437)scale(0.1 -0.1)\">\n       <use xlink:href=\"#DejaVuSans-50\"/>\n       <use x=\"63.623047\" xlink:href=\"#DejaVuSans-48\"/>\n       <use x=\"127.246094\" xlink:href=\"#DejaVuSans-49\"/>\n       <use x=\"190.869141\" xlink:href=\"#DejaVuSans-57\"/>\n       <use x=\"254.492188\" xlink:href=\"#DejaVuSans-45\"/>\n       <use x=\"290.576172\" xlink:href=\"#DejaVuSans-48\"/>\n       <use x=\"354.199219\" xlink:href=\"#DejaVuSans-53\"/>\n      </g>\n     </g>\n    </g>\n    <g id=\"xtick_5\">\n     <g id=\"line2d_5\">\n      <g>\n       <use style=\"stroke:#000000;stroke-width:0.8;\" x=\"755.451935\" xlink:href=\"#m8e677e53c9\" y=\"279\"/>\n      </g>\n     </g>\n     <g id=\"text_5\">\n      <!-- 2019-09 -->\n      <g transform=\"translate(734.560529 293.598437)scale(0.1 -0.1)\">\n       <use xlink:href=\"#DejaVuSans-50\"/>\n       <use x=\"63.623047\" xlink:href=\"#DejaVuSans-48\"/>\n       <use x=\"127.246094\" xlink:href=\"#DejaVuSans-49\"/>\n       <use x=\"190.869141\" xlink:href=\"#DejaVuSans-57\"/>\n       <use x=\"254.492188\" xlink:href=\"#DejaVuSans-45\"/>\n       <use x=\"290.576172\" xlink:href=\"#DejaVuSans-48\"/>\n       <use x=\"354.199219\" xlink:href=\"#DejaVuSans-57\"/>\n      </g>\n     </g>\n    </g>\n    <g id=\"xtick_6\">\n     <g id=\"line2d_6\">\n      <g>\n       <use style=\"stroke:#000000;stroke-width:0.8;\" x=\"900.991759\" xlink:href=\"#m8e677e53c9\" y=\"279\"/>\n      </g>\n     </g>\n     <g id=\"text_6\">\n      <!-- 2020-01 -->\n      <g transform=\"translate(880.100353 293.598437)scale(0.1 -0.1)\">\n       <use xlink:href=\"#DejaVuSans-50\"/>\n       <use x=\"63.623047\" xlink:href=\"#DejaVuSans-48\"/>\n       <use x=\"127.246094\" xlink:href=\"#DejaVuSans-50\"/>\n       <use x=\"190.869141\" xlink:href=\"#DejaVuSans-48\"/>\n       <use x=\"254.492188\" xlink:href=\"#DejaVuSans-45\"/>\n       <use x=\"290.576172\" xlink:href=\"#DejaVuSans-48\"/>\n       <use x=\"354.199219\" xlink:href=\"#DejaVuSans-49\"/>\n      </g>\n     </g>\n    </g>\n    <g id=\"xtick_7\">\n     <g id=\"line2d_7\">\n      <g>\n       <use style=\"stroke:#000000;stroke-width:0.8;\" x=\"1045.338634\" xlink:href=\"#m8e677e53c9\" y=\"279\"/>\n      </g>\n     </g>\n     <g id=\"text_7\">\n      <!-- 2020-05 -->\n      <g transform=\"translate(1024.447228 293.598437)scale(0.1 -0.1)\">\n       <use xlink:href=\"#DejaVuSans-50\"/>\n       <use x=\"63.623047\" xlink:href=\"#DejaVuSans-48\"/>\n       <use x=\"127.246094\" xlink:href=\"#DejaVuSans-50\"/>\n       <use x=\"190.869141\" xlink:href=\"#DejaVuSans-48\"/>\n       <use x=\"254.492188\" xlink:href=\"#DejaVuSans-45\"/>\n       <use x=\"290.576172\" xlink:href=\"#DejaVuSans-48\"/>\n       <use x=\"354.199219\" xlink:href=\"#DejaVuSans-53\"/>\n      </g>\n     </g>\n    </g>\n    <g id=\"xtick_8\">\n     <g id=\"line2d_8\">\n      <g>\n       <use style=\"stroke:#000000;stroke-width:0.8;\" x=\"1192.071407\" xlink:href=\"#m8e677e53c9\" y=\"279\"/>\n      </g>\n     </g>\n     <g id=\"text_8\">\n      <!-- 2020-09 -->\n      <g transform=\"translate(1171.180001 293.598437)scale(0.1 -0.1)\">\n       <use xlink:href=\"#DejaVuSans-50\"/>\n       <use x=\"63.623047\" xlink:href=\"#DejaVuSans-48\"/>\n       <use x=\"127.246094\" xlink:href=\"#DejaVuSans-50\"/>\n       <use x=\"190.869141\" xlink:href=\"#DejaVuSans-48\"/>\n       <use x=\"254.492188\" xlink:href=\"#DejaVuSans-45\"/>\n       <use x=\"290.576172\" xlink:href=\"#DejaVuSans-48\"/>\n       <use x=\"354.199219\" xlink:href=\"#DejaVuSans-57\"/>\n      </g>\n     </g>\n    </g>\n    <g id=\"xtick_9\">\n     <g id=\"line2d_9\">\n      <g>\n       <use style=\"stroke:#000000;stroke-width:0.8;\" x=\"1337.611231\" xlink:href=\"#m8e677e53c9\" y=\"279\"/>\n      </g>\n     </g>\n     <g id=\"text_9\">\n      <!-- 2021-01 -->\n      <g transform=\"translate(1316.719825 293.598437)scale(0.1 -0.1)\">\n       <use xlink:href=\"#DejaVuSans-50\"/>\n       <use x=\"63.623047\" xlink:href=\"#DejaVuSans-48\"/>\n       <use x=\"127.246094\" xlink:href=\"#DejaVuSans-50\"/>\n       <use x=\"190.869141\" xlink:href=\"#DejaVuSans-49\"/>\n       <use x=\"254.492188\" xlink:href=\"#DejaVuSans-45\"/>\n       <use x=\"290.576172\" xlink:href=\"#DejaVuSans-48\"/>\n       <use x=\"354.199219\" xlink:href=\"#DejaVuSans-49\"/>\n      </g>\n     </g>\n    </g>\n   </g>\n   <g id=\"matplotlib.axis_2\">\n    <g id=\"ytick_1\">\n     <g id=\"line2d_10\">\n      <defs>\n       <path d=\"M 0 0 \nL -3.5 0 \n\" id=\"m3f8bcbe976\" style=\"stroke:#000000;stroke-width:0.8;\"/>\n      </defs>\n      <g>\n       <use style=\"stroke:#000000;stroke-width:0.8;\" x=\"39.65\" xlink:href=\"#m3f8bcbe976\" y=\"279\"/>\n      </g>\n     </g>\n     <g id=\"text_10\">\n      <!-- 0 -->\n      <g transform=\"translate(26.2875 282.799219)scale(0.1 -0.1)\">\n       <use xlink:href=\"#DejaVuSans-48\"/>\n      </g>\n     </g>\n    </g>\n    <g id=\"ytick_2\">\n     <g id=\"line2d_11\">\n      <g>\n       <use style=\"stroke:#000000;stroke-width:0.8;\" x=\"39.65\" xlink:href=\"#m3f8bcbe976\" y=\"226.172012\"/>\n      </g>\n     </g>\n     <g id=\"text_11\">\n      <!-- 500 -->\n      <g transform=\"translate(13.5625 229.97123)scale(0.1 -0.1)\">\n       <use xlink:href=\"#DejaVuSans-53\"/>\n       <use x=\"63.623047\" xlink:href=\"#DejaVuSans-48\"/>\n       <use x=\"127.246094\" xlink:href=\"#DejaVuSans-48\"/>\n      </g>\n     </g>\n    </g>\n    <g id=\"ytick_3\">\n     <g id=\"line2d_12\">\n      <g>\n       <use style=\"stroke:#000000;stroke-width:0.8;\" x=\"39.65\" xlink:href=\"#m3f8bcbe976\" y=\"173.344023\"/>\n      </g>\n     </g>\n     <g id=\"text_12\">\n      <!-- 1000 -->\n      <g transform=\"translate(7.2 177.143242)scale(0.1 -0.1)\">\n       <use xlink:href=\"#DejaVuSans-49\"/>\n       <use x=\"63.623047\" xlink:href=\"#DejaVuSans-48\"/>\n       <use x=\"127.246094\" xlink:href=\"#DejaVuSans-48\"/>\n       <use x=\"190.869141\" xlink:href=\"#DejaVuSans-48\"/>\n      </g>\n     </g>\n    </g>\n    <g id=\"ytick_4\">\n     <g id=\"line2d_13\">\n      <g>\n       <use style=\"stroke:#000000;stroke-width:0.8;\" x=\"39.65\" xlink:href=\"#m3f8bcbe976\" y=\"120.516035\"/>\n      </g>\n     </g>\n     <g id=\"text_13\">\n      <!-- 1500 -->\n      <g transform=\"translate(7.2 124.315254)scale(0.1 -0.1)\">\n       <use xlink:href=\"#DejaVuSans-49\"/>\n       <use x=\"63.623047\" xlink:href=\"#DejaVuSans-53\"/>\n       <use x=\"127.246094\" xlink:href=\"#DejaVuSans-48\"/>\n       <use x=\"190.869141\" xlink:href=\"#DejaVuSans-48\"/>\n      </g>\n     </g>\n    </g>\n    <g id=\"ytick_5\">\n     <g id=\"line2d_14\">\n      <g>\n       <use style=\"stroke:#000000;stroke-width:0.8;\" x=\"39.65\" xlink:href=\"#m3f8bcbe976\" y=\"67.688047\"/>\n      </g>\n     </g>\n     <g id=\"text_14\">\n      <!-- 2000 -->\n      <g transform=\"translate(7.2 71.487265)scale(0.1 -0.1)\">\n       <use xlink:href=\"#DejaVuSans-50\"/>\n       <use x=\"63.623047\" xlink:href=\"#DejaVuSans-48\"/>\n       <use x=\"127.246094\" xlink:href=\"#DejaVuSans-48\"/>\n       <use x=\"190.869141\" xlink:href=\"#DejaVuSans-48\"/>\n      </g>\n     </g>\n    </g>\n    <g id=\"ytick_6\">\n     <g id=\"line2d_15\">\n      <g>\n       <use style=\"stroke:#000000;stroke-width:0.8;\" x=\"39.65\" xlink:href=\"#m3f8bcbe976\" y=\"14.860058\"/>\n      </g>\n     </g>\n     <g id=\"text_15\">\n      <!-- 2500 -->\n      <g transform=\"translate(7.2 18.659277)scale(0.1 -0.1)\">\n       <use xlink:href=\"#DejaVuSans-50\"/>\n       <use x=\"63.623047\" xlink:href=\"#DejaVuSans-53\"/>\n       <use x=\"127.246094\" xlink:href=\"#DejaVuSans-48\"/>\n       <use x=\"190.869141\" xlink:href=\"#DejaVuSans-48\"/>\n      </g>\n     </g>\n    </g>\n   </g>\n   <g id=\"patch_13\">\n    <path d=\"M 39.65 279 \nL 39.65 7.2 \n\" style=\"fill:none;stroke:#000000;stroke-linecap:square;stroke-linejoin:miter;stroke-width:0.8;\"/>\n   </g>\n   <g id=\"patch_14\">\n    <path d=\"M 1378.85 279 \nL 1378.85 7.2 \n\" style=\"fill:none;stroke:#000000;stroke-linecap:square;stroke-linejoin:miter;stroke-width:0.8;\"/>\n   </g>\n   <g id=\"patch_15\">\n    <path d=\"M 39.65 279 \nL 1378.85 279 \n\" style=\"fill:none;stroke:#000000;stroke-linecap:square;stroke-linejoin:miter;stroke-width:0.8;\"/>\n   </g>\n   <g id=\"patch_16\">\n    <path d=\"M 39.65 7.2 \nL 1378.85 7.2 \n\" style=\"fill:none;stroke:#000000;stroke-linecap:square;stroke-linejoin:miter;stroke-width:0.8;\"/>\n   </g>\n  </g>\n </g>\n <defs>\n  <clipPath id=\"padc3d31724\">\n   <rect height=\"271.8\" width=\"1339.2\" x=\"39.65\" y=\"7.2\"/>\n  </clipPath>\n </defs>\n</svg>\n",
      "image/png": "[encoded data removed]"
     },
     "metadata": {
      "needs_background": "light"
     }
    }
   ],
   "source": [
    "# hist\n",
    "dj_cloud_na = dangjin_obs_interpolated[dangjin_obs_interpolated['Cloud'].isna()]\n",
    "plt.figure(figsize=(24,5))\n",
    "plt.hist(dj_cloud_na['time'])"
   ]
  },
  {
   "cell_type": "code",
   "execution_count": 210,
   "metadata": {},
   "outputs": [
    {
     "output_type": "execute_result",
     "data": {
      "text/plain": [
       "(array([776., 408.,   0.,  11.,  15.,   0.,   8.,   3.,  28.,  10.]),\n",
       " array([17591.04166667, 17690.72083333, 17790.4       , 17890.07916667,\n",
       "        17989.75833333, 18089.4375    , 18189.11666667, 18288.79583333,\n",
       "        18388.475     , 18488.15416667, 18587.83333333]),\n",
       " <BarContainer object of 10 artists>)"
      ]
     },
     "metadata": {},
     "execution_count": 210
    },
    {
     "output_type": "display_data",
     "data": {
      "text/plain": "<Figure size 1728x360 with 1 Axes>",
      "image/svg+xml": "<?xml version=\"1.0\" encoding=\"utf-8\" standalone=\"no\"?>\n<!DOCTYPE svg PUBLIC \"-//W3C//DTD SVG 1.1//EN\"\n  \"http://www.w3.org/Graphics/SVG/1.1/DTD/svg11.dtd\">\n<!-- Created with matplotlib (https://matplotlib.org/) -->\n<svg height=\"302.878125pt\" version=\"1.1\" viewBox=\"0 0 1388.764666 302.878125\" width=\"1388.764666pt\" xmlns=\"http://www.w3.org/2000/svg\" xmlns:xlink=\"http://www.w3.org/1999/xlink\">\n <metadata>\n  <rdf:RDF xmlns:cc=\"http://creativecommons.org/ns#\" xmlns:dc=\"http://purl.org/dc/elements/1.1/\" xmlns:rdf=\"http://www.w3.org/1999/02/22-rdf-syntax-ns#\">\n   <cc:Work>\n    <dc:type rdf:resource=\"http://purl.org/dc/dcmitype/StillImage\"/>\n    <dc:date>2021-05-22T23:25:49.363431</dc:date>\n    <dc:format>image/svg+xml</dc:format>\n    <dc:creator>\n     <cc:Agent>\n      <dc:title>Matplotlib v3.3.4, https://matplotlib.org/</dc:title>\n     </cc:Agent>\n    </dc:creator>\n   </cc:Work>\n  </rdf:RDF>\n </metadata>\n <defs>\n  <style type=\"text/css\">*{stroke-linecap:butt;stroke-linejoin:round;}</style>\n </defs>\n <g id=\"figure_1\">\n  <g id=\"patch_1\">\n   <path d=\"M 0 302.878125 \nL 1388.764666 302.878125 \nL 1388.764666 0 \nL 0 0 \nz\n\" style=\"fill:none;\"/>\n  </g>\n  <g id=\"axes_1\">\n   <g id=\"patch_2\">\n    <path d=\"M 33.2875 279 \nL 1372.4875 279 \nL 1372.4875 7.2 \nL 33.2875 7.2 \nz\n\" style=\"fill:#ffffff;\"/>\n   </g>\n   <g id=\"patch_3\">\n    <path clip-path=\"url(#p1fcc777b48)\" d=\"M 94.160227 279 \nL 215.905682 279 \nL 215.905682 20.142857 \nL 94.160227 20.142857 \nz\n\" style=\"fill:#1f77b4;\"/>\n   </g>\n   <g id=\"patch_4\">\n    <path clip-path=\"url(#p1fcc777b48)\" d=\"M 215.905682 279 \nL 337.651136 279 \nL 337.651136 142.899853 \nL 215.905682 142.899853 \nz\n\" style=\"fill:#1f77b4;\"/>\n   </g>\n   <g id=\"patch_5\">\n    <path clip-path=\"url(#p1fcc777b48)\" d=\"M 337.651136 279 \nL 459.396591 279 \nL 459.396591 279 \nL 337.651136 279 \nz\n\" style=\"fill:#1f77b4;\"/>\n   </g>\n   <g id=\"patch_6\">\n    <path clip-path=\"url(#p1fcc777b48)\" d=\"M 459.396591 279 \nL 581.142045 279 \nL 581.142045 275.330633 \nL 459.396591 275.330633 \nz\n\" style=\"fill:#1f77b4;\"/>\n   </g>\n   <g id=\"patch_7\">\n    <path clip-path=\"url(#p1fcc777b48)\" d=\"M 581.142045 279 \nL 702.8875 279 \nL 702.8875 273.996318 \nL 581.142045 273.996318 \nz\n\" style=\"fill:#1f77b4;\"/>\n   </g>\n   <g id=\"patch_8\">\n    <path clip-path=\"url(#p1fcc777b48)\" d=\"M 702.8875 279 \nL 824.632955 279 \nL 824.632955 279 \nL 702.8875 279 \nz\n\" style=\"fill:#1f77b4;\"/>\n   </g>\n   <g id=\"patch_9\">\n    <path clip-path=\"url(#p1fcc777b48)\" d=\"M 824.632955 279 \nL 946.378409 279 \nL 946.378409 276.33137 \nL 824.632955 276.33137 \nz\n\" style=\"fill:#1f77b4;\"/>\n   </g>\n   <g id=\"patch_10\">\n    <path clip-path=\"url(#p1fcc777b48)\" d=\"M 946.378409 279 \nL 1068.123864 279 \nL 1068.123864 277.999264 \nL 946.378409 277.999264 \nz\n\" style=\"fill:#1f77b4;\"/>\n   </g>\n   <g id=\"patch_11\">\n    <path clip-path=\"url(#p1fcc777b48)\" d=\"M 1068.123864 279 \nL 1189.869318 279 \nL 1189.869318 269.659794 \nL 1068.123864 269.659794 \nz\n\" style=\"fill:#1f77b4;\"/>\n   </g>\n   <g id=\"patch_12\">\n    <path clip-path=\"url(#p1fcc777b48)\" d=\"M 1189.869318 279 \nL 1311.614773 279 \nL 1311.614773 275.664212 \nL 1189.869318 275.664212 \nz\n\" style=\"fill:#1f77b4;\"/>\n   </g>\n   <g id=\"matplotlib.axis_1\">\n    <g id=\"xtick_1\">\n     <g id=\"line2d_1\">\n      <defs>\n       <path d=\"M 0 0 \nL 0 3.5 \n\" id=\"mfa9e062cfc\" style=\"stroke:#000000;stroke-width:0.8;\"/>\n      </defs>\n      <g>\n       <use style=\"stroke:#000000;stroke-width:0.8;\" x=\"168.613097\" xlink:href=\"#mfa9e062cfc\" y=\"279\"/>\n      </g>\n     </g>\n     <g id=\"text_1\">\n      <!-- 2018-05 -->\n      <g transform=\"translate(147.721691 293.598437)scale(0.1 -0.1)\">\n       <defs>\n        <path d=\"M 19.1875 8.296875 \nL 53.609375 8.296875 \nL 53.609375 0 \nL 7.328125 0 \nL 7.328125 8.296875 \nQ 12.9375 14.109375 22.625 23.890625 \nQ 32.328125 33.6875 34.8125 36.53125 \nQ 39.546875 41.84375 41.421875 45.53125 \nQ 43.3125 49.21875 43.3125 52.78125 \nQ 43.3125 58.59375 39.234375 62.25 \nQ 35.15625 65.921875 28.609375 65.921875 \nQ 23.96875 65.921875 18.8125 64.3125 \nQ 13.671875 62.703125 7.8125 59.421875 \nL 7.8125 69.390625 \nQ 13.765625 71.78125 18.9375 73 \nQ 24.125 74.21875 28.421875 74.21875 \nQ 39.75 74.21875 46.484375 68.546875 \nQ 53.21875 62.890625 53.21875 53.421875 \nQ 53.21875 48.921875 51.53125 44.890625 \nQ 49.859375 40.875 45.40625 35.40625 \nQ 44.1875 33.984375 37.640625 27.21875 \nQ 31.109375 20.453125 19.1875 8.296875 \nz\n\" id=\"DejaVuSans-50\"/>\n        <path d=\"M 31.78125 66.40625 \nQ 24.171875 66.40625 20.328125 58.90625 \nQ 16.5 51.421875 16.5 36.375 \nQ 16.5 21.390625 20.328125 13.890625 \nQ 24.171875 6.390625 31.78125 6.390625 \nQ 39.453125 6.390625 43.28125 13.890625 \nQ 47.125 21.390625 47.125 36.375 \nQ 47.125 51.421875 43.28125 58.90625 \nQ 39.453125 66.40625 31.78125 66.40625 \nz\nM 31.78125 74.21875 \nQ 44.046875 74.21875 50.515625 64.515625 \nQ 56.984375 54.828125 56.984375 36.375 \nQ 56.984375 17.96875 50.515625 8.265625 \nQ 44.046875 -1.421875 31.78125 -1.421875 \nQ 19.53125 -1.421875 13.0625 8.265625 \nQ 6.59375 17.96875 6.59375 36.375 \nQ 6.59375 54.828125 13.0625 64.515625 \nQ 19.53125 74.21875 31.78125 74.21875 \nz\n\" id=\"DejaVuSans-48\"/>\n        <path d=\"M 12.40625 8.296875 \nL 28.515625 8.296875 \nL 28.515625 63.921875 \nL 10.984375 60.40625 \nL 10.984375 69.390625 \nL 28.421875 72.90625 \nL 38.28125 72.90625 \nL 38.28125 8.296875 \nL 54.390625 8.296875 \nL 54.390625 0 \nL 12.40625 0 \nz\n\" id=\"DejaVuSans-49\"/>\n        <path d=\"M 31.78125 34.625 \nQ 24.75 34.625 20.71875 30.859375 \nQ 16.703125 27.09375 16.703125 20.515625 \nQ 16.703125 13.921875 20.71875 10.15625 \nQ 24.75 6.390625 31.78125 6.390625 \nQ 38.8125 6.390625 42.859375 10.171875 \nQ 46.921875 13.96875 46.921875 20.515625 \nQ 46.921875 27.09375 42.890625 30.859375 \nQ 38.875 34.625 31.78125 34.625 \nz\nM 21.921875 38.8125 \nQ 15.578125 40.375 12.03125 44.71875 \nQ 8.5 49.078125 8.5 55.328125 \nQ 8.5 64.0625 14.71875 69.140625 \nQ 20.953125 74.21875 31.78125 74.21875 \nQ 42.671875 74.21875 48.875 69.140625 \nQ 55.078125 64.0625 55.078125 55.328125 \nQ 55.078125 49.078125 51.53125 44.71875 \nQ 48 40.375 41.703125 38.8125 \nQ 48.828125 37.15625 52.796875 32.3125 \nQ 56.78125 27.484375 56.78125 20.515625 \nQ 56.78125 9.90625 50.3125 4.234375 \nQ 43.84375 -1.421875 31.78125 -1.421875 \nQ 19.734375 -1.421875 13.25 4.234375 \nQ 6.78125 9.90625 6.78125 20.515625 \nQ 6.78125 27.484375 10.78125 32.3125 \nQ 14.796875 37.15625 21.921875 38.8125 \nz\nM 18.3125 54.390625 \nQ 18.3125 48.734375 21.84375 45.5625 \nQ 25.390625 42.390625 31.78125 42.390625 \nQ 38.140625 42.390625 41.71875 45.5625 \nQ 45.3125 48.734375 45.3125 54.390625 \nQ 45.3125 60.0625 41.71875 63.234375 \nQ 38.140625 66.40625 31.78125 66.40625 \nQ 25.390625 66.40625 21.84375 63.234375 \nQ 18.3125 60.0625 18.3125 54.390625 \nz\n\" id=\"DejaVuSans-56\"/>\n        <path d=\"M 4.890625 31.390625 \nL 31.203125 31.390625 \nL 31.203125 23.390625 \nL 4.890625 23.390625 \nz\n\" id=\"DejaVuSans-45\"/>\n        <path d=\"M 10.796875 72.90625 \nL 49.515625 72.90625 \nL 49.515625 64.59375 \nL 19.828125 64.59375 \nL 19.828125 46.734375 \nQ 21.96875 47.46875 24.109375 47.828125 \nQ 26.265625 48.1875 28.421875 48.1875 \nQ 40.625 48.1875 47.75 41.5 \nQ 54.890625 34.8125 54.890625 23.390625 \nQ 54.890625 11.625 47.5625 5.09375 \nQ 40.234375 -1.421875 26.90625 -1.421875 \nQ 22.3125 -1.421875 17.546875 -0.640625 \nQ 12.796875 0.140625 7.71875 1.703125 \nL 7.71875 11.625 \nQ 12.109375 9.234375 16.796875 8.0625 \nQ 21.484375 6.890625 26.703125 6.890625 \nQ 35.15625 6.890625 40.078125 11.328125 \nQ 45.015625 15.765625 45.015625 23.390625 \nQ 45.015625 31 40.078125 35.4375 \nQ 35.15625 39.890625 26.703125 39.890625 \nQ 22.75 39.890625 18.8125 39.015625 \nQ 14.890625 38.140625 10.796875 36.28125 \nz\n\" id=\"DejaVuSans-53\"/>\n       </defs>\n       <use xlink:href=\"#DejaVuSans-50\"/>\n       <use x=\"63.623047\" xlink:href=\"#DejaVuSans-48\"/>\n       <use x=\"127.246094\" xlink:href=\"#DejaVuSans-49\"/>\n       <use x=\"190.869141\" xlink:href=\"#DejaVuSans-56\"/>\n       <use x=\"254.492188\" xlink:href=\"#DejaVuSans-45\"/>\n       <use x=\"290.576172\" xlink:href=\"#DejaVuSans-48\"/>\n       <use x=\"354.199219\" xlink:href=\"#DejaVuSans-53\"/>\n      </g>\n     </g>\n    </g>\n    <g id=\"xtick_2\">\n     <g id=\"line2d_2\">\n      <g>\n       <use style=\"stroke:#000000;stroke-width:0.8;\" x=\"318.84199\" xlink:href=\"#mfa9e062cfc\" y=\"279\"/>\n      </g>\n     </g>\n     <g id=\"text_2\">\n      <!-- 2018-09 -->\n      <g transform=\"translate(297.950584 293.598437)scale(0.1 -0.1)\">\n       <defs>\n        <path d=\"M 10.984375 1.515625 \nL 10.984375 10.5 \nQ 14.703125 8.734375 18.5 7.8125 \nQ 22.3125 6.890625 25.984375 6.890625 \nQ 35.75 6.890625 40.890625 13.453125 \nQ 46.046875 20.015625 46.78125 33.40625 \nQ 43.953125 29.203125 39.59375 26.953125 \nQ 35.25 24.703125 29.984375 24.703125 \nQ 19.046875 24.703125 12.671875 31.3125 \nQ 6.296875 37.9375 6.296875 49.421875 \nQ 6.296875 60.640625 12.9375 67.421875 \nQ 19.578125 74.21875 30.609375 74.21875 \nQ 43.265625 74.21875 49.921875 64.515625 \nQ 56.59375 54.828125 56.59375 36.375 \nQ 56.59375 19.140625 48.40625 8.859375 \nQ 40.234375 -1.421875 26.421875 -1.421875 \nQ 22.703125 -1.421875 18.890625 -0.6875 \nQ 15.09375 0.046875 10.984375 1.515625 \nz\nM 30.609375 32.421875 \nQ 37.25 32.421875 41.125 36.953125 \nQ 45.015625 41.5 45.015625 49.421875 \nQ 45.015625 57.28125 41.125 61.84375 \nQ 37.25 66.40625 30.609375 66.40625 \nQ 23.96875 66.40625 20.09375 61.84375 \nQ 16.21875 57.28125 16.21875 49.421875 \nQ 16.21875 41.5 20.09375 36.953125 \nQ 23.96875 32.421875 30.609375 32.421875 \nz\n\" id=\"DejaVuSans-57\"/>\n       </defs>\n       <use xlink:href=\"#DejaVuSans-50\"/>\n       <use x=\"63.623047\" xlink:href=\"#DejaVuSans-48\"/>\n       <use x=\"127.246094\" xlink:href=\"#DejaVuSans-49\"/>\n       <use x=\"190.869141\" xlink:href=\"#DejaVuSans-56\"/>\n       <use x=\"254.492188\" xlink:href=\"#DejaVuSans-45\"/>\n       <use x=\"290.576172\" xlink:href=\"#DejaVuSans-48\"/>\n       <use x=\"354.199219\" xlink:href=\"#DejaVuSans-57\"/>\n      </g>\n     </g>\n    </g>\n    <g id=\"xtick_3\">\n     <g id=\"line2d_3\">\n      <g>\n       <use style=\"stroke:#000000;stroke-width:0.8;\" x=\"467.849511\" xlink:href=\"#mfa9e062cfc\" y=\"279\"/>\n      </g>\n     </g>\n     <g id=\"text_3\">\n      <!-- 2019-01 -->\n      <g transform=\"translate(446.958104 293.598437)scale(0.1 -0.1)\">\n       <use xlink:href=\"#DejaVuSans-50\"/>\n       <use x=\"63.623047\" xlink:href=\"#DejaVuSans-48\"/>\n       <use x=\"127.246094\" xlink:href=\"#DejaVuSans-49\"/>\n       <use x=\"190.869141\" xlink:href=\"#DejaVuSans-57\"/>\n       <use x=\"254.492188\" xlink:href=\"#DejaVuSans-45\"/>\n       <use x=\"290.576172\" xlink:href=\"#DejaVuSans-48\"/>\n       <use x=\"354.199219\" xlink:href=\"#DejaVuSans-49\"/>\n      </g>\n     </g>\n    </g>\n    <g id=\"xtick_4\">\n     <g id=\"line2d_4\">\n      <g>\n       <use style=\"stroke:#000000;stroke-width:0.8;\" x=\"614.414285\" xlink:href=\"#mfa9e062cfc\" y=\"279\"/>\n      </g>\n     </g>\n     <g id=\"text_4\">\n      <!-- 2019-05 -->\n      <g transform=\"translate(593.522879 293.598437)scale(0.1 -0.1)\">\n       <use xlink:href=\"#DejaVuSans-50\"/>\n       <use x=\"63.623047\" xlink:href=\"#DejaVuSans-48\"/>\n       <use x=\"127.246094\" xlink:href=\"#DejaVuSans-49\"/>\n       <use x=\"190.869141\" xlink:href=\"#DejaVuSans-57\"/>\n       <use x=\"254.492188\" xlink:href=\"#DejaVuSans-45\"/>\n       <use x=\"290.576172\" xlink:href=\"#DejaVuSans-48\"/>\n       <use x=\"354.199219\" xlink:href=\"#DejaVuSans-53\"/>\n      </g>\n     </g>\n    </g>\n    <g id=\"xtick_5\">\n     <g id=\"line2d_5\">\n      <g>\n       <use style=\"stroke:#000000;stroke-width:0.8;\" x=\"764.643178\" xlink:href=\"#mfa9e062cfc\" y=\"279\"/>\n      </g>\n     </g>\n     <g id=\"text_5\">\n      <!-- 2019-09 -->\n      <g transform=\"translate(743.751772 293.598437)scale(0.1 -0.1)\">\n       <use xlink:href=\"#DejaVuSans-50\"/>\n       <use x=\"63.623047\" xlink:href=\"#DejaVuSans-48\"/>\n       <use x=\"127.246094\" xlink:href=\"#DejaVuSans-49\"/>\n       <use x=\"190.869141\" xlink:href=\"#DejaVuSans-57\"/>\n       <use x=\"254.492188\" xlink:href=\"#DejaVuSans-45\"/>\n       <use x=\"290.576172\" xlink:href=\"#DejaVuSans-48\"/>\n       <use x=\"354.199219\" xlink:href=\"#DejaVuSans-57\"/>\n      </g>\n     </g>\n    </g>\n    <g id=\"xtick_6\">\n     <g id=\"line2d_6\">\n      <g>\n       <use style=\"stroke:#000000;stroke-width:0.8;\" x=\"913.650699\" xlink:href=\"#mfa9e062cfc\" y=\"279\"/>\n      </g>\n     </g>\n     <g id=\"text_6\">\n      <!-- 2020-01 -->\n      <g transform=\"translate(892.759292 293.598437)scale(0.1 -0.1)\">\n       <use xlink:href=\"#DejaVuSans-50\"/>\n       <use x=\"63.623047\" xlink:href=\"#DejaVuSans-48\"/>\n       <use x=\"127.246094\" xlink:href=\"#DejaVuSans-50\"/>\n       <use x=\"190.869141\" xlink:href=\"#DejaVuSans-48\"/>\n       <use x=\"254.492188\" xlink:href=\"#DejaVuSans-45\"/>\n       <use x=\"290.576172\" xlink:href=\"#DejaVuSans-48\"/>\n       <use x=\"354.199219\" xlink:href=\"#DejaVuSans-49\"/>\n      </g>\n     </g>\n    </g>\n    <g id=\"xtick_7\">\n     <g id=\"line2d_7\">\n      <g>\n       <use style=\"stroke:#000000;stroke-width:0.8;\" x=\"1061.436846\" xlink:href=\"#mfa9e062cfc\" y=\"279\"/>\n      </g>\n     </g>\n     <g id=\"text_7\">\n      <!-- 2020-05 -->\n      <g transform=\"translate(1040.54544 293.598437)scale(0.1 -0.1)\">\n       <use xlink:href=\"#DejaVuSans-50\"/>\n       <use x=\"63.623047\" xlink:href=\"#DejaVuSans-48\"/>\n       <use x=\"127.246094\" xlink:href=\"#DejaVuSans-50\"/>\n       <use x=\"190.869141\" xlink:href=\"#DejaVuSans-48\"/>\n       <use x=\"254.492188\" xlink:href=\"#DejaVuSans-45\"/>\n       <use x=\"290.576172\" xlink:href=\"#DejaVuSans-48\"/>\n       <use x=\"354.199219\" xlink:href=\"#DejaVuSans-53\"/>\n      </g>\n     </g>\n    </g>\n    <g id=\"xtick_8\">\n     <g id=\"line2d_8\">\n      <g>\n       <use style=\"stroke:#000000;stroke-width:0.8;\" x=\"1211.665739\" xlink:href=\"#mfa9e062cfc\" y=\"279\"/>\n      </g>\n     </g>\n     <g id=\"text_8\">\n      <!-- 2020-09 -->\n      <g transform=\"translate(1190.774333 293.598437)scale(0.1 -0.1)\">\n       <use xlink:href=\"#DejaVuSans-50\"/>\n       <use x=\"63.623047\" xlink:href=\"#DejaVuSans-48\"/>\n       <use x=\"127.246094\" xlink:href=\"#DejaVuSans-50\"/>\n       <use x=\"190.869141\" xlink:href=\"#DejaVuSans-48\"/>\n       <use x=\"254.492188\" xlink:href=\"#DejaVuSans-45\"/>\n       <use x=\"290.576172\" xlink:href=\"#DejaVuSans-48\"/>\n       <use x=\"354.199219\" xlink:href=\"#DejaVuSans-57\"/>\n      </g>\n     </g>\n    </g>\n    <g id=\"xtick_9\">\n     <g id=\"line2d_9\">\n      <g>\n       <use style=\"stroke:#000000;stroke-width:0.8;\" x=\"1360.67326\" xlink:href=\"#mfa9e062cfc\" y=\"279\"/>\n      </g>\n     </g>\n     <g id=\"text_9\">\n      <!-- 2021-01 -->\n      <g transform=\"translate(1339.781853 293.598437)scale(0.1 -0.1)\">\n       <use xlink:href=\"#DejaVuSans-50\"/>\n       <use x=\"63.623047\" xlink:href=\"#DejaVuSans-48\"/>\n       <use x=\"127.246094\" xlink:href=\"#DejaVuSans-50\"/>\n       <use x=\"190.869141\" xlink:href=\"#DejaVuSans-49\"/>\n       <use x=\"254.492188\" xlink:href=\"#DejaVuSans-45\"/>\n       <use x=\"290.576172\" xlink:href=\"#DejaVuSans-48\"/>\n       <use x=\"354.199219\" xlink:href=\"#DejaVuSans-49\"/>\n      </g>\n     </g>\n    </g>\n   </g>\n   <g id=\"matplotlib.axis_2\">\n    <g id=\"ytick_1\">\n     <g id=\"line2d_10\">\n      <defs>\n       <path d=\"M 0 0 \nL -3.5 0 \n\" id=\"m014ca9b1ec\" style=\"stroke:#000000;stroke-width:0.8;\"/>\n      </defs>\n      <g>\n       <use style=\"stroke:#000000;stroke-width:0.8;\" x=\"33.2875\" xlink:href=\"#m014ca9b1ec\" y=\"279\"/>\n      </g>\n     </g>\n     <g id=\"text_10\">\n      <!-- 0 -->\n      <g transform=\"translate(19.925 282.799219)scale(0.1 -0.1)\">\n       <use xlink:href=\"#DejaVuSans-48\"/>\n      </g>\n     </g>\n    </g>\n    <g id=\"ytick_2\">\n     <g id=\"line2d_11\">\n      <g>\n       <use style=\"stroke:#000000;stroke-width:0.8;\" x=\"33.2875\" xlink:href=\"#m014ca9b1ec\" y=\"245.642121\"/>\n      </g>\n     </g>\n     <g id=\"text_11\">\n      <!-- 100 -->\n      <g transform=\"translate(7.2 249.44134)scale(0.1 -0.1)\">\n       <use xlink:href=\"#DejaVuSans-49\"/>\n       <use x=\"63.623047\" xlink:href=\"#DejaVuSans-48\"/>\n       <use x=\"127.246094\" xlink:href=\"#DejaVuSans-48\"/>\n      </g>\n     </g>\n    </g>\n    <g id=\"ytick_3\">\n     <g id=\"line2d_12\">\n      <g>\n       <use style=\"stroke:#000000;stroke-width:0.8;\" x=\"33.2875\" xlink:href=\"#m014ca9b1ec\" y=\"212.284242\"/>\n      </g>\n     </g>\n     <g id=\"text_12\">\n      <!-- 200 -->\n      <g transform=\"translate(7.2 216.08346)scale(0.1 -0.1)\">\n       <use xlink:href=\"#DejaVuSans-50\"/>\n       <use x=\"63.623047\" xlink:href=\"#DejaVuSans-48\"/>\n       <use x=\"127.246094\" xlink:href=\"#DejaVuSans-48\"/>\n      </g>\n     </g>\n    </g>\n    <g id=\"ytick_4\">\n     <g id=\"line2d_13\">\n      <g>\n       <use style=\"stroke:#000000;stroke-width:0.8;\" x=\"33.2875\" xlink:href=\"#m014ca9b1ec\" y=\"178.926362\"/>\n      </g>\n     </g>\n     <g id=\"text_13\">\n      <!-- 300 -->\n      <g transform=\"translate(7.2 182.725581)scale(0.1 -0.1)\">\n       <defs>\n        <path d=\"M 40.578125 39.3125 \nQ 47.65625 37.796875 51.625 33 \nQ 55.609375 28.21875 55.609375 21.1875 \nQ 55.609375 10.40625 48.1875 4.484375 \nQ 40.765625 -1.421875 27.09375 -1.421875 \nQ 22.515625 -1.421875 17.65625 -0.515625 \nQ 12.796875 0.390625 7.625 2.203125 \nL 7.625 11.71875 \nQ 11.71875 9.328125 16.59375 8.109375 \nQ 21.484375 6.890625 26.8125 6.890625 \nQ 36.078125 6.890625 40.9375 10.546875 \nQ 45.796875 14.203125 45.796875 21.1875 \nQ 45.796875 27.640625 41.28125 31.265625 \nQ 36.765625 34.90625 28.71875 34.90625 \nL 20.21875 34.90625 \nL 20.21875 43.015625 \nL 29.109375 43.015625 \nQ 36.375 43.015625 40.234375 45.921875 \nQ 44.09375 48.828125 44.09375 54.296875 \nQ 44.09375 59.90625 40.109375 62.90625 \nQ 36.140625 65.921875 28.71875 65.921875 \nQ 24.65625 65.921875 20.015625 65.03125 \nQ 15.375 64.15625 9.8125 62.3125 \nL 9.8125 71.09375 \nQ 15.4375 72.65625 20.34375 73.4375 \nQ 25.25 74.21875 29.59375 74.21875 \nQ 40.828125 74.21875 47.359375 69.109375 \nQ 53.90625 64.015625 53.90625 55.328125 \nQ 53.90625 49.265625 50.4375 45.09375 \nQ 46.96875 40.921875 40.578125 39.3125 \nz\n\" id=\"DejaVuSans-51\"/>\n       </defs>\n       <use xlink:href=\"#DejaVuSans-51\"/>\n       <use x=\"63.623047\" xlink:href=\"#DejaVuSans-48\"/>\n       <use x=\"127.246094\" xlink:href=\"#DejaVuSans-48\"/>\n      </g>\n     </g>\n    </g>\n    <g id=\"ytick_5\">\n     <g id=\"line2d_14\">\n      <g>\n       <use style=\"stroke:#000000;stroke-width:0.8;\" x=\"33.2875\" xlink:href=\"#m014ca9b1ec\" y=\"145.568483\"/>\n      </g>\n     </g>\n     <g id=\"text_14\">\n      <!-- 400 -->\n      <g transform=\"translate(7.2 149.367702)scale(0.1 -0.1)\">\n       <defs>\n        <path d=\"M 37.796875 64.3125 \nL 12.890625 25.390625 \nL 37.796875 25.390625 \nz\nM 35.203125 72.90625 \nL 47.609375 72.90625 \nL 47.609375 25.390625 \nL 58.015625 25.390625 \nL 58.015625 17.1875 \nL 47.609375 17.1875 \nL 47.609375 0 \nL 37.796875 0 \nL 37.796875 17.1875 \nL 4.890625 17.1875 \nL 4.890625 26.703125 \nz\n\" id=\"DejaVuSans-52\"/>\n       </defs>\n       <use xlink:href=\"#DejaVuSans-52\"/>\n       <use x=\"63.623047\" xlink:href=\"#DejaVuSans-48\"/>\n       <use x=\"127.246094\" xlink:href=\"#DejaVuSans-48\"/>\n      </g>\n     </g>\n    </g>\n    <g id=\"ytick_6\">\n     <g id=\"line2d_15\">\n      <g>\n       <use style=\"stroke:#000000;stroke-width:0.8;\" x=\"33.2875\" xlink:href=\"#m014ca9b1ec\" y=\"112.210604\"/>\n      </g>\n     </g>\n     <g id=\"text_15\">\n      <!-- 500 -->\n      <g transform=\"translate(7.2 116.009823)scale(0.1 -0.1)\">\n       <use xlink:href=\"#DejaVuSans-53\"/>\n       <use x=\"63.623047\" xlink:href=\"#DejaVuSans-48\"/>\n       <use x=\"127.246094\" xlink:href=\"#DejaVuSans-48\"/>\n      </g>\n     </g>\n    </g>\n    <g id=\"ytick_7\">\n     <g id=\"line2d_16\">\n      <g>\n       <use style=\"stroke:#000000;stroke-width:0.8;\" x=\"33.2875\" xlink:href=\"#m014ca9b1ec\" y=\"78.852725\"/>\n      </g>\n     </g>\n     <g id=\"text_16\">\n      <!-- 600 -->\n      <g transform=\"translate(7.2 82.651943)scale(0.1 -0.1)\">\n       <defs>\n        <path d=\"M 33.015625 40.375 \nQ 26.375 40.375 22.484375 35.828125 \nQ 18.609375 31.296875 18.609375 23.390625 \nQ 18.609375 15.53125 22.484375 10.953125 \nQ 26.375 6.390625 33.015625 6.390625 \nQ 39.65625 6.390625 43.53125 10.953125 \nQ 47.40625 15.53125 47.40625 23.390625 \nQ 47.40625 31.296875 43.53125 35.828125 \nQ 39.65625 40.375 33.015625 40.375 \nz\nM 52.59375 71.296875 \nL 52.59375 62.3125 \nQ 48.875 64.0625 45.09375 64.984375 \nQ 41.3125 65.921875 37.59375 65.921875 \nQ 27.828125 65.921875 22.671875 59.328125 \nQ 17.53125 52.734375 16.796875 39.40625 \nQ 19.671875 43.65625 24.015625 45.921875 \nQ 28.375 48.1875 33.59375 48.1875 \nQ 44.578125 48.1875 50.953125 41.515625 \nQ 57.328125 34.859375 57.328125 23.390625 \nQ 57.328125 12.15625 50.6875 5.359375 \nQ 44.046875 -1.421875 33.015625 -1.421875 \nQ 20.359375 -1.421875 13.671875 8.265625 \nQ 6.984375 17.96875 6.984375 36.375 \nQ 6.984375 53.65625 15.1875 63.9375 \nQ 23.390625 74.21875 37.203125 74.21875 \nQ 40.921875 74.21875 44.703125 73.484375 \nQ 48.484375 72.75 52.59375 71.296875 \nz\n\" id=\"DejaVuSans-54\"/>\n       </defs>\n       <use xlink:href=\"#DejaVuSans-54\"/>\n       <use x=\"63.623047\" xlink:href=\"#DejaVuSans-48\"/>\n       <use x=\"127.246094\" xlink:href=\"#DejaVuSans-48\"/>\n      </g>\n     </g>\n    </g>\n    <g id=\"ytick_8\">\n     <g id=\"line2d_17\">\n      <g>\n       <use style=\"stroke:#000000;stroke-width:0.8;\" x=\"33.2875\" xlink:href=\"#m014ca9b1ec\" y=\"45.494845\"/>\n      </g>\n     </g>\n     <g id=\"text_17\">\n      <!-- 700 -->\n      <g transform=\"translate(7.2 49.294064)scale(0.1 -0.1)\">\n       <defs>\n        <path d=\"M 8.203125 72.90625 \nL 55.078125 72.90625 \nL 55.078125 68.703125 \nL 28.609375 0 \nL 18.3125 0 \nL 43.21875 64.59375 \nL 8.203125 64.59375 \nz\n\" id=\"DejaVuSans-55\"/>\n       </defs>\n       <use xlink:href=\"#DejaVuSans-55\"/>\n       <use x=\"63.623047\" xlink:href=\"#DejaVuSans-48\"/>\n       <use x=\"127.246094\" xlink:href=\"#DejaVuSans-48\"/>\n      </g>\n     </g>\n    </g>\n    <g id=\"ytick_9\">\n     <g id=\"line2d_18\">\n      <g>\n       <use style=\"stroke:#000000;stroke-width:0.8;\" x=\"33.2875\" xlink:href=\"#m014ca9b1ec\" y=\"12.136966\"/>\n      </g>\n     </g>\n     <g id=\"text_18\">\n      <!-- 800 -->\n      <g transform=\"translate(7.2 15.936185)scale(0.1 -0.1)\">\n       <use xlink:href=\"#DejaVuSans-56\"/>\n       <use x=\"63.623047\" xlink:href=\"#DejaVuSans-48\"/>\n       <use x=\"127.246094\" xlink:href=\"#DejaVuSans-48\"/>\n      </g>\n     </g>\n    </g>\n   </g>\n   <g id=\"patch_13\">\n    <path d=\"M 33.2875 279 \nL 33.2875 7.2 \n\" style=\"fill:none;stroke:#000000;stroke-linecap:square;stroke-linejoin:miter;stroke-width:0.8;\"/>\n   </g>\n   <g id=\"patch_14\">\n    <path d=\"M 1372.4875 279 \nL 1372.4875 7.2 \n\" style=\"fill:none;stroke:#000000;stroke-linecap:square;stroke-linejoin:miter;stroke-width:0.8;\"/>\n   </g>\n   <g id=\"patch_15\">\n    <path d=\"M 33.2875 279 \nL 1372.4875 279 \n\" style=\"fill:none;stroke:#000000;stroke-linecap:square;stroke-linejoin:miter;stroke-width:0.8;\"/>\n   </g>\n   <g id=\"patch_16\">\n    <path d=\"M 33.2875 7.2 \nL 1372.4875 7.2 \n\" style=\"fill:none;stroke:#000000;stroke-linecap:square;stroke-linejoin:miter;stroke-width:0.8;\"/>\n   </g>\n  </g>\n </g>\n <defs>\n  <clipPath id=\"p1fcc777b48\">\n   <rect height=\"271.8\" width=\"1339.2\" x=\"33.2875\" y=\"7.2\"/>\n  </clipPath>\n </defs>\n</svg>\n",
      "image/png": "[encoded data removed]"
     },
     "metadata": {
      "needs_background": "light"
     }
    }
   ],
   "source": [
    "uls_cloud_na = ulsan_obs_interpolated[ulsan_obs_interpolated['Cloud'].isna()]\n",
    "plt.figure(figsize=(24,5))\n",
    "plt.hist(uls_cloud_na['time'])"
   ]
  },
  {
   "cell_type": "code",
   "execution_count": 211,
   "metadata": {},
   "outputs": [],
   "source": [
    "# fill with median\n",
    "dangjin_obs_filled = dangjin_obs_interpolated.copy()\n",
    "ulsan_obs_filled = ulsan_obs_interpolated.copy()\n",
    "\n",
    "for col in dangjin_obs_interpolated.columns[1:]: \n",
    "    median = dangjin_obs_interpolated.median()[col]\n",
    "    dangjin_obs_filled = dangjin_obs_interpolated.fillna(median) \n",
    "\n",
    "for col in ulsan_obs_interpolated.columns[1:]:\n",
    "    median = ulsan_obs_interpolated.median()[col]\n",
    "    ulsan_obs_filled = ulsan_obs_interpolated.fillna(median)   "
   ]
  },
  {
   "cell_type": "code",
   "execution_count": 212,
   "metadata": {},
   "outputs": [],
   "source": [
    "# fcst data (for code)\n",
    "dangjin_fcst_filled = dangjin_fcst_interpolated\n",
    "ulsan_fcst_filled = ulsan_fcst_interpolated"
   ]
  },
  {
   "source": [],
   "cell_type": "markdown",
   "metadata": {}
  },
  {
   "source": [
    "## Fill missing values - energy\n",
    "\n",
    "enery:  \n",
    "- dangjin_floating과 dangjin_warehouse에서 n/a가 나타남.  \n",
    "- dangjin mean과 dangjin_floating mean, dangjin_warehouse mean과의 비를 통해 채운다."
   ],
   "cell_type": "markdown",
   "metadata": {}
  },
  {
   "cell_type": "code",
   "execution_count": 213,
   "metadata": {},
   "outputs": [
    {
     "output_type": "execute_result",
     "data": {
      "text/plain": [
       "time                  0\n",
       "dangjin_floating     24\n",
       "dangjin_warehouse    48\n",
       "dangjin               0\n",
       "ulsan                 0\n",
       "dtype: int64"
      ]
     },
     "metadata": {},
     "execution_count": 213
    }
   ],
   "source": [
    "energy.isna().sum()"
   ]
  },
  {
   "cell_type": "code",
   "execution_count": 214,
   "metadata": {},
   "outputs": [
    {
     "output_type": "execute_result",
     "data": {
      "text/plain": [
       "(0.6621875391769269, 0.8739952702591247)"
      ]
     },
     "metadata": {},
     "execution_count": 214
    }
   ],
   "source": [
    "# convert dangjin to dangjin_warehouse or dangjin_floating via 비율 of mean\n",
    "energy_mean_series = energy.mean(axis=0)\n",
    "dj_to_djwh = energy_mean_series['dangjin_warehouse'] / energy_mean_series['dangjin'] \n",
    "dj_to_djflt = energy_mean_series['dangjin_floating'] / energy_mean_series['dangjin']\n",
    "\n",
    "dj_to_djwh, dj_to_djflt"
   ]
  },
  {
   "cell_type": "code",
   "execution_count": 215,
   "metadata": {},
   "outputs": [],
   "source": [
    "# slice where data is na\n",
    "na_dangjin_warehouse = energy.loc[energy['dangjin_warehouse'].isna()] # df where dangjin_warehouse = na\n",
    "na_dangjin_warehouse.loc[:,'dangjin_warehouse'] = na_dangjin_warehouse['dangjin'] * dj_to_djwh\n",
    "\n",
    "na_dangjin_floating = energy.loc[energy['dangjin_floating'].isna()] # df where dangjin_floating = na\n",
    "na_dangjin_floating.loc[:,'dangjin_floating'] = na_dangjin_floating['dangjin'] * dj_to_djflt"
   ]
  },
  {
   "cell_type": "code",
   "execution_count": 216,
   "metadata": {},
   "outputs": [
    {
     "output_type": "execute_result",
     "data": {
      "text/plain": [
       "time                 0\n",
       "dangjin_floating     0\n",
       "dangjin_warehouse    0\n",
       "dangjin              0\n",
       "ulsan                0\n",
       "dtype: int64"
      ]
     },
     "metadata": {},
     "execution_count": 216
    }
   ],
   "source": [
    "# create filled df\n",
    "energy_filled = energy.copy()\n",
    "\n",
    "energy_filled[energy['dangjin_warehouse'].isna()] = na_dangjin_warehouse\n",
    "energy_filled[energy['dangjin_floating'].isna()] = na_dangjin_floating\n",
    "\n",
    "energy_filled.isna().sum()"
   ]
  },
  {
   "source": [
    "## Drop potential nas (where 24 target values in one day are all zero) - energy"
   ],
   "cell_type": "markdown",
   "metadata": {}
  },
  {
   "cell_type": "code",
   "execution_count": 217,
   "metadata": {},
   "outputs": [],
   "source": [
    "# There are days where all 24 target values are all zero.\n",
    "# This should be interpreted as an error.\n",
    "# Therefore, change all the 0 of the above situation to NA\n",
    "\n",
    "target_list = ['dangjin','dangjin_floating', 'dangjin_warehouse', 'ulsan']\n",
    "energy_is_zero_dict = {target:[] for target in target_list} # store indices where the whole day is zero\n",
    "energy_is_zero = list()\n",
    "\n",
    "for i in range(energy_filled.shape[0] // 24):\n",
    "    idx = i*24    \n",
    "    energy_sample = energy_filled.iloc[idx:idx+24]\n",
    "    energy_sample_sum = energy_sample.sum(axis=0)\n",
    "\n",
    "    for target in target_list:\n",
    "        if energy_sample_sum[target] == 0:\n",
    "            # save index(day)\n",
    "            energy_is_zero_dict[target].append(i)\n",
    "            energy_is_zero.append(i)"
   ]
  },
  {
   "cell_type": "code",
   "execution_count": 218,
   "metadata": {},
   "outputs": [],
   "source": [
    "# drop those rows\n",
    "energy_filled_dropped = energy_filled.copy()\n",
    "\n",
    "for i in set(energy_is_zero):\n",
    "    idx = i*24\n",
    "    to_drop = [idx + n for n in range(24)]\n",
    "    energy_filled_dropped.drop(index=to_drop, inplace=True)"
   ]
  },
  {
   "source": [
    "## Merge fcst, obs, and energy\n",
    "- inner merge on 'time'"
   ],
   "cell_type": "markdown",
   "metadata": {}
  },
  {
   "cell_type": "code",
   "execution_count": 219,
   "metadata": {},
   "outputs": [
    {
     "output_type": "stream",
     "name": "stdout",
     "text": [
      "(26353, 6)\n(25631, 6)\n(26353, 6)\n(25631, 6)\n(24696, 5)\n"
     ]
    }
   ],
   "source": [
    "print(dangjin_fcst_filled.shape)\n",
    "print(dangjin_obs_filled.shape)\n",
    "print(ulsan_fcst_filled.shape)\n",
    "print(ulsan_obs_filled.shape)\n",
    "print(energy_filled_dropped.shape)"
   ]
  },
  {
   "cell_type": "code",
   "execution_count": 242,
   "metadata": {},
   "outputs": [
    {
     "output_type": "display_data",
     "data": {
      "text/plain": "       Temperature_fcst  Humidity_fcst  Cloud_fcst  Wind_X_fcst  Wind_Y_fcst  \\\n0             -2.000000      50.000000    2.763537     5.298564  -136.663512   \n1             -2.275631      51.476418    2.763533     5.025906  -139.335262   \n2             -2.608964      53.143085    2.763533     4.815685  -134.276336   \n3             -3.000000      55.000000    2.763537     4.667902  -121.486735   \n4             -3.448739      57.047163    2.763546     4.582556  -100.966458   \n...                 ...            ...         ...          ...          ...   \n24666          6.000000      75.000000    7.961345    -3.374657   -22.789567   \n24667          5.530065      77.684167    7.929822    -3.117170    -4.698146   \n24668          5.698024      79.299321    7.946269    -3.294497    19.538506   \n24669          6.000000      80.000000    7.961345    -3.814776    34.929164   \n24670          6.352012      79.811961    7.966827    -4.662695    38.975292   \n\n                     time  Temperature_obs  Humidity_obs  Cloud_obs  \\\n0     2018-03-02 00:00:00             -2.7          56.0        0.0   \n1     2018-03-02 01:00:00             -2.8          53.0        0.0   \n2     2018-03-02 02:00:00             -3.2          52.0        0.0   \n3     2018-03-02 03:00:00             -3.5          50.0        0.0   \n4     2018-03-02 04:00:00             -4.2          55.0        0.0   \n...                   ...              ...           ...        ...   \n24666 2021-01-31 18:00:00              7.8          70.0        8.0   \n24667 2021-01-31 19:00:00              6.7          75.0        8.0   \n24668 2021-01-31 20:00:00              6.2          77.0        8.0   \n24669 2021-01-31 21:00:00              5.3          82.0        8.0   \n24670 2021-01-31 22:00:00              5.8          77.0        8.0   \n\n       Wind_X_obs    Wind_Y_obs  dangjin_floating  dangjin_warehouse  dangjin  \n0        3.700000 -8.817457e-14               0.0                0.0        0  \n1        3.800000 -8.817457e-14               0.0                0.0        0  \n2        2.500000 -8.817457e-14               0.0                0.0        0  \n3        2.443201  6.840403e+00               0.0                0.0        0  \n4        0.899903  3.830222e+01               0.0                0.0        0  \n...           ...           ...               ...                ...      ...  \n24666   -1.879385 -6.840403e+01              10.0                6.0        0  \n24667   -1.409539 -6.840403e+01               0.0                0.0        0  \n24668   -0.751754 -6.840403e+01               0.0                0.0        0  \n24669   -0.449951 -1.761902e+02               0.0                0.0        0  \n24670   -0.939693 -6.840403e+01               0.0                0.0        0  \n\n[24671 rows x 14 columns]",
      "text/html": "<div>\n<style scoped>\n    .dataframe tbody tr th:only-of-type {\n        vertical-align: middle;\n    }\n\n    .dataframe tbody tr th {\n        vertical-align: top;\n    }\n\n    .dataframe thead th {\n        text-align: right;\n    }\n</style>\n<table border=\"1\" class=\"dataframe\">\n  <thead>\n    <tr style=\"text-align: right;\">\n      <th></th>\n      <th>Temperature_fcst</th>\n      <th>Humidity_fcst</th>\n      <th>Cloud_fcst</th>\n      <th>Wind_X_fcst</th>\n      <th>Wind_Y_fcst</th>\n      <th>time</th>\n      <th>Temperature_obs</th>\n      <th>Humidity_obs</th>\n      <th>Cloud_obs</th>\n      <th>Wind_X_obs</th>\n      <th>Wind_Y_obs</th>\n      <th>dangjin_floating</th>\n      <th>dangjin_warehouse</th>\n      <th>dangjin</th>\n    </tr>\n  </thead>\n  <tbody>\n    <tr>\n      <th>0</th>\n      <td>-2.000000</td>\n      <td>50.000000</td>\n      <td>2.763537</td>\n      <td>5.298564</td>\n      <td>-136.663512</td>\n      <td>2018-03-02 00:00:00</td>\n      <td>-2.7</td>\n      <td>56.0</td>\n      <td>0.0</td>\n      <td>3.700000</td>\n      <td>-8.817457e-14</td>\n      <td>0.0</td>\n      <td>0.0</td>\n      <td>0</td>\n    </tr>\n    <tr>\n      <th>1</th>\n      <td>-2.275631</td>\n      <td>51.476418</td>\n      <td>2.763533</td>\n      <td>5.025906</td>\n      <td>-139.335262</td>\n      <td>2018-03-02 01:00:00</td>\n      <td>-2.8</td>\n      <td>53.0</td>\n      <td>0.0</td>\n      <td>3.800000</td>\n      <td>-8.817457e-14</td>\n      <td>0.0</td>\n      <td>0.0</td>\n      <td>0</td>\n    </tr>\n    <tr>\n      <th>2</th>\n      <td>-2.608964</td>\n      <td>53.143085</td>\n      <td>2.763533</td>\n      <td>4.815685</td>\n      <td>-134.276336</td>\n      <td>2018-03-02 02:00:00</td>\n      <td>-3.2</td>\n      <td>52.0</td>\n      <td>0.0</td>\n      <td>2.500000</td>\n      <td>-8.817457e-14</td>\n      <td>0.0</td>\n      <td>0.0</td>\n      <td>0</td>\n    </tr>\n    <tr>\n      <th>3</th>\n      <td>-3.000000</td>\n      <td>55.000000</td>\n      <td>2.763537</td>\n      <td>4.667902</td>\n      <td>-121.486735</td>\n      <td>2018-03-02 03:00:00</td>\n      <td>-3.5</td>\n      <td>50.0</td>\n      <td>0.0</td>\n      <td>2.443201</td>\n      <td>6.840403e+00</td>\n      <td>0.0</td>\n      <td>0.0</td>\n      <td>0</td>\n    </tr>\n    <tr>\n      <th>4</th>\n      <td>-3.448739</td>\n      <td>57.047163</td>\n      <td>2.763546</td>\n      <td>4.582556</td>\n      <td>-100.966458</td>\n      <td>2018-03-02 04:00:00</td>\n      <td>-4.2</td>\n      <td>55.0</td>\n      <td>0.0</td>\n      <td>0.899903</td>\n      <td>3.830222e+01</td>\n      <td>0.0</td>\n      <td>0.0</td>\n      <td>0</td>\n    </tr>\n    <tr>\n      <th>...</th>\n      <td>...</td>\n      <td>...</td>\n      <td>...</td>\n      <td>...</td>\n      <td>...</td>\n      <td>...</td>\n      <td>...</td>\n      <td>...</td>\n      <td>...</td>\n      <td>...</td>\n      <td>...</td>\n      <td>...</td>\n      <td>...</td>\n      <td>...</td>\n    </tr>\n    <tr>\n      <th>24666</th>\n      <td>6.000000</td>\n      <td>75.000000</td>\n      <td>7.961345</td>\n      <td>-3.374657</td>\n      <td>-22.789567</td>\n      <td>2021-01-31 18:00:00</td>\n      <td>7.8</td>\n      <td>70.0</td>\n      <td>8.0</td>\n      <td>-1.879385</td>\n      <td>-6.840403e+01</td>\n      <td>10.0</td>\n      <td>6.0</td>\n      <td>0</td>\n    </tr>\n    <tr>\n      <th>24667</th>\n      <td>5.530065</td>\n      <td>77.684167</td>\n      <td>7.929822</td>\n      <td>-3.117170</td>\n      <td>-4.698146</td>\n      <td>2021-01-31 19:00:00</td>\n      <td>6.7</td>\n      <td>75.0</td>\n      <td>8.0</td>\n      <td>-1.409539</td>\n      <td>-6.840403e+01</td>\n      <td>0.0</td>\n      <td>0.0</td>\n      <td>0</td>\n    </tr>\n    <tr>\n      <th>24668</th>\n      <td>5.698024</td>\n      <td>79.299321</td>\n      <td>7.946269</td>\n      <td>-3.294497</td>\n      <td>19.538506</td>\n      <td>2021-01-31 20:00:00</td>\n      <td>6.2</td>\n      <td>77.0</td>\n      <td>8.0</td>\n      <td>-0.751754</td>\n      <td>-6.840403e+01</td>\n      <td>0.0</td>\n      <td>0.0</td>\n      <td>0</td>\n    </tr>\n    <tr>\n      <th>24669</th>\n      <td>6.000000</td>\n      <td>80.000000</td>\n      <td>7.961345</td>\n      <td>-3.814776</td>\n      <td>34.929164</td>\n      <td>2021-01-31 21:00:00</td>\n      <td>5.3</td>\n      <td>82.0</td>\n      <td>8.0</td>\n      <td>-0.449951</td>\n      <td>-1.761902e+02</td>\n      <td>0.0</td>\n      <td>0.0</td>\n      <td>0</td>\n    </tr>\n    <tr>\n      <th>24670</th>\n      <td>6.352012</td>\n      <td>79.811961</td>\n      <td>7.966827</td>\n      <td>-4.662695</td>\n      <td>38.975292</td>\n      <td>2021-01-31 22:00:00</td>\n      <td>5.8</td>\n      <td>77.0</td>\n      <td>8.0</td>\n      <td>-0.939693</td>\n      <td>-6.840403e+01</td>\n      <td>0.0</td>\n      <td>0.0</td>\n      <td>0</td>\n    </tr>\n  </tbody>\n</table>\n<p>24671 rows × 14 columns</p>\n</div>"
     },
     "metadata": {}
    },
    {
     "output_type": "display_data",
     "data": {
      "text/plain": "       Temperature_fcst  Humidity_fcst  Cloud_fcst  Wind_X_fcst  Wind_Y_fcst  \\\n0              0.000000      40.000000    3.591006     1.010290  -202.011846   \n1             -0.461877      42.103095    3.876191     0.931401  -229.711741   \n2             -0.795211      43.769762    3.876191     0.885523  -249.544890   \n3             -1.000000      45.000000    3.591006     0.872657  -261.511292   \n4             -1.076245      45.793809    3.020638     0.892803  -265.610947   \n...                 ...            ...         ...          ...          ...   \n24666          9.000000      55.000000    8.638197    -2.472747   -61.185365   \n24667          8.258344      61.546991    8.911283    -2.383447   -76.290878   \n24668          7.828429      67.271072    8.768621    -2.592073   -97.510460   \n24669          8.000000      70.000000    8.638197    -2.944486  -105.000000   \n24670          8.821349      69.371734    8.591343    -3.414997   -95.452146   \n\n                     time  Temperature_obs  Humidity_obs  Cloud_obs  \\\n0     2018-03-02 00:00:00              1.3          37.0 -68.404029   \n1     2018-03-02 01:00:00              0.5          42.0 -68.404029   \n2     2018-03-02 02:00:00             -0.4          46.0 -68.404029   \n3     2018-03-02 03:00:00             -0.9          48.0   9.000000   \n4     2018-03-02 04:00:00             -1.5          51.0   8.000000   \n...                   ...              ...           ...        ...   \n24666 2021-01-31 18:00:00              9.3          43.0   0.000000   \n24667 2021-01-31 19:00:00              8.8          50.0   5.000000   \n24668 2021-01-31 20:00:00              8.7          49.0   1.000000   \n24669 2021-01-31 21:00:00              8.4          51.0   7.000000   \n24670 2021-01-31 22:00:00              9.4          51.0   8.000000   \n\n       Wind_X_obs    Wind_Y_obs  ulsan  \n0        3.194955 -1.162868e+02      0  \n1        2.000000 -8.817457e-14      0  \n2        2.300000 -8.817457e-14      0  \n3        1.879385  6.840403e+00      0  \n4        2.161293 -1.162868e+02      0  \n...           ...           ...    ...  \n24666   -3.400000  2.204364e-14      8  \n24667   -2.349232 -6.840403e+01      0  \n24668   -3.664801 -6.840403e+01      0  \n24669   -1.542690 -1.761902e+02      0  \n24670   -2.121199 -1.761902e+02      0  \n\n[24671 rows x 12 columns]",
      "text/html": "<div>\n<style scoped>\n    .dataframe tbody tr th:only-of-type {\n        vertical-align: middle;\n    }\n\n    .dataframe tbody tr th {\n        vertical-align: top;\n    }\n\n    .dataframe thead th {\n        text-align: right;\n    }\n</style>\n<table border=\"1\" class=\"dataframe\">\n  <thead>\n    <tr style=\"text-align: right;\">\n      <th></th>\n      <th>Temperature_fcst</th>\n      <th>Humidity_fcst</th>\n      <th>Cloud_fcst</th>\n      <th>Wind_X_fcst</th>\n      <th>Wind_Y_fcst</th>\n      <th>time</th>\n      <th>Temperature_obs</th>\n      <th>Humidity_obs</th>\n      <th>Cloud_obs</th>\n      <th>Wind_X_obs</th>\n      <th>Wind_Y_obs</th>\n      <th>ulsan</th>\n    </tr>\n  </thead>\n  <tbody>\n    <tr>\n      <th>0</th>\n      <td>0.000000</td>\n      <td>40.000000</td>\n      <td>3.591006</td>\n      <td>1.010290</td>\n      <td>-202.011846</td>\n      <td>2018-03-02 00:00:00</td>\n      <td>1.3</td>\n      <td>37.0</td>\n      <td>-68.404029</td>\n      <td>3.194955</td>\n      <td>-1.162868e+02</td>\n      <td>0</td>\n    </tr>\n    <tr>\n      <th>1</th>\n      <td>-0.461877</td>\n      <td>42.103095</td>\n      <td>3.876191</td>\n      <td>0.931401</td>\n      <td>-229.711741</td>\n      <td>2018-03-02 01:00:00</td>\n      <td>0.5</td>\n      <td>42.0</td>\n      <td>-68.404029</td>\n      <td>2.000000</td>\n      <td>-8.817457e-14</td>\n      <td>0</td>\n    </tr>\n    <tr>\n      <th>2</th>\n      <td>-0.795211</td>\n      <td>43.769762</td>\n      <td>3.876191</td>\n      <td>0.885523</td>\n      <td>-249.544890</td>\n      <td>2018-03-02 02:00:00</td>\n      <td>-0.4</td>\n      <td>46.0</td>\n      <td>-68.404029</td>\n      <td>2.300000</td>\n      <td>-8.817457e-14</td>\n      <td>0</td>\n    </tr>\n    <tr>\n      <th>3</th>\n      <td>-1.000000</td>\n      <td>45.000000</td>\n      <td>3.591006</td>\n      <td>0.872657</td>\n      <td>-261.511292</td>\n      <td>2018-03-02 03:00:00</td>\n      <td>-0.9</td>\n      <td>48.0</td>\n      <td>9.000000</td>\n      <td>1.879385</td>\n      <td>6.840403e+00</td>\n      <td>0</td>\n    </tr>\n    <tr>\n      <th>4</th>\n      <td>-1.076245</td>\n      <td>45.793809</td>\n      <td>3.020638</td>\n      <td>0.892803</td>\n      <td>-265.610947</td>\n      <td>2018-03-02 04:00:00</td>\n      <td>-1.5</td>\n      <td>51.0</td>\n      <td>8.000000</td>\n      <td>2.161293</td>\n      <td>-1.162868e+02</td>\n      <td>0</td>\n    </tr>\n    <tr>\n      <th>...</th>\n      <td>...</td>\n      <td>...</td>\n      <td>...</td>\n      <td>...</td>\n      <td>...</td>\n      <td>...</td>\n      <td>...</td>\n      <td>...</td>\n      <td>...</td>\n      <td>...</td>\n      <td>...</td>\n      <td>...</td>\n    </tr>\n    <tr>\n      <th>24666</th>\n      <td>9.000000</td>\n      <td>55.000000</td>\n      <td>8.638197</td>\n      <td>-2.472747</td>\n      <td>-61.185365</td>\n      <td>2021-01-31 18:00:00</td>\n      <td>9.3</td>\n      <td>43.0</td>\n      <td>0.000000</td>\n      <td>-3.400000</td>\n      <td>2.204364e-14</td>\n      <td>8</td>\n    </tr>\n    <tr>\n      <th>24667</th>\n      <td>8.258344</td>\n      <td>61.546991</td>\n      <td>8.911283</td>\n      <td>-2.383447</td>\n      <td>-76.290878</td>\n      <td>2021-01-31 19:00:00</td>\n      <td>8.8</td>\n      <td>50.0</td>\n      <td>5.000000</td>\n      <td>-2.349232</td>\n      <td>-6.840403e+01</td>\n      <td>0</td>\n    </tr>\n    <tr>\n      <th>24668</th>\n      <td>7.828429</td>\n      <td>67.271072</td>\n      <td>8.768621</td>\n      <td>-2.592073</td>\n      <td>-97.510460</td>\n      <td>2021-01-31 20:00:00</td>\n      <td>8.7</td>\n      <td>49.0</td>\n      <td>1.000000</td>\n      <td>-3.664801</td>\n      <td>-6.840403e+01</td>\n      <td>0</td>\n    </tr>\n    <tr>\n      <th>24669</th>\n      <td>8.000000</td>\n      <td>70.000000</td>\n      <td>8.638197</td>\n      <td>-2.944486</td>\n      <td>-105.000000</td>\n      <td>2021-01-31 21:00:00</td>\n      <td>8.4</td>\n      <td>51.0</td>\n      <td>7.000000</td>\n      <td>-1.542690</td>\n      <td>-1.761902e+02</td>\n      <td>0</td>\n    </tr>\n    <tr>\n      <th>24670</th>\n      <td>8.821349</td>\n      <td>69.371734</td>\n      <td>8.591343</td>\n      <td>-3.414997</td>\n      <td>-95.452146</td>\n      <td>2021-01-31 22:00:00</td>\n      <td>9.4</td>\n      <td>51.0</td>\n      <td>8.000000</td>\n      <td>-2.121199</td>\n      <td>-1.761902e+02</td>\n      <td>0</td>\n    </tr>\n  </tbody>\n</table>\n<p>24671 rows × 12 columns</p>\n</div>"
     },
     "metadata": {}
    }
   ],
   "source": [
    "dangjin_merged_ = pd.merge(dangjin_fcst_filled, dangjin_obs_filled, on='time', suffixes=('_fcst','_obs'))\n",
    "dangjin_merged = pd.merge(dangjin_merged_, energy_filled_dropped.loc[:,['time','dangjin_floating','dangjin_warehouse','dangjin']], on='time')\n",
    "\n",
    "ulsan_merged_ = pd.merge(ulsan_fcst_filled, ulsan_obs_filled, on='time', suffixes=('_fcst','_obs'))\n",
    "ulsan_merged = pd.merge(ulsan_merged_, energy_filled_dropped.loc[:,['time','ulsan']], on='time')\n",
    "\n",
    "display(dangjin_merged)\n",
    "display(ulsan_merged)"
   ]
  },
  {
   "source": [
    "## Add seasonality (day and year)"
   ],
   "cell_type": "markdown",
   "metadata": {}
  },
  {
   "cell_type": "code",
   "execution_count": 243,
   "metadata": {},
   "outputs": [
    {
     "output_type": "stream",
     "name": "stdout",
     "text": [
      "2018-03-02 00:00:00\n61\n"
     ]
    }
   ],
   "source": [
    "# function for day_of_year\n",
    "def day_of_year(datetime): #pd.datetime\n",
    "    return pd.Period(datetime, freq='D').day_of_year\n",
    "\n",
    "print(dangjin_fcst_filled.iloc[0]['time'])\n",
    "print(day_of_year(dangjin_fcst_filled.iloc[0]['time']))"
   ]
  },
  {
   "cell_type": "code",
   "execution_count": 244,
   "metadata": {},
   "outputs": [],
   "source": [
    "# function\n",
    "def add_seasonality(df):\n",
    "    new_df = df.copy()\n",
    "    \n",
    "    new_df['Day_cos'] = new_df['time'].apply(lambda x: np.cos(x.hour * (2 * np.pi) / 24))\n",
    "    new_df['Day_sin'] = new_df['time'].apply(lambda x: np.sin(x.hour * (2 * np.pi) / 24))\n",
    "\n",
    "    new_df['Year_cos'] = new_df['time'].apply(lambda x: np.cos(day_of_year(x) * (2 * np.pi) / 365))\n",
    "    new_df['Year_sin'] = new_df['time'].apply(lambda x: np.sin(day_of_year(x) * (2 * np.pi) / 365))\n",
    "\n",
    "    return new_df"
   ]
  },
  {
   "cell_type": "code",
   "execution_count": 245,
   "metadata": {},
   "outputs": [],
   "source": [
    "# apply\n",
    "dangjin_merged_with_season = add_seasonality(dangjin_merged)\n",
    "ulsan_merged_with_season = add_seasonality(ulsan_merged)\n",
    "\n",
    "dangjin_fcst_with_season = add_seasonality(dangjin_fcst_filled)\n",
    "ulsan_fcst_with_season = add_seasonality(ulsan_fcst_filled)\n",
    "dangjin_obs_with_season = add_seasonality(dangjin_obs_filled)\n",
    "ulsan_obs_with_season = add_seasonality(ulsan_obs_filled)"
   ]
  },
  {
   "cell_type": "code",
   "execution_count": 246,
   "metadata": {},
   "outputs": [
    {
     "output_type": "stream",
     "name": "stdout",
     "text": [
      "time        2018-03-02 04:00:00\nDay_cos                     0.5\nDay_sin                0.866025\nYear_cos               0.497513\nYear_sin               0.867456\nName: 4, dtype: object\ntime       2018-03-03 04:00:00\nDay_cos                    0.5\nDay_sin               0.866025\nName: 28, dtype: object\ntime        2019-03-02 04:00:00\nYear_cos               0.497513\nYear_sin               0.867456\nName: 8764, dtype: object\n"
     ]
    }
   ],
   "source": [
    "# check\n",
    "print(dangjin_fcst_with_season.loc[4,['time','Day_cos','Day_sin','Year_cos','Year_sin']])\n",
    "print(dangjin_fcst_with_season.loc[4 + 24,['time','Day_cos','Day_sin']])\n",
    "print(dangjin_fcst_with_season.loc[4 + 24*365,['time','Year_cos','Year_sin']])"
   ]
  },
  {
   "source": [
    "## Pickle dfs"
   ],
   "cell_type": "markdown",
   "metadata": {}
  },
  {
   "cell_type": "code",
   "execution_count": 247,
   "metadata": {},
   "outputs": [],
   "source": [
    "with open('pickles/dangjin_merged.pkl','wb') as f:\n",
    "    pickle.dump(dangjin_merged_with_season,f)\n",
    "with open('pickles/ulsan_merged.pkl','wb') as f:\n",
    "    pickle.dump(ulsan_merged_with_season,f)\n",
    "\n",
    "with open('pickles/dangjin_fcst.pkl','wb') as f:\n",
    "    pickle.dump(dangjin_fcst_with_season, f)\n",
    "with open('pickles/dangjin_obs.pkl','wb') as f:\n",
    "    pickle.dump(dangjin_obs_with_season, f)\n",
    "with open('pickles/ulsan_fcst.pkl','wb') as f:\n",
    "    pickle.dump(ulsan_fcst_with_season, f)\n",
    "with open('pickles/ulsan_obs.pkl','wb') as f:\n",
    "    pickle.dump(ulsan_obs_with_season, f)\n",
    "    "
   ]
  }
 ]
}