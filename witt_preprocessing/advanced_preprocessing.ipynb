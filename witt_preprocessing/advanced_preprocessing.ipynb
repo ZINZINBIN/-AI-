{
 "metadata": {
  "language_info": {
   "codemirror_mode": {
    "name": "ipython",
    "version": 3
   },
   "file_extension": ".py",
   "mimetype": "text/x-python",
   "name": "python",
   "nbconvert_exporter": "python",
   "pygments_lexer": "ipython3",
   "version": "3.8.5"
  },
  "orig_nbformat": 2,
  "kernelspec": {
   "name": "python385jvsc74a57bd00a11f21c0450bb1ec4a8d90e5cdddc03f9c3302b58333d2d566c7a90a775328a",
   "display_name": "Python 3.8.5 64-bit ('base': conda)"
  }
 },
 "nbformat": 4,
 "nbformat_minor": 2,
 "cells": [
  {
   "source": [
    "# Advanced preprocessing"
   ],
   "cell_type": "markdown",
   "metadata": {}
  },
  {
   "source": [
    "# Table of Contents\n",
    "- Load data\n",
    "- Merge duplicated rows in `fcst` using mean / most recent fcst\n",
    "- Convert the measure of `Cloud` in `fcst` to `obs`\n",
    "- Interpolate fcst\n",
    "- Convert dtype of 'time' in `energy`\n",
    "- Merge fcst, obs, and energy\n",
    "- Fill missing values in using ffill"
   ],
   "cell_type": "markdown",
   "metadata": {}
  },
  {
   "source": [
    "## Load data\n",
    "- from basic_processing.ipynb"
   ],
   "cell_type": "markdown",
   "metadata": {}
  },
  {
   "cell_type": "code",
   "execution_count": 39,
   "metadata": {},
   "outputs": [],
   "source": [
    "import pickle\n",
    "from glob import glob\n",
    "import pandas as pd\n",
    "import matplotlib.pyplot as plt\n",
    "import numpy as np"
   ]
  },
  {
   "cell_type": "code",
   "execution_count": 40,
   "metadata": {},
   "outputs": [],
   "source": [
    "with open('pickles/dangjin_fcst_data.pkl','rb') as f:\n",
    "    dangjin_fcst = pickle.load(f)\n",
    "with open('pickles/dangjin_obs_data.pkl','rb') as f:\n",
    "    dangjin_obs = pickle.load(f)\n",
    "with open('pickles/ulsan_fcst_data.pkl','rb') as f:\n",
    "    ulsan_fcst = pickle.load(f)\n",
    "with open('pickles/ulsan_obs_data.pkl', 'rb') as f:\n",
    "    ulsan_obs = pickle.load(f)\n",
    "\n",
    "energy = pd.read_csv(glob('../original_dataset/energy.csv')[0])"
   ]
  },
  {
   "source": [
    "## Merge duplicated rows in `fcst`\n",
    "## Option 1(current Plan B): Merge duplicated rows in `fcst` using mean"
   ],
   "cell_type": "markdown",
   "metadata": {}
  },
  {
   "cell_type": "code",
   "execution_count": 41,
   "metadata": {},
   "outputs": [
    {
     "output_type": "stream",
     "name": "stdout",
     "text": [
      "total rows: 162208\nunique rows: 8788\ntotal rows: 162208\nunique rows: 8788\n"
     ]
    }
   ],
   "source": [
    "print('total rows:',dangjin_fcst['time'].shape[0])\n",
    "print('unique rows:', dangjin_fcst['time'].unique().shape[0])\n",
    "print('total rows:',ulsan_fcst['time'].shape[0])\n",
    "print('unique rows:',ulsan_fcst['time'].unique().shape[0])"
   ]
  },
  {
   "cell_type": "code",
   "execution_count": 42,
   "metadata": {},
   "outputs": [],
   "source": [
    "dangjin_fcst_unique_mean = dangjin_fcst.groupby('time').mean()\n",
    "ulsan_fcst_unique_mean = ulsan_fcst.groupby('time').mean()\n",
    "\n",
    "dangjin_fcst_unique_mean = dangjin_fcst_unique_mean.reset_index() # because time was set to index\n",
    "ulsan_fcst_unique_mean = ulsan_fcst_unique_mean.reset_index()"
   ]
  },
  {
   "cell_type": "code",
   "execution_count": 43,
   "metadata": {},
   "outputs": [
    {
     "output_type": "execute_result",
     "data": {
      "text/plain": [
       "                    time  Temperature  Humidity  Cloud    Wind_X      Wind_Y\n",
       "0    2018-03-01 15:00:00          0.0      60.0    2.0  4.594039 -240.138102\n",
       "1    2018-03-01 18:00:00         -2.0      60.0    1.0  4.932074 -225.872697\n",
       "2    2018-03-01 21:00:00         -2.0      60.0    1.0  5.639833 -190.356464\n",
       "3    2018-03-02 00:00:00         -2.0      52.5    1.0  5.709659 -136.663512\n",
       "4    2018-03-02 03:00:00         -3.4      55.0    1.0  4.854618 -121.486735\n",
       "...                  ...          ...       ...    ...       ...         ...\n",
       "8783 2021-03-03 12:00:00          7.0      40.0    1.0 -3.176148  -22.789567\n",
       "8784 2021-03-03 15:00:00          8.0      40.0    1.0 -3.593860 -130.593860\n",
       "8785 2021-03-03 18:00:00          5.0      55.0    1.0 -1.905256 -105.000000\n",
       "8786 2021-03-03 21:00:00          1.0      80.0    1.0 -1.826397   45.204526\n",
       "8787 2021-03-04 00:00:00          1.0      80.0    1.0 -1.854190   71.359678\n",
       "\n",
       "[8788 rows x 6 columns]"
      ],
      "text/html": "<div>\n<style scoped>\n    .dataframe tbody tr th:only-of-type {\n        vertical-align: middle;\n    }\n\n    .dataframe tbody tr th {\n        vertical-align: top;\n    }\n\n    .dataframe thead th {\n        text-align: right;\n    }\n</style>\n<table border=\"1\" class=\"dataframe\">\n  <thead>\n    <tr style=\"text-align: right;\">\n      <th></th>\n      <th>time</th>\n      <th>Temperature</th>\n      <th>Humidity</th>\n      <th>Cloud</th>\n      <th>Wind_X</th>\n      <th>Wind_Y</th>\n    </tr>\n  </thead>\n  <tbody>\n    <tr>\n      <th>0</th>\n      <td>2018-03-01 15:00:00</td>\n      <td>0.0</td>\n      <td>60.0</td>\n      <td>2.0</td>\n      <td>4.594039</td>\n      <td>-240.138102</td>\n    </tr>\n    <tr>\n      <th>1</th>\n      <td>2018-03-01 18:00:00</td>\n      <td>-2.0</td>\n      <td>60.0</td>\n      <td>1.0</td>\n      <td>4.932074</td>\n      <td>-225.872697</td>\n    </tr>\n    <tr>\n      <th>2</th>\n      <td>2018-03-01 21:00:00</td>\n      <td>-2.0</td>\n      <td>60.0</td>\n      <td>1.0</td>\n      <td>5.639833</td>\n      <td>-190.356464</td>\n    </tr>\n    <tr>\n      <th>3</th>\n      <td>2018-03-02 00:00:00</td>\n      <td>-2.0</td>\n      <td>52.5</td>\n      <td>1.0</td>\n      <td>5.709659</td>\n      <td>-136.663512</td>\n    </tr>\n    <tr>\n      <th>4</th>\n      <td>2018-03-02 03:00:00</td>\n      <td>-3.4</td>\n      <td>55.0</td>\n      <td>1.0</td>\n      <td>4.854618</td>\n      <td>-121.486735</td>\n    </tr>\n    <tr>\n      <th>...</th>\n      <td>...</td>\n      <td>...</td>\n      <td>...</td>\n      <td>...</td>\n      <td>...</td>\n      <td>...</td>\n    </tr>\n    <tr>\n      <th>8783</th>\n      <td>2021-03-03 12:00:00</td>\n      <td>7.0</td>\n      <td>40.0</td>\n      <td>1.0</td>\n      <td>-3.176148</td>\n      <td>-22.789567</td>\n    </tr>\n    <tr>\n      <th>8784</th>\n      <td>2021-03-03 15:00:00</td>\n      <td>8.0</td>\n      <td>40.0</td>\n      <td>1.0</td>\n      <td>-3.593860</td>\n      <td>-130.593860</td>\n    </tr>\n    <tr>\n      <th>8785</th>\n      <td>2021-03-03 18:00:00</td>\n      <td>5.0</td>\n      <td>55.0</td>\n      <td>1.0</td>\n      <td>-1.905256</td>\n      <td>-105.000000</td>\n    </tr>\n    <tr>\n      <th>8786</th>\n      <td>2021-03-03 21:00:00</td>\n      <td>1.0</td>\n      <td>80.0</td>\n      <td>1.0</td>\n      <td>-1.826397</td>\n      <td>45.204526</td>\n    </tr>\n    <tr>\n      <th>8787</th>\n      <td>2021-03-04 00:00:00</td>\n      <td>1.0</td>\n      <td>80.0</td>\n      <td>1.0</td>\n      <td>-1.854190</td>\n      <td>71.359678</td>\n    </tr>\n  </tbody>\n</table>\n<p>8788 rows × 6 columns</p>\n</div>"
     },
     "metadata": {},
     "execution_count": 43
    }
   ],
   "source": [
    "dangjin_fcst_unique_mean"
   ]
  },
  {
   "source": [
    "## Option 2(current Plan A): Merge duplicated rows in `fcst` using the most recent forecast"
   ],
   "cell_type": "markdown",
   "metadata": {}
  },
  {
   "cell_type": "code",
   "execution_count": 44,
   "metadata": {},
   "outputs": [
    {
     "output_type": "execute_result",
     "data": {
      "text/plain": [
       "                   time       Forecast time  Temperature  Humidity  Cloud  \\\n",
       "212 2018-03-03 21:00:00 2018-03-02 20:00:00          9.0      85.0    3.0   \n",
       "\n",
       "       Wind_X     Wind_Y  \n",
       "212 -1.704996  97.270042  "
      ],
      "text/html": "<div>\n<style scoped>\n    .dataframe tbody tr th:only-of-type {\n        vertical-align: middle;\n    }\n\n    .dataframe tbody tr th {\n        vertical-align: top;\n    }\n\n    .dataframe thead th {\n        text-align: right;\n    }\n</style>\n<table border=\"1\" class=\"dataframe\">\n  <thead>\n    <tr style=\"text-align: right;\">\n      <th></th>\n      <th>time</th>\n      <th>Forecast time</th>\n      <th>Temperature</th>\n      <th>Humidity</th>\n      <th>Cloud</th>\n      <th>Wind_X</th>\n      <th>Wind_Y</th>\n    </tr>\n  </thead>\n  <tbody>\n    <tr>\n      <th>212</th>\n      <td>2018-03-03 21:00:00</td>\n      <td>2018-03-02 20:00:00</td>\n      <td>9.0</td>\n      <td>85.0</td>\n      <td>3.0</td>\n      <td>-1.704996</td>\n      <td>97.270042</td>\n    </tr>\n  </tbody>\n</table>\n</div>"
     },
     "metadata": {},
     "execution_count": 44
    }
   ],
   "source": [
    "def merge_to_recent(data, time, due_hour = 21):\n",
    "    '''\n",
    "    @warning\n",
    "    data에 'Forecast time'(기상 예측이 이루어진 시점) column이 존재해야 함.\n",
    "\n",
    "    @description\n",
    "    fcst에서 'time'이 중복되는 row들을 하나로 통합한다.\n",
    "    이때, 가장 최근의 fcst data로 통합한다. (즉, 가장 최근의 fcst data 이외의 row는 모두 삭제한다.)\n",
    "    '가장 최근'이라는 것은, 해당 'time'의 전날의 due_hour까지다. \n",
    "    예를 들어 2021-05-02 14:00:00(=time)를 예측하고, due_hour = 21이라면,\n",
    "    2021-05-01 21:00:00 전까지의 row 중 가장 최근의 fcst로 통합한다.\n",
    "\n",
    "    @parameters\n",
    "    data: pd.DataFrame ; 통합이 이루어질 dataframe\n",
    "    time: pd.Timestamp ; 통합하려는 time\n",
    "    due_hour: int ; description 참고\n",
    "\n",
    "    @return\n",
    "    pd.Series ; 통합된 하나의 row\n",
    "\n",
    "    '''\n",
    "    # data only with the given time\n",
    "    data_only_with_time = data.loc[data['time'] == time]\n",
    "    \n",
    "    # shift time\n",
    "    time = time - pd.Timedelta(1, unit='days') # shifting 1 day to the past (yesterday)\n",
    "    time = time.replace(hour=due_hour) # change 'hour' to DUE_HOUR\n",
    "\n",
    "    # most recent forecast\n",
    "    return data_only_with_time[data_only_with_time['Forecast time'] <= time].iloc[-1:,]\n",
    "\n",
    "\n",
    "# example\n",
    "TIME = pd.Timestamp('2018-03-03-21:00:00')\n",
    "merge_to_recent(dangjin_fcst, TIME)"
   ]
  },
  {
   "cell_type": "code",
   "execution_count": 45,
   "metadata": {},
   "outputs": [
    {
     "output_type": "execute_result",
     "data": {
      "text/plain": [
       "                    time  Temperature  Humidity  Cloud    Wind_X        Wind_Y\n",
       "0    2018-03-02 00:00:00         -2.0      50.0    1.0  5.298564 -1.366635e+02\n",
       "1    2018-03-02 03:00:00         -3.0      55.0    1.0  4.667902 -1.214867e+02\n",
       "2    2018-03-02 06:00:00         -4.0      60.0    1.0  4.069439 -4.301988e+01\n",
       "3    2018-03-02 09:00:00         -2.0      55.0    1.0  1.100000 -8.817457e-14\n",
       "4    2018-03-02 12:00:00          2.0      45.0    1.0 -0.190809 -2.542414e+02\n",
       "...                  ...          ...       ...    ...       ...           ...\n",
       "8780 2021-03-03 12:00:00          7.0      40.0    1.0 -3.176148 -2.278957e+01\n",
       "8781 2021-03-03 15:00:00          8.0      40.0    1.0 -3.593860 -1.305939e+02\n",
       "8782 2021-03-03 18:00:00          5.0      55.0    1.0 -1.905256 -1.050000e+02\n",
       "8783 2021-03-03 21:00:00          1.0      80.0    1.0 -1.826397  4.520453e+01\n",
       "8784 2021-03-04 00:00:00          1.0      80.0    1.0 -1.854190  7.135968e+01\n",
       "\n",
       "[8785 rows x 6 columns]"
      ],
      "text/html": "<div>\n<style scoped>\n    .dataframe tbody tr th:only-of-type {\n        vertical-align: middle;\n    }\n\n    .dataframe tbody tr th {\n        vertical-align: top;\n    }\n\n    .dataframe thead th {\n        text-align: right;\n    }\n</style>\n<table border=\"1\" class=\"dataframe\">\n  <thead>\n    <tr style=\"text-align: right;\">\n      <th></th>\n      <th>time</th>\n      <th>Temperature</th>\n      <th>Humidity</th>\n      <th>Cloud</th>\n      <th>Wind_X</th>\n      <th>Wind_Y</th>\n    </tr>\n  </thead>\n  <tbody>\n    <tr>\n      <th>0</th>\n      <td>2018-03-02 00:00:00</td>\n      <td>-2.0</td>\n      <td>50.0</td>\n      <td>1.0</td>\n      <td>5.298564</td>\n      <td>-1.366635e+02</td>\n    </tr>\n    <tr>\n      <th>1</th>\n      <td>2018-03-02 03:00:00</td>\n      <td>-3.0</td>\n      <td>55.0</td>\n      <td>1.0</td>\n      <td>4.667902</td>\n      <td>-1.214867e+02</td>\n    </tr>\n    <tr>\n      <th>2</th>\n      <td>2018-03-02 06:00:00</td>\n      <td>-4.0</td>\n      <td>60.0</td>\n      <td>1.0</td>\n      <td>4.069439</td>\n      <td>-4.301988e+01</td>\n    </tr>\n    <tr>\n      <th>3</th>\n      <td>2018-03-02 09:00:00</td>\n      <td>-2.0</td>\n      <td>55.0</td>\n      <td>1.0</td>\n      <td>1.100000</td>\n      <td>-8.817457e-14</td>\n    </tr>\n    <tr>\n      <th>4</th>\n      <td>2018-03-02 12:00:00</td>\n      <td>2.0</td>\n      <td>45.0</td>\n      <td>1.0</td>\n      <td>-0.190809</td>\n      <td>-2.542414e+02</td>\n    </tr>\n    <tr>\n      <th>...</th>\n      <td>...</td>\n      <td>...</td>\n      <td>...</td>\n      <td>...</td>\n      <td>...</td>\n      <td>...</td>\n    </tr>\n    <tr>\n      <th>8780</th>\n      <td>2021-03-03 12:00:00</td>\n      <td>7.0</td>\n      <td>40.0</td>\n      <td>1.0</td>\n      <td>-3.176148</td>\n      <td>-2.278957e+01</td>\n    </tr>\n    <tr>\n      <th>8781</th>\n      <td>2021-03-03 15:00:00</td>\n      <td>8.0</td>\n      <td>40.0</td>\n      <td>1.0</td>\n      <td>-3.593860</td>\n      <td>-1.305939e+02</td>\n    </tr>\n    <tr>\n      <th>8782</th>\n      <td>2021-03-03 18:00:00</td>\n      <td>5.0</td>\n      <td>55.0</td>\n      <td>1.0</td>\n      <td>-1.905256</td>\n      <td>-1.050000e+02</td>\n    </tr>\n    <tr>\n      <th>8783</th>\n      <td>2021-03-03 21:00:00</td>\n      <td>1.0</td>\n      <td>80.0</td>\n      <td>1.0</td>\n      <td>-1.826397</td>\n      <td>4.520453e+01</td>\n    </tr>\n    <tr>\n      <th>8784</th>\n      <td>2021-03-04 00:00:00</td>\n      <td>1.0</td>\n      <td>80.0</td>\n      <td>1.0</td>\n      <td>-1.854190</td>\n      <td>7.135968e+01</td>\n    </tr>\n  </tbody>\n</table>\n<p>8785 rows × 6 columns</p>\n</div>"
     },
     "metadata": {},
     "execution_count": 45
    }
   ],
   "source": [
    "# apply merge_to_recent (dangjin_fcst)\n",
    "\n",
    "# create a new merged df\n",
    "dangjin_fcst_unique_recent = pd.DataFrame()\n",
    "\n",
    "for time in dangjin_fcst['time'].unique():\n",
    "    to_append = merge_to_recent(dangjin_fcst, time)\n",
    "    dangjin_fcst_unique_recent = dangjin_fcst_unique_recent.append(to_append)\n",
    "\n",
    "# reset index and drop 'Forecast time'\n",
    "dangjin_fcst_unique_recent =  dangjin_fcst_unique_recent.reset_index(drop=True)\n",
    "dangjin_fcst_unique_recent =  dangjin_fcst_unique_recent.drop('Forecast time', axis=1)\n",
    "dangjin_fcst_unique_recent"
   ]
  },
  {
   "cell_type": "code",
   "execution_count": 46,
   "metadata": {},
   "outputs": [
    {
     "output_type": "execute_result",
     "data": {
      "text/plain": [
       "                    time  Temperature  Humidity  Cloud    Wind_X      Wind_Y\n",
       "0    2018-03-02 00:00:00          0.0      40.0    2.0  1.010290 -202.011846\n",
       "1    2018-03-02 03:00:00         -1.0      45.0    2.0  0.872657 -261.511292\n",
       "2    2018-03-02 06:00:00         -1.0      45.0    1.0  1.006547 -252.027422\n",
       "3    2018-03-02 09:00:00          0.0      35.0    1.0  1.225671 -205.692035\n",
       "4    2018-03-02 12:00:00          6.0      25.0    1.0  1.160653 -182.296887\n",
       "...                  ...          ...       ...    ...       ...         ...\n",
       "8780 2021-03-03 12:00:00          9.0      45.0    3.0  0.377795   82.381331\n",
       "8781 2021-03-03 15:00:00          9.0      45.0    3.0 -1.075104  103.627427\n",
       "8782 2021-03-03 18:00:00          8.0      55.0    3.0 -1.165822  103.461868\n",
       "8783 2021-03-03 21:00:00          6.0      65.0    3.0 -0.590453   98.866955\n",
       "8784 2021-03-04 00:00:00          4.0      80.0    3.0 -0.693188  -26.164543\n",
       "\n",
       "[8785 rows x 6 columns]"
      ],
      "text/html": "<div>\n<style scoped>\n    .dataframe tbody tr th:only-of-type {\n        vertical-align: middle;\n    }\n\n    .dataframe tbody tr th {\n        vertical-align: top;\n    }\n\n    .dataframe thead th {\n        text-align: right;\n    }\n</style>\n<table border=\"1\" class=\"dataframe\">\n  <thead>\n    <tr style=\"text-align: right;\">\n      <th></th>\n      <th>time</th>\n      <th>Temperature</th>\n      <th>Humidity</th>\n      <th>Cloud</th>\n      <th>Wind_X</th>\n      <th>Wind_Y</th>\n    </tr>\n  </thead>\n  <tbody>\n    <tr>\n      <th>0</th>\n      <td>2018-03-02 00:00:00</td>\n      <td>0.0</td>\n      <td>40.0</td>\n      <td>2.0</td>\n      <td>1.010290</td>\n      <td>-202.011846</td>\n    </tr>\n    <tr>\n      <th>1</th>\n      <td>2018-03-02 03:00:00</td>\n      <td>-1.0</td>\n      <td>45.0</td>\n      <td>2.0</td>\n      <td>0.872657</td>\n      <td>-261.511292</td>\n    </tr>\n    <tr>\n      <th>2</th>\n      <td>2018-03-02 06:00:00</td>\n      <td>-1.0</td>\n      <td>45.0</td>\n      <td>1.0</td>\n      <td>1.006547</td>\n      <td>-252.027422</td>\n    </tr>\n    <tr>\n      <th>3</th>\n      <td>2018-03-02 09:00:00</td>\n      <td>0.0</td>\n      <td>35.0</td>\n      <td>1.0</td>\n      <td>1.225671</td>\n      <td>-205.692035</td>\n    </tr>\n    <tr>\n      <th>4</th>\n      <td>2018-03-02 12:00:00</td>\n      <td>6.0</td>\n      <td>25.0</td>\n      <td>1.0</td>\n      <td>1.160653</td>\n      <td>-182.296887</td>\n    </tr>\n    <tr>\n      <th>...</th>\n      <td>...</td>\n      <td>...</td>\n      <td>...</td>\n      <td>...</td>\n      <td>...</td>\n      <td>...</td>\n    </tr>\n    <tr>\n      <th>8780</th>\n      <td>2021-03-03 12:00:00</td>\n      <td>9.0</td>\n      <td>45.0</td>\n      <td>3.0</td>\n      <td>0.377795</td>\n      <td>82.381331</td>\n    </tr>\n    <tr>\n      <th>8781</th>\n      <td>2021-03-03 15:00:00</td>\n      <td>9.0</td>\n      <td>45.0</td>\n      <td>3.0</td>\n      <td>-1.075104</td>\n      <td>103.627427</td>\n    </tr>\n    <tr>\n      <th>8782</th>\n      <td>2021-03-03 18:00:00</td>\n      <td>8.0</td>\n      <td>55.0</td>\n      <td>3.0</td>\n      <td>-1.165822</td>\n      <td>103.461868</td>\n    </tr>\n    <tr>\n      <th>8783</th>\n      <td>2021-03-03 21:00:00</td>\n      <td>6.0</td>\n      <td>65.0</td>\n      <td>3.0</td>\n      <td>-0.590453</td>\n      <td>98.866955</td>\n    </tr>\n    <tr>\n      <th>8784</th>\n      <td>2021-03-04 00:00:00</td>\n      <td>4.0</td>\n      <td>80.0</td>\n      <td>3.0</td>\n      <td>-0.693188</td>\n      <td>-26.164543</td>\n    </tr>\n  </tbody>\n</table>\n<p>8785 rows × 6 columns</p>\n</div>"
     },
     "metadata": {},
     "execution_count": 46
    }
   ],
   "source": [
    "# apply merge_to_recent (ulsan_fcst)\n",
    "\n",
    "# create a new merged df\n",
    "ulsan_fcst_unique_recent = pd.DataFrame()\n",
    "\n",
    "for time in dangjin_fcst['time'].unique():\n",
    "    to_append = merge_to_recent(ulsan_fcst, time)\n",
    "    ulsan_fcst_unique_recent = ulsan_fcst_unique_recent.append(to_append)\n",
    "\n",
    "# reset index and drop 'Forecast time'\n",
    "ulsan_fcst_unique_recent =  ulsan_fcst_unique_recent.reset_index(drop=True)\n",
    "ulsan_fcst_unique_recent =  ulsan_fcst_unique_recent.drop('Forecast time', axis=1)\n",
    "ulsan_fcst_unique_recent"
   ]
  },
  {
   "source": [
    "## Convert the measure of `Cloud` in `fcst` to `obs`\n",
    "- `fcst`와 `obs`에서 `Cloud`의 단위는 다르다.\n",
    "- `fcst`와 `obs`를 따로 input으로 넣는 경우 크게 상관 없으나, 이 둘을 합쳐서 쓰는 경우에는 단위가 통일되는 것이 좋아 보인다.  \n",
    "- fcst: 1-맑음, 2-구름보통, 3-구름많음, 4-흐림  \n",
    "- obs: 10분위(0~10); 낮을 수록 구름 적음\n",
    "\n",
    "### method\n",
    "- Cloud_fcst -> Cloud_obs\n",
    "- Cloud_fcst = x (x=1,2,3,4)일 때 Cloud_obs의 mean으로 변환"
   ],
   "cell_type": "markdown",
   "metadata": {}
  },
  {
   "cell_type": "code",
   "execution_count": 47,
   "metadata": {},
   "outputs": [
    {
     "output_type": "execute_result",
     "data": {
      "text/plain": [
       "({1.0: 2.7635372029606544,\n",
       "  2.0: 3.8820678513731823,\n",
       "  3.0: 6.18494516450648,\n",
       "  4.0: 7.961345381526105},\n",
       " {2.0: 3.5910064239828694,\n",
       "  1.0: 1.721059516023545,\n",
       "  3.0: 6.145117540687161,\n",
       "  4.0: 8.638197424892704})"
      ]
     },
     "metadata": {},
     "execution_count": 47
    }
   ],
   "source": [
    "# get dictionary to convert from cloud_fcst to cloud_obs\n",
    "\n",
    "# merge (note that this is not the 'real' merged data)\n",
    "dangjin_merged_for_cloud = pd.merge(dangjin_fcst_unique_recent, dangjin_obs, on='time', suffixes=('_fcst','_obs'))\n",
    "ulsan_merged_for_cloud = pd.merge(ulsan_fcst_unique_recent, ulsan_obs, on='time', suffixes=('_fcst','_obs'))\n",
    "\n",
    "# mean\n",
    "def cloud_from_fcst_to_obs(data):\n",
    "    '''\n",
    "    @parameter\n",
    "    data: pd.DataFrame; data should contain both 'Cloud_fcst' and 'Cloud_obs'\n",
    "\n",
    "    @return\n",
    "    dictionary ; its key is the value of 'Cloud_fcst', its value is the value of 'Cloud_obs'\n",
    "    '''\n",
    "\n",
    "    # dropna\n",
    "    data.dropna(inplace=True)\n",
    "    # unique cloud_fcsts\n",
    "    cloud_fcsts = data['Cloud_fcst'].unique()\n",
    "    # dict to convert from fcst to obs\n",
    "    convert = {cloud_fcst:0 for cloud_fcst in cloud_fcsts}\n",
    "\n",
    "    # mean\n",
    "    for cloud_fcst in cloud_fcsts:\n",
    "        sliced_df = data[data['Cloud_fcst'] == cloud_fcst]\n",
    "        convert[cloud_fcst] = sliced_df['Cloud_obs'].mean()\n",
    "\n",
    "    return convert\n",
    "\n",
    "dangjin_convert_cloud = cloud_from_fcst_to_obs(dangjin_merged_for_cloud)\n",
    "ulsan_convert_cloud = cloud_from_fcst_to_obs(ulsan_merged_for_cloud)\n",
    "dangjin_convert_cloud, ulsan_convert_cloud"
   ]
  },
  {
   "cell_type": "code",
   "execution_count": 48,
   "metadata": {},
   "outputs": [
    {
     "output_type": "display_data",
     "data": {
      "text/plain": "0       2.763537\n1       2.763537\n2       2.763537\n3       2.763537\n4       2.763537\n          ...   \n8780    2.763537\n8781    2.763537\n8782    2.763537\n8783    2.763537\n8784    2.763537\nName: Cloud, Length: 8785, dtype: float64"
     },
     "metadata": {}
    },
    {
     "output_type": "display_data",
     "data": {
      "text/plain": "0       3.591006\n1       3.591006\n2       1.721060\n3       1.721060\n4       1.721060\n          ...   \n8780    6.145118\n8781    6.145118\n8782    6.145118\n8783    6.145118\n8784    6.145118\nName: Cloud, Length: 8785, dtype: float64"
     },
     "metadata": {}
    }
   ],
   "source": [
    "# apply the convert-dictionary\n",
    "dangjin_fcst_unique_recent['Cloud'].replace(dangjin_convert_cloud, inplace=True)\n",
    "ulsan_fcst_unique_recent['Cloud'].replace(ulsan_convert_cloud, inplace=True)\n",
    "display(dangjin_fcst_unique_recent['Cloud'])\n",
    "display(ulsan_fcst_unique_recent['Cloud'])"
   ]
  },
  {
   "source": [
    "## Interpolate fcst\n",
    "- code from @김진수"
   ],
   "cell_type": "markdown",
   "metadata": {}
  },
  {
   "cell_type": "code",
   "execution_count": 49,
   "metadata": {},
   "outputs": [],
   "source": [
    "# code from @김진수\n",
    "# linear interpolation\n",
    "\n",
    "def interpolation(df):\n",
    "\n",
    "    df_copy = df.copy()\n",
    "    var_names = df.columns\n",
    "\n",
    "    total_s = list()\n",
    "    time_list = list()\n",
    "    \n",
    "    for var_name in var_names:\n",
    "        s = list()\n",
    "        for i in range(df_copy.shape[0] - 1):\n",
    "            timedeltas = df_copy[\"time\"][i+1] - df_copy[\"time\"][i]\n",
    "            n_intervals = int(timedeltas / np.timedelta64(1, \"h\"))\n",
    "\n",
    "            for j in range(n_intervals):\n",
    "        \n",
    "                if var_name == \"time\":\n",
    "                    time_stamps = df_copy[\"time\"][i] + timedeltas * j / n_intervals\n",
    "                    time_list.append(time_stamps)\n",
    "                else:\n",
    "                    add_ = df_copy[var_name][i] + (df_copy[var_name][i+1] - df_copy[var_name][i]) / n_intervals * j\n",
    "                    s.append(add_)\n",
    "\n",
    "        if var_name == \"time\":\n",
    "            time_list = np.array(time_list).reshape(-1,1)\n",
    "            total_s.append(time_list)\n",
    "        else:\n",
    "            s = np.array(s).reshape(-1,1)\n",
    "            total_s.append(s)\n",
    "\n",
    "    total_s = np.array(total_s).T.reshape(-1, len(var_names))\n",
    "    df_converted = pd.DataFrame(total_s, columns = var_names)\n",
    "\n",
    "    return df_converted"
   ]
  },
  {
   "cell_type": "code",
   "execution_count": 50,
   "metadata": {},
   "outputs": [],
   "source": [
    "dangjin_fcst_interpolated = interpolation(dangjin_fcst_unique_recent)\n",
    "ulsan_fcst_interpolated = interpolation(ulsan_fcst_unique_recent)\n",
    "dangjin_obs_interpolated = interpolation(dangjin_obs)\n",
    "ulsan_obs_interpolated = interpolation(ulsan_obs)"
   ]
  },
  {
   "source": [
    "## Convert dtype of 'time' in `energy`\n",
    "- 'time' of `energy` is 'object'. \n",
    "- However, `pd.to_datetime` doesn't accepts '24:00:00' as an hour. Instead accepts '00:00:00'.\n",
    "- Therefore, custom function is needed."
   ],
   "cell_type": "markdown",
   "metadata": {}
  },
  {
   "cell_type": "code",
   "execution_count": 55,
   "metadata": {},
   "outputs": [
    {
     "output_type": "stream",
     "name": "stdout",
     "text": [
      "2018-03-02 00:00:00\n"
     ]
    }
   ],
   "source": [
    "def to_datetime_for_energy(date_str):\n",
    "    if date_str[11:13] == '24':\n",
    "        date_str = date_str[0:11] + '00' + date_str[13:]\n",
    "        return pd.to_datetime(date_str) + pd.Timedelta(1, unit='days')\n",
    "\n",
    "    else:\n",
    "        return pd.to_datetime(date_str)\n",
    "\n",
    "print(to_datetime_for_energy('2018-03-01 24:00:00'))"
   ]
  },
  {
   "cell_type": "code",
   "execution_count": 57,
   "metadata": {},
   "outputs": [],
   "source": [
    "energy['time'] = energy['time'].apply(to_datetime_for_energy)"
   ]
  },
  {
   "source": [
    "## Merge fcst, obs, and energy\n",
    "- inner merge on 'time'"
   ],
   "cell_type": "markdown",
   "metadata": {}
  },
  {
   "cell_type": "code",
   "execution_count": 58,
   "metadata": {},
   "outputs": [
    {
     "output_type": "display_data",
     "data": {
      "text/plain": "                     time Temperature_obs Humidity_obs Cloud_obs Wind_X_obs  \\\n0     2018-03-02 00:00:00            -2.0         50.0  2.763537   5.298564   \n1     2018-03-02 01:00:00       -2.333333    51.666667  2.763537   5.088343   \n2     2018-03-02 02:00:00       -2.666667    53.333333  2.763537   4.878123   \n3     2018-03-02 03:00:00            -3.0         55.0  2.763537   4.667902   \n4     2018-03-02 04:00:00       -3.333333    56.666667  2.763537   4.468414   \n...                   ...             ...          ...       ...        ...   \n25602 2021-01-31 18:00:00             6.0         75.0  7.961345  -3.374657   \n25603 2021-01-31 19:00:00             6.0    76.666667  7.961345  -3.521363   \n25604 2021-01-31 20:00:00             6.0    78.333333  7.961345  -3.668069   \n25605 2021-01-31 21:00:00             6.0         80.0  7.961345  -3.814776   \n25606 2021-01-31 22:00:00        6.333333         80.0  7.961345  -4.538312   \n\n       Wind_Y_obs Temperature_fcst Humidity_fcst Cloud_fcst Wind_X_fcst  \\\n0     -136.663512             -2.7          56.0        NaN         3.7   \n1     -131.604586             -2.8          53.0        NaN         3.8   \n2     -126.545661             -3.2          52.0        NaN         2.5   \n3     -121.486735             -3.5          50.0        NaN    2.443201   \n4      -95.331116             -4.2          55.0        NaN    0.899903   \n...           ...              ...           ...        ...         ...   \n25602  -22.789567              7.8          70.0        8.0   -1.879385   \n25603    -3.54999              6.7          75.0        8.0   -1.409539   \n25604   15.689587              6.2          77.0        8.0   -0.751754   \n25605   34.929164              5.3          82.0        8.0   -0.449951   \n25606   27.378489              5.8          77.0        8.0   -0.939693   \n\n      Wind_Y_fcst  dangjin_floating  dangjin_warehouse  dangjin  \n0            -0.0               0.0                0.0        0  \n1            -0.0               0.0                0.0        0  \n2            -0.0               0.0                0.0        0  \n3        6.840403               0.0                0.0        0  \n4       38.302222               0.0                0.0        0  \n...           ...               ...                ...      ...  \n25602  -68.404029              10.0                6.0        0  \n25603  -68.404029               0.0                0.0        0  \n25604  -68.404029               0.0                0.0        0  \n25605 -176.190222               0.0                0.0        0  \n25606  -68.404029               0.0                0.0        0  \n\n[25607 rows x 14 columns]",
      "text/html": "<div>\n<style scoped>\n    .dataframe tbody tr th:only-of-type {\n        vertical-align: middle;\n    }\n\n    .dataframe tbody tr th {\n        vertical-align: top;\n    }\n\n    .dataframe thead th {\n        text-align: right;\n    }\n</style>\n<table border=\"1\" class=\"dataframe\">\n  <thead>\n    <tr style=\"text-align: right;\">\n      <th></th>\n      <th>time</th>\n      <th>Temperature_obs</th>\n      <th>Humidity_obs</th>\n      <th>Cloud_obs</th>\n      <th>Wind_X_obs</th>\n      <th>Wind_Y_obs</th>\n      <th>Temperature_fcst</th>\n      <th>Humidity_fcst</th>\n      <th>Cloud_fcst</th>\n      <th>Wind_X_fcst</th>\n      <th>Wind_Y_fcst</th>\n      <th>dangjin_floating</th>\n      <th>dangjin_warehouse</th>\n      <th>dangjin</th>\n    </tr>\n  </thead>\n  <tbody>\n    <tr>\n      <th>0</th>\n      <td>2018-03-02 00:00:00</td>\n      <td>-2.0</td>\n      <td>50.0</td>\n      <td>2.763537</td>\n      <td>5.298564</td>\n      <td>-136.663512</td>\n      <td>-2.7</td>\n      <td>56.0</td>\n      <td>NaN</td>\n      <td>3.7</td>\n      <td>-0.0</td>\n      <td>0.0</td>\n      <td>0.0</td>\n      <td>0</td>\n    </tr>\n    <tr>\n      <th>1</th>\n      <td>2018-03-02 01:00:00</td>\n      <td>-2.333333</td>\n      <td>51.666667</td>\n      <td>2.763537</td>\n      <td>5.088343</td>\n      <td>-131.604586</td>\n      <td>-2.8</td>\n      <td>53.0</td>\n      <td>NaN</td>\n      <td>3.8</td>\n      <td>-0.0</td>\n      <td>0.0</td>\n      <td>0.0</td>\n      <td>0</td>\n    </tr>\n    <tr>\n      <th>2</th>\n      <td>2018-03-02 02:00:00</td>\n      <td>-2.666667</td>\n      <td>53.333333</td>\n      <td>2.763537</td>\n      <td>4.878123</td>\n      <td>-126.545661</td>\n      <td>-3.2</td>\n      <td>52.0</td>\n      <td>NaN</td>\n      <td>2.5</td>\n      <td>-0.0</td>\n      <td>0.0</td>\n      <td>0.0</td>\n      <td>0</td>\n    </tr>\n    <tr>\n      <th>3</th>\n      <td>2018-03-02 03:00:00</td>\n      <td>-3.0</td>\n      <td>55.0</td>\n      <td>2.763537</td>\n      <td>4.667902</td>\n      <td>-121.486735</td>\n      <td>-3.5</td>\n      <td>50.0</td>\n      <td>NaN</td>\n      <td>2.443201</td>\n      <td>6.840403</td>\n      <td>0.0</td>\n      <td>0.0</td>\n      <td>0</td>\n    </tr>\n    <tr>\n      <th>4</th>\n      <td>2018-03-02 04:00:00</td>\n      <td>-3.333333</td>\n      <td>56.666667</td>\n      <td>2.763537</td>\n      <td>4.468414</td>\n      <td>-95.331116</td>\n      <td>-4.2</td>\n      <td>55.0</td>\n      <td>NaN</td>\n      <td>0.899903</td>\n      <td>38.302222</td>\n      <td>0.0</td>\n      <td>0.0</td>\n      <td>0</td>\n    </tr>\n    <tr>\n      <th>...</th>\n      <td>...</td>\n      <td>...</td>\n      <td>...</td>\n      <td>...</td>\n      <td>...</td>\n      <td>...</td>\n      <td>...</td>\n      <td>...</td>\n      <td>...</td>\n      <td>...</td>\n      <td>...</td>\n      <td>...</td>\n      <td>...</td>\n      <td>...</td>\n    </tr>\n    <tr>\n      <th>25602</th>\n      <td>2021-01-31 18:00:00</td>\n      <td>6.0</td>\n      <td>75.0</td>\n      <td>7.961345</td>\n      <td>-3.374657</td>\n      <td>-22.789567</td>\n      <td>7.8</td>\n      <td>70.0</td>\n      <td>8.0</td>\n      <td>-1.879385</td>\n      <td>-68.404029</td>\n      <td>10.0</td>\n      <td>6.0</td>\n      <td>0</td>\n    </tr>\n    <tr>\n      <th>25603</th>\n      <td>2021-01-31 19:00:00</td>\n      <td>6.0</td>\n      <td>76.666667</td>\n      <td>7.961345</td>\n      <td>-3.521363</td>\n      <td>-3.54999</td>\n      <td>6.7</td>\n      <td>75.0</td>\n      <td>8.0</td>\n      <td>-1.409539</td>\n      <td>-68.404029</td>\n      <td>0.0</td>\n      <td>0.0</td>\n      <td>0</td>\n    </tr>\n    <tr>\n      <th>25604</th>\n      <td>2021-01-31 20:00:00</td>\n      <td>6.0</td>\n      <td>78.333333</td>\n      <td>7.961345</td>\n      <td>-3.668069</td>\n      <td>15.689587</td>\n      <td>6.2</td>\n      <td>77.0</td>\n      <td>8.0</td>\n      <td>-0.751754</td>\n      <td>-68.404029</td>\n      <td>0.0</td>\n      <td>0.0</td>\n      <td>0</td>\n    </tr>\n    <tr>\n      <th>25605</th>\n      <td>2021-01-31 21:00:00</td>\n      <td>6.0</td>\n      <td>80.0</td>\n      <td>7.961345</td>\n      <td>-3.814776</td>\n      <td>34.929164</td>\n      <td>5.3</td>\n      <td>82.0</td>\n      <td>8.0</td>\n      <td>-0.449951</td>\n      <td>-176.190222</td>\n      <td>0.0</td>\n      <td>0.0</td>\n      <td>0</td>\n    </tr>\n    <tr>\n      <th>25606</th>\n      <td>2021-01-31 22:00:00</td>\n      <td>6.333333</td>\n      <td>80.0</td>\n      <td>7.961345</td>\n      <td>-4.538312</td>\n      <td>27.378489</td>\n      <td>5.8</td>\n      <td>77.0</td>\n      <td>8.0</td>\n      <td>-0.939693</td>\n      <td>-68.404029</td>\n      <td>0.0</td>\n      <td>0.0</td>\n      <td>0</td>\n    </tr>\n  </tbody>\n</table>\n<p>25607 rows × 14 columns</p>\n</div>"
     },
     "metadata": {}
    },
    {
     "output_type": "display_data",
     "data": {
      "text/plain": "                     time Temperature_obs Humidity_obs Cloud_obs Wind_X_obs  \\\n0     2018-03-02 00:00:00             0.0         40.0  3.591006    1.01029   \n1     2018-03-02 01:00:00       -0.333333    41.666667  3.591006   0.964412   \n2     2018-03-02 02:00:00       -0.666667    43.333333  3.591006   0.918535   \n3     2018-03-02 03:00:00            -1.0         45.0  3.591006   0.872657   \n4     2018-03-02 04:00:00            -1.0         45.0  2.967691   0.917287   \n...                   ...             ...          ...       ...        ...   \n25602 2021-01-31 18:00:00             9.0         55.0  8.638197  -2.472747   \n25603 2021-01-31 19:00:00        8.666667         60.0  8.638197  -2.629993   \n25604 2021-01-31 20:00:00        8.333333         65.0  8.638197   -2.78724   \n25605 2021-01-31 21:00:00             8.0         70.0  8.638197  -2.944486   \n25606 2021-01-31 22:00:00             9.0    68.333333  8.638197  -3.476275   \n\n       Wind_Y_obs Temperature_fcst Humidity_fcst Cloud_fcst Wind_X_fcst  \\\n0     -202.011846              1.3          37.0        NaN    3.194955   \n1     -221.844994              0.5          42.0        NaN         2.0   \n2     -241.678143             -0.4          46.0        NaN         2.3   \n3     -261.511292             -0.9          48.0        9.0    1.879385   \n4     -258.350002             -1.5          51.0        8.0    2.161293   \n...           ...              ...           ...        ...         ...   \n25602  -61.185365              9.3          43.0        0.0        -3.4   \n25603  -75.790243              8.8          50.0        5.0   -2.349232   \n25604  -90.395122              8.7          49.0        1.0   -3.664801   \n25605      -105.0              8.4          51.0        7.0    -1.54269   \n25606  -86.823238              9.4          51.0        8.0   -2.121199   \n\n      Wind_Y_fcst  ulsan  \n0     -116.286849      0  \n1            -0.0      0  \n2            -0.0      0  \n3        6.840403      0  \n4     -116.286849      0  \n...           ...    ...  \n25602         0.0      8  \n25603  -68.404029      0  \n25604  -68.404029      0  \n25605 -176.190222      0  \n25606 -176.190222      0  \n\n[25607 rows x 12 columns]",
      "text/html": "<div>\n<style scoped>\n    .dataframe tbody tr th:only-of-type {\n        vertical-align: middle;\n    }\n\n    .dataframe tbody tr th {\n        vertical-align: top;\n    }\n\n    .dataframe thead th {\n        text-align: right;\n    }\n</style>\n<table border=\"1\" class=\"dataframe\">\n  <thead>\n    <tr style=\"text-align: right;\">\n      <th></th>\n      <th>time</th>\n      <th>Temperature_obs</th>\n      <th>Humidity_obs</th>\n      <th>Cloud_obs</th>\n      <th>Wind_X_obs</th>\n      <th>Wind_Y_obs</th>\n      <th>Temperature_fcst</th>\n      <th>Humidity_fcst</th>\n      <th>Cloud_fcst</th>\n      <th>Wind_X_fcst</th>\n      <th>Wind_Y_fcst</th>\n      <th>ulsan</th>\n    </tr>\n  </thead>\n  <tbody>\n    <tr>\n      <th>0</th>\n      <td>2018-03-02 00:00:00</td>\n      <td>0.0</td>\n      <td>40.0</td>\n      <td>3.591006</td>\n      <td>1.01029</td>\n      <td>-202.011846</td>\n      <td>1.3</td>\n      <td>37.0</td>\n      <td>NaN</td>\n      <td>3.194955</td>\n      <td>-116.286849</td>\n      <td>0</td>\n    </tr>\n    <tr>\n      <th>1</th>\n      <td>2018-03-02 01:00:00</td>\n      <td>-0.333333</td>\n      <td>41.666667</td>\n      <td>3.591006</td>\n      <td>0.964412</td>\n      <td>-221.844994</td>\n      <td>0.5</td>\n      <td>42.0</td>\n      <td>NaN</td>\n      <td>2.0</td>\n      <td>-0.0</td>\n      <td>0</td>\n    </tr>\n    <tr>\n      <th>2</th>\n      <td>2018-03-02 02:00:00</td>\n      <td>-0.666667</td>\n      <td>43.333333</td>\n      <td>3.591006</td>\n      <td>0.918535</td>\n      <td>-241.678143</td>\n      <td>-0.4</td>\n      <td>46.0</td>\n      <td>NaN</td>\n      <td>2.3</td>\n      <td>-0.0</td>\n      <td>0</td>\n    </tr>\n    <tr>\n      <th>3</th>\n      <td>2018-03-02 03:00:00</td>\n      <td>-1.0</td>\n      <td>45.0</td>\n      <td>3.591006</td>\n      <td>0.872657</td>\n      <td>-261.511292</td>\n      <td>-0.9</td>\n      <td>48.0</td>\n      <td>9.0</td>\n      <td>1.879385</td>\n      <td>6.840403</td>\n      <td>0</td>\n    </tr>\n    <tr>\n      <th>4</th>\n      <td>2018-03-02 04:00:00</td>\n      <td>-1.0</td>\n      <td>45.0</td>\n      <td>2.967691</td>\n      <td>0.917287</td>\n      <td>-258.350002</td>\n      <td>-1.5</td>\n      <td>51.0</td>\n      <td>8.0</td>\n      <td>2.161293</td>\n      <td>-116.286849</td>\n      <td>0</td>\n    </tr>\n    <tr>\n      <th>...</th>\n      <td>...</td>\n      <td>...</td>\n      <td>...</td>\n      <td>...</td>\n      <td>...</td>\n      <td>...</td>\n      <td>...</td>\n      <td>...</td>\n      <td>...</td>\n      <td>...</td>\n      <td>...</td>\n      <td>...</td>\n    </tr>\n    <tr>\n      <th>25602</th>\n      <td>2021-01-31 18:00:00</td>\n      <td>9.0</td>\n      <td>55.0</td>\n      <td>8.638197</td>\n      <td>-2.472747</td>\n      <td>-61.185365</td>\n      <td>9.3</td>\n      <td>43.0</td>\n      <td>0.0</td>\n      <td>-3.4</td>\n      <td>0.0</td>\n      <td>8</td>\n    </tr>\n    <tr>\n      <th>25603</th>\n      <td>2021-01-31 19:00:00</td>\n      <td>8.666667</td>\n      <td>60.0</td>\n      <td>8.638197</td>\n      <td>-2.629993</td>\n      <td>-75.790243</td>\n      <td>8.8</td>\n      <td>50.0</td>\n      <td>5.0</td>\n      <td>-2.349232</td>\n      <td>-68.404029</td>\n      <td>0</td>\n    </tr>\n    <tr>\n      <th>25604</th>\n      <td>2021-01-31 20:00:00</td>\n      <td>8.333333</td>\n      <td>65.0</td>\n      <td>8.638197</td>\n      <td>-2.78724</td>\n      <td>-90.395122</td>\n      <td>8.7</td>\n      <td>49.0</td>\n      <td>1.0</td>\n      <td>-3.664801</td>\n      <td>-68.404029</td>\n      <td>0</td>\n    </tr>\n    <tr>\n      <th>25605</th>\n      <td>2021-01-31 21:00:00</td>\n      <td>8.0</td>\n      <td>70.0</td>\n      <td>8.638197</td>\n      <td>-2.944486</td>\n      <td>-105.0</td>\n      <td>8.4</td>\n      <td>51.0</td>\n      <td>7.0</td>\n      <td>-1.54269</td>\n      <td>-176.190222</td>\n      <td>0</td>\n    </tr>\n    <tr>\n      <th>25606</th>\n      <td>2021-01-31 22:00:00</td>\n      <td>9.0</td>\n      <td>68.333333</td>\n      <td>8.638197</td>\n      <td>-3.476275</td>\n      <td>-86.823238</td>\n      <td>9.4</td>\n      <td>51.0</td>\n      <td>8.0</td>\n      <td>-2.121199</td>\n      <td>-176.190222</td>\n      <td>0</td>\n    </tr>\n  </tbody>\n</table>\n<p>25607 rows × 12 columns</p>\n</div>"
     },
     "metadata": {}
    }
   ],
   "source": [
    "dangjin_merged_ = pd.merge(dangjin_fcst_interpolated, dangjin_obs_interpolated, on='time', suffixes=('_obs','_fcst'))\n",
    "dangjin_merged = pd.merge(dangjin_merged_, energy.loc[:,['time','dangjin_floating','dangjin_warehouse','dangjin']], on='time')\n",
    "\n",
    "ulsan_merged_ = pd.merge(ulsan_fcst_interpolated, ulsan_obs_interpolated, on='time', suffixes=('_obs','_fcst'))\n",
    "ulsan_merged = pd.merge(ulsan_merged_, energy.loc[:,['time','ulsan']], on='time')\n",
    "\n",
    "display(dangjin_merged)\n",
    "display(ulsan_merged)"
   ]
  },
  {
   "source": [
    "## Fill missing values in using ffill\n",
    "- fillna with bfill(backward fill)\n",
    "- if bfill is not available, use ffill(forward fill) instead"
   ],
   "cell_type": "markdown",
   "metadata": {}
  },
  {
   "cell_type": "code",
   "execution_count": 60,
   "metadata": {},
   "outputs": [],
   "source": [
    "# keep the original\n",
    "dangjin_merged_with_na = dangjin_merged.copy()\n",
    "ulsan_merged_with_na = ulsan_merged.copy()"
   ]
  },
  {
   "cell_type": "code",
   "execution_count": 61,
   "metadata": {},
   "outputs": [
    {
     "output_type": "stream",
     "name": "stdout",
     "text": [
      "time                    0\nTemperature_obs         0\nHumidity_obs            0\nCloud_obs               0\nWind_X_obs              0\nWind_Y_obs              0\nTemperature_fcst       47\nHumidity_fcst          43\nCloud_fcst           4077\nWind_X_fcst            44\nWind_Y_fcst            44\ndangjin_floating       24\ndangjin_warehouse      48\ndangjin                 0\ndtype: int64\ntime                   0\nTemperature_obs        0\nHumidity_obs           0\nCloud_obs              0\nWind_X_obs             0\nWind_Y_obs             0\nTemperature_fcst       7\nHumidity_fcst          2\nCloud_fcst          1251\nWind_X_fcst            2\nWind_Y_fcst            2\nulsan                  0\ndtype: int64\n"
     ]
    }
   ],
   "source": [
    "# check missing values\n",
    "print(dangjin_merged_with_na.isna().sum())\n",
    "print(ulsan_merged_with_na.isna().sum())"
   ]
  },
  {
   "cell_type": "code",
   "execution_count": 62,
   "metadata": {},
   "outputs": [
    {
     "output_type": "display_data",
     "data": {
      "text/plain": "                     time  Temperature_obs  Humidity_obs  Cloud_obs  \\\n0     2018-03-02 00:00:00        -2.000000     50.000000   2.763537   \n1     2018-03-02 01:00:00        -2.333333     51.666667   2.763537   \n2     2018-03-02 02:00:00        -2.666667     53.333333   2.763537   \n3     2018-03-02 03:00:00        -3.000000     55.000000   2.763537   \n4     2018-03-02 04:00:00        -3.333333     56.666667   2.763537   \n...                   ...              ...           ...        ...   \n25602 2021-01-31 18:00:00         6.000000     75.000000   7.961345   \n25603 2021-01-31 19:00:00         6.000000     76.666667   7.961345   \n25604 2021-01-31 20:00:00         6.000000     78.333333   7.961345   \n25605 2021-01-31 21:00:00         6.000000     80.000000   7.961345   \n25606 2021-01-31 22:00:00         6.333333     80.000000   7.961345   \n\n       Wind_X_obs  Wind_Y_obs  Temperature_fcst  Humidity_fcst  Cloud_fcst  \\\n0        5.298564 -136.663512              -2.7           56.0         4.0   \n1        5.088343 -131.604586              -2.8           53.0         4.0   \n2        4.878123 -126.545661              -3.2           52.0         4.0   \n3        4.667902 -121.486735              -3.5           50.0         4.0   \n4        4.468414  -95.331116              -4.2           55.0         4.0   \n...           ...         ...               ...            ...         ...   \n25602   -3.374657  -22.789567               7.8           70.0         8.0   \n25603   -3.521363   -3.549990               6.7           75.0         8.0   \n25604   -3.668069   15.689587               6.2           77.0         8.0   \n25605   -3.814776   34.929164               5.3           82.0         8.0   \n25606   -4.538312   27.378489               5.8           77.0         8.0   \n\n       Wind_X_fcst   Wind_Y_fcst  dangjin_floating  dangjin_warehouse  dangjin  \n0         3.700000 -8.817457e-14               0.0                0.0        0  \n1         3.800000 -8.817457e-14               0.0                0.0        0  \n2         2.500000 -8.817457e-14               0.0                0.0        0  \n3         2.443201  6.840403e+00               0.0                0.0        0  \n4         0.899903  3.830222e+01               0.0                0.0        0  \n...            ...           ...               ...                ...      ...  \n25602    -1.879385 -6.840403e+01              10.0                6.0        0  \n25603    -1.409539 -6.840403e+01               0.0                0.0        0  \n25604    -0.751754 -6.840403e+01               0.0                0.0        0  \n25605    -0.449951 -1.761902e+02               0.0                0.0        0  \n25606    -0.939693 -6.840403e+01               0.0                0.0        0  \n\n[25607 rows x 14 columns]",
      "text/html": "<div>\n<style scoped>\n    .dataframe tbody tr th:only-of-type {\n        vertical-align: middle;\n    }\n\n    .dataframe tbody tr th {\n        vertical-align: top;\n    }\n\n    .dataframe thead th {\n        text-align: right;\n    }\n</style>\n<table border=\"1\" class=\"dataframe\">\n  <thead>\n    <tr style=\"text-align: right;\">\n      <th></th>\n      <th>time</th>\n      <th>Temperature_obs</th>\n      <th>Humidity_obs</th>\n      <th>Cloud_obs</th>\n      <th>Wind_X_obs</th>\n      <th>Wind_Y_obs</th>\n      <th>Temperature_fcst</th>\n      <th>Humidity_fcst</th>\n      <th>Cloud_fcst</th>\n      <th>Wind_X_fcst</th>\n      <th>Wind_Y_fcst</th>\n      <th>dangjin_floating</th>\n      <th>dangjin_warehouse</th>\n      <th>dangjin</th>\n    </tr>\n  </thead>\n  <tbody>\n    <tr>\n      <th>0</th>\n      <td>2018-03-02 00:00:00</td>\n      <td>-2.000000</td>\n      <td>50.000000</td>\n      <td>2.763537</td>\n      <td>5.298564</td>\n      <td>-136.663512</td>\n      <td>-2.7</td>\n      <td>56.0</td>\n      <td>4.0</td>\n      <td>3.700000</td>\n      <td>-8.817457e-14</td>\n      <td>0.0</td>\n      <td>0.0</td>\n      <td>0</td>\n    </tr>\n    <tr>\n      <th>1</th>\n      <td>2018-03-02 01:00:00</td>\n      <td>-2.333333</td>\n      <td>51.666667</td>\n      <td>2.763537</td>\n      <td>5.088343</td>\n      <td>-131.604586</td>\n      <td>-2.8</td>\n      <td>53.0</td>\n      <td>4.0</td>\n      <td>3.800000</td>\n      <td>-8.817457e-14</td>\n      <td>0.0</td>\n      <td>0.0</td>\n      <td>0</td>\n    </tr>\n    <tr>\n      <th>2</th>\n      <td>2018-03-02 02:00:00</td>\n      <td>-2.666667</td>\n      <td>53.333333</td>\n      <td>2.763537</td>\n      <td>4.878123</td>\n      <td>-126.545661</td>\n      <td>-3.2</td>\n      <td>52.0</td>\n      <td>4.0</td>\n      <td>2.500000</td>\n      <td>-8.817457e-14</td>\n      <td>0.0</td>\n      <td>0.0</td>\n      <td>0</td>\n    </tr>\n    <tr>\n      <th>3</th>\n      <td>2018-03-02 03:00:00</td>\n      <td>-3.000000</td>\n      <td>55.000000</td>\n      <td>2.763537</td>\n      <td>4.667902</td>\n      <td>-121.486735</td>\n      <td>-3.5</td>\n      <td>50.0</td>\n      <td>4.0</td>\n      <td>2.443201</td>\n      <td>6.840403e+00</td>\n      <td>0.0</td>\n      <td>0.0</td>\n      <td>0</td>\n    </tr>\n    <tr>\n      <th>4</th>\n      <td>2018-03-02 04:00:00</td>\n      <td>-3.333333</td>\n      <td>56.666667</td>\n      <td>2.763537</td>\n      <td>4.468414</td>\n      <td>-95.331116</td>\n      <td>-4.2</td>\n      <td>55.0</td>\n      <td>4.0</td>\n      <td>0.899903</td>\n      <td>3.830222e+01</td>\n      <td>0.0</td>\n      <td>0.0</td>\n      <td>0</td>\n    </tr>\n    <tr>\n      <th>...</th>\n      <td>...</td>\n      <td>...</td>\n      <td>...</td>\n      <td>...</td>\n      <td>...</td>\n      <td>...</td>\n      <td>...</td>\n      <td>...</td>\n      <td>...</td>\n      <td>...</td>\n      <td>...</td>\n      <td>...</td>\n      <td>...</td>\n      <td>...</td>\n    </tr>\n    <tr>\n      <th>25602</th>\n      <td>2021-01-31 18:00:00</td>\n      <td>6.000000</td>\n      <td>75.000000</td>\n      <td>7.961345</td>\n      <td>-3.374657</td>\n      <td>-22.789567</td>\n      <td>7.8</td>\n      <td>70.0</td>\n      <td>8.0</td>\n      <td>-1.879385</td>\n      <td>-6.840403e+01</td>\n      <td>10.0</td>\n      <td>6.0</td>\n      <td>0</td>\n    </tr>\n    <tr>\n      <th>25603</th>\n      <td>2021-01-31 19:00:00</td>\n      <td>6.000000</td>\n      <td>76.666667</td>\n      <td>7.961345</td>\n      <td>-3.521363</td>\n      <td>-3.549990</td>\n      <td>6.7</td>\n      <td>75.0</td>\n      <td>8.0</td>\n      <td>-1.409539</td>\n      <td>-6.840403e+01</td>\n      <td>0.0</td>\n      <td>0.0</td>\n      <td>0</td>\n    </tr>\n    <tr>\n      <th>25604</th>\n      <td>2021-01-31 20:00:00</td>\n      <td>6.000000</td>\n      <td>78.333333</td>\n      <td>7.961345</td>\n      <td>-3.668069</td>\n      <td>15.689587</td>\n      <td>6.2</td>\n      <td>77.0</td>\n      <td>8.0</td>\n      <td>-0.751754</td>\n      <td>-6.840403e+01</td>\n      <td>0.0</td>\n      <td>0.0</td>\n      <td>0</td>\n    </tr>\n    <tr>\n      <th>25605</th>\n      <td>2021-01-31 21:00:00</td>\n      <td>6.000000</td>\n      <td>80.000000</td>\n      <td>7.961345</td>\n      <td>-3.814776</td>\n      <td>34.929164</td>\n      <td>5.3</td>\n      <td>82.0</td>\n      <td>8.0</td>\n      <td>-0.449951</td>\n      <td>-1.761902e+02</td>\n      <td>0.0</td>\n      <td>0.0</td>\n      <td>0</td>\n    </tr>\n    <tr>\n      <th>25606</th>\n      <td>2021-01-31 22:00:00</td>\n      <td>6.333333</td>\n      <td>80.000000</td>\n      <td>7.961345</td>\n      <td>-4.538312</td>\n      <td>27.378489</td>\n      <td>5.8</td>\n      <td>77.0</td>\n      <td>8.0</td>\n      <td>-0.939693</td>\n      <td>-6.840403e+01</td>\n      <td>0.0</td>\n      <td>0.0</td>\n      <td>0</td>\n    </tr>\n  </tbody>\n</table>\n<p>25607 rows × 14 columns</p>\n</div>"
     },
     "metadata": {}
    },
    {
     "output_type": "display_data",
     "data": {
      "text/plain": "                     time  Temperature_obs  Humidity_obs  Cloud_obs  \\\n0     2018-03-02 00:00:00         0.000000     40.000000   3.591006   \n1     2018-03-02 01:00:00        -0.333333     41.666667   3.591006   \n2     2018-03-02 02:00:00        -0.666667     43.333333   3.591006   \n3     2018-03-02 03:00:00        -1.000000     45.000000   3.591006   \n4     2018-03-02 04:00:00        -1.000000     45.000000   2.967691   \n...                   ...              ...           ...        ...   \n25602 2021-01-31 18:00:00         9.000000     55.000000   8.638197   \n25603 2021-01-31 19:00:00         8.666667     60.000000   8.638197   \n25604 2021-01-31 20:00:00         8.333333     65.000000   8.638197   \n25605 2021-01-31 21:00:00         8.000000     70.000000   8.638197   \n25606 2021-01-31 22:00:00         9.000000     68.333333   8.638197   \n\n       Wind_X_obs  Wind_Y_obs  Temperature_fcst  Humidity_fcst  Cloud_fcst  \\\n0        1.010290 -202.011846               1.3           37.0         9.0   \n1        0.964412 -221.844994               0.5           42.0         9.0   \n2        0.918535 -241.678143              -0.4           46.0         9.0   \n3        0.872657 -261.511292              -0.9           48.0         9.0   \n4        0.917287 -258.350002              -1.5           51.0         8.0   \n...           ...         ...               ...            ...         ...   \n25602   -2.472747  -61.185365               9.3           43.0         0.0   \n25603   -2.629993  -75.790243               8.8           50.0         5.0   \n25604   -2.787240  -90.395122               8.7           49.0         1.0   \n25605   -2.944486 -105.000000               8.4           51.0         7.0   \n25606   -3.476275  -86.823238               9.4           51.0         8.0   \n\n       Wind_X_fcst   Wind_Y_fcst  ulsan  \n0         3.194955 -1.162868e+02      0  \n1         2.000000 -8.817457e-14      0  \n2         2.300000 -8.817457e-14      0  \n3         1.879385  6.840403e+00      0  \n4         2.161293 -1.162868e+02      0  \n...            ...           ...    ...  \n25602    -3.400000  2.204364e-14      8  \n25603    -2.349232 -6.840403e+01      0  \n25604    -3.664801 -6.840403e+01      0  \n25605    -1.542690 -1.761902e+02      0  \n25606    -2.121199 -1.761902e+02      0  \n\n[25607 rows x 12 columns]",
      "text/html": "<div>\n<style scoped>\n    .dataframe tbody tr th:only-of-type {\n        vertical-align: middle;\n    }\n\n    .dataframe tbody tr th {\n        vertical-align: top;\n    }\n\n    .dataframe thead th {\n        text-align: right;\n    }\n</style>\n<table border=\"1\" class=\"dataframe\">\n  <thead>\n    <tr style=\"text-align: right;\">\n      <th></th>\n      <th>time</th>\n      <th>Temperature_obs</th>\n      <th>Humidity_obs</th>\n      <th>Cloud_obs</th>\n      <th>Wind_X_obs</th>\n      <th>Wind_Y_obs</th>\n      <th>Temperature_fcst</th>\n      <th>Humidity_fcst</th>\n      <th>Cloud_fcst</th>\n      <th>Wind_X_fcst</th>\n      <th>Wind_Y_fcst</th>\n      <th>ulsan</th>\n    </tr>\n  </thead>\n  <tbody>\n    <tr>\n      <th>0</th>\n      <td>2018-03-02 00:00:00</td>\n      <td>0.000000</td>\n      <td>40.000000</td>\n      <td>3.591006</td>\n      <td>1.010290</td>\n      <td>-202.011846</td>\n      <td>1.3</td>\n      <td>37.0</td>\n      <td>9.0</td>\n      <td>3.194955</td>\n      <td>-1.162868e+02</td>\n      <td>0</td>\n    </tr>\n    <tr>\n      <th>1</th>\n      <td>2018-03-02 01:00:00</td>\n      <td>-0.333333</td>\n      <td>41.666667</td>\n      <td>3.591006</td>\n      <td>0.964412</td>\n      <td>-221.844994</td>\n      <td>0.5</td>\n      <td>42.0</td>\n      <td>9.0</td>\n      <td>2.000000</td>\n      <td>-8.817457e-14</td>\n      <td>0</td>\n    </tr>\n    <tr>\n      <th>2</th>\n      <td>2018-03-02 02:00:00</td>\n      <td>-0.666667</td>\n      <td>43.333333</td>\n      <td>3.591006</td>\n      <td>0.918535</td>\n      <td>-241.678143</td>\n      <td>-0.4</td>\n      <td>46.0</td>\n      <td>9.0</td>\n      <td>2.300000</td>\n      <td>-8.817457e-14</td>\n      <td>0</td>\n    </tr>\n    <tr>\n      <th>3</th>\n      <td>2018-03-02 03:00:00</td>\n      <td>-1.000000</td>\n      <td>45.000000</td>\n      <td>3.591006</td>\n      <td>0.872657</td>\n      <td>-261.511292</td>\n      <td>-0.9</td>\n      <td>48.0</td>\n      <td>9.0</td>\n      <td>1.879385</td>\n      <td>6.840403e+00</td>\n      <td>0</td>\n    </tr>\n    <tr>\n      <th>4</th>\n      <td>2018-03-02 04:00:00</td>\n      <td>-1.000000</td>\n      <td>45.000000</td>\n      <td>2.967691</td>\n      <td>0.917287</td>\n      <td>-258.350002</td>\n      <td>-1.5</td>\n      <td>51.0</td>\n      <td>8.0</td>\n      <td>2.161293</td>\n      <td>-1.162868e+02</td>\n      <td>0</td>\n    </tr>\n    <tr>\n      <th>...</th>\n      <td>...</td>\n      <td>...</td>\n      <td>...</td>\n      <td>...</td>\n      <td>...</td>\n      <td>...</td>\n      <td>...</td>\n      <td>...</td>\n      <td>...</td>\n      <td>...</td>\n      <td>...</td>\n      <td>...</td>\n    </tr>\n    <tr>\n      <th>25602</th>\n      <td>2021-01-31 18:00:00</td>\n      <td>9.000000</td>\n      <td>55.000000</td>\n      <td>8.638197</td>\n      <td>-2.472747</td>\n      <td>-61.185365</td>\n      <td>9.3</td>\n      <td>43.0</td>\n      <td>0.0</td>\n      <td>-3.400000</td>\n      <td>2.204364e-14</td>\n      <td>8</td>\n    </tr>\n    <tr>\n      <th>25603</th>\n      <td>2021-01-31 19:00:00</td>\n      <td>8.666667</td>\n      <td>60.000000</td>\n      <td>8.638197</td>\n      <td>-2.629993</td>\n      <td>-75.790243</td>\n      <td>8.8</td>\n      <td>50.0</td>\n      <td>5.0</td>\n      <td>-2.349232</td>\n      <td>-6.840403e+01</td>\n      <td>0</td>\n    </tr>\n    <tr>\n      <th>25604</th>\n      <td>2021-01-31 20:00:00</td>\n      <td>8.333333</td>\n      <td>65.000000</td>\n      <td>8.638197</td>\n      <td>-2.787240</td>\n      <td>-90.395122</td>\n      <td>8.7</td>\n      <td>49.0</td>\n      <td>1.0</td>\n      <td>-3.664801</td>\n      <td>-6.840403e+01</td>\n      <td>0</td>\n    </tr>\n    <tr>\n      <th>25605</th>\n      <td>2021-01-31 21:00:00</td>\n      <td>8.000000</td>\n      <td>70.000000</td>\n      <td>8.638197</td>\n      <td>-2.944486</td>\n      <td>-105.000000</td>\n      <td>8.4</td>\n      <td>51.0</td>\n      <td>7.0</td>\n      <td>-1.542690</td>\n      <td>-1.761902e+02</td>\n      <td>0</td>\n    </tr>\n    <tr>\n      <th>25606</th>\n      <td>2021-01-31 22:00:00</td>\n      <td>9.000000</td>\n      <td>68.333333</td>\n      <td>8.638197</td>\n      <td>-3.476275</td>\n      <td>-86.823238</td>\n      <td>9.4</td>\n      <td>51.0</td>\n      <td>8.0</td>\n      <td>-2.121199</td>\n      <td>-1.761902e+02</td>\n      <td>0</td>\n    </tr>\n  </tbody>\n</table>\n<p>25607 rows × 12 columns</p>\n</div>"
     },
     "metadata": {}
    }
   ],
   "source": [
    "# fill\n",
    "dangjin_merged = dangjin_merged.fillna(method='bfill')\n",
    "ulsan_merged = ulsan_merged.fillna(method='bfill')\n",
    "display(dangjin_merged)\n",
    "display(ulsan_merged)"
   ]
  },
  {
   "source": [
    "## Pickle dfs"
   ],
   "cell_type": "markdown",
   "metadata": {}
  },
  {
   "cell_type": "code",
   "execution_count": 63,
   "metadata": {},
   "outputs": [],
   "source": [
    "with open('pickles/dangjin_merged.pkl','wb') as f:\n",
    "    pickle.dump(dangjin_merged,f)\n",
    "with open('pickles/ulsan_merged.pkl','wb') as f:\n",
    "    pickle.dump(ulsan_merged,f)"
   ]
  }
 ]
}