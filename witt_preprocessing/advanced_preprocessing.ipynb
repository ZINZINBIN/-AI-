{
 "metadata": {
  "language_info": {
   "codemirror_mode": {
    "name": "ipython",
    "version": 3
   },
   "file_extension": ".py",
   "mimetype": "text/x-python",
   "name": "python",
   "nbconvert_exporter": "python",
   "pygments_lexer": "ipython3",
   "version": "3.8.5-final"
  },
  "orig_nbformat": 2,
  "kernelspec": {
   "name": "python385jvsc74a57bd0f70683fc76cd137f924e42fae5cbd628d454355b4f55a630603e199f47f217b2",
   "display_name": "Python 3.8.5 64-bit (conda)"
  }
 },
 "nbformat": 4,
 "nbformat_minor": 2,
 "cells": [
  {
   "source": [
    "# Advanced preprocessing"
   ],
   "cell_type": "markdown",
   "metadata": {}
  },
  {
   "source": [
    "# Table of Contents\n",
    "- Load data\n",
    "- Merge duplicated rows in `fcst` by using mean\n",
    "- Interpolate fcst\n",
    "- Convert dtype of 'time' in `energy`\n",
    "- Merge fcst, obs, and energy\n",
    "- Fill missing values in using ffill"
   ],
   "cell_type": "markdown",
   "metadata": {}
  },
  {
   "source": [
    "## Load data\n",
    "- from basic_processing.ipynb"
   ],
   "cell_type": "markdown",
   "metadata": {}
  },
  {
   "cell_type": "code",
   "execution_count": 1,
   "metadata": {},
   "outputs": [],
   "source": [
    "import pickle\n",
    "from glob import glob\n",
    "import pandas as pd\n",
    "import matplotlib.pyplot as plt\n",
    "import numpy as np\n",
    "import datetime as dt"
   ]
  },
  {
   "cell_type": "code",
   "execution_count": 2,
   "metadata": {},
   "outputs": [],
   "source": [
    "with open('pickles/dangjin_fcst_data.pkl','rb') as f:\n",
    "    dangjin_fcst = pickle.load(f)\n",
    "with open('pickles/dangjin_obs_data.pkl','rb') as f:\n",
    "    dangjin_obs = pickle.load(f)\n",
    "with open('pickles/ulsan_fcst_data.pkl','rb') as f:\n",
    "    ulsan_fcst = pickle.load(f)\n",
    "with open('pickles/ulsan_obs_data.pkl', 'rb') as f:\n",
    "    ulsan_obs = pickle.load(f)\n",
    "\n",
    "energy = pd.read_csv(glob('../original_dataset/energy.csv')[0])"
   ]
  },
  {
   "source": [
    "## Merge duplicated rows in `fcst` by using mean"
   ],
   "cell_type": "markdown",
   "metadata": {}
  },
  {
   "cell_type": "code",
   "execution_count": 121,
   "metadata": {},
   "outputs": [
    {
     "output_type": "stream",
     "name": "stdout",
     "text": [
      "162208 8788\n162208 8788\n"
     ]
    }
   ],
   "source": [
    "print(dangjin_fcst['time'].shape[0], dangjin_fcst['time'].unique().shape[0])\n",
    "print(ulsan_fcst['time'].shape[0], ulsan_fcst['time'].unique().shape[0])"
   ]
  },
  {
   "cell_type": "code",
   "execution_count": 131,
   "metadata": {},
   "outputs": [],
   "source": [
    "dangjin_fcst_unique = dangjin_fcst.groupby('time').mean()\r\n",
    "ulsan_fcst_unique = ulsan_fcst.groupby('time').mean()\r\n",
    "\r\n",
    "dangjin_fcst_unique = dangjin_fcst_unique.reset_index() # because time was set to index\r\n",
    "ulsan_fcst_unique = ulsan_fcst_unique.reset_index()"
   ]
  },
  {
   "cell_type": "code",
   "execution_count": 132,
   "metadata": {},
   "outputs": [
    {
     "output_type": "execute_result",
     "data": {
      "text/plain": [
       "                    time  Temperature  Humidity  WindSpeed  WindDirection  \\\n",
       "0    2018-03-01 15:00:00          0.0      60.0   7.300000          309.0   \n",
       "1    2018-03-01 18:00:00         -2.0      60.0   7.100000          314.0   \n",
       "2    2018-03-01 21:00:00         -2.0      60.0   6.966667          324.0   \n",
       "3    2018-03-02 00:00:00         -2.0      52.5   6.250000          336.0   \n",
       "4    2018-03-02 03:00:00         -3.4      55.0   5.200000          339.0   \n",
       "...                  ...          ...       ...        ...            ...   \n",
       "8783 2021-03-03 12:00:00          7.0      40.0   3.200000          187.0   \n",
       "8784 2021-03-03 15:00:00          8.0      40.0   4.500000          217.0   \n",
       "8785 2021-03-03 18:00:00          5.0      55.0   2.200000          210.0   \n",
       "8786 2021-03-03 21:00:00          1.0      80.0   1.900000          164.0   \n",
       "8787 2021-03-04 00:00:00          1.0      80.0   2.100000          152.0   \n",
       "\n",
       "      Cloud  \n",
       "0       2.0  \n",
       "1       1.0  \n",
       "2       1.0  \n",
       "3       1.0  \n",
       "4       1.0  \n",
       "...     ...  \n",
       "8783    1.0  \n",
       "8784    1.0  \n",
       "8785    1.0  \n",
       "8786    1.0  \n",
       "8787    1.0  \n",
       "\n",
       "[8788 rows x 6 columns]"
      ],
      "text/html": "<div>\n<style scoped>\n    .dataframe tbody tr th:only-of-type {\n        vertical-align: middle;\n    }\n\n    .dataframe tbody tr th {\n        vertical-align: top;\n    }\n\n    .dataframe thead th {\n        text-align: right;\n    }\n</style>\n<table border=\"1\" class=\"dataframe\">\n  <thead>\n    <tr style=\"text-align: right;\">\n      <th></th>\n      <th>time</th>\n      <th>Temperature</th>\n      <th>Humidity</th>\n      <th>WindSpeed</th>\n      <th>WindDirection</th>\n      <th>Cloud</th>\n    </tr>\n  </thead>\n  <tbody>\n    <tr>\n      <th>0</th>\n      <td>2018-03-01 15:00:00</td>\n      <td>0.0</td>\n      <td>60.0</td>\n      <td>7.300000</td>\n      <td>309.0</td>\n      <td>2.0</td>\n    </tr>\n    <tr>\n      <th>1</th>\n      <td>2018-03-01 18:00:00</td>\n      <td>-2.0</td>\n      <td>60.0</td>\n      <td>7.100000</td>\n      <td>314.0</td>\n      <td>1.0</td>\n    </tr>\n    <tr>\n      <th>2</th>\n      <td>2018-03-01 21:00:00</td>\n      <td>-2.0</td>\n      <td>60.0</td>\n      <td>6.966667</td>\n      <td>324.0</td>\n      <td>1.0</td>\n    </tr>\n    <tr>\n      <th>3</th>\n      <td>2018-03-02 00:00:00</td>\n      <td>-2.0</td>\n      <td>52.5</td>\n      <td>6.250000</td>\n      <td>336.0</td>\n      <td>1.0</td>\n    </tr>\n    <tr>\n      <th>4</th>\n      <td>2018-03-02 03:00:00</td>\n      <td>-3.4</td>\n      <td>55.0</td>\n      <td>5.200000</td>\n      <td>339.0</td>\n      <td>1.0</td>\n    </tr>\n    <tr>\n      <th>...</th>\n      <td>...</td>\n      <td>...</td>\n      <td>...</td>\n      <td>...</td>\n      <td>...</td>\n      <td>...</td>\n    </tr>\n    <tr>\n      <th>8783</th>\n      <td>2021-03-03 12:00:00</td>\n      <td>7.0</td>\n      <td>40.0</td>\n      <td>3.200000</td>\n      <td>187.0</td>\n      <td>1.0</td>\n    </tr>\n    <tr>\n      <th>8784</th>\n      <td>2021-03-03 15:00:00</td>\n      <td>8.0</td>\n      <td>40.0</td>\n      <td>4.500000</td>\n      <td>217.0</td>\n      <td>1.0</td>\n    </tr>\n    <tr>\n      <th>8785</th>\n      <td>2021-03-03 18:00:00</td>\n      <td>5.0</td>\n      <td>55.0</td>\n      <td>2.200000</td>\n      <td>210.0</td>\n      <td>1.0</td>\n    </tr>\n    <tr>\n      <th>8786</th>\n      <td>2021-03-03 21:00:00</td>\n      <td>1.0</td>\n      <td>80.0</td>\n      <td>1.900000</td>\n      <td>164.0</td>\n      <td>1.0</td>\n    </tr>\n    <tr>\n      <th>8787</th>\n      <td>2021-03-04 00:00:00</td>\n      <td>1.0</td>\n      <td>80.0</td>\n      <td>2.100000</td>\n      <td>152.0</td>\n      <td>1.0</td>\n    </tr>\n  </tbody>\n</table>\n<p>8788 rows × 6 columns</p>\n</div>"
     },
     "metadata": {},
     "execution_count": 132
    }
   ],
   "source": [
    "dangjin_fcst_unique"
   ]
  },
  {
   "source": [
    "## Interpolate fcst\n",
    "- code from @김진수\n",
    "- bug?: last row deleted"
   ],
   "cell_type": "markdown",
   "metadata": {}
  },
  {
   "cell_type": "code",
   "execution_count": 89,
   "metadata": {},
   "outputs": [],
   "source": [
    "# code from @김진수\n",
    "# linear interpolation\n",
    "\n",
    "def interpolation(df):\n",
    "\n",
    "    df_copy = df.copy()\n",
    "    var_names = df.columns\n",
    "\n",
    "    total_s = list()\n",
    "    time_list = list()\n",
    "    \n",
    "    for var_name in var_names:\n",
    "        s = list()\n",
    "        for i in range(df_copy.shape[0] - 1):\n",
    "            timedeltas = df_copy[\"time\"][i+1] - df_copy[\"time\"][i]\n",
    "            n_intervals = int(timedeltas / np.timedelta64(1, \"h\"))\n",
    "\n",
    "            for j in range(n_intervals):\n",
    "        \n",
    "                if var_name == \"time\":\n",
    "                    time_stamps = df_copy[\"time\"][i] + timedeltas * j / n_intervals\n",
    "                    time_list.append(time_stamps)\n",
    "                else:\n",
    "                    add_ = df_copy[var_name][i] + (df_copy[var_name][i+1] - df_copy[var_name][i]) / n_intervals * j\n",
    "                    s.append(add_)\n",
    "\n",
    "        if var_name == \"time\":\n",
    "            time_list = np.array(time_list).reshape(-1,1)\n",
    "            total_s.append(time_list)\n",
    "        else:\n",
    "            s = np.array(s).reshape(-1,1)\n",
    "            total_s.append(s)\n",
    "\n",
    "    total_s = np.array(total_s).T.reshape(-1, len(var_names))\n",
    "    df_converted = pd.DataFrame(total_s, columns = var_names)\n",
    "\n",
    "    return df_converted"
   ]
  },
  {
   "cell_type": "code",
   "execution_count": 143,
   "metadata": {},
   "outputs": [],
   "source": [
    "dangjin_fcst_interpolated = interpolation(dangjin_fcst_unique)\n",
    "ulsan_fcst_interpolated = interpolation(ulsan_fcst_unique)\n",
    "dangjin_obs_interpolated = interpolation(dangjin_obs)\n",
    "ulsan_obs_interpolated = interpolation(ulsan_obs)"
   ]
  },
  {
   "source": [
    "## Convert dtype of 'time' in `energy`\n",
    "- 'time' of `energy` is 'object'. \n",
    "- However, `pd.to_datetime` doesn't accepts '24:00:00' as an hour. Instead accepts '00:00:00'.\n",
    "- Therefore, custom function is needed."
   ],
   "cell_type": "markdown",
   "metadata": {}
  },
  {
   "cell_type": "code",
   "execution_count": 184,
   "metadata": {},
   "outputs": [
    {
     "output_type": "stream",
     "name": "stdout",
     "text": [
      "2018-03-02 00:00:00\n"
     ]
    }
   ],
   "source": [
    "def to_datetime_for_energy(date_str):\n",
    "    if date_str[11:13] == '24':\n",
    "        date_str = date_str[0:11] + '00' + date_str[13:]\n",
    "        return pd.to_datetime(date_str) + dt.timedelta(days=1)\n",
    "\n",
    "    else:\n",
    "        return pd.to_datetime(date_str)\n",
    "\n",
    "print(to_datetime_for_energy('2018-03-01 24:00:00'))"
   ]
  },
  {
   "cell_type": "code",
   "execution_count": 185,
   "metadata": {},
   "outputs": [],
   "source": [
    "energy['time'] = energy['time'].apply(to_datetime_for_energy)"
   ]
  },
  {
   "source": [
    "## Merge fcst, obs, and energy\n",
    "- inner merge on 'time'"
   ],
   "cell_type": "markdown",
   "metadata": {}
  },
  {
   "cell_type": "code",
   "execution_count": 199,
   "metadata": {},
   "outputs": [
    {
     "output_type": "display_data",
     "data": {
      "text/plain": "                     time Temperature_obs Humidity_obs WindSpeed_obs  \\\n0     2018-03-01 15:00:00               0           60           7.3   \n1     2018-03-01 16:00:00       -0.666667           60       7.23333   \n2     2018-03-01 17:00:00        -1.33333           60       7.16667   \n3     2018-03-01 18:00:00              -2           60           7.1   \n4     2018-03-01 19:00:00              -2           60       7.05556   \n...                   ...             ...          ...           ...   \n25611 2021-01-31 18:00:00             6.2           76          3.34   \n25612 2021-01-31 19:00:00         6.13333      77.9683       3.46476   \n25613 2021-01-31 20:00:00         6.06667      79.9365       3.58952   \n25614 2021-01-31 21:00:00               6      81.9048       3.71429   \n25615 2021-01-31 22:00:00         6.21212      82.1789       3.92468   \n\n      WindDirection_obs Cloud_obs Temperature_fcst Humidity_fcst  \\\n0                   309         2              0.4            56   \n1               310.667   1.66667              0.3            56   \n2               312.333   1.33333             -0.5            59   \n3                   314         1             -1.3            62   \n4               317.333         1             -1.7            63   \n...                 ...       ...              ...           ...   \n25611               181       3.4              7.8            70   \n25612           178.667       3.6              6.7            75   \n25613           176.333       3.8              6.2            77   \n25614               174         4              5.3            82   \n25615               178   3.87879              5.8            77   \n\n      WindSpeed_fcst WindDirection_fcst Cloud_fcst  dangjin_floating  \\\n0                  5                320        NaN             641.0   \n1                  6                290        NaN             536.0   \n2                4.6                320        NaN             348.0   \n3                5.4                290        NaN             134.0   \n4                4.4                320        NaN              11.0   \n...              ...                ...        ...               ...   \n25611              2                200          8              10.0   \n25612            1.5                200          8               0.0   \n25613            0.8                200          8               0.0   \n25614            0.7                230          8               0.0   \n25615              1                200          8               0.0   \n\n       dangjin_warehouse  dangjin  \n0                  496.0      672  \n1                  391.0      546  \n2                  271.0      364  \n3                   80.0      110  \n4                    2.0        0  \n...                  ...      ...  \n25611                6.0        0  \n25612                0.0        0  \n25613                0.0        0  \n25614                0.0        0  \n25615                0.0        0  \n\n[25616 rows x 14 columns]",
      "text/html": "<div>\n<style scoped>\n    .dataframe tbody tr th:only-of-type {\n        vertical-align: middle;\n    }\n\n    .dataframe tbody tr th {\n        vertical-align: top;\n    }\n\n    .dataframe thead th {\n        text-align: right;\n    }\n</style>\n<table border=\"1\" class=\"dataframe\">\n  <thead>\n    <tr style=\"text-align: right;\">\n      <th></th>\n      <th>time</th>\n      <th>Temperature_obs</th>\n      <th>Humidity_obs</th>\n      <th>WindSpeed_obs</th>\n      <th>WindDirection_obs</th>\n      <th>Cloud_obs</th>\n      <th>Temperature_fcst</th>\n      <th>Humidity_fcst</th>\n      <th>WindSpeed_fcst</th>\n      <th>WindDirection_fcst</th>\n      <th>Cloud_fcst</th>\n      <th>dangjin_floating</th>\n      <th>dangjin_warehouse</th>\n      <th>dangjin</th>\n    </tr>\n  </thead>\n  <tbody>\n    <tr>\n      <th>0</th>\n      <td>2018-03-01 15:00:00</td>\n      <td>0</td>\n      <td>60</td>\n      <td>7.3</td>\n      <td>309</td>\n      <td>2</td>\n      <td>0.4</td>\n      <td>56</td>\n      <td>5</td>\n      <td>320</td>\n      <td>NaN</td>\n      <td>641.0</td>\n      <td>496.0</td>\n      <td>672</td>\n    </tr>\n    <tr>\n      <th>1</th>\n      <td>2018-03-01 16:00:00</td>\n      <td>-0.666667</td>\n      <td>60</td>\n      <td>7.23333</td>\n      <td>310.667</td>\n      <td>1.66667</td>\n      <td>0.3</td>\n      <td>56</td>\n      <td>6</td>\n      <td>290</td>\n      <td>NaN</td>\n      <td>536.0</td>\n      <td>391.0</td>\n      <td>546</td>\n    </tr>\n    <tr>\n      <th>2</th>\n      <td>2018-03-01 17:00:00</td>\n      <td>-1.33333</td>\n      <td>60</td>\n      <td>7.16667</td>\n      <td>312.333</td>\n      <td>1.33333</td>\n      <td>-0.5</td>\n      <td>59</td>\n      <td>4.6</td>\n      <td>320</td>\n      <td>NaN</td>\n      <td>348.0</td>\n      <td>271.0</td>\n      <td>364</td>\n    </tr>\n    <tr>\n      <th>3</th>\n      <td>2018-03-01 18:00:00</td>\n      <td>-2</td>\n      <td>60</td>\n      <td>7.1</td>\n      <td>314</td>\n      <td>1</td>\n      <td>-1.3</td>\n      <td>62</td>\n      <td>5.4</td>\n      <td>290</td>\n      <td>NaN</td>\n      <td>134.0</td>\n      <td>80.0</td>\n      <td>110</td>\n    </tr>\n    <tr>\n      <th>4</th>\n      <td>2018-03-01 19:00:00</td>\n      <td>-2</td>\n      <td>60</td>\n      <td>7.05556</td>\n      <td>317.333</td>\n      <td>1</td>\n      <td>-1.7</td>\n      <td>63</td>\n      <td>4.4</td>\n      <td>320</td>\n      <td>NaN</td>\n      <td>11.0</td>\n      <td>2.0</td>\n      <td>0</td>\n    </tr>\n    <tr>\n      <th>...</th>\n      <td>...</td>\n      <td>...</td>\n      <td>...</td>\n      <td>...</td>\n      <td>...</td>\n      <td>...</td>\n      <td>...</td>\n      <td>...</td>\n      <td>...</td>\n      <td>...</td>\n      <td>...</td>\n      <td>...</td>\n      <td>...</td>\n      <td>...</td>\n    </tr>\n    <tr>\n      <th>25611</th>\n      <td>2021-01-31 18:00:00</td>\n      <td>6.2</td>\n      <td>76</td>\n      <td>3.34</td>\n      <td>181</td>\n      <td>3.4</td>\n      <td>7.8</td>\n      <td>70</td>\n      <td>2</td>\n      <td>200</td>\n      <td>8</td>\n      <td>10.0</td>\n      <td>6.0</td>\n      <td>0</td>\n    </tr>\n    <tr>\n      <th>25612</th>\n      <td>2021-01-31 19:00:00</td>\n      <td>6.13333</td>\n      <td>77.9683</td>\n      <td>3.46476</td>\n      <td>178.667</td>\n      <td>3.6</td>\n      <td>6.7</td>\n      <td>75</td>\n      <td>1.5</td>\n      <td>200</td>\n      <td>8</td>\n      <td>0.0</td>\n      <td>0.0</td>\n      <td>0</td>\n    </tr>\n    <tr>\n      <th>25613</th>\n      <td>2021-01-31 20:00:00</td>\n      <td>6.06667</td>\n      <td>79.9365</td>\n      <td>3.58952</td>\n      <td>176.333</td>\n      <td>3.8</td>\n      <td>6.2</td>\n      <td>77</td>\n      <td>0.8</td>\n      <td>200</td>\n      <td>8</td>\n      <td>0.0</td>\n      <td>0.0</td>\n      <td>0</td>\n    </tr>\n    <tr>\n      <th>25614</th>\n      <td>2021-01-31 21:00:00</td>\n      <td>6</td>\n      <td>81.9048</td>\n      <td>3.71429</td>\n      <td>174</td>\n      <td>4</td>\n      <td>5.3</td>\n      <td>82</td>\n      <td>0.7</td>\n      <td>230</td>\n      <td>8</td>\n      <td>0.0</td>\n      <td>0.0</td>\n      <td>0</td>\n    </tr>\n    <tr>\n      <th>25615</th>\n      <td>2021-01-31 22:00:00</td>\n      <td>6.21212</td>\n      <td>82.1789</td>\n      <td>3.92468</td>\n      <td>178</td>\n      <td>3.87879</td>\n      <td>5.8</td>\n      <td>77</td>\n      <td>1</td>\n      <td>200</td>\n      <td>8</td>\n      <td>0.0</td>\n      <td>0.0</td>\n      <td>0</td>\n    </tr>\n  </tbody>\n</table>\n<p>25616 rows × 14 columns</p>\n</div>"
     },
     "metadata": {}
    },
    {
     "output_type": "display_data",
     "data": {
      "text/plain": "                     time Temperature_obs Humidity_obs WindSpeed_obs  \\\n0     2018-03-01 15:00:00               8           20            14   \n1     2018-03-01 16:00:00         6.66667           20       10.7667   \n2     2018-03-01 17:00:00         5.33333           20       7.53333   \n3     2018-03-01 18:00:00               4           20           4.3   \n4     2018-03-01 19:00:00         3.66667      23.3333       3.52222   \n...                   ...             ...          ...           ...   \n25611 2021-01-31 18:00:00             9.2           59          2.74   \n25612 2021-01-31 19:00:00         8.81587      62.5079       2.98063   \n25613 2021-01-31 20:00:00         8.43175      66.0159       3.22127   \n25614 2021-01-31 21:00:00         8.04762      69.5238        3.4619   \n25615 2021-01-31 22:00:00          8.6075       69.228       3.72915   \n\n      WindDirection_obs Cloud_obs Temperature_fcst Humidity_fcst  \\\n0                   298         2              9.9            19   \n1                   298         2              9.2            17   \n2                   298         2              8.3            17   \n3                   298         2              6.6            19   \n4               302.111         2              5.6            18   \n...                 ...       ...              ...           ...   \n25611             204.6       3.4              9.3            43   \n25612           206.686   3.47302              8.8            50   \n25613           208.771   3.54603              8.7            49   \n25614           210.857   3.61905              8.4            51   \n25615           210.177   3.74603              9.4            51   \n\n      WindSpeed_fcst WindDirection_fcst Cloud_fcst  ulsan  \n0                7.2                290          5    318  \n1                6.7                290          1    258  \n2                5.1                290          2    160  \n3                2.3                360        NaN     30  \n4                1.2                200        NaN      0  \n...              ...                ...        ...    ...  \n25611            3.4                180          0      8  \n25612            2.5                200          5      0  \n25613            3.9                200          1      0  \n25614            2.4                230          7      0  \n25615            3.3                230          8      0  \n\n[25616 rows x 12 columns]",
      "text/html": "<div>\n<style scoped>\n    .dataframe tbody tr th:only-of-type {\n        vertical-align: middle;\n    }\n\n    .dataframe tbody tr th {\n        vertical-align: top;\n    }\n\n    .dataframe thead th {\n        text-align: right;\n    }\n</style>\n<table border=\"1\" class=\"dataframe\">\n  <thead>\n    <tr style=\"text-align: right;\">\n      <th></th>\n      <th>time</th>\n      <th>Temperature_obs</th>\n      <th>Humidity_obs</th>\n      <th>WindSpeed_obs</th>\n      <th>WindDirection_obs</th>\n      <th>Cloud_obs</th>\n      <th>Temperature_fcst</th>\n      <th>Humidity_fcst</th>\n      <th>WindSpeed_fcst</th>\n      <th>WindDirection_fcst</th>\n      <th>Cloud_fcst</th>\n      <th>ulsan</th>\n    </tr>\n  </thead>\n  <tbody>\n    <tr>\n      <th>0</th>\n      <td>2018-03-01 15:00:00</td>\n      <td>8</td>\n      <td>20</td>\n      <td>14</td>\n      <td>298</td>\n      <td>2</td>\n      <td>9.9</td>\n      <td>19</td>\n      <td>7.2</td>\n      <td>290</td>\n      <td>5</td>\n      <td>318</td>\n    </tr>\n    <tr>\n      <th>1</th>\n      <td>2018-03-01 16:00:00</td>\n      <td>6.66667</td>\n      <td>20</td>\n      <td>10.7667</td>\n      <td>298</td>\n      <td>2</td>\n      <td>9.2</td>\n      <td>17</td>\n      <td>6.7</td>\n      <td>290</td>\n      <td>1</td>\n      <td>258</td>\n    </tr>\n    <tr>\n      <th>2</th>\n      <td>2018-03-01 17:00:00</td>\n      <td>5.33333</td>\n      <td>20</td>\n      <td>7.53333</td>\n      <td>298</td>\n      <td>2</td>\n      <td>8.3</td>\n      <td>17</td>\n      <td>5.1</td>\n      <td>290</td>\n      <td>2</td>\n      <td>160</td>\n    </tr>\n    <tr>\n      <th>3</th>\n      <td>2018-03-01 18:00:00</td>\n      <td>4</td>\n      <td>20</td>\n      <td>4.3</td>\n      <td>298</td>\n      <td>2</td>\n      <td>6.6</td>\n      <td>19</td>\n      <td>2.3</td>\n      <td>360</td>\n      <td>NaN</td>\n      <td>30</td>\n    </tr>\n    <tr>\n      <th>4</th>\n      <td>2018-03-01 19:00:00</td>\n      <td>3.66667</td>\n      <td>23.3333</td>\n      <td>3.52222</td>\n      <td>302.111</td>\n      <td>2</td>\n      <td>5.6</td>\n      <td>18</td>\n      <td>1.2</td>\n      <td>200</td>\n      <td>NaN</td>\n      <td>0</td>\n    </tr>\n    <tr>\n      <th>...</th>\n      <td>...</td>\n      <td>...</td>\n      <td>...</td>\n      <td>...</td>\n      <td>...</td>\n      <td>...</td>\n      <td>...</td>\n      <td>...</td>\n      <td>...</td>\n      <td>...</td>\n      <td>...</td>\n      <td>...</td>\n    </tr>\n    <tr>\n      <th>25611</th>\n      <td>2021-01-31 18:00:00</td>\n      <td>9.2</td>\n      <td>59</td>\n      <td>2.74</td>\n      <td>204.6</td>\n      <td>3.4</td>\n      <td>9.3</td>\n      <td>43</td>\n      <td>3.4</td>\n      <td>180</td>\n      <td>0</td>\n      <td>8</td>\n    </tr>\n    <tr>\n      <th>25612</th>\n      <td>2021-01-31 19:00:00</td>\n      <td>8.81587</td>\n      <td>62.5079</td>\n      <td>2.98063</td>\n      <td>206.686</td>\n      <td>3.47302</td>\n      <td>8.8</td>\n      <td>50</td>\n      <td>2.5</td>\n      <td>200</td>\n      <td>5</td>\n      <td>0</td>\n    </tr>\n    <tr>\n      <th>25613</th>\n      <td>2021-01-31 20:00:00</td>\n      <td>8.43175</td>\n      <td>66.0159</td>\n      <td>3.22127</td>\n      <td>208.771</td>\n      <td>3.54603</td>\n      <td>8.7</td>\n      <td>49</td>\n      <td>3.9</td>\n      <td>200</td>\n      <td>1</td>\n      <td>0</td>\n    </tr>\n    <tr>\n      <th>25614</th>\n      <td>2021-01-31 21:00:00</td>\n      <td>8.04762</td>\n      <td>69.5238</td>\n      <td>3.4619</td>\n      <td>210.857</td>\n      <td>3.61905</td>\n      <td>8.4</td>\n      <td>51</td>\n      <td>2.4</td>\n      <td>230</td>\n      <td>7</td>\n      <td>0</td>\n    </tr>\n    <tr>\n      <th>25615</th>\n      <td>2021-01-31 22:00:00</td>\n      <td>8.6075</td>\n      <td>69.228</td>\n      <td>3.72915</td>\n      <td>210.177</td>\n      <td>3.74603</td>\n      <td>9.4</td>\n      <td>51</td>\n      <td>3.3</td>\n      <td>230</td>\n      <td>8</td>\n      <td>0</td>\n    </tr>\n  </tbody>\n</table>\n<p>25616 rows × 12 columns</p>\n</div>"
     },
     "metadata": {}
    }
   ],
   "source": [
    "dangjin_merged_ = pd.merge(dangjin_fcst_interpolated, dangjin_obs_interpolated, on='time', suffixes=('_obs','_fcst'))\n",
    "dangjin_merged = pd.merge(dangjin_merged_, energy.loc[:,['time','dangjin_floating','dangjin_warehouse','dangjin']], on='time')\n",
    "\n",
    "ulsan_merged_ = pd.merge(ulsan_fcst_interpolated, ulsan_obs_interpolated, on='time', suffixes=('_obs','_fcst'))\n",
    "ulsan_merged = pd.merge(ulsan_merged_, energy.loc[:,['time','ulsan']], on='time')\n",
    "\n",
    "display(dangjin_merged)\n",
    "display(ulsan_merged)"
   ]
  },
  {
   "source": [
    "## Fill missing values in using ffill\n",
    "- fillna with bfill(backward fill)\n",
    "- if bfill is not available, use ffill(forward fill) instead"
   ],
   "cell_type": "markdown",
   "metadata": {}
  },
  {
   "cell_type": "code",
   "execution_count": null,
   "metadata": {},
   "outputs": [],
   "source": [
    "# keep the original\n",
    "dangjin_merged_with_na = dangjin_merged.copy()\n",
    "ulsan_merged_with_na = ulsan_merged.copy()"
   ]
  },
  {
   "cell_type": "code",
   "execution_count": 211,
   "metadata": {},
   "outputs": [
    {
     "output_type": "stream",
     "name": "stdout",
     "text": [
      "time                     0\nTemperature_obs          0\nHumidity_obs             0\nWindSpeed_obs            0\nWindDirection_obs        0\nCloud_obs                0\nTemperature_fcst        47\nHumidity_fcst           43\nWindSpeed_fcst          44\nWindDirection_fcst      44\nCloud_fcst            4086\ndangjin_floating        24\ndangjin_warehouse       48\ndangjin                  0\ndtype: int64\ntime                     0\nTemperature_obs          0\nHumidity_obs             0\nWindSpeed_obs            0\nWindDirection_obs        0\nCloud_obs                0\nTemperature_fcst         7\nHumidity_fcst            2\nWindSpeed_fcst           2\nWindDirection_fcst       2\nCloud_fcst            1257\nulsan                    0\ndtype: int64\n"
     ]
    }
   ],
   "source": [
    "# check missing values\n",
    "print(dangjin_merged_with_na.isna().sum())\n",
    "print(ulsan_merged_with_na.isna().sum())"
   ]
  },
  {
   "cell_type": "code",
   "execution_count": 208,
   "metadata": {},
   "outputs": [],
   "source": [
    "# fill\n",
    "dangjin_merged = dangjin_merged.fillna(method='bfill')\n",
    "ulsan_merged = ulsan_merged.fillna(method='bfill')"
   ]
  },
  {
   "cell_type": "code",
   "execution_count": 218,
   "metadata": {},
   "outputs": [],
   "source": [
    "with open('pickles/dangjin_merged.pkl','wb') as f:\n",
    "    pickle.dump(dangjin_merged,f)\n",
    "with open('pickles/ulsan_merged.pkl','wb') as f:\n",
    "    pickle.dump(ulsan_merged,f)"
   ]
  }
 ]
}