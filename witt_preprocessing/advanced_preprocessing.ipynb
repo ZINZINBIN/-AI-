{
 "metadata": {
  "language_info": {
   "codemirror_mode": {
    "name": "ipython",
    "version": 3
   },
   "file_extension": ".py",
   "mimetype": "text/x-python",
   "name": "python",
   "nbconvert_exporter": "python",
   "pygments_lexer": "ipython3",
   "version": "3.8.5"
  },
  "orig_nbformat": 2,
  "kernelspec": {
   "name": "python385jvsc74a57bd00a11f21c0450bb1ec4a8d90e5cdddc03f9c3302b58333d2d566c7a90a775328a",
   "display_name": "Python 3.8.5 64-bit ('base': conda)"
  }
 },
 "nbformat": 4,
 "nbformat_minor": 2,
 "cells": [
  {
   "source": [
    "# Advanced preprocessing"
   ],
   "cell_type": "markdown",
   "metadata": {}
  },
  {
   "source": [
    "# Table of Contents\n",
    "- Load data\n",
    "- Merge duplicated rows in `fcst` using mean / most recent fcst\n",
    "- Convert the measure of `Cloud` in `fcst` to `obs`\n",
    "- Interpolate fcst\n",
    "- Convert dtype of 'time' in `energy`\n",
    "- Merge fcst, obs, and energy\n",
    "- Fill missing values in using ffill"
   ],
   "cell_type": "markdown",
   "metadata": {}
  },
  {
   "source": [
    "## Load data\n",
    "- from basic_processing.ipynb"
   ],
   "cell_type": "markdown",
   "metadata": {}
  },
  {
   "cell_type": "code",
   "execution_count": 94,
   "metadata": {},
   "outputs": [],
   "source": [
    "import pickle\n",
    "from glob import glob\n",
    "import pandas as pd\n",
    "import matplotlib.pyplot as plt\n",
    "import numpy as np"
   ]
  },
  {
   "cell_type": "code",
   "execution_count": 95,
   "metadata": {},
   "outputs": [],
   "source": [
    "with open('pickles/dangjin_fcst_data.pkl','rb') as f:\n",
    "    dangjin_fcst = pickle.load(f)\n",
    "with open('pickles/dangjin_obs_data.pkl','rb') as f:\n",
    "    dangjin_obs = pickle.load(f)\n",
    "with open('pickles/ulsan_fcst_data.pkl','rb') as f:\n",
    "    ulsan_fcst = pickle.load(f)\n",
    "with open('pickles/ulsan_obs_data.pkl', 'rb') as f:\n",
    "    ulsan_obs = pickle.load(f)\n",
    "\n",
    "energy = pd.read_csv(glob('../original_dataset/energy.csv')[0])"
   ]
  },
  {
   "source": [
    "## Merge duplicated rows in `fcst`\n",
    "## Option 1(current Plan B): Merge duplicated rows in `fcst` using mean"
   ],
   "cell_type": "markdown",
   "metadata": {}
  },
  {
   "cell_type": "code",
   "execution_count": 96,
   "metadata": {},
   "outputs": [
    {
     "output_type": "stream",
     "name": "stdout",
     "text": [
      "total rows: 162208\nunique rows: 8788\ntotal rows: 162208\nunique rows: 8788\n"
     ]
    }
   ],
   "source": [
    "print('total rows:',dangjin_fcst['time'].shape[0])\n",
    "print('unique rows:', dangjin_fcst['time'].unique().shape[0])\n",
    "print('total rows:',ulsan_fcst['time'].shape[0])\n",
    "print('unique rows:',ulsan_fcst['time'].unique().shape[0])"
   ]
  },
  {
   "cell_type": "code",
   "execution_count": 97,
   "metadata": {},
   "outputs": [],
   "source": [
    "dangjin_fcst_unique_mean = dangjin_fcst.groupby('time').mean()\n",
    "ulsan_fcst_unique_mean = ulsan_fcst.groupby('time').mean()\n",
    "\n",
    "dangjin_fcst_unique_mean = dangjin_fcst_unique_mean.reset_index() # because time was set to index\n",
    "ulsan_fcst_unique_mean = ulsan_fcst_unique_mean.reset_index()"
   ]
  },
  {
   "cell_type": "code",
   "execution_count": 98,
   "metadata": {},
   "outputs": [
    {
     "output_type": "execute_result",
     "data": {
      "text/plain": [
       "                    time  Temperature  Humidity  WindSpeed  WindDirection  \\\n",
       "0    2018-03-01 15:00:00          0.0      60.0   7.300000          309.0   \n",
       "1    2018-03-01 18:00:00         -2.0      60.0   7.100000          314.0   \n",
       "2    2018-03-01 21:00:00         -2.0      60.0   6.966667          324.0   \n",
       "3    2018-03-02 00:00:00         -2.0      52.5   6.250000          336.0   \n",
       "4    2018-03-02 03:00:00         -3.4      55.0   5.200000          339.0   \n",
       "...                  ...          ...       ...        ...            ...   \n",
       "8783 2021-03-03 12:00:00          7.0      40.0   3.200000          187.0   \n",
       "8784 2021-03-03 15:00:00          8.0      40.0   4.500000          217.0   \n",
       "8785 2021-03-03 18:00:00          5.0      55.0   2.200000          210.0   \n",
       "8786 2021-03-03 21:00:00          1.0      80.0   1.900000          164.0   \n",
       "8787 2021-03-04 00:00:00          1.0      80.0   2.100000          152.0   \n",
       "\n",
       "      Cloud  \n",
       "0       2.0  \n",
       "1       1.0  \n",
       "2       1.0  \n",
       "3       1.0  \n",
       "4       1.0  \n",
       "...     ...  \n",
       "8783    1.0  \n",
       "8784    1.0  \n",
       "8785    1.0  \n",
       "8786    1.0  \n",
       "8787    1.0  \n",
       "\n",
       "[8788 rows x 6 columns]"
      ],
      "text/html": "<div>\n<style scoped>\n    .dataframe tbody tr th:only-of-type {\n        vertical-align: middle;\n    }\n\n    .dataframe tbody tr th {\n        vertical-align: top;\n    }\n\n    .dataframe thead th {\n        text-align: right;\n    }\n</style>\n<table border=\"1\" class=\"dataframe\">\n  <thead>\n    <tr style=\"text-align: right;\">\n      <th></th>\n      <th>time</th>\n      <th>Temperature</th>\n      <th>Humidity</th>\n      <th>WindSpeed</th>\n      <th>WindDirection</th>\n      <th>Cloud</th>\n    </tr>\n  </thead>\n  <tbody>\n    <tr>\n      <th>0</th>\n      <td>2018-03-01 15:00:00</td>\n      <td>0.0</td>\n      <td>60.0</td>\n      <td>7.300000</td>\n      <td>309.0</td>\n      <td>2.0</td>\n    </tr>\n    <tr>\n      <th>1</th>\n      <td>2018-03-01 18:00:00</td>\n      <td>-2.0</td>\n      <td>60.0</td>\n      <td>7.100000</td>\n      <td>314.0</td>\n      <td>1.0</td>\n    </tr>\n    <tr>\n      <th>2</th>\n      <td>2018-03-01 21:00:00</td>\n      <td>-2.0</td>\n      <td>60.0</td>\n      <td>6.966667</td>\n      <td>324.0</td>\n      <td>1.0</td>\n    </tr>\n    <tr>\n      <th>3</th>\n      <td>2018-03-02 00:00:00</td>\n      <td>-2.0</td>\n      <td>52.5</td>\n      <td>6.250000</td>\n      <td>336.0</td>\n      <td>1.0</td>\n    </tr>\n    <tr>\n      <th>4</th>\n      <td>2018-03-02 03:00:00</td>\n      <td>-3.4</td>\n      <td>55.0</td>\n      <td>5.200000</td>\n      <td>339.0</td>\n      <td>1.0</td>\n    </tr>\n    <tr>\n      <th>...</th>\n      <td>...</td>\n      <td>...</td>\n      <td>...</td>\n      <td>...</td>\n      <td>...</td>\n      <td>...</td>\n    </tr>\n    <tr>\n      <th>8783</th>\n      <td>2021-03-03 12:00:00</td>\n      <td>7.0</td>\n      <td>40.0</td>\n      <td>3.200000</td>\n      <td>187.0</td>\n      <td>1.0</td>\n    </tr>\n    <tr>\n      <th>8784</th>\n      <td>2021-03-03 15:00:00</td>\n      <td>8.0</td>\n      <td>40.0</td>\n      <td>4.500000</td>\n      <td>217.0</td>\n      <td>1.0</td>\n    </tr>\n    <tr>\n      <th>8785</th>\n      <td>2021-03-03 18:00:00</td>\n      <td>5.0</td>\n      <td>55.0</td>\n      <td>2.200000</td>\n      <td>210.0</td>\n      <td>1.0</td>\n    </tr>\n    <tr>\n      <th>8786</th>\n      <td>2021-03-03 21:00:00</td>\n      <td>1.0</td>\n      <td>80.0</td>\n      <td>1.900000</td>\n      <td>164.0</td>\n      <td>1.0</td>\n    </tr>\n    <tr>\n      <th>8787</th>\n      <td>2021-03-04 00:00:00</td>\n      <td>1.0</td>\n      <td>80.0</td>\n      <td>2.100000</td>\n      <td>152.0</td>\n      <td>1.0</td>\n    </tr>\n  </tbody>\n</table>\n<p>8788 rows × 6 columns</p>\n</div>"
     },
     "metadata": {},
     "execution_count": 98
    }
   ],
   "source": [
    "dangjin_fcst_unique_mean"
   ]
  },
  {
   "source": [
    "## Option 2(current Plan A): Merge duplicated rows in `fcst` using the most recent forecast"
   ],
   "cell_type": "markdown",
   "metadata": {}
  },
  {
   "cell_type": "code",
   "execution_count": 99,
   "metadata": {},
   "outputs": [
    {
     "output_type": "execute_result",
     "data": {
      "text/plain": [
       "                   time       Forecast time  Temperature  Humidity  WindSpeed  \\\n",
       "212 2018-03-03 21:00:00 2018-03-02 20:00:00          9.0      85.0        2.5   \n",
       "\n",
       "     WindDirection  Cloud  \n",
       "212          133.0    3.0  "
      ],
      "text/html": "<div>\n<style scoped>\n    .dataframe tbody tr th:only-of-type {\n        vertical-align: middle;\n    }\n\n    .dataframe tbody tr th {\n        vertical-align: top;\n    }\n\n    .dataframe thead th {\n        text-align: right;\n    }\n</style>\n<table border=\"1\" class=\"dataframe\">\n  <thead>\n    <tr style=\"text-align: right;\">\n      <th></th>\n      <th>time</th>\n      <th>Forecast time</th>\n      <th>Temperature</th>\n      <th>Humidity</th>\n      <th>WindSpeed</th>\n      <th>WindDirection</th>\n      <th>Cloud</th>\n    </tr>\n  </thead>\n  <tbody>\n    <tr>\n      <th>212</th>\n      <td>2018-03-03 21:00:00</td>\n      <td>2018-03-02 20:00:00</td>\n      <td>9.0</td>\n      <td>85.0</td>\n      <td>2.5</td>\n      <td>133.0</td>\n      <td>3.0</td>\n    </tr>\n  </tbody>\n</table>\n</div>"
     },
     "metadata": {},
     "execution_count": 99
    }
   ],
   "source": [
    "def merge_to_recent(data, time, due_hour = 21):\n",
    "    '''\n",
    "    @warning\n",
    "    data에 'Forecast time'(기상 예측이 이루어진 시점) column이 존재해야 함.\n",
    "\n",
    "    @description\n",
    "    fcst에서 'time'이 중복되는 row들을 하나로 통합한다.\n",
    "    이때, 가장 최근의 fcst data로 통합한다. (즉, 가장 최근의 fcst data 이외의 row는 모두 삭제한다.)\n",
    "    '가장 최근'이라는 것은, 해당 'time'의 전날의 due_hour까지다. \n",
    "    예를 들어 2021-05-02 14:00:00(=time)를 예측하고, due_hour = 21이라면,\n",
    "    2021-05-01 21:00:00 전까지의 row 중 가장 최근의 fcst로 통합한다.\n",
    "\n",
    "    @parameters\n",
    "    data: pd.DataFrame ; 통합이 이루어질 dataframe\n",
    "    time: pd.Timestamp ; 통합하려는 time\n",
    "    due_hour: int ; description 참고\n",
    "\n",
    "    @return\n",
    "    pd.Series ; 통합된 하나의 row\n",
    "\n",
    "    '''\n",
    "    # data only with the given time\n",
    "    data_only_with_time = data.loc[data['time'] == time]\n",
    "    \n",
    "    # shift time\n",
    "    time = time - pd.Timedelta(1, unit='days') # shifting 1 day to the past (yesterday)\n",
    "    time = time.replace(hour=due_hour) # change 'hour' to DUE_HOUR\n",
    "\n",
    "    # most recent forecast\n",
    "    return data_only_with_time[data_only_with_time['Forecast time'] <= time].iloc[-1:,]\n",
    "\n",
    "\n",
    "# example\n",
    "TIME = pd.Timestamp('2018-03-03-21:00:00')\n",
    "merge_to_recent(dangjin_fcst, TIME)"
   ]
  },
  {
   "cell_type": "code",
   "execution_count": 100,
   "metadata": {},
   "outputs": [
    {
     "output_type": "execute_result",
     "data": {
      "text/plain": [
       "                    time  Temperature  Humidity  WindSpeed  WindDirection  \\\n",
       "0    2018-03-02 00:00:00         -2.0      50.0        5.8          336.0   \n",
       "1    2018-03-02 03:00:00         -3.0      55.0        5.0          339.0   \n",
       "2    2018-03-02 06:00:00         -4.0      60.0        4.1          353.0   \n",
       "3    2018-03-02 09:00:00         -2.0      55.0        1.1          360.0   \n",
       "4    2018-03-02 12:00:00          2.0      45.0        1.0          259.0   \n",
       "...                  ...          ...       ...        ...            ...   \n",
       "8780 2021-03-03 12:00:00          7.0      40.0        3.2          187.0   \n",
       "8781 2021-03-03 15:00:00          8.0      40.0        4.5          217.0   \n",
       "8782 2021-03-03 18:00:00          5.0      55.0        2.2          210.0   \n",
       "8783 2021-03-03 21:00:00          1.0      80.0        1.9          164.0   \n",
       "8784 2021-03-04 00:00:00          1.0      80.0        2.1          152.0   \n",
       "\n",
       "      Cloud  \n",
       "0       1.0  \n",
       "1       1.0  \n",
       "2       1.0  \n",
       "3       1.0  \n",
       "4       1.0  \n",
       "...     ...  \n",
       "8780    1.0  \n",
       "8781    1.0  \n",
       "8782    1.0  \n",
       "8783    1.0  \n",
       "8784    1.0  \n",
       "\n",
       "[8785 rows x 6 columns]"
      ],
      "text/html": "<div>\n<style scoped>\n    .dataframe tbody tr th:only-of-type {\n        vertical-align: middle;\n    }\n\n    .dataframe tbody tr th {\n        vertical-align: top;\n    }\n\n    .dataframe thead th {\n        text-align: right;\n    }\n</style>\n<table border=\"1\" class=\"dataframe\">\n  <thead>\n    <tr style=\"text-align: right;\">\n      <th></th>\n      <th>time</th>\n      <th>Temperature</th>\n      <th>Humidity</th>\n      <th>WindSpeed</th>\n      <th>WindDirection</th>\n      <th>Cloud</th>\n    </tr>\n  </thead>\n  <tbody>\n    <tr>\n      <th>0</th>\n      <td>2018-03-02 00:00:00</td>\n      <td>-2.0</td>\n      <td>50.0</td>\n      <td>5.8</td>\n      <td>336.0</td>\n      <td>1.0</td>\n    </tr>\n    <tr>\n      <th>1</th>\n      <td>2018-03-02 03:00:00</td>\n      <td>-3.0</td>\n      <td>55.0</td>\n      <td>5.0</td>\n      <td>339.0</td>\n      <td>1.0</td>\n    </tr>\n    <tr>\n      <th>2</th>\n      <td>2018-03-02 06:00:00</td>\n      <td>-4.0</td>\n      <td>60.0</td>\n      <td>4.1</td>\n      <td>353.0</td>\n      <td>1.0</td>\n    </tr>\n    <tr>\n      <th>3</th>\n      <td>2018-03-02 09:00:00</td>\n      <td>-2.0</td>\n      <td>55.0</td>\n      <td>1.1</td>\n      <td>360.0</td>\n      <td>1.0</td>\n    </tr>\n    <tr>\n      <th>4</th>\n      <td>2018-03-02 12:00:00</td>\n      <td>2.0</td>\n      <td>45.0</td>\n      <td>1.0</td>\n      <td>259.0</td>\n      <td>1.0</td>\n    </tr>\n    <tr>\n      <th>...</th>\n      <td>...</td>\n      <td>...</td>\n      <td>...</td>\n      <td>...</td>\n      <td>...</td>\n      <td>...</td>\n    </tr>\n    <tr>\n      <th>8780</th>\n      <td>2021-03-03 12:00:00</td>\n      <td>7.0</td>\n      <td>40.0</td>\n      <td>3.2</td>\n      <td>187.0</td>\n      <td>1.0</td>\n    </tr>\n    <tr>\n      <th>8781</th>\n      <td>2021-03-03 15:00:00</td>\n      <td>8.0</td>\n      <td>40.0</td>\n      <td>4.5</td>\n      <td>217.0</td>\n      <td>1.0</td>\n    </tr>\n    <tr>\n      <th>8782</th>\n      <td>2021-03-03 18:00:00</td>\n      <td>5.0</td>\n      <td>55.0</td>\n      <td>2.2</td>\n      <td>210.0</td>\n      <td>1.0</td>\n    </tr>\n    <tr>\n      <th>8783</th>\n      <td>2021-03-03 21:00:00</td>\n      <td>1.0</td>\n      <td>80.0</td>\n      <td>1.9</td>\n      <td>164.0</td>\n      <td>1.0</td>\n    </tr>\n    <tr>\n      <th>8784</th>\n      <td>2021-03-04 00:00:00</td>\n      <td>1.0</td>\n      <td>80.0</td>\n      <td>2.1</td>\n      <td>152.0</td>\n      <td>1.0</td>\n    </tr>\n  </tbody>\n</table>\n<p>8785 rows × 6 columns</p>\n</div>"
     },
     "metadata": {},
     "execution_count": 100
    }
   ],
   "source": [
    "# apply merge_to_recent (dangjin_fcst)\n",
    "\n",
    "# create a new merged df\n",
    "dangjin_fcst_unique_recent = pd.DataFrame()\n",
    "\n",
    "for time in dangjin_fcst['time'].unique():\n",
    "    to_append = merge_to_recent(dangjin_fcst, time)\n",
    "    dangjin_fcst_unique_recent = dangjin_fcst_unique_recent.append(to_append)\n",
    "\n",
    "# reset index and drop 'Forecast time'\n",
    "dangjin_fcst_unique_recent =  dangjin_fcst_unique_recent.reset_index(drop=True)\n",
    "dangjin_fcst_unique_recent =  dangjin_fcst_unique_recent.drop('Forecast time', axis=1)\n",
    "dangjin_fcst_unique_recent"
   ]
  },
  {
   "cell_type": "code",
   "execution_count": 101,
   "metadata": {},
   "outputs": [
    {
     "output_type": "execute_result",
     "data": {
      "text/plain": [
       "                    time  Temperature  Humidity  WindSpeed  WindDirection  \\\n",
       "0    2018-03-02 00:00:00          0.0      40.0        1.3          321.0   \n",
       "1    2018-03-02 03:00:00         -1.0      45.0        1.8          299.0   \n",
       "2    2018-03-02 06:00:00         -1.0      45.0        1.8          304.0   \n",
       "3    2018-03-02 09:00:00          0.0      35.0        1.6          320.0   \n",
       "4    2018-03-02 12:00:00          6.0      25.0        1.4          326.0   \n",
       "...                  ...          ...       ...        ...            ...   \n",
       "8780 2021-03-03 12:00:00          9.0      45.0        3.1           83.0   \n",
       "8781 2021-03-03 15:00:00          9.0      45.0        3.0          111.0   \n",
       "8782 2021-03-03 18:00:00          8.0      55.0        2.2          122.0   \n",
       "8783 2021-03-03 21:00:00          6.0      65.0        0.9          131.0   \n",
       "8784 2021-03-04 00:00:00          4.0      80.0        0.7          188.0   \n",
       "\n",
       "      Cloud  \n",
       "0       2.0  \n",
       "1       2.0  \n",
       "2       1.0  \n",
       "3       1.0  \n",
       "4       1.0  \n",
       "...     ...  \n",
       "8780    3.0  \n",
       "8781    3.0  \n",
       "8782    3.0  \n",
       "8783    3.0  \n",
       "8784    3.0  \n",
       "\n",
       "[8785 rows x 6 columns]"
      ],
      "text/html": "<div>\n<style scoped>\n    .dataframe tbody tr th:only-of-type {\n        vertical-align: middle;\n    }\n\n    .dataframe tbody tr th {\n        vertical-align: top;\n    }\n\n    .dataframe thead th {\n        text-align: right;\n    }\n</style>\n<table border=\"1\" class=\"dataframe\">\n  <thead>\n    <tr style=\"text-align: right;\">\n      <th></th>\n      <th>time</th>\n      <th>Temperature</th>\n      <th>Humidity</th>\n      <th>WindSpeed</th>\n      <th>WindDirection</th>\n      <th>Cloud</th>\n    </tr>\n  </thead>\n  <tbody>\n    <tr>\n      <th>0</th>\n      <td>2018-03-02 00:00:00</td>\n      <td>0.0</td>\n      <td>40.0</td>\n      <td>1.3</td>\n      <td>321.0</td>\n      <td>2.0</td>\n    </tr>\n    <tr>\n      <th>1</th>\n      <td>2018-03-02 03:00:00</td>\n      <td>-1.0</td>\n      <td>45.0</td>\n      <td>1.8</td>\n      <td>299.0</td>\n      <td>2.0</td>\n    </tr>\n    <tr>\n      <th>2</th>\n      <td>2018-03-02 06:00:00</td>\n      <td>-1.0</td>\n      <td>45.0</td>\n      <td>1.8</td>\n      <td>304.0</td>\n      <td>1.0</td>\n    </tr>\n    <tr>\n      <th>3</th>\n      <td>2018-03-02 09:00:00</td>\n      <td>0.0</td>\n      <td>35.0</td>\n      <td>1.6</td>\n      <td>320.0</td>\n      <td>1.0</td>\n    </tr>\n    <tr>\n      <th>4</th>\n      <td>2018-03-02 12:00:00</td>\n      <td>6.0</td>\n      <td>25.0</td>\n      <td>1.4</td>\n      <td>326.0</td>\n      <td>1.0</td>\n    </tr>\n    <tr>\n      <th>...</th>\n      <td>...</td>\n      <td>...</td>\n      <td>...</td>\n      <td>...</td>\n      <td>...</td>\n      <td>...</td>\n    </tr>\n    <tr>\n      <th>8780</th>\n      <td>2021-03-03 12:00:00</td>\n      <td>9.0</td>\n      <td>45.0</td>\n      <td>3.1</td>\n      <td>83.0</td>\n      <td>3.0</td>\n    </tr>\n    <tr>\n      <th>8781</th>\n      <td>2021-03-03 15:00:00</td>\n      <td>9.0</td>\n      <td>45.0</td>\n      <td>3.0</td>\n      <td>111.0</td>\n      <td>3.0</td>\n    </tr>\n    <tr>\n      <th>8782</th>\n      <td>2021-03-03 18:00:00</td>\n      <td>8.0</td>\n      <td>55.0</td>\n      <td>2.2</td>\n      <td>122.0</td>\n      <td>3.0</td>\n    </tr>\n    <tr>\n      <th>8783</th>\n      <td>2021-03-03 21:00:00</td>\n      <td>6.0</td>\n      <td>65.0</td>\n      <td>0.9</td>\n      <td>131.0</td>\n      <td>3.0</td>\n    </tr>\n    <tr>\n      <th>8784</th>\n      <td>2021-03-04 00:00:00</td>\n      <td>4.0</td>\n      <td>80.0</td>\n      <td>0.7</td>\n      <td>188.0</td>\n      <td>3.0</td>\n    </tr>\n  </tbody>\n</table>\n<p>8785 rows × 6 columns</p>\n</div>"
     },
     "metadata": {},
     "execution_count": 101
    }
   ],
   "source": [
    "# apply merge_to_recent (ulsan_fcst)\n",
    "\n",
    "# create a new merged df\n",
    "ulsan_fcst_unique_recent = pd.DataFrame()\n",
    "\n",
    "for time in dangjin_fcst['time'].unique():\n",
    "    to_append = merge_to_recent(ulsan_fcst, time)\n",
    "    ulsan_fcst_unique_recent = ulsan_fcst_unique_recent.append(to_append)\n",
    "\n",
    "# reset index and drop 'Forecast time'\n",
    "ulsan_fcst_unique_recent =  ulsan_fcst_unique_recent.reset_index(drop=True)\n",
    "ulsan_fcst_unique_recent =  ulsan_fcst_unique_recent.drop('Forecast time', axis=1)\n",
    "ulsan_fcst_unique_recent"
   ]
  },
  {
   "source": [
    "## Convert the measure of `Cloud` in `fcst` to `obs`\n",
    "- `fcst`와 `obs`에서 `Cloud`의 단위는 다르다.\n",
    "- `fcst`와 `obs`를 따로 input으로 넣는 경우 크게 상관 없으나, 이 둘을 합쳐서 쓰는 경우에는 단위가 통일되는 것이 좋아 보인다.  \n",
    "- fcst: 1-맑음, 2-구름보통, 3-구름많음, 4-흐림  \n",
    "- obs: 10분위(0~10); 낮을 수록 구름 적음\n",
    "\n",
    "### method\n",
    "- Cloud_fcst -> Cloud_obs\n",
    "- Cloud_fcst = x (x=1,2,3,4)일 때 Cloud_obs의 mean으로 변환"
   ],
   "cell_type": "markdown",
   "metadata": {}
  },
  {
   "cell_type": "code",
   "execution_count": 102,
   "metadata": {},
   "outputs": [
    {
     "output_type": "execute_result",
     "data": {
      "text/plain": [
       "({1.0: 2.7635372029606544,\n",
       "  2.0: 3.8820678513731823,\n",
       "  3.0: 6.18494516450648,\n",
       "  4.0: 7.961345381526105},\n",
       " {2.0: 3.5910064239828694,\n",
       "  1.0: 1.721059516023545,\n",
       "  3.0: 6.145117540687161,\n",
       "  4.0: 8.638197424892704})"
      ]
     },
     "metadata": {},
     "execution_count": 102
    }
   ],
   "source": [
    "# get dictionary to convert from cloud_fcst to cloud_obs\n",
    "\n",
    "# merge (note that this is not the 'real' merged data)\n",
    "dangjin_merged_for_cloud = pd.merge(dangjin_fcst_unique_recent, dangjin_obs, on='time', suffixes=('_fcst','_obs'))\n",
    "ulsan_merged_for_cloud = pd.merge(ulsan_fcst_unique_recent, ulsan_obs, on='time', suffixes=('_fcst','_obs'))\n",
    "\n",
    "# mean\n",
    "def cloud_from_fcst_to_obs(data):\n",
    "    # dropna\n",
    "    data.dropna(inplace=True)\n",
    "    # unique cloud_fcsts\n",
    "    cloud_fcsts = data['Cloud_fcst'].unique()\n",
    "    # dict to convert from fcst to obs\n",
    "    convert = {cloud_fcst:0 for cloud_fcst in cloud_fcsts}\n",
    "\n",
    "    # mean\n",
    "    for cloud_fcst in cloud_fcsts:\n",
    "        sliced_df = data[data['Cloud_fcst'] == cloud_fcst]\n",
    "        convert[cloud_fcst] = sliced_df['Cloud_obs'].mean()\n",
    "\n",
    "    return convert\n",
    "\n",
    "dangjin_convert_cloud = cloud_from_fcst_to_obs(dangjin_merged_for_cloud)\n",
    "ulsan_convert_cloud = cloud_from_fcst_to_obs(ulsan_merged_for_cloud)\n",
    "dangjin_convert_cloud, ulsan_convert_cloud"
   ]
  },
  {
   "cell_type": "code",
   "execution_count": 103,
   "metadata": {},
   "outputs": [
    {
     "output_type": "display_data",
     "data": {
      "text/plain": "0       2.763537\n1       2.763537\n2       2.763537\n3       2.763537\n4       2.763537\n          ...   \n8780    2.763537\n8781    2.763537\n8782    2.763537\n8783    2.763537\n8784    2.763537\nName: Cloud, Length: 8785, dtype: float64"
     },
     "metadata": {}
    },
    {
     "output_type": "display_data",
     "data": {
      "text/plain": "0       3.591006\n1       3.591006\n2       1.721060\n3       1.721060\n4       1.721060\n          ...   \n8780    6.145118\n8781    6.145118\n8782    6.145118\n8783    6.145118\n8784    6.145118\nName: Cloud, Length: 8785, dtype: float64"
     },
     "metadata": {}
    }
   ],
   "source": [
    "# apply the convert-dictionary\n",
    "dangjin_fcst_unique_recent['Cloud'].replace(dangjin_convert_cloud, inplace=True)\n",
    "ulsan_fcst_unique_recent['Cloud'].replace(ulsan_convert_cloud, inplace=True)\n",
    "display(dangjin_fcst_unique_recent['Cloud'])\n",
    "display(ulsan_fcst_unique_recent['Cloud'])"
   ]
  },
  {
   "source": [
    "## Interpolate fcst\n",
    "- code from @김진수"
   ],
   "cell_type": "markdown",
   "metadata": {}
  },
  {
   "cell_type": "code",
   "execution_count": 104,
   "metadata": {},
   "outputs": [],
   "source": [
    "# code from @김진수\n",
    "# linear interpolation\n",
    "\n",
    "def interpolation(df):\n",
    "\n",
    "    df_copy = df.copy()\n",
    "    var_names = df.columns\n",
    "\n",
    "    total_s = list()\n",
    "    time_list = list()\n",
    "    \n",
    "    for var_name in var_names:\n",
    "        s = list()\n",
    "        for i in range(df_copy.shape[0] - 1):\n",
    "            timedeltas = df_copy[\"time\"][i+1] - df_copy[\"time\"][i]\n",
    "            n_intervals = int(timedeltas / np.timedelta64(1, \"h\"))\n",
    "\n",
    "            for j in range(n_intervals):\n",
    "        \n",
    "                if var_name == \"time\":\n",
    "                    time_stamps = df_copy[\"time\"][i] + timedeltas * j / n_intervals\n",
    "                    time_list.append(time_stamps)\n",
    "                else:\n",
    "                    add_ = df_copy[var_name][i] + (df_copy[var_name][i+1] - df_copy[var_name][i]) / n_intervals * j\n",
    "                    s.append(add_)\n",
    "\n",
    "        if var_name == \"time\":\n",
    "            time_list = np.array(time_list).reshape(-1,1)\n",
    "            total_s.append(time_list)\n",
    "        else:\n",
    "            s = np.array(s).reshape(-1,1)\n",
    "            total_s.append(s)\n",
    "\n",
    "    total_s = np.array(total_s).T.reshape(-1, len(var_names))\n",
    "    df_converted = pd.DataFrame(total_s, columns = var_names)\n",
    "\n",
    "    return df_converted"
   ]
  },
  {
   "cell_type": "code",
   "execution_count": 105,
   "metadata": {},
   "outputs": [],
   "source": [
    "dangjin_fcst_interpolated = interpolation(dangjin_fcst_unique_recent)\n",
    "ulsan_fcst_interpolated = interpolation(ulsan_fcst_unique_recent)\n",
    "dangjin_obs_interpolated = interpolation(dangjin_obs)\n",
    "ulsan_obs_interpolated = interpolation(ulsan_obs)"
   ]
  },
  {
   "source": [
    "## Convert dtype of 'time' in `energy`\n",
    "- 'time' of `energy` is 'object'. \n",
    "- However, `pd.to_datetime` doesn't accepts '24:00:00' as an hour. Instead accepts '00:00:00'.\n",
    "- Therefore, custom function is needed."
   ],
   "cell_type": "markdown",
   "metadata": {}
  },
  {
   "cell_type": "code",
   "execution_count": 106,
   "metadata": {},
   "outputs": [
    {
     "output_type": "stream",
     "name": "stdout",
     "text": [
      "2018-03-02 00:00:00\n"
     ]
    }
   ],
   "source": [
    "def to_datetime_for_energy(date_str):\n",
    "    if date_str[11:13] == '24':\n",
    "        date_str = date_str[0:11] + '00' + date_str[13:]\n",
    "        return pd.to_datetime(date_str) + pd.Timedelta(1, unit='days')\n",
    "\n",
    "    else:\n",
    "        return pd.to_datetime(date_str)\n",
    "\n",
    "print(to_datetime_for_energy('2018-03-01 24:00:00'))"
   ]
  },
  {
   "cell_type": "code",
   "execution_count": 107,
   "metadata": {},
   "outputs": [],
   "source": [
    "energy['time'] = energy['time'].apply(to_datetime_for_energy)"
   ]
  },
  {
   "source": [
    "## Merge fcst, obs, and energy\n",
    "- inner merge on 'time'"
   ],
   "cell_type": "markdown",
   "metadata": {}
  },
  {
   "cell_type": "code",
   "execution_count": 108,
   "metadata": {},
   "outputs": [
    {
     "output_type": "display_data",
     "data": {
      "text/plain": "                     time Temperature_obs Humidity_obs WindSpeed_obs  \\\n0     2018-03-02 00:00:00            -2.0         50.0           5.8   \n1     2018-03-02 01:00:00       -2.333333    51.666667      5.533333   \n2     2018-03-02 02:00:00       -2.666667    53.333333      5.266667   \n3     2018-03-02 03:00:00            -3.0         55.0           5.0   \n4     2018-03-02 04:00:00       -3.333333    56.666667           4.7   \n...                   ...             ...          ...           ...   \n25602 2021-01-31 18:00:00             6.0         75.0           3.4   \n25603 2021-01-31 19:00:00             6.0    76.666667      3.566667   \n25604 2021-01-31 20:00:00             6.0    78.333333      3.733333   \n25605 2021-01-31 21:00:00             6.0         80.0           3.9   \n25606 2021-01-31 22:00:00        6.333333         80.0           4.6   \n\n      WindDirection_obs Cloud_obs Temperature_fcst Humidity_fcst  \\\n0                 336.0  2.763537             -2.7          56.0   \n1                 337.0  2.763537             -2.8          53.0   \n2                 338.0  2.763537             -3.2          52.0   \n3                 339.0  2.763537             -3.5          50.0   \n4            343.666667  2.763537             -4.2          55.0   \n...                 ...       ...              ...           ...   \n25602             187.0  7.961345              7.8          70.0   \n25603        180.666667  7.961345              6.7          75.0   \n25604        174.333333  7.961345              6.2          77.0   \n25605             168.0  7.961345              5.3          82.0   \n25606        170.666667  7.961345              5.8          77.0   \n\n      WindSpeed_fcst WindDirection_fcst Cloud_fcst  dangjin_floating  \\\n0                3.7              360.0        NaN               0.0   \n1                3.8              360.0        NaN               0.0   \n2                2.5              360.0        NaN               0.0   \n3                2.6               20.0        NaN               0.0   \n4                1.4               50.0        NaN               0.0   \n...              ...                ...        ...               ...   \n25602            2.0              200.0        8.0              10.0   \n25603            1.5              200.0        8.0               0.0   \n25604            0.8              200.0        8.0               0.0   \n25605            0.7              230.0        8.0               0.0   \n25606            1.0              200.0        8.0               0.0   \n\n       dangjin_warehouse  dangjin  \n0                    0.0        0  \n1                    0.0        0  \n2                    0.0        0  \n3                    0.0        0  \n4                    0.0        0  \n...                  ...      ...  \n25602                6.0        0  \n25603                0.0        0  \n25604                0.0        0  \n25605                0.0        0  \n25606                0.0        0  \n\n[25607 rows x 14 columns]",
      "text/html": "<div>\n<style scoped>\n    .dataframe tbody tr th:only-of-type {\n        vertical-align: middle;\n    }\n\n    .dataframe tbody tr th {\n        vertical-align: top;\n    }\n\n    .dataframe thead th {\n        text-align: right;\n    }\n</style>\n<table border=\"1\" class=\"dataframe\">\n  <thead>\n    <tr style=\"text-align: right;\">\n      <th></th>\n      <th>time</th>\n      <th>Temperature_obs</th>\n      <th>Humidity_obs</th>\n      <th>WindSpeed_obs</th>\n      <th>WindDirection_obs</th>\n      <th>Cloud_obs</th>\n      <th>Temperature_fcst</th>\n      <th>Humidity_fcst</th>\n      <th>WindSpeed_fcst</th>\n      <th>WindDirection_fcst</th>\n      <th>Cloud_fcst</th>\n      <th>dangjin_floating</th>\n      <th>dangjin_warehouse</th>\n      <th>dangjin</th>\n    </tr>\n  </thead>\n  <tbody>\n    <tr>\n      <th>0</th>\n      <td>2018-03-02 00:00:00</td>\n      <td>-2.0</td>\n      <td>50.0</td>\n      <td>5.8</td>\n      <td>336.0</td>\n      <td>2.763537</td>\n      <td>-2.7</td>\n      <td>56.0</td>\n      <td>3.7</td>\n      <td>360.0</td>\n      <td>NaN</td>\n      <td>0.0</td>\n      <td>0.0</td>\n      <td>0</td>\n    </tr>\n    <tr>\n      <th>1</th>\n      <td>2018-03-02 01:00:00</td>\n      <td>-2.333333</td>\n      <td>51.666667</td>\n      <td>5.533333</td>\n      <td>337.0</td>\n      <td>2.763537</td>\n      <td>-2.8</td>\n      <td>53.0</td>\n      <td>3.8</td>\n      <td>360.0</td>\n      <td>NaN</td>\n      <td>0.0</td>\n      <td>0.0</td>\n      <td>0</td>\n    </tr>\n    <tr>\n      <th>2</th>\n      <td>2018-03-02 02:00:00</td>\n      <td>-2.666667</td>\n      <td>53.333333</td>\n      <td>5.266667</td>\n      <td>338.0</td>\n      <td>2.763537</td>\n      <td>-3.2</td>\n      <td>52.0</td>\n      <td>2.5</td>\n      <td>360.0</td>\n      <td>NaN</td>\n      <td>0.0</td>\n      <td>0.0</td>\n      <td>0</td>\n    </tr>\n    <tr>\n      <th>3</th>\n      <td>2018-03-02 03:00:00</td>\n      <td>-3.0</td>\n      <td>55.0</td>\n      <td>5.0</td>\n      <td>339.0</td>\n      <td>2.763537</td>\n      <td>-3.5</td>\n      <td>50.0</td>\n      <td>2.6</td>\n      <td>20.0</td>\n      <td>NaN</td>\n      <td>0.0</td>\n      <td>0.0</td>\n      <td>0</td>\n    </tr>\n    <tr>\n      <th>4</th>\n      <td>2018-03-02 04:00:00</td>\n      <td>-3.333333</td>\n      <td>56.666667</td>\n      <td>4.7</td>\n      <td>343.666667</td>\n      <td>2.763537</td>\n      <td>-4.2</td>\n      <td>55.0</td>\n      <td>1.4</td>\n      <td>50.0</td>\n      <td>NaN</td>\n      <td>0.0</td>\n      <td>0.0</td>\n      <td>0</td>\n    </tr>\n    <tr>\n      <th>...</th>\n      <td>...</td>\n      <td>...</td>\n      <td>...</td>\n      <td>...</td>\n      <td>...</td>\n      <td>...</td>\n      <td>...</td>\n      <td>...</td>\n      <td>...</td>\n      <td>...</td>\n      <td>...</td>\n      <td>...</td>\n      <td>...</td>\n      <td>...</td>\n    </tr>\n    <tr>\n      <th>25602</th>\n      <td>2021-01-31 18:00:00</td>\n      <td>6.0</td>\n      <td>75.0</td>\n      <td>3.4</td>\n      <td>187.0</td>\n      <td>7.961345</td>\n      <td>7.8</td>\n      <td>70.0</td>\n      <td>2.0</td>\n      <td>200.0</td>\n      <td>8.0</td>\n      <td>10.0</td>\n      <td>6.0</td>\n      <td>0</td>\n    </tr>\n    <tr>\n      <th>25603</th>\n      <td>2021-01-31 19:00:00</td>\n      <td>6.0</td>\n      <td>76.666667</td>\n      <td>3.566667</td>\n      <td>180.666667</td>\n      <td>7.961345</td>\n      <td>6.7</td>\n      <td>75.0</td>\n      <td>1.5</td>\n      <td>200.0</td>\n      <td>8.0</td>\n      <td>0.0</td>\n      <td>0.0</td>\n      <td>0</td>\n    </tr>\n    <tr>\n      <th>25604</th>\n      <td>2021-01-31 20:00:00</td>\n      <td>6.0</td>\n      <td>78.333333</td>\n      <td>3.733333</td>\n      <td>174.333333</td>\n      <td>7.961345</td>\n      <td>6.2</td>\n      <td>77.0</td>\n      <td>0.8</td>\n      <td>200.0</td>\n      <td>8.0</td>\n      <td>0.0</td>\n      <td>0.0</td>\n      <td>0</td>\n    </tr>\n    <tr>\n      <th>25605</th>\n      <td>2021-01-31 21:00:00</td>\n      <td>6.0</td>\n      <td>80.0</td>\n      <td>3.9</td>\n      <td>168.0</td>\n      <td>7.961345</td>\n      <td>5.3</td>\n      <td>82.0</td>\n      <td>0.7</td>\n      <td>230.0</td>\n      <td>8.0</td>\n      <td>0.0</td>\n      <td>0.0</td>\n      <td>0</td>\n    </tr>\n    <tr>\n      <th>25606</th>\n      <td>2021-01-31 22:00:00</td>\n      <td>6.333333</td>\n      <td>80.0</td>\n      <td>4.6</td>\n      <td>170.666667</td>\n      <td>7.961345</td>\n      <td>5.8</td>\n      <td>77.0</td>\n      <td>1.0</td>\n      <td>200.0</td>\n      <td>8.0</td>\n      <td>0.0</td>\n      <td>0.0</td>\n      <td>0</td>\n    </tr>\n  </tbody>\n</table>\n<p>25607 rows × 14 columns</p>\n</div>"
     },
     "metadata": {}
    },
    {
     "output_type": "display_data",
     "data": {
      "text/plain": "                     time Temperature_obs Humidity_obs WindSpeed_obs  \\\n0     2018-03-02 00:00:00             0.0         40.0           1.3   \n1     2018-03-02 01:00:00       -0.333333    41.666667      1.466667   \n2     2018-03-02 02:00:00       -0.666667    43.333333      1.633333   \n3     2018-03-02 03:00:00            -1.0         45.0           1.8   \n4     2018-03-02 04:00:00            -1.0         45.0           1.8   \n...                   ...             ...          ...           ...   \n25602 2021-01-31 18:00:00             9.0         55.0           2.6   \n25603 2021-01-31 19:00:00        8.666667         60.0      2.866667   \n25604 2021-01-31 20:00:00        8.333333         65.0      3.133333   \n25605 2021-01-31 21:00:00             8.0         70.0           3.4   \n25606 2021-01-31 22:00:00             9.0    68.333333      3.833333   \n\n      WindDirection_obs Cloud_obs Temperature_fcst Humidity_fcst  \\\n0                 321.0  3.591006              1.3          37.0   \n1            313.666667  3.591006              0.5          42.0   \n2            306.333333  3.591006             -0.4          46.0   \n3                 299.0  3.591006             -0.9          48.0   \n4            300.666667  2.967691             -1.5          51.0   \n...                 ...       ...              ...           ...   \n25602             198.0  8.638197              9.3          43.0   \n25603             202.0  8.638197              8.8          50.0   \n25604             206.0  8.638197              8.7          49.0   \n25605             210.0  8.638197              8.4          51.0   \n25606             205.0  8.638197              9.4          51.0   \n\n      WindSpeed_fcst WindDirection_fcst Cloud_fcst  ulsan  \n0                3.4              340.0        NaN      0  \n1                2.0              360.0        NaN      0  \n2                2.3              360.0        NaN      0  \n3                2.0               20.0        9.0      0  \n4                2.3              340.0        8.0      0  \n...              ...                ...        ...    ...  \n25602            3.4              180.0        0.0      8  \n25603            2.5              200.0        5.0      0  \n25604            3.9              200.0        1.0      0  \n25605            2.4              230.0        7.0      0  \n25606            3.3              230.0        8.0      0  \n\n[25607 rows x 12 columns]",
      "text/html": "<div>\n<style scoped>\n    .dataframe tbody tr th:only-of-type {\n        vertical-align: middle;\n    }\n\n    .dataframe tbody tr th {\n        vertical-align: top;\n    }\n\n    .dataframe thead th {\n        text-align: right;\n    }\n</style>\n<table border=\"1\" class=\"dataframe\">\n  <thead>\n    <tr style=\"text-align: right;\">\n      <th></th>\n      <th>time</th>\n      <th>Temperature_obs</th>\n      <th>Humidity_obs</th>\n      <th>WindSpeed_obs</th>\n      <th>WindDirection_obs</th>\n      <th>Cloud_obs</th>\n      <th>Temperature_fcst</th>\n      <th>Humidity_fcst</th>\n      <th>WindSpeed_fcst</th>\n      <th>WindDirection_fcst</th>\n      <th>Cloud_fcst</th>\n      <th>ulsan</th>\n    </tr>\n  </thead>\n  <tbody>\n    <tr>\n      <th>0</th>\n      <td>2018-03-02 00:00:00</td>\n      <td>0.0</td>\n      <td>40.0</td>\n      <td>1.3</td>\n      <td>321.0</td>\n      <td>3.591006</td>\n      <td>1.3</td>\n      <td>37.0</td>\n      <td>3.4</td>\n      <td>340.0</td>\n      <td>NaN</td>\n      <td>0</td>\n    </tr>\n    <tr>\n      <th>1</th>\n      <td>2018-03-02 01:00:00</td>\n      <td>-0.333333</td>\n      <td>41.666667</td>\n      <td>1.466667</td>\n      <td>313.666667</td>\n      <td>3.591006</td>\n      <td>0.5</td>\n      <td>42.0</td>\n      <td>2.0</td>\n      <td>360.0</td>\n      <td>NaN</td>\n      <td>0</td>\n    </tr>\n    <tr>\n      <th>2</th>\n      <td>2018-03-02 02:00:00</td>\n      <td>-0.666667</td>\n      <td>43.333333</td>\n      <td>1.633333</td>\n      <td>306.333333</td>\n      <td>3.591006</td>\n      <td>-0.4</td>\n      <td>46.0</td>\n      <td>2.3</td>\n      <td>360.0</td>\n      <td>NaN</td>\n      <td>0</td>\n    </tr>\n    <tr>\n      <th>3</th>\n      <td>2018-03-02 03:00:00</td>\n      <td>-1.0</td>\n      <td>45.0</td>\n      <td>1.8</td>\n      <td>299.0</td>\n      <td>3.591006</td>\n      <td>-0.9</td>\n      <td>48.0</td>\n      <td>2.0</td>\n      <td>20.0</td>\n      <td>9.0</td>\n      <td>0</td>\n    </tr>\n    <tr>\n      <th>4</th>\n      <td>2018-03-02 04:00:00</td>\n      <td>-1.0</td>\n      <td>45.0</td>\n      <td>1.8</td>\n      <td>300.666667</td>\n      <td>2.967691</td>\n      <td>-1.5</td>\n      <td>51.0</td>\n      <td>2.3</td>\n      <td>340.0</td>\n      <td>8.0</td>\n      <td>0</td>\n    </tr>\n    <tr>\n      <th>...</th>\n      <td>...</td>\n      <td>...</td>\n      <td>...</td>\n      <td>...</td>\n      <td>...</td>\n      <td>...</td>\n      <td>...</td>\n      <td>...</td>\n      <td>...</td>\n      <td>...</td>\n      <td>...</td>\n      <td>...</td>\n    </tr>\n    <tr>\n      <th>25602</th>\n      <td>2021-01-31 18:00:00</td>\n      <td>9.0</td>\n      <td>55.0</td>\n      <td>2.6</td>\n      <td>198.0</td>\n      <td>8.638197</td>\n      <td>9.3</td>\n      <td>43.0</td>\n      <td>3.4</td>\n      <td>180.0</td>\n      <td>0.0</td>\n      <td>8</td>\n    </tr>\n    <tr>\n      <th>25603</th>\n      <td>2021-01-31 19:00:00</td>\n      <td>8.666667</td>\n      <td>60.0</td>\n      <td>2.866667</td>\n      <td>202.0</td>\n      <td>8.638197</td>\n      <td>8.8</td>\n      <td>50.0</td>\n      <td>2.5</td>\n      <td>200.0</td>\n      <td>5.0</td>\n      <td>0</td>\n    </tr>\n    <tr>\n      <th>25604</th>\n      <td>2021-01-31 20:00:00</td>\n      <td>8.333333</td>\n      <td>65.0</td>\n      <td>3.133333</td>\n      <td>206.0</td>\n      <td>8.638197</td>\n      <td>8.7</td>\n      <td>49.0</td>\n      <td>3.9</td>\n      <td>200.0</td>\n      <td>1.0</td>\n      <td>0</td>\n    </tr>\n    <tr>\n      <th>25605</th>\n      <td>2021-01-31 21:00:00</td>\n      <td>8.0</td>\n      <td>70.0</td>\n      <td>3.4</td>\n      <td>210.0</td>\n      <td>8.638197</td>\n      <td>8.4</td>\n      <td>51.0</td>\n      <td>2.4</td>\n      <td>230.0</td>\n      <td>7.0</td>\n      <td>0</td>\n    </tr>\n    <tr>\n      <th>25606</th>\n      <td>2021-01-31 22:00:00</td>\n      <td>9.0</td>\n      <td>68.333333</td>\n      <td>3.833333</td>\n      <td>205.0</td>\n      <td>8.638197</td>\n      <td>9.4</td>\n      <td>51.0</td>\n      <td>3.3</td>\n      <td>230.0</td>\n      <td>8.0</td>\n      <td>0</td>\n    </tr>\n  </tbody>\n</table>\n<p>25607 rows × 12 columns</p>\n</div>"
     },
     "metadata": {}
    }
   ],
   "source": [
    "dangjin_merged_ = pd.merge(dangjin_fcst_interpolated, dangjin_obs_interpolated, on='time', suffixes=('_obs','_fcst'))\n",
    "dangjin_merged = pd.merge(dangjin_merged_, energy.loc[:,['time','dangjin_floating','dangjin_warehouse','dangjin']], on='time')\n",
    "\n",
    "ulsan_merged_ = pd.merge(ulsan_fcst_interpolated, ulsan_obs_interpolated, on='time', suffixes=('_obs','_fcst'))\n",
    "ulsan_merged = pd.merge(ulsan_merged_, energy.loc[:,['time','ulsan']], on='time')\n",
    "\n",
    "display(dangjin_merged)\n",
    "display(ulsan_merged)"
   ]
  },
  {
   "source": [
    "## Fill missing values in using ffill\n",
    "- fillna with bfill(backward fill)\n",
    "- if bfill is not available, use ffill(forward fill) instead"
   ],
   "cell_type": "markdown",
   "metadata": {}
  },
  {
   "cell_type": "code",
   "execution_count": 109,
   "metadata": {},
   "outputs": [],
   "source": [
    "# keep the original\n",
    "dangjin_merged_with_na = dangjin_merged.copy()\n",
    "ulsan_merged_with_na = ulsan_merged.copy()"
   ]
  },
  {
   "cell_type": "code",
   "execution_count": 110,
   "metadata": {},
   "outputs": [
    {
     "output_type": "stream",
     "name": "stdout",
     "text": [
      "time                     0\nTemperature_obs          0\nHumidity_obs             0\nWindSpeed_obs            0\nWindDirection_obs        0\nCloud_obs                0\nTemperature_fcst        47\nHumidity_fcst           43\nWindSpeed_fcst          44\nWindDirection_fcst      44\nCloud_fcst            4077\ndangjin_floating        24\ndangjin_warehouse       48\ndangjin                  0\ndtype: int64\ntime                     0\nTemperature_obs          0\nHumidity_obs             0\nWindSpeed_obs            0\nWindDirection_obs        0\nCloud_obs                0\nTemperature_fcst         7\nHumidity_fcst            2\nWindSpeed_fcst           2\nWindDirection_fcst       2\nCloud_fcst            1251\nulsan                    0\ndtype: int64\n"
     ]
    }
   ],
   "source": [
    "# check missing values\n",
    "print(dangjin_merged_with_na.isna().sum())\n",
    "print(ulsan_merged_with_na.isna().sum())"
   ]
  },
  {
   "cell_type": "code",
   "execution_count": 111,
   "metadata": {},
   "outputs": [
    {
     "output_type": "display_data",
     "data": {
      "text/plain": "                     time  Temperature_obs  Humidity_obs  WindSpeed_obs  \\\n0     2018-03-02 00:00:00        -2.000000     50.000000       5.800000   \n1     2018-03-02 01:00:00        -2.333333     51.666667       5.533333   \n2     2018-03-02 02:00:00        -2.666667     53.333333       5.266667   \n3     2018-03-02 03:00:00        -3.000000     55.000000       5.000000   \n4     2018-03-02 04:00:00        -3.333333     56.666667       4.700000   \n...                   ...              ...           ...            ...   \n25602 2021-01-31 18:00:00         6.000000     75.000000       3.400000   \n25603 2021-01-31 19:00:00         6.000000     76.666667       3.566667   \n25604 2021-01-31 20:00:00         6.000000     78.333333       3.733333   \n25605 2021-01-31 21:00:00         6.000000     80.000000       3.900000   \n25606 2021-01-31 22:00:00         6.333333     80.000000       4.600000   \n\n       WindDirection_obs  Cloud_obs  Temperature_fcst  Humidity_fcst  \\\n0             336.000000   2.763537              -2.7           56.0   \n1             337.000000   2.763537              -2.8           53.0   \n2             338.000000   2.763537              -3.2           52.0   \n3             339.000000   2.763537              -3.5           50.0   \n4             343.666667   2.763537              -4.2           55.0   \n...                  ...        ...               ...            ...   \n25602         187.000000   7.961345               7.8           70.0   \n25603         180.666667   7.961345               6.7           75.0   \n25604         174.333333   7.961345               6.2           77.0   \n25605         168.000000   7.961345               5.3           82.0   \n25606         170.666667   7.961345               5.8           77.0   \n\n       WindSpeed_fcst  WindDirection_fcst  Cloud_fcst  dangjin_floating  \\\n0                 3.7               360.0         4.0               0.0   \n1                 3.8               360.0         4.0               0.0   \n2                 2.5               360.0         4.0               0.0   \n3                 2.6                20.0         4.0               0.0   \n4                 1.4                50.0         4.0               0.0   \n...               ...                 ...         ...               ...   \n25602             2.0               200.0         8.0              10.0   \n25603             1.5               200.0         8.0               0.0   \n25604             0.8               200.0         8.0               0.0   \n25605             0.7               230.0         8.0               0.0   \n25606             1.0               200.0         8.0               0.0   \n\n       dangjin_warehouse  dangjin  \n0                    0.0        0  \n1                    0.0        0  \n2                    0.0        0  \n3                    0.0        0  \n4                    0.0        0  \n...                  ...      ...  \n25602                6.0        0  \n25603                0.0        0  \n25604                0.0        0  \n25605                0.0        0  \n25606                0.0        0  \n\n[25607 rows x 14 columns]",
      "text/html": "<div>\n<style scoped>\n    .dataframe tbody tr th:only-of-type {\n        vertical-align: middle;\n    }\n\n    .dataframe tbody tr th {\n        vertical-align: top;\n    }\n\n    .dataframe thead th {\n        text-align: right;\n    }\n</style>\n<table border=\"1\" class=\"dataframe\">\n  <thead>\n    <tr style=\"text-align: right;\">\n      <th></th>\n      <th>time</th>\n      <th>Temperature_obs</th>\n      <th>Humidity_obs</th>\n      <th>WindSpeed_obs</th>\n      <th>WindDirection_obs</th>\n      <th>Cloud_obs</th>\n      <th>Temperature_fcst</th>\n      <th>Humidity_fcst</th>\n      <th>WindSpeed_fcst</th>\n      <th>WindDirection_fcst</th>\n      <th>Cloud_fcst</th>\n      <th>dangjin_floating</th>\n      <th>dangjin_warehouse</th>\n      <th>dangjin</th>\n    </tr>\n  </thead>\n  <tbody>\n    <tr>\n      <th>0</th>\n      <td>2018-03-02 00:00:00</td>\n      <td>-2.000000</td>\n      <td>50.000000</td>\n      <td>5.800000</td>\n      <td>336.000000</td>\n      <td>2.763537</td>\n      <td>-2.7</td>\n      <td>56.0</td>\n      <td>3.7</td>\n      <td>360.0</td>\n      <td>4.0</td>\n      <td>0.0</td>\n      <td>0.0</td>\n      <td>0</td>\n    </tr>\n    <tr>\n      <th>1</th>\n      <td>2018-03-02 01:00:00</td>\n      <td>-2.333333</td>\n      <td>51.666667</td>\n      <td>5.533333</td>\n      <td>337.000000</td>\n      <td>2.763537</td>\n      <td>-2.8</td>\n      <td>53.0</td>\n      <td>3.8</td>\n      <td>360.0</td>\n      <td>4.0</td>\n      <td>0.0</td>\n      <td>0.0</td>\n      <td>0</td>\n    </tr>\n    <tr>\n      <th>2</th>\n      <td>2018-03-02 02:00:00</td>\n      <td>-2.666667</td>\n      <td>53.333333</td>\n      <td>5.266667</td>\n      <td>338.000000</td>\n      <td>2.763537</td>\n      <td>-3.2</td>\n      <td>52.0</td>\n      <td>2.5</td>\n      <td>360.0</td>\n      <td>4.0</td>\n      <td>0.0</td>\n      <td>0.0</td>\n      <td>0</td>\n    </tr>\n    <tr>\n      <th>3</th>\n      <td>2018-03-02 03:00:00</td>\n      <td>-3.000000</td>\n      <td>55.000000</td>\n      <td>5.000000</td>\n      <td>339.000000</td>\n      <td>2.763537</td>\n      <td>-3.5</td>\n      <td>50.0</td>\n      <td>2.6</td>\n      <td>20.0</td>\n      <td>4.0</td>\n      <td>0.0</td>\n      <td>0.0</td>\n      <td>0</td>\n    </tr>\n    <tr>\n      <th>4</th>\n      <td>2018-03-02 04:00:00</td>\n      <td>-3.333333</td>\n      <td>56.666667</td>\n      <td>4.700000</td>\n      <td>343.666667</td>\n      <td>2.763537</td>\n      <td>-4.2</td>\n      <td>55.0</td>\n      <td>1.4</td>\n      <td>50.0</td>\n      <td>4.0</td>\n      <td>0.0</td>\n      <td>0.0</td>\n      <td>0</td>\n    </tr>\n    <tr>\n      <th>...</th>\n      <td>...</td>\n      <td>...</td>\n      <td>...</td>\n      <td>...</td>\n      <td>...</td>\n      <td>...</td>\n      <td>...</td>\n      <td>...</td>\n      <td>...</td>\n      <td>...</td>\n      <td>...</td>\n      <td>...</td>\n      <td>...</td>\n      <td>...</td>\n    </tr>\n    <tr>\n      <th>25602</th>\n      <td>2021-01-31 18:00:00</td>\n      <td>6.000000</td>\n      <td>75.000000</td>\n      <td>3.400000</td>\n      <td>187.000000</td>\n      <td>7.961345</td>\n      <td>7.8</td>\n      <td>70.0</td>\n      <td>2.0</td>\n      <td>200.0</td>\n      <td>8.0</td>\n      <td>10.0</td>\n      <td>6.0</td>\n      <td>0</td>\n    </tr>\n    <tr>\n      <th>25603</th>\n      <td>2021-01-31 19:00:00</td>\n      <td>6.000000</td>\n      <td>76.666667</td>\n      <td>3.566667</td>\n      <td>180.666667</td>\n      <td>7.961345</td>\n      <td>6.7</td>\n      <td>75.0</td>\n      <td>1.5</td>\n      <td>200.0</td>\n      <td>8.0</td>\n      <td>0.0</td>\n      <td>0.0</td>\n      <td>0</td>\n    </tr>\n    <tr>\n      <th>25604</th>\n      <td>2021-01-31 20:00:00</td>\n      <td>6.000000</td>\n      <td>78.333333</td>\n      <td>3.733333</td>\n      <td>174.333333</td>\n      <td>7.961345</td>\n      <td>6.2</td>\n      <td>77.0</td>\n      <td>0.8</td>\n      <td>200.0</td>\n      <td>8.0</td>\n      <td>0.0</td>\n      <td>0.0</td>\n      <td>0</td>\n    </tr>\n    <tr>\n      <th>25605</th>\n      <td>2021-01-31 21:00:00</td>\n      <td>6.000000</td>\n      <td>80.000000</td>\n      <td>3.900000</td>\n      <td>168.000000</td>\n      <td>7.961345</td>\n      <td>5.3</td>\n      <td>82.0</td>\n      <td>0.7</td>\n      <td>230.0</td>\n      <td>8.0</td>\n      <td>0.0</td>\n      <td>0.0</td>\n      <td>0</td>\n    </tr>\n    <tr>\n      <th>25606</th>\n      <td>2021-01-31 22:00:00</td>\n      <td>6.333333</td>\n      <td>80.000000</td>\n      <td>4.600000</td>\n      <td>170.666667</td>\n      <td>7.961345</td>\n      <td>5.8</td>\n      <td>77.0</td>\n      <td>1.0</td>\n      <td>200.0</td>\n      <td>8.0</td>\n      <td>0.0</td>\n      <td>0.0</td>\n      <td>0</td>\n    </tr>\n  </tbody>\n</table>\n<p>25607 rows × 14 columns</p>\n</div>"
     },
     "metadata": {}
    },
    {
     "output_type": "display_data",
     "data": {
      "text/plain": "                     time  Temperature_obs  Humidity_obs  WindSpeed_obs  \\\n0     2018-03-02 00:00:00         0.000000     40.000000       1.300000   \n1     2018-03-02 01:00:00        -0.333333     41.666667       1.466667   \n2     2018-03-02 02:00:00        -0.666667     43.333333       1.633333   \n3     2018-03-02 03:00:00        -1.000000     45.000000       1.800000   \n4     2018-03-02 04:00:00        -1.000000     45.000000       1.800000   \n...                   ...              ...           ...            ...   \n25602 2021-01-31 18:00:00         9.000000     55.000000       2.600000   \n25603 2021-01-31 19:00:00         8.666667     60.000000       2.866667   \n25604 2021-01-31 20:00:00         8.333333     65.000000       3.133333   \n25605 2021-01-31 21:00:00         8.000000     70.000000       3.400000   \n25606 2021-01-31 22:00:00         9.000000     68.333333       3.833333   \n\n       WindDirection_obs  Cloud_obs  Temperature_fcst  Humidity_fcst  \\\n0             321.000000   3.591006               1.3           37.0   \n1             313.666667   3.591006               0.5           42.0   \n2             306.333333   3.591006              -0.4           46.0   \n3             299.000000   3.591006              -0.9           48.0   \n4             300.666667   2.967691              -1.5           51.0   \n...                  ...        ...               ...            ...   \n25602         198.000000   8.638197               9.3           43.0   \n25603         202.000000   8.638197               8.8           50.0   \n25604         206.000000   8.638197               8.7           49.0   \n25605         210.000000   8.638197               8.4           51.0   \n25606         205.000000   8.638197               9.4           51.0   \n\n       WindSpeed_fcst  WindDirection_fcst  Cloud_fcst  ulsan  \n0                 3.4               340.0         9.0      0  \n1                 2.0               360.0         9.0      0  \n2                 2.3               360.0         9.0      0  \n3                 2.0                20.0         9.0      0  \n4                 2.3               340.0         8.0      0  \n...               ...                 ...         ...    ...  \n25602             3.4               180.0         0.0      8  \n25603             2.5               200.0         5.0      0  \n25604             3.9               200.0         1.0      0  \n25605             2.4               230.0         7.0      0  \n25606             3.3               230.0         8.0      0  \n\n[25607 rows x 12 columns]",
      "text/html": "<div>\n<style scoped>\n    .dataframe tbody tr th:only-of-type {\n        vertical-align: middle;\n    }\n\n    .dataframe tbody tr th {\n        vertical-align: top;\n    }\n\n    .dataframe thead th {\n        text-align: right;\n    }\n</style>\n<table border=\"1\" class=\"dataframe\">\n  <thead>\n    <tr style=\"text-align: right;\">\n      <th></th>\n      <th>time</th>\n      <th>Temperature_obs</th>\n      <th>Humidity_obs</th>\n      <th>WindSpeed_obs</th>\n      <th>WindDirection_obs</th>\n      <th>Cloud_obs</th>\n      <th>Temperature_fcst</th>\n      <th>Humidity_fcst</th>\n      <th>WindSpeed_fcst</th>\n      <th>WindDirection_fcst</th>\n      <th>Cloud_fcst</th>\n      <th>ulsan</th>\n    </tr>\n  </thead>\n  <tbody>\n    <tr>\n      <th>0</th>\n      <td>2018-03-02 00:00:00</td>\n      <td>0.000000</td>\n      <td>40.000000</td>\n      <td>1.300000</td>\n      <td>321.000000</td>\n      <td>3.591006</td>\n      <td>1.3</td>\n      <td>37.0</td>\n      <td>3.4</td>\n      <td>340.0</td>\n      <td>9.0</td>\n      <td>0</td>\n    </tr>\n    <tr>\n      <th>1</th>\n      <td>2018-03-02 01:00:00</td>\n      <td>-0.333333</td>\n      <td>41.666667</td>\n      <td>1.466667</td>\n      <td>313.666667</td>\n      <td>3.591006</td>\n      <td>0.5</td>\n      <td>42.0</td>\n      <td>2.0</td>\n      <td>360.0</td>\n      <td>9.0</td>\n      <td>0</td>\n    </tr>\n    <tr>\n      <th>2</th>\n      <td>2018-03-02 02:00:00</td>\n      <td>-0.666667</td>\n      <td>43.333333</td>\n      <td>1.633333</td>\n      <td>306.333333</td>\n      <td>3.591006</td>\n      <td>-0.4</td>\n      <td>46.0</td>\n      <td>2.3</td>\n      <td>360.0</td>\n      <td>9.0</td>\n      <td>0</td>\n    </tr>\n    <tr>\n      <th>3</th>\n      <td>2018-03-02 03:00:00</td>\n      <td>-1.000000</td>\n      <td>45.000000</td>\n      <td>1.800000</td>\n      <td>299.000000</td>\n      <td>3.591006</td>\n      <td>-0.9</td>\n      <td>48.0</td>\n      <td>2.0</td>\n      <td>20.0</td>\n      <td>9.0</td>\n      <td>0</td>\n    </tr>\n    <tr>\n      <th>4</th>\n      <td>2018-03-02 04:00:00</td>\n      <td>-1.000000</td>\n      <td>45.000000</td>\n      <td>1.800000</td>\n      <td>300.666667</td>\n      <td>2.967691</td>\n      <td>-1.5</td>\n      <td>51.0</td>\n      <td>2.3</td>\n      <td>340.0</td>\n      <td>8.0</td>\n      <td>0</td>\n    </tr>\n    <tr>\n      <th>...</th>\n      <td>...</td>\n      <td>...</td>\n      <td>...</td>\n      <td>...</td>\n      <td>...</td>\n      <td>...</td>\n      <td>...</td>\n      <td>...</td>\n      <td>...</td>\n      <td>...</td>\n      <td>...</td>\n      <td>...</td>\n    </tr>\n    <tr>\n      <th>25602</th>\n      <td>2021-01-31 18:00:00</td>\n      <td>9.000000</td>\n      <td>55.000000</td>\n      <td>2.600000</td>\n      <td>198.000000</td>\n      <td>8.638197</td>\n      <td>9.3</td>\n      <td>43.0</td>\n      <td>3.4</td>\n      <td>180.0</td>\n      <td>0.0</td>\n      <td>8</td>\n    </tr>\n    <tr>\n      <th>25603</th>\n      <td>2021-01-31 19:00:00</td>\n      <td>8.666667</td>\n      <td>60.000000</td>\n      <td>2.866667</td>\n      <td>202.000000</td>\n      <td>8.638197</td>\n      <td>8.8</td>\n      <td>50.0</td>\n      <td>2.5</td>\n      <td>200.0</td>\n      <td>5.0</td>\n      <td>0</td>\n    </tr>\n    <tr>\n      <th>25604</th>\n      <td>2021-01-31 20:00:00</td>\n      <td>8.333333</td>\n      <td>65.000000</td>\n      <td>3.133333</td>\n      <td>206.000000</td>\n      <td>8.638197</td>\n      <td>8.7</td>\n      <td>49.0</td>\n      <td>3.9</td>\n      <td>200.0</td>\n      <td>1.0</td>\n      <td>0</td>\n    </tr>\n    <tr>\n      <th>25605</th>\n      <td>2021-01-31 21:00:00</td>\n      <td>8.000000</td>\n      <td>70.000000</td>\n      <td>3.400000</td>\n      <td>210.000000</td>\n      <td>8.638197</td>\n      <td>8.4</td>\n      <td>51.0</td>\n      <td>2.4</td>\n      <td>230.0</td>\n      <td>7.0</td>\n      <td>0</td>\n    </tr>\n    <tr>\n      <th>25606</th>\n      <td>2021-01-31 22:00:00</td>\n      <td>9.000000</td>\n      <td>68.333333</td>\n      <td>3.833333</td>\n      <td>205.000000</td>\n      <td>8.638197</td>\n      <td>9.4</td>\n      <td>51.0</td>\n      <td>3.3</td>\n      <td>230.0</td>\n      <td>8.0</td>\n      <td>0</td>\n    </tr>\n  </tbody>\n</table>\n<p>25607 rows × 12 columns</p>\n</div>"
     },
     "metadata": {}
    }
   ],
   "source": [
    "# fill\n",
    "dangjin_merged = dangjin_merged.fillna(method='bfill')\n",
    "ulsan_merged = ulsan_merged.fillna(method='bfill')\n",
    "display(dangjin_merged)\n",
    "display(ulsan_merged)"
   ]
  },
  {
   "source": [
    "## Pickle dfs"
   ],
   "cell_type": "markdown",
   "metadata": {}
  },
  {
   "cell_type": "code",
   "execution_count": 112,
   "metadata": {},
   "outputs": [],
   "source": [
    "with open('pickles/dangjin_merged.pkl','wb') as f:\n",
    "    pickle.dump(dangjin_merged,f)\n",
    "with open('pickles/ulsan_merged.pkl','wb') as f:\n",
    "    pickle.dump(ulsan_merged,f)"
   ]
  }
 ]
}