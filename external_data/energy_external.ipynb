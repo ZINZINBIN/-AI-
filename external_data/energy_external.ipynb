{
 "metadata": {
  "language_info": {
   "codemirror_mode": {
    "name": "ipython",
    "version": 3
   },
   "file_extension": ".py",
   "mimetype": "text/x-python",
   "name": "python",
   "nbconvert_exporter": "python",
   "pygments_lexer": "ipython3",
   "version": "3.8.5"
  },
  "orig_nbformat": 2,
  "kernelspec": {
   "name": "python385jvsc74a57bd00a11f21c0450bb1ec4a8d90e5cdddc03f9c3302b58333d2d566c7a90a775328a",
   "display_name": "Python 3.8.5 64-bit ('base': conda)"
  }
 },
 "nbformat": 4,
 "nbformat_minor": 2,
 "cells": [
  {
   "cell_type": "code",
   "execution_count": 1,
   "metadata": {},
   "outputs": [],
   "source": [
    "import pandas as pd\n",
    "import numpy as np"
   ]
  },
  {
   "cell_type": "code",
   "execution_count": 2,
   "metadata": {},
   "outputs": [],
   "source": [
    "# # https://dacon.io/competitions/official/235720/codeshare/2583?page=1&dtype=recent 참고\n",
    "\n",
    "# load\n",
    "data1 = pd.read_csv('한국동서발전 시간대별 태양광 및 풍력 발전량 현황(2018_2019).csv', encoding='euc-kr')\n",
    "data2 = pd.read_csv('한국동서발전 시간대별 태양광 발전량 현황(2015_2017).csv', encoding='euc-kr')\n",
    "\n",
    "# convert name\n",
    "convert_name = {'당진태양광':'dangjin', '당진수상태양광':'dangjin_floating', '당진자재창고태양광':'dangjin_warehouse', '울산태양광':'ulsan'}"
   ]
  },
  {
   "cell_type": "code",
   "execution_count": 3,
   "metadata": {},
   "outputs": [],
   "source": [
    "def preprocess(energy_type):\n",
    "    # sample\n",
    "    data1_ = data1.loc[data1['태양광명'] == energy_type]\n",
    "    data2_ = data2.loc[data2['태양광명'] == energy_type]\n",
    "\n",
    "    # merge two data\n",
    "    data1_.drop(columns=['태양광명'], inplace=True)\n",
    "    data2_.drop(columns=['태양광명','용량(MW)'], inplace=True)\n",
    "    data = data2_.append(data1_)\n",
    "\n",
    "    # datetime\n",
    "    data['시간'] = pd.to_datetime(data['시간'])\n",
    "\n",
    "    # modify df\n",
    "    hours = [] # to store 'time'\n",
    "    values = [] # to store energy value\n",
    "\n",
    "    for i in range(data.shape[0]):\n",
    "        row = data.iloc[i]\n",
    "        day = row['시간']\n",
    "\n",
    "        for h in range(24): # loop over one row(one day)\n",
    "            hour = day.replace(hour=h)\n",
    "            hour += pd.Timedelta(1, unit='hour') # data is originaly 1~24. Change to 0~23.\n",
    "\n",
    "            hours.append(hour)\n",
    "            values.append(row[str(h+1)])\n",
    "\n",
    "    df = pd.DataFrame({'time':hours, convert_name[energy_type]:values})\n",
    "    return df.set_index('time')"
   ]
  },
  {
   "cell_type": "code",
   "execution_count": 4,
   "metadata": {
    "tags": []
   },
   "outputs": [
    {
     "output_type": "stream",
     "name": "stderr",
     "text": [
      "/home/yejoon/anaconda3/lib/python3.8/site-packages/pandas/core/frame.py:4308: SettingWithCopyWarning: \nA value is trying to be set on a copy of a slice from a DataFrame\n\nSee the caveats in the documentation: https://pandas.pydata.org/pandas-docs/stable/user_guide/indexing.html#returning-a-view-versus-a-copy\n  return super().drop(\n"
     ]
    }
   ],
   "source": [
    "dangjin = preprocess('당진태양광')\n",
    "dangjin_floating = preprocess('당진수상태양광')\n",
    "dangjin_warehouse = preprocess('당진자재창고태양광')\n",
    "ulsan = preprocess('울산태양광')"
   ]
  },
  {
   "cell_type": "code",
   "execution_count": 5,
   "metadata": {},
   "outputs": [
    {
     "output_type": "stream",
     "name": "stdout",
     "text": [
      "(40824, 1)\n(14592, 1)\n(40776, 1)\n(39408, 1)\n"
     ]
    }
   ],
   "source": [
    "# shape\n",
    "print(dangjin.shape)\n",
    "print(dangjin_floating.shape)\n",
    "print(dangjin_warehouse.shape)\n",
    "print(ulsan.shape)"
   ]
  },
  {
   "cell_type": "code",
   "execution_count": 6,
   "metadata": {},
   "outputs": [],
   "source": [
    "# merge\n",
    "dangjin_all = pd.concat([dangjin,dangjin_floating,dangjin_warehouse], axis=1, join='outer')\n",
    "\n",
    "# slice time \n",
    "dangjin_all = dangjin_all.loc[dangjin_all.index < pd.Timestamp('2018-03-02 00:00:00')]\n",
    "ulsan = ulsan.loc[ulsan.index < pd.Timestamp('2018-03-02 00:00:00')]"
   ]
  },
  {
   "source": [
    "## Fill na in dangjin_floating"
   ],
   "cell_type": "markdown",
   "metadata": {}
  },
  {
   "cell_type": "code",
   "execution_count": 7,
   "metadata": {},
   "outputs": [
    {
     "output_type": "stream",
     "name": "stdout",
     "text": [
      "dangjin                  0\ndangjin_floating     26232\ndangjin_warehouse        0\ndtype: int64\nulsan    0\ndtype: int64\n"
     ]
    }
   ],
   "source": [
    "print(dangjin_all.isna().sum())\n",
    "print(ulsan.isna().sum())"
   ]
  },
  {
   "cell_type": "code",
   "execution_count": 8,
   "metadata": {},
   "outputs": [
    {
     "output_type": "execute_result",
     "data": {
      "text/plain": [
       "0.48344334791995036"
      ]
     },
     "metadata": {},
     "execution_count": 8
    }
   ],
   "source": [
    "dangjin_all_mean_series = dangjin_all.mean(axis=0)\n",
    "\n",
    "djdjw_to_djflt = dangjin_all_mean_series['dangjin_floating']  / (dangjin_all_mean_series['dangjin'] + dangjin_all_mean_series['dangjin_warehouse'])\n",
    "\n",
    "djdjw_to_djflt"
   ]
  },
  {
   "cell_type": "code",
   "execution_count": 9,
   "metadata": {},
   "outputs": [
    {
     "output_type": "stream",
     "name": "stderr",
     "text": [
      "/home/yejoon/anaconda3/lib/python3.8/site-packages/pandas/core/indexing.py:1676: SettingWithCopyWarning: \nA value is trying to be set on a copy of a slice from a DataFrame.\nTry using .loc[row_indexer,col_indexer] = value instead\n\nSee the caveats in the documentation: https://pandas.pydata.org/pandas-docs/stable/user_guide/indexing.html#returning-a-view-versus-a-copy\n  self._setitem_single_column(ilocs[0], value, pi)\n"
     ]
    }
   ],
   "source": [
    "na_dangjin_floating = dangjin_all.loc[dangjin_all['dangjin_floating'].isna()] # df where dangjin_floating = na\n",
    "na_dangjin_floating.loc[:,'dangjin_floating'] = (na_dangjin_floating['dangjin'] + na_dangjin_floating['dangjin_warehouse']) * djdjw_to_djflt\n",
    "\n",
    "dangjin_all_filled = dangjin_all.copy()\n",
    "dangjin_all_filled[dangjin_all_filled['dangjin_floating'].isna()] = na_dangjin_floating"
   ]
  },
  {
   "cell_type": "code",
   "execution_count": 10,
   "metadata": {},
   "outputs": [],
   "source": [
    "# pickle\n",
    "import pickle\n",
    "\n",
    "with open('energy_dj_extenral.pkl', 'wb') as f:\n",
    "    pickle.dump(dangjin_all_filled, f)\n",
    "\n",
    "with open('energy_uls_external.pkl', 'wb') as f:\n",
    "    pickle.dump(ulsan, f)"
   ]
  },
  {
   "cell_type": "code",
   "execution_count": 15,
   "metadata": {},
   "outputs": [
    {
     "output_type": "execute_result",
     "data": {
      "text/plain": [
       "                     dangjin  dangjin_floating  dangjin_warehouse\n",
       "time                                                             \n",
       "2015-01-01 01:00:00        0               0.0                0.0\n",
       "2015-01-01 02:00:00        0               0.0                0.0\n",
       "2015-01-01 03:00:00        0               0.0                0.0\n",
       "2015-01-01 04:00:00        0               0.0                0.0\n",
       "2015-01-01 05:00:00        0               0.0                0.0\n",
       "...                      ...               ...                ...\n",
       "2018-03-01 19:00:00        0              11.0                2.0\n",
       "2018-03-01 20:00:00        0               0.0                0.0\n",
       "2018-03-01 21:00:00        0               0.0                0.0\n",
       "2018-03-01 22:00:00        0               0.0                0.0\n",
       "2018-03-01 23:00:00        0               0.0                0.0\n",
       "\n",
       "[27671 rows x 3 columns]"
      ],
      "text/html": "<div>\n<style scoped>\n    .dataframe tbody tr th:only-of-type {\n        vertical-align: middle;\n    }\n\n    .dataframe tbody tr th {\n        vertical-align: top;\n    }\n\n    .dataframe thead th {\n        text-align: right;\n    }\n</style>\n<table border=\"1\" class=\"dataframe\">\n  <thead>\n    <tr style=\"text-align: right;\">\n      <th></th>\n      <th>dangjin</th>\n      <th>dangjin_floating</th>\n      <th>dangjin_warehouse</th>\n    </tr>\n    <tr>\n      <th>time</th>\n      <th></th>\n      <th></th>\n      <th></th>\n    </tr>\n  </thead>\n  <tbody>\n    <tr>\n      <th>2015-01-01 01:00:00</th>\n      <td>0</td>\n      <td>0.0</td>\n      <td>0.0</td>\n    </tr>\n    <tr>\n      <th>2015-01-01 02:00:00</th>\n      <td>0</td>\n      <td>0.0</td>\n      <td>0.0</td>\n    </tr>\n    <tr>\n      <th>2015-01-01 03:00:00</th>\n      <td>0</td>\n      <td>0.0</td>\n      <td>0.0</td>\n    </tr>\n    <tr>\n      <th>2015-01-01 04:00:00</th>\n      <td>0</td>\n      <td>0.0</td>\n      <td>0.0</td>\n    </tr>\n    <tr>\n      <th>2015-01-01 05:00:00</th>\n      <td>0</td>\n      <td>0.0</td>\n      <td>0.0</td>\n    </tr>\n    <tr>\n      <th>...</th>\n      <td>...</td>\n      <td>...</td>\n      <td>...</td>\n    </tr>\n    <tr>\n      <th>2018-03-01 19:00:00</th>\n      <td>0</td>\n      <td>11.0</td>\n      <td>2.0</td>\n    </tr>\n    <tr>\n      <th>2018-03-01 20:00:00</th>\n      <td>0</td>\n      <td>0.0</td>\n      <td>0.0</td>\n    </tr>\n    <tr>\n      <th>2018-03-01 21:00:00</th>\n      <td>0</td>\n      <td>0.0</td>\n      <td>0.0</td>\n    </tr>\n    <tr>\n      <th>2018-03-01 22:00:00</th>\n      <td>0</td>\n      <td>0.0</td>\n      <td>0.0</td>\n    </tr>\n    <tr>\n      <th>2018-03-01 23:00:00</th>\n      <td>0</td>\n      <td>0.0</td>\n      <td>0.0</td>\n    </tr>\n  </tbody>\n</table>\n<p>27671 rows × 3 columns</p>\n</div>"
     },
     "metadata": {},
     "execution_count": 15
    }
   ],
   "source": [
    "dangjin_all_filled"
   ]
  }
 ]
}